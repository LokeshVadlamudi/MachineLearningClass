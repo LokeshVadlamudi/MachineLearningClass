{
  "nbformat": 4,
  "nbformat_minor": 0,
  "metadata": {
    "colab": {
      "name": "titleVsBody.ipynb",
      "provenance": [],
      "collapsed_sections": [],
      "toc_visible": true,
      "mount_file_id": "1BkaFTtZNliSCqraWk9m1lgA0AEkdH40H",
      "authorship_tag": "ABX9TyPbVlKcbOxGuCnOx5ODSY17",
      "include_colab_link": true
    },
    "kernelspec": {
      "name": "python3",
      "display_name": "Python 3"
    }
  },
  "cells": [
    {
      "cell_type": "markdown",
      "metadata": {
        "id": "view-in-github",
        "colab_type": "text"
      },
      "source": [
        "<a href=\"https://colab.research.google.com/github/LokeshVadlamudi/MachineLearningClass/blob/master/titleVsBody.ipynb\" target=\"_parent\"><img src=\"https://colab.research.google.com/assets/colab-badge.svg\" alt=\"Open In Colab\"/></a>"
      ]
    },
    {
      "cell_type": "markdown",
      "metadata": {
        "id": "IFJK47z0q9Y_",
        "colab_type": "text"
      },
      "source": [
        "\n",
        "\n",
        "```\n",
        "# Lokesh Vadlamudi\n",
        "\n",
        "```\n",
        "\n",
        "# Title Vs Body"
      ]
    },
    {
      "cell_type": "code",
      "metadata": {
        "id": "T6sc65XK5teW",
        "colab_type": "code",
        "colab": {}
      },
      "source": [
        "import pandas as pd\n",
        "import numpy as np"
      ],
      "execution_count": 0,
      "outputs": []
    },
    {
      "cell_type": "markdown",
      "metadata": {
        "id": "sF24eILTrNvT",
        "colab_type": "text"
      },
      "source": [
        "# Downloading Csv file - Liar Liar dataset"
      ]
    },
    {
      "cell_type": "code",
      "metadata": {
        "id": "mcZJzY2i_Ptw",
        "colab_type": "code",
        "colab": {}
      },
      "source": [
        "# Code to read csv file into Colaboratory:\n",
        "!pip install -U -q PyDrive\n",
        "from pydrive.auth import GoogleAuth\n",
        "from pydrive.drive import GoogleDrive\n",
        "from google.colab import auth\n",
        "from oauth2client.client import GoogleCredentials\n",
        "# Authenticate and create the PyDrive client.\n",
        "auth.authenticate_user()\n",
        "gauth = GoogleAuth()\n",
        "gauth.credentials = GoogleCredentials.get_application_default()\n",
        "drive = GoogleDrive(gauth)"
      ],
      "execution_count": 0,
      "outputs": []
    },
    {
      "cell_type": "code",
      "metadata": {
        "id": "WaL6m22M_S2Z",
        "colab_type": "code",
        "outputId": "e68c8730-063e-4238-f564-343334af607f",
        "colab": {
          "base_uri": "https://localhost:8080/",
          "height": 33
        }
      },
      "source": [
        "link = 'https://drive.google.com/open?id=1cdi4TewC1yXhMiGTzPi3lImhvg2cwSx9'\n",
        "fluff1, id1 = link.split('=')\n",
        "print (id) # Verify that you have everything after '='\n",
        "downloaded = drive.CreateFile({'id':id1}) \n",
        "downloaded.GetContentFile('train.tsv')"
      ],
      "execution_count": 0,
      "outputs": [
        {
          "output_type": "stream",
          "text": [
            "<built-in function id>\n"
          ],
          "name": "stdout"
        }
      ]
    },
    {
      "cell_type": "code",
      "metadata": {
        "id": "lxSK8ttO_b1r",
        "colab_type": "code",
        "outputId": "efeb652f-1577-4de9-cfa8-257d2d01bbb8",
        "colab": {
          "base_uri": "https://localhost:8080/",
          "height": 33
        }
      },
      "source": [
        "link = 'https://drive.google.com/open?id=1cb_eLjtgf5Oz0152ZAqvgafusLvV_erX'\n",
        "fluff2, id2 = link.split('=')\n",
        "print (id) # Verify that you have everything after '='\n",
        "downloaded = drive.CreateFile({'id':id2}) \n",
        "downloaded.GetContentFile('test.tsv')"
      ],
      "execution_count": 0,
      "outputs": [
        {
          "output_type": "stream",
          "text": [
            "<built-in function id>\n"
          ],
          "name": "stdout"
        }
      ]
    },
    {
      "cell_type": "code",
      "metadata": {
        "id": "L6UnqLqF_eNL",
        "colab_type": "code",
        "colab": {}
      },
      "source": [
        "# link = 'https://drive.google.com/open?id=1ApRYxyMqnFKH8XW1GbQ-KZNJdbdeEdV9'\n",
        "# fluff3, id3 = link.split('=')\n",
        "# print (id) # Verify that you have everything after '='\n",
        "# downloaded = drive.CreateFile({'id':id3}) \n",
        "# downloaded.GetContentFile('valid.tsv')"
      ],
      "execution_count": 0,
      "outputs": []
    },
    {
      "cell_type": "code",
      "metadata": {
        "id": "Cdz5e5kE_jCk",
        "colab_type": "code",
        "colab": {}
      },
      "source": [
        "train_data = '/content/train.tsv'\n",
        "test_data = '/content/test.tsv'\n",
        "# valid_data = '/content/valid.tsv'"
      ],
      "execution_count": 0,
      "outputs": []
    },
    {
      "cell_type": "markdown",
      "metadata": {
        "id": "AiXdYglxrjAx",
        "colab_type": "text"
      },
      "source": [
        "# Data Preprocessing"
      ]
    },
    {
      "cell_type": "code",
      "metadata": {
        "id": "rWsZWt-k_nBd",
        "colab_type": "code",
        "colab": {}
      },
      "source": [
        "cols = ['jsonid', 'label', 'headline_text', 'subject', 'speaker', \n",
        "            'speakerjobtitle', 'stateinfo','partyaffiliation', \n",
        "            'barelytruecounts', 'falsecounts','halftruecounts',\n",
        "            'mostlytrueocounts','pantsonfirecounts','context']"
      ],
      "execution_count": 0,
      "outputs": []
    },
    {
      "cell_type": "code",
      "metadata": {
        "id": "V-lbTIYL_0EV",
        "colab_type": "code",
        "colab": {}
      },
      "source": [
        "df_train = pd.read_csv(train_data, sep='\\t', names = cols)\n",
        "df_test = pd.read_csv(test_data, sep='\\t', names = cols)\n",
        "# df_valid = pd.read_csv(valid_data, sep='\\t', names = cols)"
      ],
      "execution_count": 0,
      "outputs": []
    },
    {
      "cell_type": "markdown",
      "metadata": {
        "id": "eAYazfvOrpOq",
        "colab_type": "text"
      },
      "source": [
        "# Encoding Labels"
      ]
    },
    {
      "cell_type": "code",
      "metadata": {
        "id": "pQ94R7MG__Nr",
        "colab_type": "code",
        "colab": {}
      },
      "source": [
        "t_labels = ['mostly-true','half-true','original','true']\n",
        "def convert_Label(i):\n",
        "  if i not in t_labels:\n",
        "    return 0\n",
        "  else:\n",
        "    return 1"
      ],
      "execution_count": 0,
      "outputs": []
    },
    {
      "cell_type": "code",
      "metadata": {
        "id": "-ku15YJ_Al4L",
        "colab_type": "code",
        "colab": {}
      },
      "source": [
        "df_train['labelEncoded'] = df_train.apply(lambda row: convert_Label(row['label']), axis=1)\n",
        "df_test['labelEncoded'] = df_test.apply(lambda row: convert_Label(row['label']), axis=1)"
      ],
      "execution_count": 0,
      "outputs": []
    },
    {
      "cell_type": "code",
      "metadata": {
        "id": "9c1wXMh8A5-l",
        "colab_type": "code",
        "colab": {}
      },
      "source": [
        "# df = pd.concat([df_train,df_test])\n",
        "# df = df_train.append(df_test)"
      ],
      "execution_count": 0,
      "outputs": []
    },
    {
      "cell_type": "code",
      "metadata": {
        "id": "lqpwSPlJBF8h",
        "colab_type": "code",
        "outputId": "0d49e3c6-081f-4666-be0b-e77feb673b38",
        "colab": {
          "base_uri": "https://localhost:8080/",
          "height": 33
        }
      },
      "source": [
        "df_train.shape"
      ],
      "execution_count": 0,
      "outputs": [
        {
          "output_type": "execute_result",
          "data": {
            "text/plain": [
              "(10240, 15)"
            ]
          },
          "metadata": {
            "tags": []
          },
          "execution_count": 167
        }
      ]
    },
    {
      "cell_type": "code",
      "metadata": {
        "id": "uOq_PixYBKWo",
        "colab_type": "code",
        "colab": {}
      },
      "source": [
        "df_mod= df_train[['labelEncoded','headline_text','subject']]"
      ],
      "execution_count": 0,
      "outputs": []
    },
    {
      "cell_type": "code",
      "metadata": {
        "id": "yKlcAa7KBriC",
        "colab_type": "code",
        "outputId": "db44bdb1-1616-4a86-f119-5ebdfec305ef",
        "colab": {
          "base_uri": "https://localhost:8080/",
          "height": 191
        }
      },
      "source": [
        "df_mod.head()"
      ],
      "execution_count": 0,
      "outputs": [
        {
          "output_type": "execute_result",
          "data": {
            "text/html": [
              "<div>\n",
              "<style scoped>\n",
              "    .dataframe tbody tr th:only-of-type {\n",
              "        vertical-align: middle;\n",
              "    }\n",
              "\n",
              "    .dataframe tbody tr th {\n",
              "        vertical-align: top;\n",
              "    }\n",
              "\n",
              "    .dataframe thead th {\n",
              "        text-align: right;\n",
              "    }\n",
              "</style>\n",
              "<table border=\"1\" class=\"dataframe\">\n",
              "  <thead>\n",
              "    <tr style=\"text-align: right;\">\n",
              "      <th></th>\n",
              "      <th>labelEncoded</th>\n",
              "      <th>headline_text</th>\n",
              "      <th>subject</th>\n",
              "    </tr>\n",
              "  </thead>\n",
              "  <tbody>\n",
              "    <tr>\n",
              "      <th>0</th>\n",
              "      <td>0</td>\n",
              "      <td>Says the Annies List political group supports ...</td>\n",
              "      <td>abortion</td>\n",
              "    </tr>\n",
              "    <tr>\n",
              "      <th>1</th>\n",
              "      <td>1</td>\n",
              "      <td>When did the decline of coal start? It started...</td>\n",
              "      <td>energy,history,job-accomplishments</td>\n",
              "    </tr>\n",
              "    <tr>\n",
              "      <th>2</th>\n",
              "      <td>1</td>\n",
              "      <td>Hillary Clinton agrees with John McCain \"by vo...</td>\n",
              "      <td>foreign-policy</td>\n",
              "    </tr>\n",
              "    <tr>\n",
              "      <th>3</th>\n",
              "      <td>0</td>\n",
              "      <td>Health care reform legislation is likely to ma...</td>\n",
              "      <td>health-care</td>\n",
              "    </tr>\n",
              "    <tr>\n",
              "      <th>4</th>\n",
              "      <td>1</td>\n",
              "      <td>The economic turnaround started at the end of ...</td>\n",
              "      <td>economy,jobs</td>\n",
              "    </tr>\n",
              "  </tbody>\n",
              "</table>\n",
              "</div>"
            ],
            "text/plain": [
              "   labelEncoded  ...                             subject\n",
              "0             0  ...                            abortion\n",
              "1             1  ...  energy,history,job-accomplishments\n",
              "2             1  ...                      foreign-policy\n",
              "3             0  ...                         health-care\n",
              "4             1  ...                        economy,jobs\n",
              "\n",
              "[5 rows x 3 columns]"
            ]
          },
          "metadata": {
            "tags": []
          },
          "execution_count": 169
        }
      ]
    },
    {
      "cell_type": "code",
      "metadata": {
        "id": "hLNGxQAu6iXu",
        "colab_type": "code",
        "outputId": "1e434f09-0ef9-4c08-9cfd-303b2200cc90",
        "colab": {
          "base_uri": "https://localhost:8080/",
          "height": 33
        }
      },
      "source": [
        "df_mod['headline_text'][0]"
      ],
      "execution_count": 0,
      "outputs": [
        {
          "output_type": "execute_result",
          "data": {
            "text/plain": [
              "'Says the Annies List political group supports third-trimester abortions on demand.'"
            ]
          },
          "metadata": {
            "tags": []
          },
          "execution_count": 170
        }
      ]
    },
    {
      "cell_type": "code",
      "metadata": {
        "id": "NuyLORTgBs22",
        "colab_type": "code",
        "outputId": "8ff3e90b-f86c-4ecc-f622-bc36fbf91e33",
        "colab": {
          "base_uri": "https://localhost:8080/",
          "height": 66
        }
      },
      "source": [
        "df_mod['labelEncoded'].value_counts()"
      ],
      "execution_count": 0,
      "outputs": [
        {
          "output_type": "execute_result",
          "data": {
            "text/plain": [
              "1    5752\n",
              "0    4488\n",
              "Name: labelEncoded, dtype: int64"
            ]
          },
          "metadata": {
            "tags": []
          },
          "execution_count": 171
        }
      ]
    },
    {
      "cell_type": "code",
      "metadata": {
        "id": "ulTMNtgWDHwK",
        "colab_type": "code",
        "outputId": "88ee79fa-8d4f-4379-e663-0e09325315e5",
        "colab": {
          "base_uri": "https://localhost:8080/",
          "height": 66
        }
      },
      "source": [
        "import nltk\n",
        "nltk.download('wordnet')"
      ],
      "execution_count": 0,
      "outputs": [
        {
          "output_type": "stream",
          "text": [
            "[nltk_data] Downloading package wordnet to /root/nltk_data...\n",
            "[nltk_data]   Package wordnet is already up-to-date!\n"
          ],
          "name": "stdout"
        },
        {
          "output_type": "execute_result",
          "data": {
            "text/plain": [
              "True"
            ]
          },
          "metadata": {
            "tags": []
          },
          "execution_count": 172
        }
      ]
    },
    {
      "cell_type": "markdown",
      "metadata": {
        "id": "50TWnJzor5sy",
        "colab_type": "text"
      },
      "source": [
        "# Removing Punctuations"
      ]
    },
    {
      "cell_type": "code",
      "metadata": {
        "id": "xYtE5gpBFtHg",
        "colab_type": "code",
        "colab": {}
      },
      "source": [
        "import string\n",
        "def remove_punctuations(data):\n",
        "    d = \"\".join([i for i in str(data) if i not in string.punctuation])\n",
        "    return d"
      ],
      "execution_count": 0,
      "outputs": []
    },
    {
      "cell_type": "code",
      "metadata": {
        "id": "VkUkOK5VFyjo",
        "colab_type": "code",
        "outputId": "8a58ff58-c27f-44e4-d8a8-55379fd72748",
        "colab": {
          "base_uri": "https://localhost:8080/",
          "height": 33
        }
      },
      "source": [
        "remove_punctuations('hello-madam')"
      ],
      "execution_count": 0,
      "outputs": [
        {
          "output_type": "execute_result",
          "data": {
            "text/plain": [
              "'hellomadam'"
            ]
          },
          "metadata": {
            "tags": []
          },
          "execution_count": 174
        }
      ]
    },
    {
      "cell_type": "markdown",
      "metadata": {
        "id": "XIWW37s3r_st",
        "colab_type": "text"
      },
      "source": [
        "# Tokenize"
      ]
    },
    {
      "cell_type": "code",
      "metadata": {
        "id": "Dg46z24EF0i1",
        "colab_type": "code",
        "colab": {}
      },
      "source": [
        "from nltk.tokenize import RegexpTokenizer\n",
        "def tokenize(data):\n",
        "    tokenizer = RegexpTokenizer(r'\\w+')\n",
        "    return tokenizer.tokenize(data.lower())"
      ],
      "execution_count": 0,
      "outputs": []
    },
    {
      "cell_type": "code",
      "metadata": {
        "id": "APuIGIX7Iu5O",
        "colab_type": "code",
        "outputId": "a4ffa3b4-506b-49ee-c771-97498d383fdb",
        "colab": {
          "base_uri": "https://localhost:8080/",
          "height": 33
        }
      },
      "source": [
        "tokenize('DEEP LEARNING  model')"
      ],
      "execution_count": 0,
      "outputs": [
        {
          "output_type": "execute_result",
          "data": {
            "text/plain": [
              "['deep', 'learning', 'model']"
            ]
          },
          "metadata": {
            "tags": []
          },
          "execution_count": 176
        }
      ]
    },
    {
      "cell_type": "markdown",
      "metadata": {
        "id": "3hj9U1LxsDq5",
        "colab_type": "text"
      },
      "source": [
        "# Remove Stopwords"
      ]
    },
    {
      "cell_type": "code",
      "metadata": {
        "id": "uG62ZafTIyaf",
        "colab_type": "code",
        "outputId": "7499d317-5a4d-4b72-d446-159174324f54",
        "colab": {
          "base_uri": "https://localhost:8080/",
          "height": 50
        }
      },
      "source": [
        "from nltk.corpus import stopwords\n",
        "nltk.download('stopwords')\n",
        "def remove_stopwords(data):\n",
        "    data = [i for i in data if i not in stopwords.words('english')]\n",
        "    return data"
      ],
      "execution_count": 0,
      "outputs": [
        {
          "output_type": "stream",
          "text": [
            "[nltk_data] Downloading package stopwords to /root/nltk_data...\n",
            "[nltk_data]   Package stopwords is already up-to-date!\n"
          ],
          "name": "stdout"
        }
      ]
    },
    {
      "cell_type": "code",
      "metadata": {
        "id": "w8T6fWSCJdEj",
        "colab_type": "code",
        "outputId": "d38cf1e3-e275-41dd-d666-43c3e9429080",
        "colab": {
          "base_uri": "https://localhost:8080/",
          "height": 33
        }
      },
      "source": [
        "remove_stopwords(['deep', 'is' ,'good'])"
      ],
      "execution_count": 0,
      "outputs": [
        {
          "output_type": "execute_result",
          "data": {
            "text/plain": [
              "['deep', 'good']"
            ]
          },
          "metadata": {
            "tags": []
          },
          "execution_count": 178
        }
      ]
    },
    {
      "cell_type": "markdown",
      "metadata": {
        "id": "KSTLQssmsINC",
        "colab_type": "text"
      },
      "source": [
        "# Lemmatization"
      ]
    },
    {
      "cell_type": "code",
      "metadata": {
        "id": "iov-spiIJiNE",
        "colab_type": "code",
        "colab": {}
      },
      "source": [
        "from nltk.stem import WordNetLemmatizer\n",
        "lemma = WordNetLemmatizer()\n",
        "\n",
        "def lematize(data):\n",
        "    data = [lemma.lemmatize(i) for i in data]\n",
        "    return data"
      ],
      "execution_count": 0,
      "outputs": []
    },
    {
      "cell_type": "code",
      "metadata": {
        "id": "th8Wv3uaLu5S",
        "colab_type": "code",
        "outputId": "36d8b8c9-44e9-4042-8935-743002c69b1c",
        "colab": {
          "base_uri": "https://localhost:8080/",
          "height": 33
        }
      },
      "source": [
        "lematize(['plays'])"
      ],
      "execution_count": 0,
      "outputs": [
        {
          "output_type": "execute_result",
          "data": {
            "text/plain": [
              "['play']"
            ]
          },
          "metadata": {
            "tags": []
          },
          "execution_count": 180
        }
      ]
    },
    {
      "cell_type": "markdown",
      "metadata": {
        "id": "Vmpd8PyFsL4C",
        "colab_type": "text"
      },
      "source": [
        "# Stemming"
      ]
    },
    {
      "cell_type": "code",
      "metadata": {
        "id": "dMudpLY1Mbi8",
        "colab_type": "code",
        "colab": {}
      },
      "source": [
        "from nltk.stem.porter import PorterStemmer\n",
        "stemming = PorterStemmer()\n",
        "def stem(data):\n",
        "    data = \" \".join([stemming.stem(i) for i in data])\n",
        "    return data"
      ],
      "execution_count": 0,
      "outputs": []
    },
    {
      "cell_type": "code",
      "metadata": {
        "id": "kEHNTFObNsZd",
        "colab_type": "code",
        "outputId": "b2c736a5-5a66-4db6-e6d5-aafdd8350774",
        "colab": {
          "base_uri": "https://localhost:8080/",
          "height": 33
        }
      },
      "source": [
        "stem(['playing'])"
      ],
      "execution_count": 0,
      "outputs": [
        {
          "output_type": "execute_result",
          "data": {
            "text/plain": [
              "'play'"
            ]
          },
          "metadata": {
            "tags": []
          },
          "execution_count": 182
        }
      ]
    },
    {
      "cell_type": "code",
      "metadata": {
        "id": "i7yM9NDeN9-d",
        "colab_type": "code",
        "outputId": "85572ed7-a963-4e75-e2cd-b177d8a83b0a",
        "colab": {
          "base_uri": "https://localhost:8080/",
          "height": 505
        }
      },
      "source": [
        "df_mod['finalHeaderBody'] = df_mod.apply(lambda row: remove_punctuations(row['headline_text']), axis=1)\n",
        "\n",
        "df_mod['finalHeaderBody'] = df_mod.apply(lambda row: tokenize(row['finalHeaderBody']), axis=1)\n",
        "\n",
        "df_mod['finalHeaderBody'] = df_mod.apply(lambda row: remove_stopwords(row['finalHeaderBody']), axis=1)\n",
        "\n",
        "df_mod['finalHeaderBody'] = df_mod.apply(lambda row: lematize(row['finalHeaderBody']), axis=1)\n",
        "\n",
        "df_mod['finalHeaderBody'] = df_mod.apply(lambda row: stem(row['finalHeaderBody']), axis=1)"
      ],
      "execution_count": 0,
      "outputs": [
        {
          "output_type": "stream",
          "text": [
            "/usr/local/lib/python3.6/dist-packages/ipykernel_launcher.py:1: SettingWithCopyWarning: \n",
            "A value is trying to be set on a copy of a slice from a DataFrame.\n",
            "Try using .loc[row_indexer,col_indexer] = value instead\n",
            "\n",
            "See the caveats in the documentation: https://pandas.pydata.org/pandas-docs/stable/user_guide/indexing.html#returning-a-view-versus-a-copy\n",
            "  \"\"\"Entry point for launching an IPython kernel.\n",
            "/usr/local/lib/python3.6/dist-packages/ipykernel_launcher.py:3: SettingWithCopyWarning: \n",
            "A value is trying to be set on a copy of a slice from a DataFrame.\n",
            "Try using .loc[row_indexer,col_indexer] = value instead\n",
            "\n",
            "See the caveats in the documentation: https://pandas.pydata.org/pandas-docs/stable/user_guide/indexing.html#returning-a-view-versus-a-copy\n",
            "  This is separate from the ipykernel package so we can avoid doing imports until\n",
            "/usr/local/lib/python3.6/dist-packages/ipykernel_launcher.py:5: SettingWithCopyWarning: \n",
            "A value is trying to be set on a copy of a slice from a DataFrame.\n",
            "Try using .loc[row_indexer,col_indexer] = value instead\n",
            "\n",
            "See the caveats in the documentation: https://pandas.pydata.org/pandas-docs/stable/user_guide/indexing.html#returning-a-view-versus-a-copy\n",
            "  \"\"\"\n",
            "/usr/local/lib/python3.6/dist-packages/ipykernel_launcher.py:7: SettingWithCopyWarning: \n",
            "A value is trying to be set on a copy of a slice from a DataFrame.\n",
            "Try using .loc[row_indexer,col_indexer] = value instead\n",
            "\n",
            "See the caveats in the documentation: https://pandas.pydata.org/pandas-docs/stable/user_guide/indexing.html#returning-a-view-versus-a-copy\n",
            "  import sys\n",
            "/usr/local/lib/python3.6/dist-packages/ipykernel_launcher.py:9: SettingWithCopyWarning: \n",
            "A value is trying to be set on a copy of a slice from a DataFrame.\n",
            "Try using .loc[row_indexer,col_indexer] = value instead\n",
            "\n",
            "See the caveats in the documentation: https://pandas.pydata.org/pandas-docs/stable/user_guide/indexing.html#returning-a-view-versus-a-copy\n",
            "  if __name__ == '__main__':\n"
          ],
          "name": "stderr"
        }
      ]
    },
    {
      "cell_type": "code",
      "metadata": {
        "id": "GpEw8vj4PuSa",
        "colab_type": "code",
        "colab": {}
      },
      "source": [
        "# df_mod['finalHeaderBody'] = df_mod.apply(lambda row: stem(row['finalHeaderBody']), axis=1)"
      ],
      "execution_count": 0,
      "outputs": []
    },
    {
      "cell_type": "code",
      "metadata": {
        "id": "hEOwYpNsP4JH",
        "colab_type": "code",
        "outputId": "5aad1cf2-386e-40e4-aeb3-7ffe2f35f39a",
        "colab": {
          "base_uri": "https://localhost:8080/",
          "height": 391
        }
      },
      "source": [
        "df_mod"
      ],
      "execution_count": 0,
      "outputs": [
        {
          "output_type": "execute_result",
          "data": {
            "text/html": [
              "<div>\n",
              "<style scoped>\n",
              "    .dataframe tbody tr th:only-of-type {\n",
              "        vertical-align: middle;\n",
              "    }\n",
              "\n",
              "    .dataframe tbody tr th {\n",
              "        vertical-align: top;\n",
              "    }\n",
              "\n",
              "    .dataframe thead th {\n",
              "        text-align: right;\n",
              "    }\n",
              "</style>\n",
              "<table border=\"1\" class=\"dataframe\">\n",
              "  <thead>\n",
              "    <tr style=\"text-align: right;\">\n",
              "      <th></th>\n",
              "      <th>labelEncoded</th>\n",
              "      <th>headline_text</th>\n",
              "      <th>subject</th>\n",
              "      <th>finalHeaderBody</th>\n",
              "    </tr>\n",
              "  </thead>\n",
              "  <tbody>\n",
              "    <tr>\n",
              "      <th>0</th>\n",
              "      <td>0</td>\n",
              "      <td>Says the Annies List political group supports ...</td>\n",
              "      <td>abortion</td>\n",
              "      <td>say anni list polit group support thirdtrimest...</td>\n",
              "    </tr>\n",
              "    <tr>\n",
              "      <th>1</th>\n",
              "      <td>1</td>\n",
              "      <td>When did the decline of coal start? It started...</td>\n",
              "      <td>energy,history,job-accomplishments</td>\n",
              "      <td>declin coal start start natur ga took start be...</td>\n",
              "    </tr>\n",
              "    <tr>\n",
              "      <th>2</th>\n",
              "      <td>1</td>\n",
              "      <td>Hillary Clinton agrees with John McCain \"by vo...</td>\n",
              "      <td>foreign-policy</td>\n",
              "      <td>hillari clinton agre john mccain vote give geo...</td>\n",
              "    </tr>\n",
              "    <tr>\n",
              "      <th>3</th>\n",
              "      <td>0</td>\n",
              "      <td>Health care reform legislation is likely to ma...</td>\n",
              "      <td>health-care</td>\n",
              "      <td>health care reform legisl like mandat free sex...</td>\n",
              "    </tr>\n",
              "    <tr>\n",
              "      <th>4</th>\n",
              "      <td>1</td>\n",
              "      <td>The economic turnaround started at the end of ...</td>\n",
              "      <td>economy,jobs</td>\n",
              "      <td>econom turnaround start end term</td>\n",
              "    </tr>\n",
              "    <tr>\n",
              "      <th>...</th>\n",
              "      <td>...</td>\n",
              "      <td>...</td>\n",
              "      <td>...</td>\n",
              "      <td>...</td>\n",
              "    </tr>\n",
              "    <tr>\n",
              "      <th>10235</th>\n",
              "      <td>1</td>\n",
              "      <td>There are a larger number of shark attacks in ...</td>\n",
              "      <td>animals,elections</td>\n",
              "      <td>larger number shark attack florida case voter ...</td>\n",
              "    </tr>\n",
              "    <tr>\n",
              "      <th>10236</th>\n",
              "      <td>1</td>\n",
              "      <td>Democrats have now become the party of the [At...</td>\n",
              "      <td>elections</td>\n",
              "      <td>democrat becom parti atlanta metro area black</td>\n",
              "    </tr>\n",
              "    <tr>\n",
              "      <th>10237</th>\n",
              "      <td>1</td>\n",
              "      <td>Says an alternative to Social Security that op...</td>\n",
              "      <td>retirement,social-security</td>\n",
              "      <td>say altern social secur oper galveston counti ...</td>\n",
              "    </tr>\n",
              "    <tr>\n",
              "      <th>10238</th>\n",
              "      <td>0</td>\n",
              "      <td>On lifting the U.S. Cuban embargo and allowing...</td>\n",
              "      <td>florida,foreign-policy</td>\n",
              "      <td>lift u cuban embargo allow travel cuba</td>\n",
              "    </tr>\n",
              "    <tr>\n",
              "      <th>10239</th>\n",
              "      <td>0</td>\n",
              "      <td>The Department of Veterans Affairs has a manua...</td>\n",
              "      <td>health-care,veterans</td>\n",
              "      <td>depart veteran affair manual tell veteran stuf...</td>\n",
              "    </tr>\n",
              "  </tbody>\n",
              "</table>\n",
              "<p>10240 rows × 4 columns</p>\n",
              "</div>"
            ],
            "text/plain": [
              "       labelEncoded  ...                                    finalHeaderBody\n",
              "0                 0  ...  say anni list polit group support thirdtrimest...\n",
              "1                 1  ...  declin coal start start natur ga took start be...\n",
              "2                 1  ...  hillari clinton agre john mccain vote give geo...\n",
              "3                 0  ...  health care reform legisl like mandat free sex...\n",
              "4                 1  ...                   econom turnaround start end term\n",
              "...             ...  ...                                                ...\n",
              "10235             1  ...  larger number shark attack florida case voter ...\n",
              "10236             1  ...      democrat becom parti atlanta metro area black\n",
              "10237             1  ...  say altern social secur oper galveston counti ...\n",
              "10238             0  ...             lift u cuban embargo allow travel cuba\n",
              "10239             0  ...  depart veteran affair manual tell veteran stuf...\n",
              "\n",
              "[10240 rows x 4 columns]"
            ]
          },
          "metadata": {
            "tags": []
          },
          "execution_count": 185
        }
      ]
    },
    {
      "cell_type": "markdown",
      "metadata": {
        "id": "eD5RFXQpsU9N",
        "colab_type": "text"
      },
      "source": [
        "# Break the text in subject col"
      ]
    },
    {
      "cell_type": "code",
      "metadata": {
        "id": "P2HhCW7MP5h_",
        "colab_type": "code",
        "colab": {}
      },
      "source": [
        "import re\n",
        "def break_subject(text):\n",
        "  if type(text) is float:\n",
        "    return []\n",
        "  import re\n",
        "  return re.split('; |, |-',text)"
      ],
      "execution_count": 0,
      "outputs": []
    },
    {
      "cell_type": "code",
      "metadata": {
        "id": "CvVSMx95UVFg",
        "colab_type": "code",
        "outputId": "8606bba3-84c0-48ec-8db5-d36f156b77bc",
        "colab": {
          "base_uri": "https://localhost:8080/",
          "height": 115
        }
      },
      "source": [
        "df_mod['finalSubject'] = df_mod.apply(lambda row: break_subject(row['subject']), axis=1)\n"
      ],
      "execution_count": 0,
      "outputs": [
        {
          "output_type": "stream",
          "text": [
            "/usr/local/lib/python3.6/dist-packages/ipykernel_launcher.py:1: SettingWithCopyWarning: \n",
            "A value is trying to be set on a copy of a slice from a DataFrame.\n",
            "Try using .loc[row_indexer,col_indexer] = value instead\n",
            "\n",
            "See the caveats in the documentation: https://pandas.pydata.org/pandas-docs/stable/user_guide/indexing.html#returning-a-view-versus-a-copy\n",
            "  \"\"\"Entry point for launching an IPython kernel.\n"
          ],
          "name": "stderr"
        }
      ]
    },
    {
      "cell_type": "code",
      "metadata": {
        "id": "sOnG60fbUf55",
        "colab_type": "code",
        "outputId": "21323179-5fb5-4729-f8b8-f6ee07714a23",
        "colab": {
          "base_uri": "https://localhost:8080/",
          "height": 191
        }
      },
      "source": [
        "df_mod.head()"
      ],
      "execution_count": 0,
      "outputs": [
        {
          "output_type": "execute_result",
          "data": {
            "text/html": [
              "<div>\n",
              "<style scoped>\n",
              "    .dataframe tbody tr th:only-of-type {\n",
              "        vertical-align: middle;\n",
              "    }\n",
              "\n",
              "    .dataframe tbody tr th {\n",
              "        vertical-align: top;\n",
              "    }\n",
              "\n",
              "    .dataframe thead th {\n",
              "        text-align: right;\n",
              "    }\n",
              "</style>\n",
              "<table border=\"1\" class=\"dataframe\">\n",
              "  <thead>\n",
              "    <tr style=\"text-align: right;\">\n",
              "      <th></th>\n",
              "      <th>labelEncoded</th>\n",
              "      <th>headline_text</th>\n",
              "      <th>subject</th>\n",
              "      <th>finalHeaderBody</th>\n",
              "      <th>finalSubject</th>\n",
              "    </tr>\n",
              "  </thead>\n",
              "  <tbody>\n",
              "    <tr>\n",
              "      <th>0</th>\n",
              "      <td>0</td>\n",
              "      <td>Says the Annies List political group supports ...</td>\n",
              "      <td>abortion</td>\n",
              "      <td>say anni list polit group support thirdtrimest...</td>\n",
              "      <td>[abortion]</td>\n",
              "    </tr>\n",
              "    <tr>\n",
              "      <th>1</th>\n",
              "      <td>1</td>\n",
              "      <td>When did the decline of coal start? It started...</td>\n",
              "      <td>energy,history,job-accomplishments</td>\n",
              "      <td>declin coal start start natur ga took start be...</td>\n",
              "      <td>[energy,history,job, accomplishments]</td>\n",
              "    </tr>\n",
              "    <tr>\n",
              "      <th>2</th>\n",
              "      <td>1</td>\n",
              "      <td>Hillary Clinton agrees with John McCain \"by vo...</td>\n",
              "      <td>foreign-policy</td>\n",
              "      <td>hillari clinton agre john mccain vote give geo...</td>\n",
              "      <td>[foreign, policy]</td>\n",
              "    </tr>\n",
              "    <tr>\n",
              "      <th>3</th>\n",
              "      <td>0</td>\n",
              "      <td>Health care reform legislation is likely to ma...</td>\n",
              "      <td>health-care</td>\n",
              "      <td>health care reform legisl like mandat free sex...</td>\n",
              "      <td>[health, care]</td>\n",
              "    </tr>\n",
              "    <tr>\n",
              "      <th>4</th>\n",
              "      <td>1</td>\n",
              "      <td>The economic turnaround started at the end of ...</td>\n",
              "      <td>economy,jobs</td>\n",
              "      <td>econom turnaround start end term</td>\n",
              "      <td>[economy,jobs]</td>\n",
              "    </tr>\n",
              "  </tbody>\n",
              "</table>\n",
              "</div>"
            ],
            "text/plain": [
              "   labelEncoded  ...                           finalSubject\n",
              "0             0  ...                             [abortion]\n",
              "1             1  ...  [energy,history,job, accomplishments]\n",
              "2             1  ...                      [foreign, policy]\n",
              "3             0  ...                         [health, care]\n",
              "4             1  ...                         [economy,jobs]\n",
              "\n",
              "[5 rows x 5 columns]"
            ]
          },
          "metadata": {
            "tags": []
          },
          "execution_count": 188
        }
      ]
    },
    {
      "cell_type": "code",
      "metadata": {
        "id": "HXLc5R2u5yzk",
        "colab_type": "code",
        "outputId": "39e27097-4d3e-45d2-d0db-40a0b30737ea",
        "colab": {
          "base_uri": "https://localhost:8080/",
          "height": 33
        }
      },
      "source": [
        "df_mod['finalSubject'][0]"
      ],
      "execution_count": 0,
      "outputs": [
        {
          "output_type": "execute_result",
          "data": {
            "text/plain": [
              "['abortion']"
            ]
          },
          "metadata": {
            "tags": []
          },
          "execution_count": 189
        }
      ]
    },
    {
      "cell_type": "markdown",
      "metadata": {
        "id": "Mr-_ChiysdfJ",
        "colab_type": "text"
      },
      "source": [
        "# Generate Synonyms of the subject words"
      ]
    },
    {
      "cell_type": "code",
      "metadata": {
        "id": "fJRyUqeJUg66",
        "colab_type": "code",
        "colab": {}
      },
      "source": [
        "from nltk.corpus import wordnet \n",
        "def generate_Synonyms(wordlist):\n",
        "    synonyms = set()\n",
        "    for i in wordlist:\n",
        "      if type(i) is not str:\n",
        "        continue\n",
        "      for syn in wordnet.synsets(i): \n",
        "          for l in syn.lemmas(): \n",
        "              synonyms.add(l.name())\n",
        "    return list(synonyms)"
      ],
      "execution_count": 0,
      "outputs": []
    },
    {
      "cell_type": "code",
      "metadata": {
        "id": "lSmWUL53UvA8",
        "colab_type": "code",
        "outputId": "7f4e48ed-17f2-40e7-baba-5bcb47802a9e",
        "colab": {
          "base_uri": "https://localhost:8080/",
          "height": 115
        }
      },
      "source": [
        "df_mod['subjectSynonyms'] = df_mod.apply(lambda row: generate_Synonyms(row['finalSubject']), axis=1)\n",
        "# df['subjectSynonyms'] = df['finalSubject'].apply(lambda x: generate_Synonyms(x))"
      ],
      "execution_count": 0,
      "outputs": [
        {
          "output_type": "stream",
          "text": [
            "/usr/local/lib/python3.6/dist-packages/ipykernel_launcher.py:1: SettingWithCopyWarning: \n",
            "A value is trying to be set on a copy of a slice from a DataFrame.\n",
            "Try using .loc[row_indexer,col_indexer] = value instead\n",
            "\n",
            "See the caveats in the documentation: https://pandas.pydata.org/pandas-docs/stable/user_guide/indexing.html#returning-a-view-versus-a-copy\n",
            "  \"\"\"Entry point for launching an IPython kernel.\n"
          ],
          "name": "stderr"
        }
      ]
    },
    {
      "cell_type": "code",
      "metadata": {
        "id": "xvFms4RYU47x",
        "colab_type": "code",
        "outputId": "f47bb5e6-3faa-441b-db8a-933af192239d",
        "colab": {
          "base_uri": "https://localhost:8080/",
          "height": 272
        }
      },
      "source": [
        "df_mod.head()"
      ],
      "execution_count": 0,
      "outputs": [
        {
          "output_type": "execute_result",
          "data": {
            "text/html": [
              "<div>\n",
              "<style scoped>\n",
              "    .dataframe tbody tr th:only-of-type {\n",
              "        vertical-align: middle;\n",
              "    }\n",
              "\n",
              "    .dataframe tbody tr th {\n",
              "        vertical-align: top;\n",
              "    }\n",
              "\n",
              "    .dataframe thead th {\n",
              "        text-align: right;\n",
              "    }\n",
              "</style>\n",
              "<table border=\"1\" class=\"dataframe\">\n",
              "  <thead>\n",
              "    <tr style=\"text-align: right;\">\n",
              "      <th></th>\n",
              "      <th>labelEncoded</th>\n",
              "      <th>headline_text</th>\n",
              "      <th>subject</th>\n",
              "      <th>finalHeaderBody</th>\n",
              "      <th>finalSubject</th>\n",
              "      <th>subjectSynonyms</th>\n",
              "    </tr>\n",
              "  </thead>\n",
              "  <tbody>\n",
              "    <tr>\n",
              "      <th>0</th>\n",
              "      <td>0</td>\n",
              "      <td>Says the Annies List political group supports ...</td>\n",
              "      <td>abortion</td>\n",
              "      <td>say anni list polit group support thirdtrimest...</td>\n",
              "      <td>[abortion]</td>\n",
              "      <td>[abortion, miscarriage]</td>\n",
              "    </tr>\n",
              "    <tr>\n",
              "      <th>1</th>\n",
              "      <td>1</td>\n",
              "      <td>When did the decline of coal start? It started...</td>\n",
              "      <td>energy,history,job-accomplishments</td>\n",
              "      <td>declin coal start start natur ga took start be...</td>\n",
              "      <td>[energy,history,job, accomplishments]</td>\n",
              "      <td>[achievement, acquisition, accomplishment, att...</td>\n",
              "    </tr>\n",
              "    <tr>\n",
              "      <th>2</th>\n",
              "      <td>1</td>\n",
              "      <td>Hillary Clinton agrees with John McCain \"by vo...</td>\n",
              "      <td>foreign-policy</td>\n",
              "      <td>hillari clinton agre john mccain vote give geo...</td>\n",
              "      <td>[foreign, policy]</td>\n",
              "      <td>[alien, strange, insurance_policy, policy, for...</td>\n",
              "    </tr>\n",
              "    <tr>\n",
              "      <th>3</th>\n",
              "      <td>0</td>\n",
              "      <td>Health care reform legislation is likely to ma...</td>\n",
              "      <td>health-care</td>\n",
              "      <td>health care reform legisl like mandat free sex...</td>\n",
              "      <td>[health, care]</td>\n",
              "      <td>[guardianship, forethought, worry, concern, ca...</td>\n",
              "    </tr>\n",
              "    <tr>\n",
              "      <th>4</th>\n",
              "      <td>1</td>\n",
              "      <td>The economic turnaround started at the end of ...</td>\n",
              "      <td>economy,jobs</td>\n",
              "      <td>econom turnaround start end term</td>\n",
              "      <td>[economy,jobs]</td>\n",
              "      <td>[]</td>\n",
              "    </tr>\n",
              "  </tbody>\n",
              "</table>\n",
              "</div>"
            ],
            "text/plain": [
              "   labelEncoded  ...                                    subjectSynonyms\n",
              "0             0  ...                            [abortion, miscarriage]\n",
              "1             1  ...  [achievement, acquisition, accomplishment, att...\n",
              "2             1  ...  [alien, strange, insurance_policy, policy, for...\n",
              "3             0  ...  [guardianship, forethought, worry, concern, ca...\n",
              "4             1  ...                                                 []\n",
              "\n",
              "[5 rows x 6 columns]"
            ]
          },
          "metadata": {
            "tags": []
          },
          "execution_count": 192
        }
      ]
    },
    {
      "cell_type": "code",
      "metadata": {
        "id": "zB5zB6boXRtv",
        "colab_type": "code",
        "colab": {}
      },
      "source": [
        "df_mod = df_mod[['subjectSynonyms','finalHeaderBody','labelEncoded']]"
      ],
      "execution_count": 0,
      "outputs": []
    },
    {
      "cell_type": "code",
      "metadata": {
        "id": "l6EQ9LzPZF7r",
        "colab_type": "code",
        "outputId": "d149ba74-18c5-42c1-bdbe-e717774f733f",
        "colab": {
          "base_uri": "https://localhost:8080/",
          "height": 191
        }
      },
      "source": [
        "df_mod.head()"
      ],
      "execution_count": 0,
      "outputs": [
        {
          "output_type": "execute_result",
          "data": {
            "text/html": [
              "<div>\n",
              "<style scoped>\n",
              "    .dataframe tbody tr th:only-of-type {\n",
              "        vertical-align: middle;\n",
              "    }\n",
              "\n",
              "    .dataframe tbody tr th {\n",
              "        vertical-align: top;\n",
              "    }\n",
              "\n",
              "    .dataframe thead th {\n",
              "        text-align: right;\n",
              "    }\n",
              "</style>\n",
              "<table border=\"1\" class=\"dataframe\">\n",
              "  <thead>\n",
              "    <tr style=\"text-align: right;\">\n",
              "      <th></th>\n",
              "      <th>subjectSynonyms</th>\n",
              "      <th>finalHeaderBody</th>\n",
              "      <th>labelEncoded</th>\n",
              "    </tr>\n",
              "  </thead>\n",
              "  <tbody>\n",
              "    <tr>\n",
              "      <th>0</th>\n",
              "      <td>[abortion, miscarriage]</td>\n",
              "      <td>say anni list polit group support thirdtrimest...</td>\n",
              "      <td>0</td>\n",
              "    </tr>\n",
              "    <tr>\n",
              "      <th>1</th>\n",
              "      <td>[achievement, acquisition, accomplishment, att...</td>\n",
              "      <td>declin coal start start natur ga took start be...</td>\n",
              "      <td>1</td>\n",
              "    </tr>\n",
              "    <tr>\n",
              "      <th>2</th>\n",
              "      <td>[alien, strange, insurance_policy, policy, for...</td>\n",
              "      <td>hillari clinton agre john mccain vote give geo...</td>\n",
              "      <td>1</td>\n",
              "    </tr>\n",
              "    <tr>\n",
              "      <th>3</th>\n",
              "      <td>[guardianship, forethought, worry, concern, ca...</td>\n",
              "      <td>health care reform legisl like mandat free sex...</td>\n",
              "      <td>0</td>\n",
              "    </tr>\n",
              "    <tr>\n",
              "      <th>4</th>\n",
              "      <td>[]</td>\n",
              "      <td>econom turnaround start end term</td>\n",
              "      <td>1</td>\n",
              "    </tr>\n",
              "  </tbody>\n",
              "</table>\n",
              "</div>"
            ],
            "text/plain": [
              "                                     subjectSynonyms  ... labelEncoded\n",
              "0                            [abortion, miscarriage]  ...            0\n",
              "1  [achievement, acquisition, accomplishment, att...  ...            1\n",
              "2  [alien, strange, insurance_policy, policy, for...  ...            1\n",
              "3  [guardianship, forethought, worry, concern, ca...  ...            0\n",
              "4                                                 []  ...            1\n",
              "\n",
              "[5 rows x 3 columns]"
            ]
          },
          "metadata": {
            "tags": []
          },
          "execution_count": 194
        }
      ]
    },
    {
      "cell_type": "code",
      "metadata": {
        "id": "Ao-bR5BwcU91",
        "colab_type": "code",
        "colab": {}
      },
      "source": [
        "from sklearn.metrics.pairwise import cosine_similarity\n",
        "from sklearn.feature_extraction.text import CountVectorizer\n",
        "from sklearn.feature_extraction.text import TfidfVectorizer"
      ],
      "execution_count": 0,
      "outputs": []
    },
    {
      "cell_type": "markdown",
      "metadata": {
        "id": "6Edpc5y5sqC6",
        "colab_type": "text"
      },
      "source": [
        "# Count Vector"
      ]
    },
    {
      "cell_type": "code",
      "metadata": {
        "id": "Lbef0JG1xpx7",
        "colab_type": "code",
        "colab": {}
      },
      "source": [
        "def CountVector(data):\n",
        "    v = CountVectorizer(stop_words='english')\n",
        "    vectorizer = v.fit_transform(data)\n",
        "    vectors = vectorizer.toarray()\n",
        "    return vectors"
      ],
      "execution_count": 0,
      "outputs": []
    },
    {
      "cell_type": "code",
      "metadata": {
        "id": "QOqB1GYW-Neu",
        "colab_type": "code",
        "colab": {}
      },
      "source": [
        "def combineSynonyms(data):\n",
        "    return ' '.join(data)"
      ],
      "execution_count": 0,
      "outputs": []
    },
    {
      "cell_type": "code",
      "metadata": {
        "id": "MDb8ojmiUbuD",
        "colab_type": "code",
        "outputId": "4d06807c-61f3-4f5d-ecdf-1ff75fa26336",
        "colab": {
          "base_uri": "https://localhost:8080/",
          "height": 33
        }
      },
      "source": [
        "combineSynonyms(['mi','as'])"
      ],
      "execution_count": 0,
      "outputs": [
        {
          "output_type": "execute_result",
          "data": {
            "text/plain": [
              "'mi as'"
            ]
          },
          "metadata": {
            "tags": []
          },
          "execution_count": 198
        }
      ]
    },
    {
      "cell_type": "code",
      "metadata": {
        "id": "DsL2LpgHUkav",
        "colab_type": "code",
        "outputId": "2e404785-63fe-4c64-f997-71891dd1cf39",
        "colab": {
          "base_uri": "https://localhost:8080/",
          "height": 115
        }
      },
      "source": [
        "df_mod['subjectSynonyms'] = df_mod['subjectSynonyms'].apply(lambda x: combineSynonyms(x))"
      ],
      "execution_count": 0,
      "outputs": [
        {
          "output_type": "stream",
          "text": [
            "/usr/local/lib/python3.6/dist-packages/ipykernel_launcher.py:1: SettingWithCopyWarning: \n",
            "A value is trying to be set on a copy of a slice from a DataFrame.\n",
            "Try using .loc[row_indexer,col_indexer] = value instead\n",
            "\n",
            "See the caveats in the documentation: https://pandas.pydata.org/pandas-docs/stable/user_guide/indexing.html#returning-a-view-versus-a-copy\n",
            "  \"\"\"Entry point for launching an IPython kernel.\n"
          ],
          "name": "stderr"
        }
      ]
    },
    {
      "cell_type": "code",
      "metadata": {
        "id": "YnnYsXNWUtaf",
        "colab_type": "code",
        "outputId": "a025bc63-f33d-44e2-b080-6fbb27821fea",
        "colab": {
          "base_uri": "https://localhost:8080/",
          "height": 391
        }
      },
      "source": [
        "df_mod"
      ],
      "execution_count": 0,
      "outputs": [
        {
          "output_type": "execute_result",
          "data": {
            "text/html": [
              "<div>\n",
              "<style scoped>\n",
              "    .dataframe tbody tr th:only-of-type {\n",
              "        vertical-align: middle;\n",
              "    }\n",
              "\n",
              "    .dataframe tbody tr th {\n",
              "        vertical-align: top;\n",
              "    }\n",
              "\n",
              "    .dataframe thead th {\n",
              "        text-align: right;\n",
              "    }\n",
              "</style>\n",
              "<table border=\"1\" class=\"dataframe\">\n",
              "  <thead>\n",
              "    <tr style=\"text-align: right;\">\n",
              "      <th></th>\n",
              "      <th>subjectSynonyms</th>\n",
              "      <th>finalHeaderBody</th>\n",
              "      <th>labelEncoded</th>\n",
              "    </tr>\n",
              "  </thead>\n",
              "  <tbody>\n",
              "    <tr>\n",
              "      <th>0</th>\n",
              "      <td>abortion miscarriage</td>\n",
              "      <td>say anni list polit group support thirdtrimest...</td>\n",
              "      <td>0</td>\n",
              "    </tr>\n",
              "    <tr>\n",
              "      <th>1</th>\n",
              "      <td>achievement acquisition accomplishment attainm...</td>\n",
              "      <td>declin coal start start natur ga took start be...</td>\n",
              "      <td>1</td>\n",
              "    </tr>\n",
              "    <tr>\n",
              "      <th>2</th>\n",
              "      <td>alien strange insurance_policy policy foreign ...</td>\n",
              "      <td>hillari clinton agre john mccain vote give geo...</td>\n",
              "      <td>1</td>\n",
              "    </tr>\n",
              "    <tr>\n",
              "      <th>3</th>\n",
              "      <td>guardianship forethought worry concern caution...</td>\n",
              "      <td>health care reform legisl like mandat free sex...</td>\n",
              "      <td>0</td>\n",
              "    </tr>\n",
              "    <tr>\n",
              "      <th>4</th>\n",
              "      <td></td>\n",
              "      <td>econom turnaround start end term</td>\n",
              "      <td>1</td>\n",
              "    </tr>\n",
              "    <tr>\n",
              "      <th>...</th>\n",
              "      <td>...</td>\n",
              "      <td>...</td>\n",
              "      <td>...</td>\n",
              "    </tr>\n",
              "    <tr>\n",
              "      <th>10235</th>\n",
              "      <td></td>\n",
              "      <td>larger number shark attack florida case voter ...</td>\n",
              "      <td>1</td>\n",
              "    </tr>\n",
              "    <tr>\n",
              "      <th>10236</th>\n",
              "      <td>election</td>\n",
              "      <td>democrat becom parti atlanta metro area black</td>\n",
              "      <td>1</td>\n",
              "    </tr>\n",
              "    <tr>\n",
              "      <th>10237</th>\n",
              "      <td>security_measure protection certificate securi...</td>\n",
              "      <td>say altern social secur oper galveston counti ...</td>\n",
              "      <td>1</td>\n",
              "    </tr>\n",
              "    <tr>\n",
              "      <th>10238</th>\n",
              "      <td>policy insurance_policy insurance</td>\n",
              "      <td>lift u cuban embargo allow travel cuba</td>\n",
              "      <td>0</td>\n",
              "    </tr>\n",
              "    <tr>\n",
              "      <th>10239</th>\n",
              "      <td>health wellness</td>\n",
              "      <td>depart veteran affair manual tell veteran stuf...</td>\n",
              "      <td>0</td>\n",
              "    </tr>\n",
              "  </tbody>\n",
              "</table>\n",
              "<p>10240 rows × 3 columns</p>\n",
              "</div>"
            ],
            "text/plain": [
              "                                         subjectSynonyms  ... labelEncoded\n",
              "0                                   abortion miscarriage  ...            0\n",
              "1      achievement acquisition accomplishment attainm...  ...            1\n",
              "2      alien strange insurance_policy policy foreign ...  ...            1\n",
              "3      guardianship forethought worry concern caution...  ...            0\n",
              "4                                                         ...            1\n",
              "...                                                  ...  ...          ...\n",
              "10235                                                     ...            1\n",
              "10236                                           election  ...            1\n",
              "10237  security_measure protection certificate securi...  ...            1\n",
              "10238                  policy insurance_policy insurance  ...            0\n",
              "10239                                    health wellness  ...            0\n",
              "\n",
              "[10240 rows x 3 columns]"
            ]
          },
          "metadata": {
            "tags": []
          },
          "execution_count": 200
        }
      ]
    },
    {
      "cell_type": "markdown",
      "metadata": {
        "id": "raq9i_WnuOdB",
        "colab_type": "text"
      },
      "source": [
        "# Cosine Similarity"
      ]
    },
    {
      "cell_type": "code",
      "metadata": {
        "id": "xevHAK8-_DIP",
        "colab_type": "code",
        "colab": {}
      },
      "source": [
        "from sklearn.feature_extraction.text import TfidfVectorizer\n",
        "# create the transform\n",
        "def cosine_sim(statement):\n",
        "  statement=statement.split('@@')\n",
        "  # print(statement)\n",
        "  text1,text2=statement[0],statement[1]\n",
        "  vectorizer = TfidfVectorizer(stop_words='english')\n",
        "  tfidf = vectorizer.fit_transform([text1, text2])\n",
        "  sim_score=((tfidf * tfidf.T).A)[0,1]\n",
        "  # if sim_score*100>0:\n",
        "  #   return 1\n",
        "  return sim_score"
      ],
      "execution_count": 0,
      "outputs": []
    },
    {
      "cell_type": "code",
      "metadata": {
        "id": "RVs0V7qQTarI",
        "colab_type": "code",
        "outputId": "d0e4c3fa-4f12-4418-8f12-ceb4ac499748",
        "colab": {
          "base_uri": "https://localhost:8080/",
          "height": 115
        }
      },
      "source": [
        "df_mod['test_string']= df_mod['finalHeaderBody'] +'@@'+df_mod['subjectSynonyms']"
      ],
      "execution_count": 0,
      "outputs": [
        {
          "output_type": "stream",
          "text": [
            "/usr/local/lib/python3.6/dist-packages/ipykernel_launcher.py:1: SettingWithCopyWarning: \n",
            "A value is trying to be set on a copy of a slice from a DataFrame.\n",
            "Try using .loc[row_indexer,col_indexer] = value instead\n",
            "\n",
            "See the caveats in the documentation: https://pandas.pydata.org/pandas-docs/stable/user_guide/indexing.html#returning-a-view-versus-a-copy\n",
            "  \"\"\"Entry point for launching an IPython kernel.\n"
          ],
          "name": "stderr"
        }
      ]
    },
    {
      "cell_type": "code",
      "metadata": {
        "id": "l1SZC77hTjKc",
        "colab_type": "code",
        "outputId": "670fc227-c19c-480e-dacd-47f713e81ace",
        "colab": {
          "base_uri": "https://localhost:8080/",
          "height": 391
        }
      },
      "source": [
        "df_mod"
      ],
      "execution_count": 0,
      "outputs": [
        {
          "output_type": "execute_result",
          "data": {
            "text/html": [
              "<div>\n",
              "<style scoped>\n",
              "    .dataframe tbody tr th:only-of-type {\n",
              "        vertical-align: middle;\n",
              "    }\n",
              "\n",
              "    .dataframe tbody tr th {\n",
              "        vertical-align: top;\n",
              "    }\n",
              "\n",
              "    .dataframe thead th {\n",
              "        text-align: right;\n",
              "    }\n",
              "</style>\n",
              "<table border=\"1\" class=\"dataframe\">\n",
              "  <thead>\n",
              "    <tr style=\"text-align: right;\">\n",
              "      <th></th>\n",
              "      <th>subjectSynonyms</th>\n",
              "      <th>finalHeaderBody</th>\n",
              "      <th>labelEncoded</th>\n",
              "      <th>test_string</th>\n",
              "    </tr>\n",
              "  </thead>\n",
              "  <tbody>\n",
              "    <tr>\n",
              "      <th>0</th>\n",
              "      <td>abortion miscarriage</td>\n",
              "      <td>say anni list polit group support thirdtrimest...</td>\n",
              "      <td>0</td>\n",
              "      <td>say anni list polit group support thirdtrimest...</td>\n",
              "    </tr>\n",
              "    <tr>\n",
              "      <th>1</th>\n",
              "      <td>achievement acquisition accomplishment attainm...</td>\n",
              "      <td>declin coal start start natur ga took start be...</td>\n",
              "      <td>1</td>\n",
              "      <td>declin coal start start natur ga took start be...</td>\n",
              "    </tr>\n",
              "    <tr>\n",
              "      <th>2</th>\n",
              "      <td>alien strange insurance_policy policy foreign ...</td>\n",
              "      <td>hillari clinton agre john mccain vote give geo...</td>\n",
              "      <td>1</td>\n",
              "      <td>hillari clinton agre john mccain vote give geo...</td>\n",
              "    </tr>\n",
              "    <tr>\n",
              "      <th>3</th>\n",
              "      <td>guardianship forethought worry concern caution...</td>\n",
              "      <td>health care reform legisl like mandat free sex...</td>\n",
              "      <td>0</td>\n",
              "      <td>health care reform legisl like mandat free sex...</td>\n",
              "    </tr>\n",
              "    <tr>\n",
              "      <th>4</th>\n",
              "      <td></td>\n",
              "      <td>econom turnaround start end term</td>\n",
              "      <td>1</td>\n",
              "      <td>econom turnaround start end term@@</td>\n",
              "    </tr>\n",
              "    <tr>\n",
              "      <th>...</th>\n",
              "      <td>...</td>\n",
              "      <td>...</td>\n",
              "      <td>...</td>\n",
              "      <td>...</td>\n",
              "    </tr>\n",
              "    <tr>\n",
              "      <th>10235</th>\n",
              "      <td></td>\n",
              "      <td>larger number shark attack florida case voter ...</td>\n",
              "      <td>1</td>\n",
              "      <td>larger number shark attack florida case voter ...</td>\n",
              "    </tr>\n",
              "    <tr>\n",
              "      <th>10236</th>\n",
              "      <td>election</td>\n",
              "      <td>democrat becom parti atlanta metro area black</td>\n",
              "      <td>1</td>\n",
              "      <td>democrat becom parti atlanta metro area black@...</td>\n",
              "    </tr>\n",
              "    <tr>\n",
              "      <th>10237</th>\n",
              "      <td>security_measure protection certificate securi...</td>\n",
              "      <td>say altern social secur oper galveston counti ...</td>\n",
              "      <td>1</td>\n",
              "      <td>say altern social secur oper galveston counti ...</td>\n",
              "    </tr>\n",
              "    <tr>\n",
              "      <th>10238</th>\n",
              "      <td>policy insurance_policy insurance</td>\n",
              "      <td>lift u cuban embargo allow travel cuba</td>\n",
              "      <td>0</td>\n",
              "      <td>lift u cuban embargo allow travel cuba@@policy...</td>\n",
              "    </tr>\n",
              "    <tr>\n",
              "      <th>10239</th>\n",
              "      <td>health wellness</td>\n",
              "      <td>depart veteran affair manual tell veteran stuf...</td>\n",
              "      <td>0</td>\n",
              "      <td>depart veteran affair manual tell veteran stuf...</td>\n",
              "    </tr>\n",
              "  </tbody>\n",
              "</table>\n",
              "<p>10240 rows × 4 columns</p>\n",
              "</div>"
            ],
            "text/plain": [
              "                                         subjectSynonyms  ...                                        test_string\n",
              "0                                   abortion miscarriage  ...  say anni list polit group support thirdtrimest...\n",
              "1      achievement acquisition accomplishment attainm...  ...  declin coal start start natur ga took start be...\n",
              "2      alien strange insurance_policy policy foreign ...  ...  hillari clinton agre john mccain vote give geo...\n",
              "3      guardianship forethought worry concern caution...  ...  health care reform legisl like mandat free sex...\n",
              "4                                                         ...                 econom turnaround start end term@@\n",
              "...                                                  ...  ...                                                ...\n",
              "10235                                                     ...  larger number shark attack florida case voter ...\n",
              "10236                                           election  ...  democrat becom parti atlanta metro area black@...\n",
              "10237  security_measure protection certificate securi...  ...  say altern social secur oper galveston counti ...\n",
              "10238                  policy insurance_policy insurance  ...  lift u cuban embargo allow travel cuba@@policy...\n",
              "10239                                    health wellness  ...  depart veteran affair manual tell veteran stuf...\n",
              "\n",
              "[10240 rows x 4 columns]"
            ]
          },
          "metadata": {
            "tags": []
          },
          "execution_count": 203
        }
      ]
    },
    {
      "cell_type": "code",
      "metadata": {
        "id": "9lHNKXMkUyxW",
        "colab_type": "code",
        "outputId": "526ccb58-9aa6-499e-bfa0-559147cb8b43",
        "colab": {
          "base_uri": "https://localhost:8080/",
          "height": 115
        }
      },
      "source": [
        "df_mod['cosineSim']=df_mod['test_string'].apply(lambda x: cosine_sim(x))"
      ],
      "execution_count": 0,
      "outputs": [
        {
          "output_type": "stream",
          "text": [
            "/usr/local/lib/python3.6/dist-packages/ipykernel_launcher.py:1: SettingWithCopyWarning: \n",
            "A value is trying to be set on a copy of a slice from a DataFrame.\n",
            "Try using .loc[row_indexer,col_indexer] = value instead\n",
            "\n",
            "See the caveats in the documentation: https://pandas.pydata.org/pandas-docs/stable/user_guide/indexing.html#returning-a-view-versus-a-copy\n",
            "  \"\"\"Entry point for launching an IPython kernel.\n"
          ],
          "name": "stderr"
        }
      ]
    },
    {
      "cell_type": "code",
      "metadata": {
        "id": "U7DJYkKgnQPC",
        "colab_type": "code",
        "outputId": "e8d8d895-9dd1-4722-8a2c-42aca22c1ec7",
        "colab": {
          "base_uri": "https://localhost:8080/",
          "height": 391
        }
      },
      "source": [
        "df_mod"
      ],
      "execution_count": 0,
      "outputs": [
        {
          "output_type": "execute_result",
          "data": {
            "text/html": [
              "<div>\n",
              "<style scoped>\n",
              "    .dataframe tbody tr th:only-of-type {\n",
              "        vertical-align: middle;\n",
              "    }\n",
              "\n",
              "    .dataframe tbody tr th {\n",
              "        vertical-align: top;\n",
              "    }\n",
              "\n",
              "    .dataframe thead th {\n",
              "        text-align: right;\n",
              "    }\n",
              "</style>\n",
              "<table border=\"1\" class=\"dataframe\">\n",
              "  <thead>\n",
              "    <tr style=\"text-align: right;\">\n",
              "      <th></th>\n",
              "      <th>subjectSynonyms</th>\n",
              "      <th>finalHeaderBody</th>\n",
              "      <th>labelEncoded</th>\n",
              "      <th>test_string</th>\n",
              "      <th>cosineSim</th>\n",
              "    </tr>\n",
              "  </thead>\n",
              "  <tbody>\n",
              "    <tr>\n",
              "      <th>0</th>\n",
              "      <td>abortion miscarriage</td>\n",
              "      <td>say anni list polit group support thirdtrimest...</td>\n",
              "      <td>0</td>\n",
              "      <td>say anni list polit group support thirdtrimest...</td>\n",
              "      <td>0.000000</td>\n",
              "    </tr>\n",
              "    <tr>\n",
              "      <th>1</th>\n",
              "      <td>achievement acquisition accomplishment attainm...</td>\n",
              "      <td>declin coal start start natur ga took start be...</td>\n",
              "      <td>1</td>\n",
              "      <td>declin coal start start natur ga took start be...</td>\n",
              "      <td>0.000000</td>\n",
              "    </tr>\n",
              "    <tr>\n",
              "      <th>2</th>\n",
              "      <td>alien strange insurance_policy policy foreign ...</td>\n",
              "      <td>hillari clinton agre john mccain vote give geo...</td>\n",
              "      <td>1</td>\n",
              "      <td>hillari clinton agre john mccain vote give geo...</td>\n",
              "      <td>0.000000</td>\n",
              "    </tr>\n",
              "    <tr>\n",
              "      <th>3</th>\n",
              "      <td>guardianship forethought worry concern caution...</td>\n",
              "      <td>health care reform legisl like mandat free sex...</td>\n",
              "      <td>0</td>\n",
              "      <td>health care reform legisl like mandat free sex...</td>\n",
              "      <td>0.112172</td>\n",
              "    </tr>\n",
              "    <tr>\n",
              "      <th>4</th>\n",
              "      <td></td>\n",
              "      <td>econom turnaround start end term</td>\n",
              "      <td>1</td>\n",
              "      <td>econom turnaround start end term@@</td>\n",
              "      <td>0.000000</td>\n",
              "    </tr>\n",
              "    <tr>\n",
              "      <th>...</th>\n",
              "      <td>...</td>\n",
              "      <td>...</td>\n",
              "      <td>...</td>\n",
              "      <td>...</td>\n",
              "      <td>...</td>\n",
              "    </tr>\n",
              "    <tr>\n",
              "      <th>10235</th>\n",
              "      <td></td>\n",
              "      <td>larger number shark attack florida case voter ...</td>\n",
              "      <td>1</td>\n",
              "      <td>larger number shark attack florida case voter ...</td>\n",
              "      <td>0.000000</td>\n",
              "    </tr>\n",
              "    <tr>\n",
              "      <th>10236</th>\n",
              "      <td>election</td>\n",
              "      <td>democrat becom parti atlanta metro area black</td>\n",
              "      <td>1</td>\n",
              "      <td>democrat becom parti atlanta metro area black@...</td>\n",
              "      <td>0.000000</td>\n",
              "    </tr>\n",
              "    <tr>\n",
              "      <th>10237</th>\n",
              "      <td>security_measure protection certificate securi...</td>\n",
              "      <td>say altern social secur oper galveston counti ...</td>\n",
              "      <td>1</td>\n",
              "      <td>say altern social secur oper galveston counti ...</td>\n",
              "      <td>0.000000</td>\n",
              "    </tr>\n",
              "    <tr>\n",
              "      <th>10238</th>\n",
              "      <td>policy insurance_policy insurance</td>\n",
              "      <td>lift u cuban embargo allow travel cuba</td>\n",
              "      <td>0</td>\n",
              "      <td>lift u cuban embargo allow travel cuba@@policy...</td>\n",
              "      <td>0.000000</td>\n",
              "    </tr>\n",
              "    <tr>\n",
              "      <th>10239</th>\n",
              "      <td>health wellness</td>\n",
              "      <td>depart veteran affair manual tell veteran stuf...</td>\n",
              "      <td>0</td>\n",
              "      <td>depart veteran affair manual tell veteran stuf...</td>\n",
              "      <td>0.000000</td>\n",
              "    </tr>\n",
              "  </tbody>\n",
              "</table>\n",
              "<p>10240 rows × 5 columns</p>\n",
              "</div>"
            ],
            "text/plain": [
              "                                         subjectSynonyms  ... cosineSim\n",
              "0                                   abortion miscarriage  ...  0.000000\n",
              "1      achievement acquisition accomplishment attainm...  ...  0.000000\n",
              "2      alien strange insurance_policy policy foreign ...  ...  0.000000\n",
              "3      guardianship forethought worry concern caution...  ...  0.112172\n",
              "4                                                         ...  0.000000\n",
              "...                                                  ...  ...       ...\n",
              "10235                                                     ...  0.000000\n",
              "10236                                           election  ...  0.000000\n",
              "10237  security_measure protection certificate securi...  ...  0.000000\n",
              "10238                  policy insurance_policy insurance  ...  0.000000\n",
              "10239                                    health wellness  ...  0.000000\n",
              "\n",
              "[10240 rows x 5 columns]"
            ]
          },
          "metadata": {
            "tags": []
          },
          "execution_count": 205
        }
      ]
    },
    {
      "cell_type": "code",
      "metadata": {
        "id": "hwn1h16PU7Cv",
        "colab_type": "code",
        "colab": {}
      },
      "source": [
        "# df_mod.predicted_label.value_counts()"
      ],
      "execution_count": 0,
      "outputs": []
    },
    {
      "cell_type": "code",
      "metadata": {
        "id": "royLLPJYVE2b",
        "colab_type": "code",
        "colab": {}
      },
      "source": [
        "from sklearn.metrics import accuracy_score"
      ],
      "execution_count": 0,
      "outputs": []
    },
    {
      "cell_type": "code",
      "metadata": {
        "id": "GAlY7ZF_VIT2",
        "colab_type": "code",
        "colab": {}
      },
      "source": [
        "# accuracy_score(df_mod.predicted_label,df_mod.labelEncoded)"
      ],
      "execution_count": 0,
      "outputs": []
    },
    {
      "cell_type": "code",
      "metadata": {
        "id": "fLbqAc8rVKWp",
        "colab_type": "code",
        "colab": {}
      },
      "source": [
        ""
      ],
      "execution_count": 0,
      "outputs": []
    },
    {
      "cell_type": "markdown",
      "metadata": {
        "id": "Vqbi0BsoupMi",
        "colab_type": "text"
      },
      "source": [
        "# Downloading Fake news dataset csv"
      ]
    },
    {
      "cell_type": "code",
      "metadata": {
        "id": "vTAfZVSsutNC",
        "colab_type": "code",
        "outputId": "c3b12f40-ebf9-44a7-aad8-57f5c74da261",
        "colab": {
          "base_uri": "https://localhost:8080/",
          "height": 33
        }
      },
      "source": [
        "link = 'https://drive.google.com/open?id=1CmI37GcFdB4WCjmANeCYfJe7SuYfqOOX'\n",
        "fluff1, id1 = link.split('=')\n",
        "print (id) # Verify that you have everything after '='\n",
        "downloaded = drive.CreateFile({'id':id1}) \n",
        "downloaded.GetContentFile('train_fakeNews.csv')"
      ],
      "execution_count": 0,
      "outputs": [
        {
          "output_type": "stream",
          "text": [
            "<built-in function id>\n"
          ],
          "name": "stdout"
        }
      ]
    },
    {
      "cell_type": "code",
      "metadata": {
        "id": "uFmfPtAkvJYg",
        "colab_type": "code",
        "outputId": "719362ca-67c3-4794-fcec-c81fc59e0c13",
        "colab": {
          "base_uri": "https://localhost:8080/",
          "height": 33
        }
      },
      "source": [
        "link = 'https://drive.google.com/open?id=18z6S7CzSPgTT7Csj44jeT6M42B3xSek1'\n",
        "fluff1, id1 = link.split('=')\n",
        "print (id) # Verify that you have everything after '='\n",
        "downloaded = drive.CreateFile({'id':id1}) \n",
        "downloaded.GetContentFile('test_fakeNews.csv')"
      ],
      "execution_count": 0,
      "outputs": [
        {
          "output_type": "stream",
          "text": [
            "<built-in function id>\n"
          ],
          "name": "stdout"
        }
      ]
    },
    {
      "cell_type": "code",
      "metadata": {
        "id": "F1in8ebcvci9",
        "colab_type": "code",
        "colab": {}
      },
      "source": [
        "train_fake = pd.read_csv(\"/content/train_fakeNews.csv\")"
      ],
      "execution_count": 0,
      "outputs": []
    },
    {
      "cell_type": "code",
      "metadata": {
        "id": "YND7iGOIvo0I",
        "colab_type": "code",
        "colab": {}
      },
      "source": [
        "test_fake = pd.read_csv(\"/content/test_fakeNews.csv\")"
      ],
      "execution_count": 0,
      "outputs": []
    },
    {
      "cell_type": "code",
      "metadata": {
        "id": "yFrc4l_XvsDc",
        "colab_type": "code",
        "outputId": "4cdc022d-d99c-4012-bd93-d178a21ba100",
        "colab": {
          "base_uri": "https://localhost:8080/",
          "height": 191
        }
      },
      "source": [
        "train_fake.head()"
      ],
      "execution_count": 0,
      "outputs": [
        {
          "output_type": "execute_result",
          "data": {
            "text/html": [
              "<div>\n",
              "<style scoped>\n",
              "    .dataframe tbody tr th:only-of-type {\n",
              "        vertical-align: middle;\n",
              "    }\n",
              "\n",
              "    .dataframe tbody tr th {\n",
              "        vertical-align: top;\n",
              "    }\n",
              "\n",
              "    .dataframe thead th {\n",
              "        text-align: right;\n",
              "    }\n",
              "</style>\n",
              "<table border=\"1\" class=\"dataframe\">\n",
              "  <thead>\n",
              "    <tr style=\"text-align: right;\">\n",
              "      <th></th>\n",
              "      <th>id</th>\n",
              "      <th>title</th>\n",
              "      <th>author</th>\n",
              "      <th>text</th>\n",
              "      <th>label</th>\n",
              "    </tr>\n",
              "  </thead>\n",
              "  <tbody>\n",
              "    <tr>\n",
              "      <th>0</th>\n",
              "      <td>0</td>\n",
              "      <td>House Dem Aide: We Didn’t Even See Comey’s Let...</td>\n",
              "      <td>Darrell Lucus</td>\n",
              "      <td>House Dem Aide: We Didn’t Even See Comey’s Let...</td>\n",
              "      <td>1</td>\n",
              "    </tr>\n",
              "    <tr>\n",
              "      <th>1</th>\n",
              "      <td>1</td>\n",
              "      <td>FLYNN: Hillary Clinton, Big Woman on Campus - ...</td>\n",
              "      <td>Daniel J. Flynn</td>\n",
              "      <td>Ever get the feeling your life circles the rou...</td>\n",
              "      <td>0</td>\n",
              "    </tr>\n",
              "    <tr>\n",
              "      <th>2</th>\n",
              "      <td>2</td>\n",
              "      <td>Why the Truth Might Get You Fired</td>\n",
              "      <td>Consortiumnews.com</td>\n",
              "      <td>Why the Truth Might Get You Fired October 29, ...</td>\n",
              "      <td>1</td>\n",
              "    </tr>\n",
              "    <tr>\n",
              "      <th>3</th>\n",
              "      <td>3</td>\n",
              "      <td>15 Civilians Killed In Single US Airstrike Hav...</td>\n",
              "      <td>Jessica Purkiss</td>\n",
              "      <td>Videos 15 Civilians Killed In Single US Airstr...</td>\n",
              "      <td>1</td>\n",
              "    </tr>\n",
              "    <tr>\n",
              "      <th>4</th>\n",
              "      <td>4</td>\n",
              "      <td>Iranian woman jailed for fictional unpublished...</td>\n",
              "      <td>Howard Portnoy</td>\n",
              "      <td>Print \\nAn Iranian woman has been sentenced to...</td>\n",
              "      <td>1</td>\n",
              "    </tr>\n",
              "  </tbody>\n",
              "</table>\n",
              "</div>"
            ],
            "text/plain": [
              "   id  ... label\n",
              "0   0  ...     1\n",
              "1   1  ...     0\n",
              "2   2  ...     1\n",
              "3   3  ...     1\n",
              "4   4  ...     1\n",
              "\n",
              "[5 rows x 5 columns]"
            ]
          },
          "metadata": {
            "tags": []
          },
          "execution_count": 213
        }
      ]
    },
    {
      "cell_type": "code",
      "metadata": {
        "id": "_1vAdxcOvu2-",
        "colab_type": "code",
        "outputId": "465a18f5-8dca-46e8-dbce-552034703369",
        "colab": {
          "base_uri": "https://localhost:8080/",
          "height": 33
        }
      },
      "source": [
        "train_fake.shape"
      ],
      "execution_count": 0,
      "outputs": [
        {
          "output_type": "execute_result",
          "data": {
            "text/plain": [
              "(20800, 5)"
            ]
          },
          "metadata": {
            "tags": []
          },
          "execution_count": 214
        }
      ]
    },
    {
      "cell_type": "code",
      "metadata": {
        "id": "yXKMXVVTv1n9",
        "colab_type": "code",
        "outputId": "88438843-2b14-402d-e41b-a17548923a6b",
        "colab": {
          "base_uri": "https://localhost:8080/",
          "height": 66
        }
      },
      "source": [
        "train_fake['label'].value_counts()"
      ],
      "execution_count": 0,
      "outputs": [
        {
          "output_type": "execute_result",
          "data": {
            "text/plain": [
              "1    10413\n",
              "0    10387\n",
              "Name: label, dtype: int64"
            ]
          },
          "metadata": {
            "tags": []
          },
          "execution_count": 215
        }
      ]
    },
    {
      "cell_type": "code",
      "metadata": {
        "id": "r_gyJtUuwGbf",
        "colab_type": "code",
        "colab": {}
      },
      "source": [
        "train_fake = train_fake[['title','text','label']]"
      ],
      "execution_count": 0,
      "outputs": []
    },
    {
      "cell_type": "code",
      "metadata": {
        "id": "RnPwMoZpzjWf",
        "colab_type": "code",
        "colab": {}
      },
      "source": [
        "train_fake['labelEncoded'] = train_fake['label']"
      ],
      "execution_count": 0,
      "outputs": []
    },
    {
      "cell_type": "code",
      "metadata": {
        "id": "UqzOJ3Chz8YF",
        "colab_type": "code",
        "outputId": "8aaf36eb-63af-434f-bb90-69641cb6c729",
        "colab": {
          "base_uri": "https://localhost:8080/",
          "height": 391
        }
      },
      "source": [
        "train_fake"
      ],
      "execution_count": 0,
      "outputs": [
        {
          "output_type": "execute_result",
          "data": {
            "text/html": [
              "<div>\n",
              "<style scoped>\n",
              "    .dataframe tbody tr th:only-of-type {\n",
              "        vertical-align: middle;\n",
              "    }\n",
              "\n",
              "    .dataframe tbody tr th {\n",
              "        vertical-align: top;\n",
              "    }\n",
              "\n",
              "    .dataframe thead th {\n",
              "        text-align: right;\n",
              "    }\n",
              "</style>\n",
              "<table border=\"1\" class=\"dataframe\">\n",
              "  <thead>\n",
              "    <tr style=\"text-align: right;\">\n",
              "      <th></th>\n",
              "      <th>title</th>\n",
              "      <th>text</th>\n",
              "      <th>label</th>\n",
              "      <th>labelEncoded</th>\n",
              "    </tr>\n",
              "  </thead>\n",
              "  <tbody>\n",
              "    <tr>\n",
              "      <th>0</th>\n",
              "      <td>House Dem Aide: We Didn’t Even See Comey’s Let...</td>\n",
              "      <td>House Dem Aide: We Didn’t Even See Comey’s Let...</td>\n",
              "      <td>1</td>\n",
              "      <td>1</td>\n",
              "    </tr>\n",
              "    <tr>\n",
              "      <th>1</th>\n",
              "      <td>FLYNN: Hillary Clinton, Big Woman on Campus - ...</td>\n",
              "      <td>Ever get the feeling your life circles the rou...</td>\n",
              "      <td>0</td>\n",
              "      <td>0</td>\n",
              "    </tr>\n",
              "    <tr>\n",
              "      <th>2</th>\n",
              "      <td>Why the Truth Might Get You Fired</td>\n",
              "      <td>Why the Truth Might Get You Fired October 29, ...</td>\n",
              "      <td>1</td>\n",
              "      <td>1</td>\n",
              "    </tr>\n",
              "    <tr>\n",
              "      <th>3</th>\n",
              "      <td>15 Civilians Killed In Single US Airstrike Hav...</td>\n",
              "      <td>Videos 15 Civilians Killed In Single US Airstr...</td>\n",
              "      <td>1</td>\n",
              "      <td>1</td>\n",
              "    </tr>\n",
              "    <tr>\n",
              "      <th>4</th>\n",
              "      <td>Iranian woman jailed for fictional unpublished...</td>\n",
              "      <td>Print \\nAn Iranian woman has been sentenced to...</td>\n",
              "      <td>1</td>\n",
              "      <td>1</td>\n",
              "    </tr>\n",
              "    <tr>\n",
              "      <th>...</th>\n",
              "      <td>...</td>\n",
              "      <td>...</td>\n",
              "      <td>...</td>\n",
              "      <td>...</td>\n",
              "    </tr>\n",
              "    <tr>\n",
              "      <th>20795</th>\n",
              "      <td>Rapper T.I.: Trump a ’Poster Child For White S...</td>\n",
              "      <td>Rapper T. I. unloaded on black celebrities who...</td>\n",
              "      <td>0</td>\n",
              "      <td>0</td>\n",
              "    </tr>\n",
              "    <tr>\n",
              "      <th>20796</th>\n",
              "      <td>N.F.L. Playoffs: Schedule, Matchups and Odds -...</td>\n",
              "      <td>When the Green Bay Packers lost to the Washing...</td>\n",
              "      <td>0</td>\n",
              "      <td>0</td>\n",
              "    </tr>\n",
              "    <tr>\n",
              "      <th>20797</th>\n",
              "      <td>Macy’s Is Said to Receive Takeover Approach by...</td>\n",
              "      <td>The Macy’s of today grew from the union of sev...</td>\n",
              "      <td>0</td>\n",
              "      <td>0</td>\n",
              "    </tr>\n",
              "    <tr>\n",
              "      <th>20798</th>\n",
              "      <td>NATO, Russia To Hold Parallel Exercises In Bal...</td>\n",
              "      <td>NATO, Russia To Hold Parallel Exercises In Bal...</td>\n",
              "      <td>1</td>\n",
              "      <td>1</td>\n",
              "    </tr>\n",
              "    <tr>\n",
              "      <th>20799</th>\n",
              "      <td>What Keeps the F-35 Alive</td>\n",
              "      <td>David Swanson is an author, activist, journa...</td>\n",
              "      <td>1</td>\n",
              "      <td>1</td>\n",
              "    </tr>\n",
              "  </tbody>\n",
              "</table>\n",
              "<p>20800 rows × 4 columns</p>\n",
              "</div>"
            ],
            "text/plain": [
              "                                                   title  ... labelEncoded\n",
              "0      House Dem Aide: We Didn’t Even See Comey’s Let...  ...            1\n",
              "1      FLYNN: Hillary Clinton, Big Woman on Campus - ...  ...            0\n",
              "2                      Why the Truth Might Get You Fired  ...            1\n",
              "3      15 Civilians Killed In Single US Airstrike Hav...  ...            1\n",
              "4      Iranian woman jailed for fictional unpublished...  ...            1\n",
              "...                                                  ...  ...          ...\n",
              "20795  Rapper T.I.: Trump a ’Poster Child For White S...  ...            0\n",
              "20796  N.F.L. Playoffs: Schedule, Matchups and Odds -...  ...            0\n",
              "20797  Macy’s Is Said to Receive Takeover Approach by...  ...            0\n",
              "20798  NATO, Russia To Hold Parallel Exercises In Bal...  ...            1\n",
              "20799                          What Keeps the F-35 Alive  ...            1\n",
              "\n",
              "[20800 rows x 4 columns]"
            ]
          },
          "metadata": {
            "tags": []
          },
          "execution_count": 218
        }
      ]
    },
    {
      "cell_type": "code",
      "metadata": {
        "id": "2oSuEpX1z9X4",
        "colab_type": "code",
        "colab": {}
      },
      "source": [
        "train_fake = train_fake.drop(train_fake['label'])"
      ],
      "execution_count": 0,
      "outputs": []
    },
    {
      "cell_type": "code",
      "metadata": {
        "id": "f-qjBlF20DFY",
        "colab_type": "code",
        "outputId": "290737d4-e6cb-421e-9267-e50a8cf48d1d",
        "colab": {
          "base_uri": "https://localhost:8080/",
          "height": 391
        }
      },
      "source": [
        "train_fake"
      ],
      "execution_count": 0,
      "outputs": [
        {
          "output_type": "execute_result",
          "data": {
            "text/html": [
              "<div>\n",
              "<style scoped>\n",
              "    .dataframe tbody tr th:only-of-type {\n",
              "        vertical-align: middle;\n",
              "    }\n",
              "\n",
              "    .dataframe tbody tr th {\n",
              "        vertical-align: top;\n",
              "    }\n",
              "\n",
              "    .dataframe thead th {\n",
              "        text-align: right;\n",
              "    }\n",
              "</style>\n",
              "<table border=\"1\" class=\"dataframe\">\n",
              "  <thead>\n",
              "    <tr style=\"text-align: right;\">\n",
              "      <th></th>\n",
              "      <th>title</th>\n",
              "      <th>text</th>\n",
              "      <th>label</th>\n",
              "      <th>labelEncoded</th>\n",
              "    </tr>\n",
              "  </thead>\n",
              "  <tbody>\n",
              "    <tr>\n",
              "      <th>2</th>\n",
              "      <td>Why the Truth Might Get You Fired</td>\n",
              "      <td>Why the Truth Might Get You Fired October 29, ...</td>\n",
              "      <td>1</td>\n",
              "      <td>1</td>\n",
              "    </tr>\n",
              "    <tr>\n",
              "      <th>3</th>\n",
              "      <td>15 Civilians Killed In Single US Airstrike Hav...</td>\n",
              "      <td>Videos 15 Civilians Killed In Single US Airstr...</td>\n",
              "      <td>1</td>\n",
              "      <td>1</td>\n",
              "    </tr>\n",
              "    <tr>\n",
              "      <th>4</th>\n",
              "      <td>Iranian woman jailed for fictional unpublished...</td>\n",
              "      <td>Print \\nAn Iranian woman has been sentenced to...</td>\n",
              "      <td>1</td>\n",
              "      <td>1</td>\n",
              "    </tr>\n",
              "    <tr>\n",
              "      <th>5</th>\n",
              "      <td>Jackie Mason: Hollywood Would Love Trump if He...</td>\n",
              "      <td>In these trying times, Jackie Mason is the Voi...</td>\n",
              "      <td>0</td>\n",
              "      <td>0</td>\n",
              "    </tr>\n",
              "    <tr>\n",
              "      <th>6</th>\n",
              "      <td>Life: Life Of Luxury: Elton John’s 6 Favorite ...</td>\n",
              "      <td>Ever wonder how Britain’s most iconic pop pian...</td>\n",
              "      <td>1</td>\n",
              "      <td>1</td>\n",
              "    </tr>\n",
              "    <tr>\n",
              "      <th>...</th>\n",
              "      <td>...</td>\n",
              "      <td>...</td>\n",
              "      <td>...</td>\n",
              "      <td>...</td>\n",
              "    </tr>\n",
              "    <tr>\n",
              "      <th>20795</th>\n",
              "      <td>Rapper T.I.: Trump a ’Poster Child For White S...</td>\n",
              "      <td>Rapper T. I. unloaded on black celebrities who...</td>\n",
              "      <td>0</td>\n",
              "      <td>0</td>\n",
              "    </tr>\n",
              "    <tr>\n",
              "      <th>20796</th>\n",
              "      <td>N.F.L. Playoffs: Schedule, Matchups and Odds -...</td>\n",
              "      <td>When the Green Bay Packers lost to the Washing...</td>\n",
              "      <td>0</td>\n",
              "      <td>0</td>\n",
              "    </tr>\n",
              "    <tr>\n",
              "      <th>20797</th>\n",
              "      <td>Macy’s Is Said to Receive Takeover Approach by...</td>\n",
              "      <td>The Macy’s of today grew from the union of sev...</td>\n",
              "      <td>0</td>\n",
              "      <td>0</td>\n",
              "    </tr>\n",
              "    <tr>\n",
              "      <th>20798</th>\n",
              "      <td>NATO, Russia To Hold Parallel Exercises In Bal...</td>\n",
              "      <td>NATO, Russia To Hold Parallel Exercises In Bal...</td>\n",
              "      <td>1</td>\n",
              "      <td>1</td>\n",
              "    </tr>\n",
              "    <tr>\n",
              "      <th>20799</th>\n",
              "      <td>What Keeps the F-35 Alive</td>\n",
              "      <td>David Swanson is an author, activist, journa...</td>\n",
              "      <td>1</td>\n",
              "      <td>1</td>\n",
              "    </tr>\n",
              "  </tbody>\n",
              "</table>\n",
              "<p>20798 rows × 4 columns</p>\n",
              "</div>"
            ],
            "text/plain": [
              "                                                   title  ... labelEncoded\n",
              "2                      Why the Truth Might Get You Fired  ...            1\n",
              "3      15 Civilians Killed In Single US Airstrike Hav...  ...            1\n",
              "4      Iranian woman jailed for fictional unpublished...  ...            1\n",
              "5      Jackie Mason: Hollywood Would Love Trump if He...  ...            0\n",
              "6      Life: Life Of Luxury: Elton John’s 6 Favorite ...  ...            1\n",
              "...                                                  ...  ...          ...\n",
              "20795  Rapper T.I.: Trump a ’Poster Child For White S...  ...            0\n",
              "20796  N.F.L. Playoffs: Schedule, Matchups and Odds -...  ...            0\n",
              "20797  Macy’s Is Said to Receive Takeover Approach by...  ...            0\n",
              "20798  NATO, Russia To Hold Parallel Exercises In Bal...  ...            1\n",
              "20799                          What Keeps the F-35 Alive  ...            1\n",
              "\n",
              "[20798 rows x 4 columns]"
            ]
          },
          "metadata": {
            "tags": []
          },
          "execution_count": 220
        }
      ]
    },
    {
      "cell_type": "code",
      "metadata": {
        "id": "gxc67xKd0Hbo",
        "colab_type": "code",
        "colab": {}
      },
      "source": [
        "train_fake['finalHeaderBody'] = train_fake.apply(lambda row: remove_punctuations(row['text']), axis=1)\n",
        "\n",
        "# train_fake['finalHeaderBody'] = train_fake.apply(lambda row: tokenize(row['finalHeaderBody']), axis=1)\n",
        "\n",
        "# train_fake['finalHeaderBody'] = train_fake.apply(lambda row: remove_stopwords(row['finalHeaderBody']), axis=1)\n",
        "\n",
        "# train_fake['finalHeaderBody'] = train_fake.apply(lambda row: lematize(row['finalHeaderBody']), axis=1)\n",
        "\n",
        "# train_fake['finalHeaderBody'] = train_fake.apply(lambda row: stem(row['finalHeaderBody']), axis=1)"
      ],
      "execution_count": 0,
      "outputs": []
    },
    {
      "cell_type": "code",
      "metadata": {
        "id": "v7zqT7fg8daZ",
        "colab_type": "code",
        "colab": {}
      },
      "source": [
        "train_fake['finalHeaderBody'] = train_fake.apply(lambda row: tokenize(row['finalHeaderBody']), axis=1)"
      ],
      "execution_count": 0,
      "outputs": []
    },
    {
      "cell_type": "code",
      "metadata": {
        "id": "zhNq5XYO8fxf",
        "colab_type": "code",
        "colab": {}
      },
      "source": [
        "# train_fake['finalHeaderBody'] = train_fake.apply(lambda row: remove_stopwords(row['finalHeaderBody']), axis=1)"
      ],
      "execution_count": 0,
      "outputs": []
    },
    {
      "cell_type": "code",
      "metadata": {
        "id": "KgcsGuOZ8i2j",
        "colab_type": "code",
        "colab": {}
      },
      "source": [
        "train_fake['finalHeaderBody'] = train_fake.apply(lambda row: lematize(row['finalHeaderBody']), axis=1)"
      ],
      "execution_count": 0,
      "outputs": []
    },
    {
      "cell_type": "code",
      "metadata": {
        "id": "40_cpG7I8mUJ",
        "colab_type": "code",
        "colab": {}
      },
      "source": [
        "train_fake['finalHeaderBody'] = train_fake.apply(lambda row: stem(row['finalHeaderBody']), axis=1)"
      ],
      "execution_count": 0,
      "outputs": []
    },
    {
      "cell_type": "code",
      "metadata": {
        "id": "E0ktWcqeB5jA",
        "colab_type": "code",
        "colab": {}
      },
      "source": [
        "train_fake"
      ],
      "execution_count": 0,
      "outputs": []
    },
    {
      "cell_type": "code",
      "metadata": {
        "id": "K3GdR40nkaGm",
        "colab_type": "code",
        "colab": {}
      },
      "source": [
        "train_fake['subjectSynonyms'] = train_fake.apply(lambda row: remove_punctuations(row['title']), axis=1)\n",
        "\n",
        "train_fake['subjectSynonyms'] = train_fake.apply(lambda row: tokenize(row['subjectSynonyms']), axis=1)\n",
        "\n",
        "train_fake['subjectSynonyms'] = train_fake.apply(lambda row: remove_stopwords(row['subjectSynonyms']), axis=1)\n",
        "\n",
        "train_fake['subjectSynonyms'] = train_fake.apply(lambda row: lematize(row['subjectSynonyms']), axis=1)\n",
        "\n",
        "train_fake['subjectSynonyms'] = train_fake.apply(lambda row: stem(row['subjectSynonyms']), axis=1)"
      ],
      "execution_count": 0,
      "outputs": []
    },
    {
      "cell_type": "code",
      "metadata": {
        "id": "3dCUqgRPl87h",
        "colab_type": "code",
        "colab": {}
      },
      "source": [
        "train_fake['test_string']= train_fake['finalHeaderBody'] +'@@'+train_fake['subjectSynonyms']"
      ],
      "execution_count": 0,
      "outputs": []
    },
    {
      "cell_type": "code",
      "metadata": {
        "id": "Yy3KnA3ZmOxN",
        "colab_type": "code",
        "colab": {}
      },
      "source": [
        "train_fake['cosineSim']=train_fake['test_string'].apply(lambda x: cosine_sim(x))"
      ],
      "execution_count": 0,
      "outputs": []
    },
    {
      "cell_type": "code",
      "metadata": {
        "id": "uzTY1gWQnpYw",
        "colab_type": "code",
        "colab": {}
      },
      "source": [
        "train_fake"
      ],
      "execution_count": 0,
      "outputs": []
    },
    {
      "cell_type": "code",
      "metadata": {
        "id": "OefI_ZfrC6Rc",
        "colab_type": "code",
        "colab": {}
      },
      "source": [
        "def sim_label(statement):\n",
        "  statement=statement.split('@@')\n",
        "  # print(statement)\n",
        "  text1,text2=statement[0],statement[1]\n",
        "  vectorizer = TfidfVectorizer(stop_words='english')\n",
        "  tfidf = vectorizer.fit_transform([text1, text2])\n",
        "  sim_score=((tfidf * tfidf.T).A)[0,1]\n",
        "  if sim_score*100>30:\n",
        "    return 1\n",
        "  return 0"
      ],
      "execution_count": 0,
      "outputs": []
    },
    {
      "cell_type": "code",
      "metadata": {
        "id": "rNcEb6CUC-To",
        "colab_type": "code",
        "colab": {}
      },
      "source": [
        "train_fake['predicted_label']=train_fake['test_string'].apply(lambda x: sim_label(x))"
      ],
      "execution_count": 0,
      "outputs": []
    },
    {
      "cell_type": "code",
      "metadata": {
        "id": "qLC4P4CDmo0i",
        "colab_type": "code",
        "colab": {}
      },
      "source": [
        "# train_fake.predicted_label.value_counts()"
      ],
      "execution_count": 0,
      "outputs": []
    },
    {
      "cell_type": "code",
      "metadata": {
        "id": "dVCXeB4LmW4l",
        "colab_type": "code",
        "colab": {}
      },
      "source": [
        "accuracy_score(train_fake.predicted_label,train_fake.labelEncoded)"
      ],
      "execution_count": 0,
      "outputs": []
    },
    {
      "cell_type": "markdown",
      "metadata": {
        "id": "7OIa0jtjcLvi",
        "colab_type": "text"
      },
      "source": [
        "#NER"
      ]
    },
    {
      "cell_type": "code",
      "metadata": {
        "id": "r8djyxdscKVd",
        "colab_type": "code",
        "colab": {}
      },
      "source": [
        "import spacy\n",
        "\n",
        "# Load English tokenizer, tagger, parser, NER and word vectors\n",
        "nlp = spacy.load(\"en_core_web_sm\")\n",
        "\n",
        "def generate_ner_noun(text):\n",
        "  doc = nlp(text)\n",
        "  return [chunk for chunk in doc.noun_chunks]\n",
        "\n",
        "def generate_ner_verb(text):\n",
        "  doc = nlp(text)\n",
        "  return [token for token in doc if token.pos_ == \"VERB\"]\n",
        "\n",
        "def spacy_similarity(t1,t2):\n",
        "  doc1 = nlp(t1)\n",
        "  doc2 = nlp(t2)\n",
        "  return doc1.similarity(doc2)\n",
        "\n",
        "# Find named entities, phrases and concepts\n",
        "# for entity in doc.ents:\n",
        "#     print(entity.text, entity.label_)"
      ],
      "execution_count": 0,
      "outputs": []
    },
    {
      "cell_type": "code",
      "metadata": {
        "id": "3b_YC7TMe0ey",
        "colab_type": "code",
        "colab": {}
      },
      "source": [
        "generate_ner_noun(\"hi there how are you , i am fine\")"
      ],
      "execution_count": 0,
      "outputs": []
    },
    {
      "cell_type": "code",
      "metadata": {
        "id": "py1t6GQahEjA",
        "colab_type": "code",
        "colab": {}
      },
      "source": [
        "generate_ner_verb(\"you are running and drinking\")"
      ],
      "execution_count": 0,
      "outputs": []
    },
    {
      "cell_type": "code",
      "metadata": {
        "id": "T0yFcsZujOUw",
        "colab_type": "code",
        "colab": {}
      },
      "source": [
        "spacy_similarity(\"hi there how are you , i am fine\",\"you are running and drinking\")"
      ],
      "execution_count": 0,
      "outputs": []
    },
    {
      "cell_type": "code",
      "metadata": {
        "id": "i0og1MDacKMP",
        "colab_type": "code",
        "colab": {}
      },
      "source": [
        "train_fake['ner_nouns']=train_fake['finalHeaderBody'].apply(lambda x: generate_ner_noun(x))"
      ],
      "execution_count": 0,
      "outputs": []
    },
    {
      "cell_type": "code",
      "metadata": {
        "id": "5rzBHM5KiaR5",
        "colab_type": "code",
        "colab": {}
      },
      "source": [
        "train_fake['ner_verbs']=train_fake['finalHeaderBody'].apply(lambda x: generate_ner_verb(x))"
      ],
      "execution_count": 0,
      "outputs": []
    },
    {
      "cell_type": "code",
      "metadata": {
        "id": "wXJmSlkscJ-H",
        "colab_type": "code",
        "colab": {}
      },
      "source": [
        "train_fake.head()"
      ],
      "execution_count": 0,
      "outputs": []
    },
    {
      "cell_type": "markdown",
      "metadata": {
        "id": "ZbSm-Ld0lEIY",
        "colab_type": "text"
      },
      "source": [
        "#sentiment score"
      ]
    },
    {
      "cell_type": "code",
      "metadata": {
        "id": "yDWkIt2blO29",
        "colab_type": "code",
        "colab": {}
      },
      "source": [
        "pip install vaderSentiment"
      ],
      "execution_count": 0,
      "outputs": []
    },
    {
      "cell_type": "code",
      "metadata": {
        "id": "qETgcwXdkePI",
        "colab_type": "code",
        "colab": {}
      },
      "source": [
        "from vaderSentiment.vaderSentiment import SentimentIntensityAnalyzer\n",
        "import re\n",
        "import string\n",
        "analyzer = SentimentIntensityAnalyzer()\n",
        "def sentiment_score(text):\n",
        "    score = analyzer.polarity_scores(text)\n",
        "    return(score['pos']-score['neg'])\n",
        "\n",
        "# def sentiment_negative_score(text):\n",
        "#     score = analyzer.polarity_scores(text)\n",
        "#     return(score['neg'])"
      ],
      "execution_count": 0,
      "outputs": []
    },
    {
      "cell_type": "code",
      "metadata": {
        "id": "IhK25UFGih8d",
        "colab_type": "code",
        "colab": {}
      },
      "source": [
        "sentiment_score(\"he is very bad\")"
      ],
      "execution_count": 0,
      "outputs": []
    },
    {
      "cell_type": "code",
      "metadata": {
        "id": "-vUToNdrqQij",
        "colab_type": "code",
        "colab": {}
      },
      "source": [
        "train_fake['senti_score_body']=train_fake['finalHeaderBody'].apply(lambda x: sentiment_score(x))"
      ],
      "execution_count": 0,
      "outputs": []
    },
    {
      "cell_type": "code",
      "metadata": {
        "id": "70p3nk7NmENH",
        "colab_type": "code",
        "colab": {}
      },
      "source": [
        "train_fake['senti_score_title']=train_fake['subjectSynonyms'].apply(lambda x: sentiment_score(x))"
      ],
      "execution_count": 0,
      "outputs": []
    },
    {
      "cell_type": "code",
      "metadata": {
        "id": "zdMhhkuzsNii",
        "colab_type": "code",
        "colab": {}
      },
      "source": [
        "train_fake.head()"
      ],
      "execution_count": 0,
      "outputs": []
    },
    {
      "cell_type": "markdown",
      "metadata": {
        "id": "oDInlGgPLEbw",
        "colab_type": "text"
      },
      "source": [
        "#combining train and test dataset - Liar Liar"
      ]
    },
    {
      "cell_type": "code",
      "metadata": {
        "id": "au96tqWYmjzs",
        "colab_type": "code",
        "colab": {}
      },
      "source": [
        "df_train = pd.read_csv(\"/content/drive/My Drive/LiarDataset/train.tsv\",sep='\\t',header=None)"
      ],
      "execution_count": 0,
      "outputs": []
    },
    {
      "cell_type": "code",
      "metadata": {
        "id": "mUktGxCtvzBL",
        "colab_type": "code",
        "colab": {}
      },
      "source": [
        "df_test = pd.read_csv(\"/content/drive/My Drive/LiarDataset/test.tsv\",sep='\\t',header=None)"
      ],
      "execution_count": 0,
      "outputs": []
    },
    {
      "cell_type": "code",
      "metadata": {
        "id": "7cMxpNoivznY",
        "colab_type": "code",
        "colab": {}
      },
      "source": [
        "# df = pd.concat([df_train,df_test],ignore_index=True)"
      ],
      "execution_count": 0,
      "outputs": []
    },
    {
      "cell_type": "code",
      "metadata": {
        "id": "BJMdht5wwSgH",
        "colab_type": "code",
        "colab": {}
      },
      "source": [
        "df_train=df_train.drop(columns=[0])\n",
        "df_test=df_test.drop(columns=[0])\n",
        "\n",
        "columns=[\n",
        "'label',\n",
        "'statement',\n",
        "'subject',\n",
        "'speaker',\n",
        "'speaker_job_title',\n",
        "'state info',\n",
        "'party affiliation',\n",
        "'barely_true_counts',\n",
        "'false_counts',\n",
        "'half_true_counts',\n",
        "'mostly_true_counts',\n",
        "'pants_on_fire_counts',\n",
        "'context'\n",
        "]\n",
        "\n",
        "df_train.columns=columns\n",
        "df_test.columns=columns\n",
        "\n",
        "df=pd.concat([df_train,df_test])"
      ],
      "execution_count": 0,
      "outputs": []
    },
    {
      "cell_type": "code",
      "metadata": {
        "id": "LLVAdDl4wS5H",
        "colab_type": "code",
        "colab": {}
      },
      "source": [
        "df"
      ],
      "execution_count": 0,
      "outputs": []
    },
    {
      "cell_type": "code",
      "metadata": {
        "id": "es0aIeclxwj8",
        "colab_type": "code",
        "colab": {}
      },
      "source": [
        "df['labelEncoded'] = df.apply(lambda row: convert_Label(row['label']), axis=1)"
      ],
      "execution_count": 0,
      "outputs": []
    },
    {
      "cell_type": "code",
      "metadata": {
        "id": "XFZF5Q-fyD2e",
        "colab_type": "code",
        "colab": {}
      },
      "source": [
        "df"
      ],
      "execution_count": 0,
      "outputs": []
    },
    {
      "cell_type": "code",
      "metadata": {
        "id": "t96-Ys1ByEZm",
        "colab_type": "code",
        "colab": {}
      },
      "source": [
        "df['finalHeaderBody'] = df.apply(lambda row: remove_punctuations(row['statement']), axis=1)\n",
        "df['finalHeaderBody'] = df.apply(lambda row: tokenize(row['finalHeaderBody']), axis=1)\n",
        "df['finalHeaderBody'] = df.apply(lambda row: remove_stopwords(row['finalHeaderBody']), axis=1)\n",
        "df['finalHeaderBody'] = df.apply(lambda row: lematize(row['finalHeaderBody']), axis=1)\n",
        "df['finalHeaderBody'] = df.apply(lambda row: stem(row['finalHeaderBody']), axis=1)"
      ],
      "execution_count": 0,
      "outputs": []
    },
    {
      "cell_type": "code",
      "metadata": {
        "id": "NvBbXuW0y1XY",
        "colab_type": "code",
        "colab": {}
      },
      "source": [
        "df"
      ],
      "execution_count": 0,
      "outputs": []
    },
    {
      "cell_type": "code",
      "metadata": {
        "id": "QCO-CxkEyqnk",
        "colab_type": "code",
        "colab": {}
      },
      "source": [
        "df['finalSubject'] = df.apply(lambda row: break_subject(row['subject']), axis=1)"
      ],
      "execution_count": 0,
      "outputs": []
    },
    {
      "cell_type": "code",
      "metadata": {
        "id": "uAn6tXMQzG4l",
        "colab_type": "code",
        "colab": {}
      },
      "source": [
        "df['subjectSynonyms'] = df.apply(lambda row: generate_Synonyms(row['finalSubject']), axis=1)"
      ],
      "execution_count": 0,
      "outputs": []
    },
    {
      "cell_type": "code",
      "metadata": {
        "id": "j35BtlX1zMJa",
        "colab_type": "code",
        "colab": {}
      },
      "source": [
        "df['subjectSynonyms'] = df['subjectSynonyms'].apply(lambda x: combineSynonyms(x))"
      ],
      "execution_count": 0,
      "outputs": []
    },
    {
      "cell_type": "code",
      "metadata": {
        "id": "jZZnLzInzU62",
        "colab_type": "code",
        "colab": {}
      },
      "source": [
        "df['test_string']= df['finalHeaderBody'] +'@@'+df['subjectSynonyms']"
      ],
      "execution_count": 0,
      "outputs": []
    },
    {
      "cell_type": "code",
      "metadata": {
        "id": "bnRDJLTQzaxw",
        "colab_type": "code",
        "colab": {}
      },
      "source": [
        "df['simScore']=df['test_string'].apply(lambda x: cosine_sim(x))"
      ],
      "execution_count": 0,
      "outputs": []
    },
    {
      "cell_type": "code",
      "metadata": {
        "id": "CulFilBCz3NV",
        "colab_type": "code",
        "colab": {}
      },
      "source": [
        "def sim_label(statement):\n",
        "  statement=statement.split('@@')\n",
        "  # print(statement)\n",
        "  text1,text2=statement[0],statement[1]\n",
        "  vectorizer = TfidfVectorizer(stop_words='english')\n",
        "  tfidf = vectorizer.fit_transform([text1, text2])\n",
        "  sim_score=((tfidf * tfidf.T).A)[0,1]\n",
        "  if sim_score*100>0:\n",
        "    return 1\n",
        "  return 0"
      ],
      "execution_count": 0,
      "outputs": []
    },
    {
      "cell_type": "code",
      "metadata": {
        "id": "E_OdQ1YZ0Hhq",
        "colab_type": "code",
        "colab": {}
      },
      "source": [
        "df['sim_label']=df['test_string'].apply(lambda x: sim_label(x))"
      ],
      "execution_count": 0,
      "outputs": []
    },
    {
      "cell_type": "code",
      "metadata": {
        "id": "SybWJUVszlXS",
        "colab_type": "code",
        "colab": {}
      },
      "source": [
        "df.to_csv('lokiLiar.csv')"
      ],
      "execution_count": 0,
      "outputs": []
    },
    {
      "cell_type": "markdown",
      "metadata": {
        "id": "fUAobhifCvO_",
        "colab_type": "text"
      },
      "source": [
        "#function for final colab"
      ]
    },
    {
      "cell_type": "code",
      "metadata": {
        "id": "oL-lJzTc0xIV",
        "colab_type": "code",
        "colab": {}
      },
      "source": [
        "def predict_tVsBScore(title,body):\n",
        "    import string\n",
        "    from nltk.stem import WordNetLemmatizer\n",
        "    from nltk.tokenize import RegexpTokenizer\n",
        "    from nltk.corpus import stopwords\n",
        "    nltk.download('stopwords')\n",
        "    from nltk.stem.porter import PorterStemmer\n",
        "    stemming = PorterStemmer()\n",
        "    lemma = WordNetLemmatizer()\n",
        "    def cleanUp(data):\n",
        "        data = \"\".join([i for i in str(data) if i not in string.punctuation])\n",
        "        tokenizer = RegexpTokenizer(r'\\w+')\n",
        "        data = tokenizer.tokenize(data.lower())\n",
        "        data = [i for i in data if i not in stopwords.words('english')]\n",
        "        data = [lemma.lemmatize(i) for i in data]\n",
        "        data = \" \".join([stemming.stem(i) for i in data])\n",
        "        # print(data)\n",
        "        return data\n",
        "\n",
        "    import re\n",
        "    def break_subject(text):\n",
        "        if type(text) is float:\n",
        "          return []\n",
        "        import re\n",
        "        a = re.split('; |, |-',text)\n",
        "        # print(a)\n",
        "        return re.split('; |, |-',text)\n",
        "\n",
        "    cleanedBody = cleanUp(body)\n",
        "    subject = break_subject(title)\n",
        "\n",
        "    from nltk.corpus import wordnet \n",
        "    def generate_Synonyms(wordlist):\n",
        "        synonyms = set()\n",
        "        for i in wordlist:\n",
        "          if type(i) is not str:\n",
        "            continue\n",
        "          for syn in wordnet.synsets(i): \n",
        "              for l in syn.lemmas(): \n",
        "                  synonyms.add(l.name())\n",
        "        # print(list(synonyms))\n",
        "        return list(synonyms)\n",
        "    def combineSynonyms(data):\n",
        "        return ' '.join(data)\n",
        "    \n",
        "\n",
        "    finalSubject = generate_Synonyms(subject)\n",
        "    # print(finalSubject)\n",
        "    finalSubject1 = combineSynonyms(finalSubject)\n",
        "    # print(finalSubject1)\n",
        "\n",
        "    s = cleanedBody + '@@' + finalSubject1\n",
        "    # print(s)\n",
        "\n",
        "    from sklearn.feature_extraction.text import TfidfVectorizer\n",
        "    # create the transform\n",
        "    def cosine_sim(statement):\n",
        "        statement=statement.split('@@')\n",
        "        # print(statement)\n",
        "        text1,text2=statement[0],statement[1]\n",
        "        vectorizer = TfidfVectorizer(stop_words='english')\n",
        "        tfidf = vectorizer.fit_transform([text1, text2])\n",
        "        sim_score=((tfidf * tfidf.T).A)[0,1]\n",
        "        pred_label = 0\n",
        "        if sim_score*100>20:\n",
        "          pred_label = 1\n",
        "          \n",
        "        # if sim_score*100>0:\n",
        "        #   return 1\n",
        "        return sim_score , pred_label\n",
        "\n",
        "    import spacy\n",
        "    \n",
        "    # Load English tokenizer, tagger, parser, NER and word vectors\n",
        "    nlp = spacy.load('en')\n",
        "    def spacy_similarity(t1,t2):\n",
        "        doc1 = nlp(t1)\n",
        "        doc2 = nlp(t2)\n",
        "        return doc1.similarity(doc2)\n",
        "\n",
        "    \n",
        "    simScore , label = cosine_sim(s)\n",
        "    simScore2 = spacy_similarity(cleanedBody,finalSubject1)\n",
        "    \n",
        "    return label,simScore2"
      ],
      "execution_count": 0,
      "outputs": []
    },
    {
      "cell_type": "code",
      "metadata": {
        "id": "MSix2ULtGCgh",
        "colab_type": "code",
        "outputId": "d319e371-372c-40fa-fc41-947e6df3a74e",
        "colab": {
          "base_uri": "https://localhost:8080/",
          "height": 118
        }
      },
      "source": [
        "predict_tVsBScore('House','House Dem Aide: We Didn’t Even See Comey’s')"
      ],
      "execution_count": 0,
      "outputs": [
        {
          "output_type": "stream",
          "text": [
            "[nltk_data] Downloading package stopwords to /root/nltk_data...\n",
            "[nltk_data]   Package stopwords is already up-to-date!\n"
          ],
          "name": "stdout"
        },
        {
          "output_type": "stream",
          "text": [
            "/usr/lib/python3.6/runpy.py:193: ModelsWarning: [W007] The model you're using has no word vectors loaded, so the result of the Doc.similarity method will be based on the tagger, parser and NER, which may not give useful similarity judgements. This may happen if you're using one of the small models, e.g. `en_core_web_sm`, which don't ship with word vectors and only use context-sensitive tensors. You can always add your own word vectors, or use one of the larger models instead if available.\n",
            "  \"__main__\", mod_spec)\n"
          ],
          "name": "stderr"
        },
        {
          "output_type": "execute_result",
          "data": {
            "text/plain": [
              "(0, 0.5582465913340703)"
            ]
          },
          "metadata": {
            "tags": []
          },
          "execution_count": 303
        }
      ]
    },
    {
      "cell_type": "code",
      "metadata": {
        "id": "LC7_O-TSGGPQ",
        "colab_type": "code",
        "colab": {}
      },
      "source": [
        "def DATAMINERS_getTitleVsBodyScore(title,body):\n",
        "    if ( (title == \"\") | (body == \"\")):\n",
        "        return 0\n",
        "    label, simScore = predict_tVsBScore(title,body)\n",
        "    return (1 - float(simScore))"
      ],
      "execution_count": 0,
      "outputs": []
    },
    {
      "cell_type": "code",
      "metadata": {
        "id": "9zX5Ke-pMZD-",
        "colab_type": "code",
        "outputId": "149e4f89-44bf-46fa-c8da-69f4f0627dcf",
        "colab": {
          "base_uri": "https://localhost:8080/",
          "height": 118
        }
      },
      "source": [
        "DATAMINERS_getTitleVsBodyScore('House','House Dem Aide: We Didn’t Even See Comey’s')"
      ],
      "execution_count": 0,
      "outputs": [
        {
          "output_type": "stream",
          "text": [
            "[nltk_data] Downloading package stopwords to /root/nltk_data...\n",
            "[nltk_data]   Package stopwords is already up-to-date!\n"
          ],
          "name": "stdout"
        },
        {
          "output_type": "stream",
          "text": [
            "/usr/lib/python3.6/runpy.py:193: ModelsWarning: [W007] The model you're using has no word vectors loaded, so the result of the Doc.similarity method will be based on the tagger, parser and NER, which may not give useful similarity judgements. This may happen if you're using one of the small models, e.g. `en_core_web_sm`, which don't ship with word vectors and only use context-sensitive tensors. You can always add your own word vectors, or use one of the larger models instead if available.\n",
            "  \"__main__\", mod_spec)\n"
          ],
          "name": "stderr"
        },
        {
          "output_type": "execute_result",
          "data": {
            "text/plain": [
              "0.4417534086659297"
            ]
          },
          "metadata": {
            "tags": []
          },
          "execution_count": 305
        }
      ]
    },
    {
      "cell_type": "code",
      "metadata": {
        "id": "VVDUHIoXMcs2",
        "colab_type": "code",
        "colab": {}
      },
      "source": [
        ""
      ],
      "execution_count": 0,
      "outputs": []
    }
  ]
}