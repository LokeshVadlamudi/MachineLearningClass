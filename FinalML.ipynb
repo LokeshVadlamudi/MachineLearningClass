{
  "nbformat": 4,
  "nbformat_minor": 0,
  "metadata": {
    "colab": {
      "name": "FinalML.ipynb",
      "provenance": [],
      "collapsed_sections": [],
      "toc_visible": true,
      "authorship_tag": "ABX9TyN1KUBDpa9YM6hY8kJCmHkU",
      "include_colab_link": true
    },
    "kernelspec": {
      "name": "python3",
      "display_name": "Python 3"
    },
    "accelerator": "GPU"
  },
  "cells": [
    {
      "cell_type": "markdown",
      "metadata": {
        "id": "view-in-github",
        "colab_type": "text"
      },
      "source": [
        "<a href=\"https://colab.research.google.com/github/LokeshVadlamudi/MachineLearningClass/blob/master/FinalML.ipynb\" target=\"_parent\"><img src=\"https://colab.research.google.com/assets/colab-badge.svg\" alt=\"Open In Colab\"/></a>"
      ]
    },
    {
      "cell_type": "markdown",
      "metadata": {
        "id": "i_3Ug0VGIM3l",
        "colab_type": "text"
      },
      "source": [
        "#*Title Vs Body Factor*"
      ]
    },
    {
      "cell_type": "markdown",
      "metadata": {
        "id": "5s1SCKfaIpwJ",
        "colab_type": "text"
      },
      "source": [
        "importing Libs"
      ]
    },
    {
      "cell_type": "code",
      "metadata": {
        "id": "2LlJ18jRIpXf",
        "colab_type": "code",
        "colab": {}
      },
      "source": [
        "import numpy as np\n",
        "import pandas as pd"
      ],
      "execution_count": 0,
      "outputs": []
    },
    {
      "cell_type": "code",
      "metadata": {
        "id": "0H0tI_ojI210",
        "colab_type": "code",
        "colab": {}
      },
      "source": [
        "# Code to read csv file into Colaboratory:\n",
        "!pip install -U -q PyDrive\n",
        "from pydrive.auth import GoogleAuth\n",
        "from pydrive.drive import GoogleDrive\n",
        "from google.colab import auth\n",
        "from oauth2client.client import GoogleCredentials\n",
        "# Authenticate and create the PyDrive client.\n",
        "auth.authenticate_user()\n",
        "gauth = GoogleAuth()\n",
        "gauth.credentials = GoogleCredentials.get_application_default()\n",
        "drive = GoogleDrive(gauth)"
      ],
      "execution_count": 0,
      "outputs": []
    },
    {
      "cell_type": "markdown",
      "metadata": {
        "id": "gy8qXwFvIHdV",
        "colab_type": "text"
      },
      "source": [
        "importing Liar Liar DataSet\n"
      ]
    },
    {
      "cell_type": "code",
      "metadata": {
        "id": "kQ3zVQ8Qu8pw",
        "colab_type": "code",
        "colab": {}
      },
      "source": [
        "link = ' https://drive.google.com/open?id=1rBLusojbUoNYeAEsNnDaXhrpT3oQxIfh'\n",
        "fluff, id = link.split('=')\n",
        "\n",
        "downloaded = drive.CreateFile({'id':id}) \n",
        "downloaded.GetContentFile('liar.zip')\n",
        "\n",
        "#extracting the bigger liar zip file to get both train and test .tsv files\n",
        "import zipfile\n",
        "with zipfile.ZipFile('liar.zip', 'r') as zip_ref:\n",
        "    zip_ref.extractall()\n",
        "\n",
        "trainLiar = pd.read_csv('train.tsv', sep='\\t',header=None)\n",
        "trainLiar = trainLiar.drop(columns=[0])\n",
        "\n",
        "columns=['label','statement','subject','speaker','speaker_job_title','state info','party affiliation',\n",
        "'barely_true_counts','false_counts','half_true_counts','mostly_true_counts',\n",
        "'pants_on_fire_counts','context']\n",
        "\n",
        "trainLiar.columns=columns\n",
        "\n",
        "testLiar = pd.read_csv('test.tsv', sep='\\t',header=None)\n",
        "testLiar = testLiar.drop(columns=[0])\n",
        "\n",
        "\n",
        "columns=['label','statement','subject','speaker','speaker_job_title','state info','party affiliation',\n",
        "'barely_true_counts','false_counts','half_true_counts','mostly_true_counts',\n",
        "'pants_on_fire_counts','context']\n",
        "\n",
        "testLiar.columns=columns"
      ],
      "execution_count": 0,
      "outputs": []
    },
    {
      "cell_type": "markdown",
      "metadata": {
        "id": "ppqjN-g1KDe-",
        "colab_type": "text"
      },
      "source": [
        "checking head of both the sets"
      ]
    },
    {
      "cell_type": "code",
      "metadata": {
        "id": "usGIOG2zKC9R",
        "colab_type": "code",
        "colab": {
          "base_uri": "https://localhost:8080/",
          "height": 585
        },
        "outputId": "068081f0-c71f-4d49-b32d-9c062ae6610d"
      },
      "source": [
        "trainLiar.head()"
      ],
      "execution_count": 5,
      "outputs": [
        {
          "output_type": "execute_result",
          "data": {
            "text/html": [
              "<div>\n",
              "<style scoped>\n",
              "    .dataframe tbody tr th:only-of-type {\n",
              "        vertical-align: middle;\n",
              "    }\n",
              "\n",
              "    .dataframe tbody tr th {\n",
              "        vertical-align: top;\n",
              "    }\n",
              "\n",
              "    .dataframe thead th {\n",
              "        text-align: right;\n",
              "    }\n",
              "</style>\n",
              "<table border=\"1\" class=\"dataframe\">\n",
              "  <thead>\n",
              "    <tr style=\"text-align: right;\">\n",
              "      <th></th>\n",
              "      <th>label</th>\n",
              "      <th>statement</th>\n",
              "      <th>subject</th>\n",
              "      <th>speaker</th>\n",
              "      <th>speaker_job_title</th>\n",
              "      <th>state info</th>\n",
              "      <th>party affiliation</th>\n",
              "      <th>barely_true_counts</th>\n",
              "      <th>false_counts</th>\n",
              "      <th>half_true_counts</th>\n",
              "      <th>mostly_true_counts</th>\n",
              "      <th>pants_on_fire_counts</th>\n",
              "      <th>context</th>\n",
              "    </tr>\n",
              "  </thead>\n",
              "  <tbody>\n",
              "    <tr>\n",
              "      <th>0</th>\n",
              "      <td>false</td>\n",
              "      <td>Says the Annies List political group supports ...</td>\n",
              "      <td>abortion</td>\n",
              "      <td>dwayne-bohac</td>\n",
              "      <td>State representative</td>\n",
              "      <td>Texas</td>\n",
              "      <td>republican</td>\n",
              "      <td>0.0</td>\n",
              "      <td>1.0</td>\n",
              "      <td>0.0</td>\n",
              "      <td>0.0</td>\n",
              "      <td>0.0</td>\n",
              "      <td>a mailer</td>\n",
              "    </tr>\n",
              "    <tr>\n",
              "      <th>1</th>\n",
              "      <td>half-true</td>\n",
              "      <td>When did the decline of coal start? It started...</td>\n",
              "      <td>energy,history,job-accomplishments</td>\n",
              "      <td>scott-surovell</td>\n",
              "      <td>State delegate</td>\n",
              "      <td>Virginia</td>\n",
              "      <td>democrat</td>\n",
              "      <td>0.0</td>\n",
              "      <td>0.0</td>\n",
              "      <td>1.0</td>\n",
              "      <td>1.0</td>\n",
              "      <td>0.0</td>\n",
              "      <td>a floor speech.</td>\n",
              "    </tr>\n",
              "    <tr>\n",
              "      <th>2</th>\n",
              "      <td>mostly-true</td>\n",
              "      <td>Hillary Clinton agrees with John McCain \"by vo...</td>\n",
              "      <td>foreign-policy</td>\n",
              "      <td>barack-obama</td>\n",
              "      <td>President</td>\n",
              "      <td>Illinois</td>\n",
              "      <td>democrat</td>\n",
              "      <td>70.0</td>\n",
              "      <td>71.0</td>\n",
              "      <td>160.0</td>\n",
              "      <td>163.0</td>\n",
              "      <td>9.0</td>\n",
              "      <td>Denver</td>\n",
              "    </tr>\n",
              "    <tr>\n",
              "      <th>3</th>\n",
              "      <td>false</td>\n",
              "      <td>Health care reform legislation is likely to ma...</td>\n",
              "      <td>health-care</td>\n",
              "      <td>blog-posting</td>\n",
              "      <td>NaN</td>\n",
              "      <td>NaN</td>\n",
              "      <td>none</td>\n",
              "      <td>7.0</td>\n",
              "      <td>19.0</td>\n",
              "      <td>3.0</td>\n",
              "      <td>5.0</td>\n",
              "      <td>44.0</td>\n",
              "      <td>a news release</td>\n",
              "    </tr>\n",
              "    <tr>\n",
              "      <th>4</th>\n",
              "      <td>half-true</td>\n",
              "      <td>The economic turnaround started at the end of ...</td>\n",
              "      <td>economy,jobs</td>\n",
              "      <td>charlie-crist</td>\n",
              "      <td>NaN</td>\n",
              "      <td>Florida</td>\n",
              "      <td>democrat</td>\n",
              "      <td>15.0</td>\n",
              "      <td>9.0</td>\n",
              "      <td>20.0</td>\n",
              "      <td>19.0</td>\n",
              "      <td>2.0</td>\n",
              "      <td>an interview on CNN</td>\n",
              "    </tr>\n",
              "  </tbody>\n",
              "</table>\n",
              "</div>"
            ],
            "text/plain": [
              "         label  ...              context\n",
              "0        false  ...             a mailer\n",
              "1    half-true  ...      a floor speech.\n",
              "2  mostly-true  ...               Denver\n",
              "3        false  ...       a news release\n",
              "4    half-true  ...  an interview on CNN\n",
              "\n",
              "[5 rows x 13 columns]"
            ]
          },
          "metadata": {
            "tags": []
          },
          "execution_count": 5
        }
      ]
    },
    {
      "cell_type": "code",
      "metadata": {
        "id": "DoERRai1KJ8d",
        "colab_type": "code",
        "colab": {
          "base_uri": "https://localhost:8080/",
          "height": 568
        },
        "outputId": "8d6bcc37-07fd-4df5-f9cc-5949f5ce4846"
      },
      "source": [
        "testLiar.head()"
      ],
      "execution_count": 6,
      "outputs": [
        {
          "output_type": "execute_result",
          "data": {
            "text/html": [
              "<div>\n",
              "<style scoped>\n",
              "    .dataframe tbody tr th:only-of-type {\n",
              "        vertical-align: middle;\n",
              "    }\n",
              "\n",
              "    .dataframe tbody tr th {\n",
              "        vertical-align: top;\n",
              "    }\n",
              "\n",
              "    .dataframe thead th {\n",
              "        text-align: right;\n",
              "    }\n",
              "</style>\n",
              "<table border=\"1\" class=\"dataframe\">\n",
              "  <thead>\n",
              "    <tr style=\"text-align: right;\">\n",
              "      <th></th>\n",
              "      <th>label</th>\n",
              "      <th>statement</th>\n",
              "      <th>subject</th>\n",
              "      <th>speaker</th>\n",
              "      <th>speaker_job_title</th>\n",
              "      <th>state info</th>\n",
              "      <th>party affiliation</th>\n",
              "      <th>barely_true_counts</th>\n",
              "      <th>false_counts</th>\n",
              "      <th>half_true_counts</th>\n",
              "      <th>mostly_true_counts</th>\n",
              "      <th>pants_on_fire_counts</th>\n",
              "      <th>context</th>\n",
              "    </tr>\n",
              "  </thead>\n",
              "  <tbody>\n",
              "    <tr>\n",
              "      <th>0</th>\n",
              "      <td>true</td>\n",
              "      <td>Building a wall on the U.S.-Mexico border will...</td>\n",
              "      <td>immigration</td>\n",
              "      <td>rick-perry</td>\n",
              "      <td>Governor</td>\n",
              "      <td>Texas</td>\n",
              "      <td>republican</td>\n",
              "      <td>30</td>\n",
              "      <td>30</td>\n",
              "      <td>42</td>\n",
              "      <td>23</td>\n",
              "      <td>18</td>\n",
              "      <td>Radio interview</td>\n",
              "    </tr>\n",
              "    <tr>\n",
              "      <th>1</th>\n",
              "      <td>false</td>\n",
              "      <td>Wisconsin is on pace to double the number of l...</td>\n",
              "      <td>jobs</td>\n",
              "      <td>katrina-shankland</td>\n",
              "      <td>State representative</td>\n",
              "      <td>Wisconsin</td>\n",
              "      <td>democrat</td>\n",
              "      <td>2</td>\n",
              "      <td>1</td>\n",
              "      <td>0</td>\n",
              "      <td>0</td>\n",
              "      <td>0</td>\n",
              "      <td>a news conference</td>\n",
              "    </tr>\n",
              "    <tr>\n",
              "      <th>2</th>\n",
              "      <td>false</td>\n",
              "      <td>Says John McCain has done nothing to help the ...</td>\n",
              "      <td>military,veterans,voting-record</td>\n",
              "      <td>donald-trump</td>\n",
              "      <td>President-Elect</td>\n",
              "      <td>New York</td>\n",
              "      <td>republican</td>\n",
              "      <td>63</td>\n",
              "      <td>114</td>\n",
              "      <td>51</td>\n",
              "      <td>37</td>\n",
              "      <td>61</td>\n",
              "      <td>comments on ABC's This Week.</td>\n",
              "    </tr>\n",
              "    <tr>\n",
              "      <th>3</th>\n",
              "      <td>half-true</td>\n",
              "      <td>Suzanne Bonamici supports a plan that will cut...</td>\n",
              "      <td>medicare,message-machine-2012,campaign-adverti...</td>\n",
              "      <td>rob-cornilles</td>\n",
              "      <td>consultant</td>\n",
              "      <td>Oregon</td>\n",
              "      <td>republican</td>\n",
              "      <td>1</td>\n",
              "      <td>1</td>\n",
              "      <td>3</td>\n",
              "      <td>1</td>\n",
              "      <td>1</td>\n",
              "      <td>a radio show</td>\n",
              "    </tr>\n",
              "    <tr>\n",
              "      <th>4</th>\n",
              "      <td>pants-fire</td>\n",
              "      <td>When asked by a reporter whether hes at the ce...</td>\n",
              "      <td>campaign-finance,legal-issues,campaign-adverti...</td>\n",
              "      <td>state-democratic-party-wisconsin</td>\n",
              "      <td>NaN</td>\n",
              "      <td>Wisconsin</td>\n",
              "      <td>democrat</td>\n",
              "      <td>5</td>\n",
              "      <td>7</td>\n",
              "      <td>2</td>\n",
              "      <td>2</td>\n",
              "      <td>7</td>\n",
              "      <td>a web video</td>\n",
              "    </tr>\n",
              "  </tbody>\n",
              "</table>\n",
              "</div>"
            ],
            "text/plain": [
              "        label  ...                       context\n",
              "0        true  ...               Radio interview\n",
              "1       false  ...             a news conference\n",
              "2       false  ...  comments on ABC's This Week.\n",
              "3   half-true  ...                  a radio show\n",
              "4  pants-fire  ...                   a web video\n",
              "\n",
              "[5 rows x 13 columns]"
            ]
          },
          "metadata": {
            "tags": []
          },
          "execution_count": 6
        }
      ]
    },
    {
      "cell_type": "markdown",
      "metadata": {
        "id": "LHmGCJntXP--",
        "colab_type": "text"
      },
      "source": [
        "lets combine our dataframe into one big dataframe"
      ]
    },
    {
      "cell_type": "code",
      "metadata": {
        "id": "VD2HzIaPXVeG",
        "colab_type": "code",
        "colab": {}
      },
      "source": [
        "liar=pd.concat([trainLiar,testLiar])"
      ],
      "execution_count": 0,
      "outputs": []
    },
    {
      "cell_type": "markdown",
      "metadata": {
        "id": "UC1VnQC2VKUG",
        "colab_type": "text"
      },
      "source": [
        "#just generating synonyms for our title which is subject here. because it has only few words"
      ]
    },
    {
      "cell_type": "markdown",
      "metadata": {
        "id": "uKddkEIrVoJd",
        "colab_type": "text"
      },
      "source": [
        "lets us clean both our title and body first"
      ]
    },
    {
      "cell_type": "code",
      "metadata": {
        "id": "cCvPAU--LMHb",
        "colab_type": "code",
        "colab": {
          "base_uri": "https://localhost:8080/",
          "height": 82
        },
        "outputId": "1829a32a-5242-41a4-d346-5d0b70aafa02"
      },
      "source": [
        "import nltk\n",
        "nltk.download('wordnet')\n",
        "import string\n",
        "def remove_punctuations(data):\n",
        "    d = \"\".join([i for i in str(data) if i not in string.punctuation])\n",
        "    return d\n",
        "from nltk.tokenize import RegexpTokenizer\n",
        "def tokenize(data):\n",
        "    tokenizer = RegexpTokenizer(r'\\w+')\n",
        "    return tokenizer.tokenize(data.lower())\n",
        "\n",
        "from nltk.corpus import stopwords\n",
        "nltk.download('stopwords')\n",
        "def remove_stopwords(data):\n",
        "    data = [i for i in data if i not in stopwords.words('english')]\n",
        "    return data\n",
        "from nltk.stem import WordNetLemmatizer\n",
        "lemma = WordNetLemmatizer()\n",
        "\n",
        "def lematize(data):\n",
        "    data = [lemma.lemmatize(i) for i in data]\n",
        "    return data\n",
        "\n",
        "from nltk.stem.porter import PorterStemmer\n",
        "stemming = PorterStemmer()\n",
        "def stem(data):\n",
        "    data = \" \".join([stemming.stem(i) for i in data])\n",
        "    return data"
      ],
      "execution_count": 8,
      "outputs": [
        {
          "output_type": "stream",
          "text": [
            "[nltk_data] Downloading package wordnet to /root/nltk_data...\n",
            "[nltk_data]   Unzipping corpora/wordnet.zip.\n",
            "[nltk_data] Downloading package stopwords to /root/nltk_data...\n",
            "[nltk_data]   Unzipping corpora/stopwords.zip.\n"
          ],
          "name": "stdout"
        }
      ]
    },
    {
      "cell_type": "markdown",
      "metadata": {
        "id": "o4wf2yMuWcSH",
        "colab_type": "text"
      },
      "source": [
        "applying the cleaning functions to our body"
      ]
    },
    {
      "cell_type": "code",
      "metadata": {
        "id": "eb1ixvr7VtpM",
        "colab_type": "code",
        "colab": {}
      },
      "source": [
        "liar['finalStatement'] = liar.apply(lambda row: remove_punctuations(row['statement']), axis=1)\n",
        "\n",
        "liar['finalStatement'] = liar.apply(lambda row: tokenize(row['finalStatement']), axis=1)\n",
        "\n",
        "liar['finalStatement'] = liar.apply(lambda row: remove_stopwords(row['finalStatement']), axis=1)\n",
        "\n",
        "liar['finalStatement'] = liar.apply(lambda row: lematize(row['finalStatement']), axis=1)\n",
        "\n",
        "liar['finalStatement'] = liar.apply(lambda row: stem(row['finalStatement']), axis=1)"
      ],
      "execution_count": 0,
      "outputs": []
    },
    {
      "cell_type": "code",
      "metadata": {
        "id": "1SUoV4N7WYqd",
        "colab_type": "code",
        "colab": {
          "base_uri": "https://localhost:8080/",
          "height": 585
        },
        "outputId": "aeab3ddf-1395-4e86-c1bc-115f06ec8bdb"
      },
      "source": [
        "liar.head()"
      ],
      "execution_count": 10,
      "outputs": [
        {
          "output_type": "execute_result",
          "data": {
            "text/html": [
              "<div>\n",
              "<style scoped>\n",
              "    .dataframe tbody tr th:only-of-type {\n",
              "        vertical-align: middle;\n",
              "    }\n",
              "\n",
              "    .dataframe tbody tr th {\n",
              "        vertical-align: top;\n",
              "    }\n",
              "\n",
              "    .dataframe thead th {\n",
              "        text-align: right;\n",
              "    }\n",
              "</style>\n",
              "<table border=\"1\" class=\"dataframe\">\n",
              "  <thead>\n",
              "    <tr style=\"text-align: right;\">\n",
              "      <th></th>\n",
              "      <th>label</th>\n",
              "      <th>statement</th>\n",
              "      <th>subject</th>\n",
              "      <th>speaker</th>\n",
              "      <th>speaker_job_title</th>\n",
              "      <th>state info</th>\n",
              "      <th>party affiliation</th>\n",
              "      <th>barely_true_counts</th>\n",
              "      <th>false_counts</th>\n",
              "      <th>half_true_counts</th>\n",
              "      <th>mostly_true_counts</th>\n",
              "      <th>pants_on_fire_counts</th>\n",
              "      <th>context</th>\n",
              "      <th>finalStatement</th>\n",
              "    </tr>\n",
              "  </thead>\n",
              "  <tbody>\n",
              "    <tr>\n",
              "      <th>0</th>\n",
              "      <td>false</td>\n",
              "      <td>Says the Annies List political group supports ...</td>\n",
              "      <td>abortion</td>\n",
              "      <td>dwayne-bohac</td>\n",
              "      <td>State representative</td>\n",
              "      <td>Texas</td>\n",
              "      <td>republican</td>\n",
              "      <td>0.0</td>\n",
              "      <td>1.0</td>\n",
              "      <td>0.0</td>\n",
              "      <td>0.0</td>\n",
              "      <td>0.0</td>\n",
              "      <td>a mailer</td>\n",
              "      <td>say anni list polit group support thirdtrimest...</td>\n",
              "    </tr>\n",
              "    <tr>\n",
              "      <th>1</th>\n",
              "      <td>half-true</td>\n",
              "      <td>When did the decline of coal start? It started...</td>\n",
              "      <td>energy,history,job-accomplishments</td>\n",
              "      <td>scott-surovell</td>\n",
              "      <td>State delegate</td>\n",
              "      <td>Virginia</td>\n",
              "      <td>democrat</td>\n",
              "      <td>0.0</td>\n",
              "      <td>0.0</td>\n",
              "      <td>1.0</td>\n",
              "      <td>1.0</td>\n",
              "      <td>0.0</td>\n",
              "      <td>a floor speech.</td>\n",
              "      <td>declin coal start start natur ga took start be...</td>\n",
              "    </tr>\n",
              "    <tr>\n",
              "      <th>2</th>\n",
              "      <td>mostly-true</td>\n",
              "      <td>Hillary Clinton agrees with John McCain \"by vo...</td>\n",
              "      <td>foreign-policy</td>\n",
              "      <td>barack-obama</td>\n",
              "      <td>President</td>\n",
              "      <td>Illinois</td>\n",
              "      <td>democrat</td>\n",
              "      <td>70.0</td>\n",
              "      <td>71.0</td>\n",
              "      <td>160.0</td>\n",
              "      <td>163.0</td>\n",
              "      <td>9.0</td>\n",
              "      <td>Denver</td>\n",
              "      <td>hillari clinton agre john mccain vote give geo...</td>\n",
              "    </tr>\n",
              "    <tr>\n",
              "      <th>3</th>\n",
              "      <td>false</td>\n",
              "      <td>Health care reform legislation is likely to ma...</td>\n",
              "      <td>health-care</td>\n",
              "      <td>blog-posting</td>\n",
              "      <td>NaN</td>\n",
              "      <td>NaN</td>\n",
              "      <td>none</td>\n",
              "      <td>7.0</td>\n",
              "      <td>19.0</td>\n",
              "      <td>3.0</td>\n",
              "      <td>5.0</td>\n",
              "      <td>44.0</td>\n",
              "      <td>a news release</td>\n",
              "      <td>health care reform legisl like mandat free sex...</td>\n",
              "    </tr>\n",
              "    <tr>\n",
              "      <th>4</th>\n",
              "      <td>half-true</td>\n",
              "      <td>The economic turnaround started at the end of ...</td>\n",
              "      <td>economy,jobs</td>\n",
              "      <td>charlie-crist</td>\n",
              "      <td>NaN</td>\n",
              "      <td>Florida</td>\n",
              "      <td>democrat</td>\n",
              "      <td>15.0</td>\n",
              "      <td>9.0</td>\n",
              "      <td>20.0</td>\n",
              "      <td>19.0</td>\n",
              "      <td>2.0</td>\n",
              "      <td>an interview on CNN</td>\n",
              "      <td>econom turnaround start end term</td>\n",
              "    </tr>\n",
              "  </tbody>\n",
              "</table>\n",
              "</div>"
            ],
            "text/plain": [
              "         label  ...                                     finalStatement\n",
              "0        false  ...  say anni list polit group support thirdtrimest...\n",
              "1    half-true  ...  declin coal start start natur ga took start be...\n",
              "2  mostly-true  ...  hillari clinton agre john mccain vote give geo...\n",
              "3        false  ...  health care reform legisl like mandat free sex...\n",
              "4    half-true  ...                   econom turnaround start end term\n",
              "\n",
              "[5 rows x 14 columns]"
            ]
          },
          "metadata": {
            "tags": []
          },
          "execution_count": 10
        }
      ]
    },
    {
      "cell_type": "markdown",
      "metadata": {
        "id": "c3xZu0gmW0EQ",
        "colab_type": "text"
      },
      "source": [
        "we need to break our subject and clean it too"
      ]
    },
    {
      "cell_type": "code",
      "metadata": {
        "id": "3VVS70I5WhwK",
        "colab_type": "code",
        "colab": {}
      },
      "source": [
        "import re\n",
        "def break_subject(text):\n",
        "  if type(text) is float:\n",
        "    return []\n",
        "  import re\n",
        "  return re.split('; |, |-',text)"
      ],
      "execution_count": 0,
      "outputs": []
    },
    {
      "cell_type": "code",
      "metadata": {
        "id": "KO_jmu_bW7Oh",
        "colab_type": "code",
        "colab": {}
      },
      "source": [
        "liar['finalSubject'] = liar.apply(lambda row: break_subject(row['subject']), axis=1)"
      ],
      "execution_count": 0,
      "outputs": []
    },
    {
      "cell_type": "code",
      "metadata": {
        "id": "nYtBLvo5YcV1",
        "colab_type": "code",
        "colab": {
          "base_uri": "https://localhost:8080/",
          "height": 585
        },
        "outputId": "b0872573-6929-4b8d-cd0a-629b6c2f042c"
      },
      "source": [
        "liar.head()"
      ],
      "execution_count": 13,
      "outputs": [
        {
          "output_type": "execute_result",
          "data": {
            "text/html": [
              "<div>\n",
              "<style scoped>\n",
              "    .dataframe tbody tr th:only-of-type {\n",
              "        vertical-align: middle;\n",
              "    }\n",
              "\n",
              "    .dataframe tbody tr th {\n",
              "        vertical-align: top;\n",
              "    }\n",
              "\n",
              "    .dataframe thead th {\n",
              "        text-align: right;\n",
              "    }\n",
              "</style>\n",
              "<table border=\"1\" class=\"dataframe\">\n",
              "  <thead>\n",
              "    <tr style=\"text-align: right;\">\n",
              "      <th></th>\n",
              "      <th>label</th>\n",
              "      <th>statement</th>\n",
              "      <th>subject</th>\n",
              "      <th>speaker</th>\n",
              "      <th>speaker_job_title</th>\n",
              "      <th>state info</th>\n",
              "      <th>party affiliation</th>\n",
              "      <th>barely_true_counts</th>\n",
              "      <th>false_counts</th>\n",
              "      <th>half_true_counts</th>\n",
              "      <th>mostly_true_counts</th>\n",
              "      <th>pants_on_fire_counts</th>\n",
              "      <th>context</th>\n",
              "      <th>finalStatement</th>\n",
              "      <th>finalSubject</th>\n",
              "    </tr>\n",
              "  </thead>\n",
              "  <tbody>\n",
              "    <tr>\n",
              "      <th>0</th>\n",
              "      <td>false</td>\n",
              "      <td>Says the Annies List political group supports ...</td>\n",
              "      <td>abortion</td>\n",
              "      <td>dwayne-bohac</td>\n",
              "      <td>State representative</td>\n",
              "      <td>Texas</td>\n",
              "      <td>republican</td>\n",
              "      <td>0.0</td>\n",
              "      <td>1.0</td>\n",
              "      <td>0.0</td>\n",
              "      <td>0.0</td>\n",
              "      <td>0.0</td>\n",
              "      <td>a mailer</td>\n",
              "      <td>say anni list polit group support thirdtrimest...</td>\n",
              "      <td>[abortion]</td>\n",
              "    </tr>\n",
              "    <tr>\n",
              "      <th>1</th>\n",
              "      <td>half-true</td>\n",
              "      <td>When did the decline of coal start? It started...</td>\n",
              "      <td>energy,history,job-accomplishments</td>\n",
              "      <td>scott-surovell</td>\n",
              "      <td>State delegate</td>\n",
              "      <td>Virginia</td>\n",
              "      <td>democrat</td>\n",
              "      <td>0.0</td>\n",
              "      <td>0.0</td>\n",
              "      <td>1.0</td>\n",
              "      <td>1.0</td>\n",
              "      <td>0.0</td>\n",
              "      <td>a floor speech.</td>\n",
              "      <td>declin coal start start natur ga took start be...</td>\n",
              "      <td>[energy,history,job, accomplishments]</td>\n",
              "    </tr>\n",
              "    <tr>\n",
              "      <th>2</th>\n",
              "      <td>mostly-true</td>\n",
              "      <td>Hillary Clinton agrees with John McCain \"by vo...</td>\n",
              "      <td>foreign-policy</td>\n",
              "      <td>barack-obama</td>\n",
              "      <td>President</td>\n",
              "      <td>Illinois</td>\n",
              "      <td>democrat</td>\n",
              "      <td>70.0</td>\n",
              "      <td>71.0</td>\n",
              "      <td>160.0</td>\n",
              "      <td>163.0</td>\n",
              "      <td>9.0</td>\n",
              "      <td>Denver</td>\n",
              "      <td>hillari clinton agre john mccain vote give geo...</td>\n",
              "      <td>[foreign, policy]</td>\n",
              "    </tr>\n",
              "    <tr>\n",
              "      <th>3</th>\n",
              "      <td>false</td>\n",
              "      <td>Health care reform legislation is likely to ma...</td>\n",
              "      <td>health-care</td>\n",
              "      <td>blog-posting</td>\n",
              "      <td>NaN</td>\n",
              "      <td>NaN</td>\n",
              "      <td>none</td>\n",
              "      <td>7.0</td>\n",
              "      <td>19.0</td>\n",
              "      <td>3.0</td>\n",
              "      <td>5.0</td>\n",
              "      <td>44.0</td>\n",
              "      <td>a news release</td>\n",
              "      <td>health care reform legisl like mandat free sex...</td>\n",
              "      <td>[health, care]</td>\n",
              "    </tr>\n",
              "    <tr>\n",
              "      <th>4</th>\n",
              "      <td>half-true</td>\n",
              "      <td>The economic turnaround started at the end of ...</td>\n",
              "      <td>economy,jobs</td>\n",
              "      <td>charlie-crist</td>\n",
              "      <td>NaN</td>\n",
              "      <td>Florida</td>\n",
              "      <td>democrat</td>\n",
              "      <td>15.0</td>\n",
              "      <td>9.0</td>\n",
              "      <td>20.0</td>\n",
              "      <td>19.0</td>\n",
              "      <td>2.0</td>\n",
              "      <td>an interview on CNN</td>\n",
              "      <td>econom turnaround start end term</td>\n",
              "      <td>[economy,jobs]</td>\n",
              "    </tr>\n",
              "  </tbody>\n",
              "</table>\n",
              "</div>"
            ],
            "text/plain": [
              "         label  ...                           finalSubject\n",
              "0        false  ...                             [abortion]\n",
              "1    half-true  ...  [energy,history,job, accomplishments]\n",
              "2  mostly-true  ...                      [foreign, policy]\n",
              "3        false  ...                         [health, care]\n",
              "4    half-true  ...                         [economy,jobs]\n",
              "\n",
              "[5 rows x 15 columns]"
            ]
          },
          "metadata": {
            "tags": []
          },
          "execution_count": 13
        }
      ]
    },
    {
      "cell_type": "markdown",
      "metadata": {
        "id": "EsO1ZTqAYs9E",
        "colab_type": "text"
      },
      "source": [
        "generate similar words"
      ]
    },
    {
      "cell_type": "code",
      "metadata": {
        "id": "4Qoih5_gYd8r",
        "colab_type": "code",
        "colab": {}
      },
      "source": [
        "from nltk.corpus import wordnet \n",
        "def generate_Synonyms(wordlist):\n",
        "    synonyms = set()\n",
        "    for i in wordlist:\n",
        "      if type(i) is not str:\n",
        "        continue\n",
        "      for syn in wordnet.synsets(i): \n",
        "          for l in syn.lemmas(): \n",
        "              synonyms.add(l.name())\n",
        "    return list(synonyms)"
      ],
      "execution_count": 0,
      "outputs": []
    },
    {
      "cell_type": "code",
      "metadata": {
        "id": "8-xssGfHYw5G",
        "colab_type": "code",
        "colab": {}
      },
      "source": [
        "liar['subjectSynonyms'] = liar.apply(lambda row: generate_Synonyms(row['finalSubject']), axis=1)"
      ],
      "execution_count": 0,
      "outputs": []
    },
    {
      "cell_type": "markdown",
      "metadata": {
        "id": "vYhnZMcqZHDs",
        "colab_type": "text"
      },
      "source": [
        "combining the list of subject words into one sentence"
      ]
    },
    {
      "cell_type": "code",
      "metadata": {
        "id": "XPpFbCi1Y14R",
        "colab_type": "code",
        "colab": {}
      },
      "source": [
        "def combineSynonyms(data):\n",
        "    return ' '.join(data)"
      ],
      "execution_count": 0,
      "outputs": []
    },
    {
      "cell_type": "code",
      "metadata": {
        "id": "pgd-E8xaZLOl",
        "colab_type": "code",
        "colab": {}
      },
      "source": [
        "liar['subjectSynonyms'] = liar['subjectSynonyms'].apply(lambda x: combineSynonyms(x))"
      ],
      "execution_count": 0,
      "outputs": []
    },
    {
      "cell_type": "code",
      "metadata": {
        "id": "nsJXYC6cZRgV",
        "colab_type": "code",
        "colab": {
          "base_uri": "https://localhost:8080/",
          "height": 585
        },
        "outputId": "3972bdc7-2524-4625-f102-bf7f5159407c"
      },
      "source": [
        "liar.head()"
      ],
      "execution_count": 18,
      "outputs": [
        {
          "output_type": "execute_result",
          "data": {
            "text/html": [
              "<div>\n",
              "<style scoped>\n",
              "    .dataframe tbody tr th:only-of-type {\n",
              "        vertical-align: middle;\n",
              "    }\n",
              "\n",
              "    .dataframe tbody tr th {\n",
              "        vertical-align: top;\n",
              "    }\n",
              "\n",
              "    .dataframe thead th {\n",
              "        text-align: right;\n",
              "    }\n",
              "</style>\n",
              "<table border=\"1\" class=\"dataframe\">\n",
              "  <thead>\n",
              "    <tr style=\"text-align: right;\">\n",
              "      <th></th>\n",
              "      <th>label</th>\n",
              "      <th>statement</th>\n",
              "      <th>subject</th>\n",
              "      <th>speaker</th>\n",
              "      <th>speaker_job_title</th>\n",
              "      <th>state info</th>\n",
              "      <th>party affiliation</th>\n",
              "      <th>barely_true_counts</th>\n",
              "      <th>false_counts</th>\n",
              "      <th>half_true_counts</th>\n",
              "      <th>mostly_true_counts</th>\n",
              "      <th>pants_on_fire_counts</th>\n",
              "      <th>context</th>\n",
              "      <th>finalStatement</th>\n",
              "      <th>finalSubject</th>\n",
              "      <th>subjectSynonyms</th>\n",
              "    </tr>\n",
              "  </thead>\n",
              "  <tbody>\n",
              "    <tr>\n",
              "      <th>0</th>\n",
              "      <td>false</td>\n",
              "      <td>Says the Annies List political group supports ...</td>\n",
              "      <td>abortion</td>\n",
              "      <td>dwayne-bohac</td>\n",
              "      <td>State representative</td>\n",
              "      <td>Texas</td>\n",
              "      <td>republican</td>\n",
              "      <td>0.0</td>\n",
              "      <td>1.0</td>\n",
              "      <td>0.0</td>\n",
              "      <td>0.0</td>\n",
              "      <td>0.0</td>\n",
              "      <td>a mailer</td>\n",
              "      <td>say anni list polit group support thirdtrimest...</td>\n",
              "      <td>[abortion]</td>\n",
              "      <td>miscarriage abortion</td>\n",
              "    </tr>\n",
              "    <tr>\n",
              "      <th>1</th>\n",
              "      <td>half-true</td>\n",
              "      <td>When did the decline of coal start? It started...</td>\n",
              "      <td>energy,history,job-accomplishments</td>\n",
              "      <td>scott-surovell</td>\n",
              "      <td>State delegate</td>\n",
              "      <td>Virginia</td>\n",
              "      <td>democrat</td>\n",
              "      <td>0.0</td>\n",
              "      <td>0.0</td>\n",
              "      <td>1.0</td>\n",
              "      <td>1.0</td>\n",
              "      <td>0.0</td>\n",
              "      <td>a floor speech.</td>\n",
              "      <td>declin coal start start natur ga took start be...</td>\n",
              "      <td>[energy,history,job, accomplishments]</td>\n",
              "      <td>acquisition attainment acquirement achievement...</td>\n",
              "    </tr>\n",
              "    <tr>\n",
              "      <th>2</th>\n",
              "      <td>mostly-true</td>\n",
              "      <td>Hillary Clinton agrees with John McCain \"by vo...</td>\n",
              "      <td>foreign-policy</td>\n",
              "      <td>barack-obama</td>\n",
              "      <td>President</td>\n",
              "      <td>Illinois</td>\n",
              "      <td>democrat</td>\n",
              "      <td>70.0</td>\n",
              "      <td>71.0</td>\n",
              "      <td>160.0</td>\n",
              "      <td>163.0</td>\n",
              "      <td>9.0</td>\n",
              "      <td>Denver</td>\n",
              "      <td>hillari clinton agre john mccain vote give geo...</td>\n",
              "      <td>[foreign, policy]</td>\n",
              "      <td>foreign extraneous policy insurance_policy ins...</td>\n",
              "    </tr>\n",
              "    <tr>\n",
              "      <th>3</th>\n",
              "      <td>false</td>\n",
              "      <td>Health care reform legislation is likely to ma...</td>\n",
              "      <td>health-care</td>\n",
              "      <td>blog-posting</td>\n",
              "      <td>NaN</td>\n",
              "      <td>NaN</td>\n",
              "      <td>none</td>\n",
              "      <td>7.0</td>\n",
              "      <td>19.0</td>\n",
              "      <td>3.0</td>\n",
              "      <td>5.0</td>\n",
              "      <td>44.0</td>\n",
              "      <td>a news release</td>\n",
              "      <td>health care reform legisl like mandat free sex...</td>\n",
              "      <td>[health, care]</td>\n",
              "      <td>handle upkeep aid fear maintenance forethought...</td>\n",
              "    </tr>\n",
              "    <tr>\n",
              "      <th>4</th>\n",
              "      <td>half-true</td>\n",
              "      <td>The economic turnaround started at the end of ...</td>\n",
              "      <td>economy,jobs</td>\n",
              "      <td>charlie-crist</td>\n",
              "      <td>NaN</td>\n",
              "      <td>Florida</td>\n",
              "      <td>democrat</td>\n",
              "      <td>15.0</td>\n",
              "      <td>9.0</td>\n",
              "      <td>20.0</td>\n",
              "      <td>19.0</td>\n",
              "      <td>2.0</td>\n",
              "      <td>an interview on CNN</td>\n",
              "      <td>econom turnaround start end term</td>\n",
              "      <td>[economy,jobs]</td>\n",
              "      <td></td>\n",
              "    </tr>\n",
              "  </tbody>\n",
              "</table>\n",
              "</div>"
            ],
            "text/plain": [
              "         label  ...                                    subjectSynonyms\n",
              "0        false  ...                               miscarriage abortion\n",
              "1    half-true  ...  acquisition attainment acquirement achievement...\n",
              "2  mostly-true  ...  foreign extraneous policy insurance_policy ins...\n",
              "3        false  ...  handle upkeep aid fear maintenance forethought...\n",
              "4    half-true  ...                                                   \n",
              "\n",
              "[5 rows x 16 columns]"
            ]
          },
          "metadata": {
            "tags": []
          },
          "execution_count": 18
        }
      ]
    },
    {
      "cell_type": "markdown",
      "metadata": {
        "id": "bOQGK2GYZxCs",
        "colab_type": "text"
      },
      "source": [
        "lets apply doc2vectorizor and cosine similarity for both title and body"
      ]
    },
    {
      "cell_type": "code",
      "metadata": {
        "id": "8sxo2jTIZTON",
        "colab_type": "code",
        "colab": {}
      },
      "source": [
        "from sklearn.metrics.pairwise import cosine_similarity\n",
        "from sklearn.feature_extraction.text import TfidfVectorizer"
      ],
      "execution_count": 0,
      "outputs": []
    },
    {
      "cell_type": "markdown",
      "metadata": {
        "id": "XasgXNdvsUbh",
        "colab_type": "text"
      },
      "source": [
        "# applying tfidf Vectorizor and cosine similarity and creating a similarity feature"
      ]
    },
    {
      "cell_type": "code",
      "metadata": {
        "id": "HqAeHUnIZ9tE",
        "colab_type": "code",
        "colab": {}
      },
      "source": [
        "# create the transform\n",
        "def cosine_sim(statement):\n",
        "    statement=statement.split('@@')\n",
        "    # print(statement)\n",
        "    text1,text2=statement[0],statement[1]\n",
        "    vectorizer = TfidfVectorizer(stop_words='english')\n",
        "    tfidf = vectorizer.fit_transform([text1, text2])\n",
        "    sim_score=((tfidf * tfidf.T).A)[0,1]\n",
        "    # if sim_score*100>0:\n",
        "    #   return 1\n",
        "    return sim_score"
      ],
      "execution_count": 0,
      "outputs": []
    },
    {
      "cell_type": "code",
      "metadata": {
        "id": "c7NSEWt-aCt7",
        "colab_type": "code",
        "colab": {}
      },
      "source": [
        "liar['test_string'] = liar['finalStatement'] +'@@'+liar['subjectSynonyms']"
      ],
      "execution_count": 0,
      "outputs": []
    },
    {
      "cell_type": "code",
      "metadata": {
        "id": "qluLUsHIaQr1",
        "colab_type": "code",
        "colab": {}
      },
      "source": [
        "liar['cosineSim']=liar['test_string'].apply(lambda x: cosine_sim(x))"
      ],
      "execution_count": 0,
      "outputs": []
    },
    {
      "cell_type": "code",
      "metadata": {
        "id": "DdZZnPv8aXTj",
        "colab_type": "code",
        "colab": {
          "base_uri": "https://localhost:8080/",
          "height": 492
        },
        "outputId": "34945555-4ad5-41c4-b1ef-32a8c15eeea4"
      },
      "source": [
        "import tensorflow as tf\n",
        "device_name = tf.test.gpu_device_name()\n",
        "if device_name != '/device:GPU:0':\n",
        "  raise SystemError('GPU device not found')\n",
        "print('Found GPU at: {}'.format(device_name))\n",
        "from tensorflow.python.client import device_lib\n",
        "device_lib.list_local_devices()"
      ],
      "execution_count": 25,
      "outputs": [
        {
          "output_type": "stream",
          "text": [
            "Found GPU at: /device:GPU:0\n"
          ],
          "name": "stdout"
        },
        {
          "output_type": "execute_result",
          "data": {
            "text/plain": [
              "[name: \"/device:CPU:0\"\n",
              " device_type: \"CPU\"\n",
              " memory_limit: 268435456\n",
              " locality {\n",
              " }\n",
              " incarnation: 11725470606956321132, name: \"/device:XLA_CPU:0\"\n",
              " device_type: \"XLA_CPU\"\n",
              " memory_limit: 17179869184\n",
              " locality {\n",
              " }\n",
              " incarnation: 3753376435442547560\n",
              " physical_device_desc: \"device: XLA_CPU device\", name: \"/device:XLA_GPU:0\"\n",
              " device_type: \"XLA_GPU\"\n",
              " memory_limit: 17179869184\n",
              " locality {\n",
              " }\n",
              " incarnation: 15068664414202778495\n",
              " physical_device_desc: \"device: XLA_GPU device\", name: \"/device:GPU:0\"\n",
              " device_type: \"GPU\"\n",
              " memory_limit: 15701463552\n",
              " locality {\n",
              "   bus_id: 1\n",
              "   links {\n",
              "   }\n",
              " }\n",
              " incarnation: 8068188330160091477\n",
              " physical_device_desc: \"device: 0, name: Tesla P100-PCIE-16GB, pci bus id: 0000:00:04.0, compute capability: 6.0\"]"
            ]
          },
          "metadata": {
            "tags": []
          },
          "execution_count": 25
        }
      ]
    },
    {
      "cell_type": "code",
      "metadata": {
        "id": "w2gyVS9WbEFO",
        "colab_type": "code",
        "colab": {
          "base_uri": "https://localhost:8080/",
          "height": 585
        },
        "outputId": "196e0211-4c1f-4b01-bf6c-3e6fdc6d4725"
      },
      "source": [
        "liar.head()"
      ],
      "execution_count": 26,
      "outputs": [
        {
          "output_type": "execute_result",
          "data": {
            "text/html": [
              "<div>\n",
              "<style scoped>\n",
              "    .dataframe tbody tr th:only-of-type {\n",
              "        vertical-align: middle;\n",
              "    }\n",
              "\n",
              "    .dataframe tbody tr th {\n",
              "        vertical-align: top;\n",
              "    }\n",
              "\n",
              "    .dataframe thead th {\n",
              "        text-align: right;\n",
              "    }\n",
              "</style>\n",
              "<table border=\"1\" class=\"dataframe\">\n",
              "  <thead>\n",
              "    <tr style=\"text-align: right;\">\n",
              "      <th></th>\n",
              "      <th>label</th>\n",
              "      <th>statement</th>\n",
              "      <th>subject</th>\n",
              "      <th>speaker</th>\n",
              "      <th>speaker_job_title</th>\n",
              "      <th>state info</th>\n",
              "      <th>party affiliation</th>\n",
              "      <th>barely_true_counts</th>\n",
              "      <th>false_counts</th>\n",
              "      <th>half_true_counts</th>\n",
              "      <th>mostly_true_counts</th>\n",
              "      <th>pants_on_fire_counts</th>\n",
              "      <th>context</th>\n",
              "      <th>finalStatement</th>\n",
              "      <th>finalSubject</th>\n",
              "      <th>subjectSynonyms</th>\n",
              "      <th>test_string</th>\n",
              "      <th>cosineSim</th>\n",
              "    </tr>\n",
              "  </thead>\n",
              "  <tbody>\n",
              "    <tr>\n",
              "      <th>0</th>\n",
              "      <td>false</td>\n",
              "      <td>Says the Annies List political group supports ...</td>\n",
              "      <td>abortion</td>\n",
              "      <td>dwayne-bohac</td>\n",
              "      <td>State representative</td>\n",
              "      <td>Texas</td>\n",
              "      <td>republican</td>\n",
              "      <td>0.0</td>\n",
              "      <td>1.0</td>\n",
              "      <td>0.0</td>\n",
              "      <td>0.0</td>\n",
              "      <td>0.0</td>\n",
              "      <td>a mailer</td>\n",
              "      <td>say anni list polit group support thirdtrimest...</td>\n",
              "      <td>[abortion]</td>\n",
              "      <td>miscarriage abortion</td>\n",
              "      <td>say anni list polit group support thirdtrimest...</td>\n",
              "      <td>0.000000</td>\n",
              "    </tr>\n",
              "    <tr>\n",
              "      <th>1</th>\n",
              "      <td>half-true</td>\n",
              "      <td>When did the decline of coal start? It started...</td>\n",
              "      <td>energy,history,job-accomplishments</td>\n",
              "      <td>scott-surovell</td>\n",
              "      <td>State delegate</td>\n",
              "      <td>Virginia</td>\n",
              "      <td>democrat</td>\n",
              "      <td>0.0</td>\n",
              "      <td>0.0</td>\n",
              "      <td>1.0</td>\n",
              "      <td>1.0</td>\n",
              "      <td>0.0</td>\n",
              "      <td>a floor speech.</td>\n",
              "      <td>declin coal start start natur ga took start be...</td>\n",
              "      <td>[energy,history,job, accomplishments]</td>\n",
              "      <td>acquisition attainment acquirement achievement...</td>\n",
              "      <td>declin coal start start natur ga took start be...</td>\n",
              "      <td>0.000000</td>\n",
              "    </tr>\n",
              "    <tr>\n",
              "      <th>2</th>\n",
              "      <td>mostly-true</td>\n",
              "      <td>Hillary Clinton agrees with John McCain \"by vo...</td>\n",
              "      <td>foreign-policy</td>\n",
              "      <td>barack-obama</td>\n",
              "      <td>President</td>\n",
              "      <td>Illinois</td>\n",
              "      <td>democrat</td>\n",
              "      <td>70.0</td>\n",
              "      <td>71.0</td>\n",
              "      <td>160.0</td>\n",
              "      <td>163.0</td>\n",
              "      <td>9.0</td>\n",
              "      <td>Denver</td>\n",
              "      <td>hillari clinton agre john mccain vote give geo...</td>\n",
              "      <td>[foreign, policy]</td>\n",
              "      <td>foreign extraneous policy insurance_policy ins...</td>\n",
              "      <td>hillari clinton agre john mccain vote give geo...</td>\n",
              "      <td>0.000000</td>\n",
              "    </tr>\n",
              "    <tr>\n",
              "      <th>3</th>\n",
              "      <td>false</td>\n",
              "      <td>Health care reform legislation is likely to ma...</td>\n",
              "      <td>health-care</td>\n",
              "      <td>blog-posting</td>\n",
              "      <td>NaN</td>\n",
              "      <td>NaN</td>\n",
              "      <td>none</td>\n",
              "      <td>7.0</td>\n",
              "      <td>19.0</td>\n",
              "      <td>3.0</td>\n",
              "      <td>5.0</td>\n",
              "      <td>44.0</td>\n",
              "      <td>a news release</td>\n",
              "      <td>health care reform legisl like mandat free sex...</td>\n",
              "      <td>[health, care]</td>\n",
              "      <td>handle upkeep aid fear maintenance forethought...</td>\n",
              "      <td>health care reform legisl like mandat free sex...</td>\n",
              "      <td>0.112172</td>\n",
              "    </tr>\n",
              "    <tr>\n",
              "      <th>4</th>\n",
              "      <td>half-true</td>\n",
              "      <td>The economic turnaround started at the end of ...</td>\n",
              "      <td>economy,jobs</td>\n",
              "      <td>charlie-crist</td>\n",
              "      <td>NaN</td>\n",
              "      <td>Florida</td>\n",
              "      <td>democrat</td>\n",
              "      <td>15.0</td>\n",
              "      <td>9.0</td>\n",
              "      <td>20.0</td>\n",
              "      <td>19.0</td>\n",
              "      <td>2.0</td>\n",
              "      <td>an interview on CNN</td>\n",
              "      <td>econom turnaround start end term</td>\n",
              "      <td>[economy,jobs]</td>\n",
              "      <td></td>\n",
              "      <td>econom turnaround start end term@@</td>\n",
              "      <td>0.000000</td>\n",
              "    </tr>\n",
              "  </tbody>\n",
              "</table>\n",
              "</div>"
            ],
            "text/plain": [
              "         label  ... cosineSim\n",
              "0        false  ...  0.000000\n",
              "1    half-true  ...  0.000000\n",
              "2  mostly-true  ...  0.000000\n",
              "3        false  ...  0.112172\n",
              "4    half-true  ...  0.000000\n",
              "\n",
              "[5 rows x 18 columns]"
            ]
          },
          "metadata": {
            "tags": []
          },
          "execution_count": 26
        }
      ]
    },
    {
      "cell_type": "markdown",
      "metadata": {
        "id": "FfmC0HICconU",
        "colab_type": "text"
      },
      "source": [
        "lets label encode the labels"
      ]
    },
    {
      "cell_type": "code",
      "metadata": {
        "id": "novhC_OqcblH",
        "colab_type": "code",
        "colab": {}
      },
      "source": [
        "from sklearn.preprocessing import LabelEncoder\n",
        "label = LabelEncoder()\n",
        "label.fit(liar['label'].astype(str))\n",
        "liar['label'] = label.fit_transform(liar['label'].astype(str))"
      ],
      "execution_count": 0,
      "outputs": []
    },
    {
      "cell_type": "markdown",
      "metadata": {
        "id": "AAf-dHtXh1hO",
        "colab_type": "text"
      },
      "source": [
        "# Liar Data processed"
      ]
    },
    {
      "cell_type": "code",
      "metadata": {
        "id": "caVVPKYtdBup",
        "colab_type": "code",
        "colab": {
          "base_uri": "https://localhost:8080/",
          "height": 585
        },
        "outputId": "82214b30-c8da-4a57-82a1-12bdf4a6a11a"
      },
      "source": [
        "liar.head()"
      ],
      "execution_count": 29,
      "outputs": [
        {
          "output_type": "execute_result",
          "data": {
            "text/html": [
              "<div>\n",
              "<style scoped>\n",
              "    .dataframe tbody tr th:only-of-type {\n",
              "        vertical-align: middle;\n",
              "    }\n",
              "\n",
              "    .dataframe tbody tr th {\n",
              "        vertical-align: top;\n",
              "    }\n",
              "\n",
              "    .dataframe thead th {\n",
              "        text-align: right;\n",
              "    }\n",
              "</style>\n",
              "<table border=\"1\" class=\"dataframe\">\n",
              "  <thead>\n",
              "    <tr style=\"text-align: right;\">\n",
              "      <th></th>\n",
              "      <th>label</th>\n",
              "      <th>statement</th>\n",
              "      <th>subject</th>\n",
              "      <th>speaker</th>\n",
              "      <th>speaker_job_title</th>\n",
              "      <th>state info</th>\n",
              "      <th>party affiliation</th>\n",
              "      <th>barely_true_counts</th>\n",
              "      <th>false_counts</th>\n",
              "      <th>half_true_counts</th>\n",
              "      <th>mostly_true_counts</th>\n",
              "      <th>pants_on_fire_counts</th>\n",
              "      <th>context</th>\n",
              "      <th>finalStatement</th>\n",
              "      <th>finalSubject</th>\n",
              "      <th>subjectSynonyms</th>\n",
              "      <th>test_string</th>\n",
              "      <th>cosineSim</th>\n",
              "    </tr>\n",
              "  </thead>\n",
              "  <tbody>\n",
              "    <tr>\n",
              "      <th>0</th>\n",
              "      <td>1</td>\n",
              "      <td>Says the Annies List political group supports ...</td>\n",
              "      <td>abortion</td>\n",
              "      <td>dwayne-bohac</td>\n",
              "      <td>State representative</td>\n",
              "      <td>Texas</td>\n",
              "      <td>republican</td>\n",
              "      <td>0.0</td>\n",
              "      <td>1.0</td>\n",
              "      <td>0.0</td>\n",
              "      <td>0.0</td>\n",
              "      <td>0.0</td>\n",
              "      <td>a mailer</td>\n",
              "      <td>say anni list polit group support thirdtrimest...</td>\n",
              "      <td>[abortion]</td>\n",
              "      <td>miscarriage abortion</td>\n",
              "      <td>say anni list polit group support thirdtrimest...</td>\n",
              "      <td>0.000000</td>\n",
              "    </tr>\n",
              "    <tr>\n",
              "      <th>1</th>\n",
              "      <td>2</td>\n",
              "      <td>When did the decline of coal start? It started...</td>\n",
              "      <td>energy,history,job-accomplishments</td>\n",
              "      <td>scott-surovell</td>\n",
              "      <td>State delegate</td>\n",
              "      <td>Virginia</td>\n",
              "      <td>democrat</td>\n",
              "      <td>0.0</td>\n",
              "      <td>0.0</td>\n",
              "      <td>1.0</td>\n",
              "      <td>1.0</td>\n",
              "      <td>0.0</td>\n",
              "      <td>a floor speech.</td>\n",
              "      <td>declin coal start start natur ga took start be...</td>\n",
              "      <td>[energy,history,job, accomplishments]</td>\n",
              "      <td>acquisition attainment acquirement achievement...</td>\n",
              "      <td>declin coal start start natur ga took start be...</td>\n",
              "      <td>0.000000</td>\n",
              "    </tr>\n",
              "    <tr>\n",
              "      <th>2</th>\n",
              "      <td>3</td>\n",
              "      <td>Hillary Clinton agrees with John McCain \"by vo...</td>\n",
              "      <td>foreign-policy</td>\n",
              "      <td>barack-obama</td>\n",
              "      <td>President</td>\n",
              "      <td>Illinois</td>\n",
              "      <td>democrat</td>\n",
              "      <td>70.0</td>\n",
              "      <td>71.0</td>\n",
              "      <td>160.0</td>\n",
              "      <td>163.0</td>\n",
              "      <td>9.0</td>\n",
              "      <td>Denver</td>\n",
              "      <td>hillari clinton agre john mccain vote give geo...</td>\n",
              "      <td>[foreign, policy]</td>\n",
              "      <td>foreign extraneous policy insurance_policy ins...</td>\n",
              "      <td>hillari clinton agre john mccain vote give geo...</td>\n",
              "      <td>0.000000</td>\n",
              "    </tr>\n",
              "    <tr>\n",
              "      <th>3</th>\n",
              "      <td>1</td>\n",
              "      <td>Health care reform legislation is likely to ma...</td>\n",
              "      <td>health-care</td>\n",
              "      <td>blog-posting</td>\n",
              "      <td>NaN</td>\n",
              "      <td>NaN</td>\n",
              "      <td>none</td>\n",
              "      <td>7.0</td>\n",
              "      <td>19.0</td>\n",
              "      <td>3.0</td>\n",
              "      <td>5.0</td>\n",
              "      <td>44.0</td>\n",
              "      <td>a news release</td>\n",
              "      <td>health care reform legisl like mandat free sex...</td>\n",
              "      <td>[health, care]</td>\n",
              "      <td>handle upkeep aid fear maintenance forethought...</td>\n",
              "      <td>health care reform legisl like mandat free sex...</td>\n",
              "      <td>0.112172</td>\n",
              "    </tr>\n",
              "    <tr>\n",
              "      <th>4</th>\n",
              "      <td>2</td>\n",
              "      <td>The economic turnaround started at the end of ...</td>\n",
              "      <td>economy,jobs</td>\n",
              "      <td>charlie-crist</td>\n",
              "      <td>NaN</td>\n",
              "      <td>Florida</td>\n",
              "      <td>democrat</td>\n",
              "      <td>15.0</td>\n",
              "      <td>9.0</td>\n",
              "      <td>20.0</td>\n",
              "      <td>19.0</td>\n",
              "      <td>2.0</td>\n",
              "      <td>an interview on CNN</td>\n",
              "      <td>econom turnaround start end term</td>\n",
              "      <td>[economy,jobs]</td>\n",
              "      <td></td>\n",
              "      <td>econom turnaround start end term@@</td>\n",
              "      <td>0.000000</td>\n",
              "    </tr>\n",
              "  </tbody>\n",
              "</table>\n",
              "</div>"
            ],
            "text/plain": [
              "   label  ... cosineSim\n",
              "0      1  ...  0.000000\n",
              "1      2  ...  0.000000\n",
              "2      3  ...  0.000000\n",
              "3      1  ...  0.112172\n",
              "4      2  ...  0.000000\n",
              "\n",
              "[5 rows x 18 columns]"
            ]
          },
          "metadata": {
            "tags": []
          },
          "execution_count": 29
        }
      ]
    },
    {
      "cell_type": "markdown",
      "metadata": {
        "id": "wH8MsHBneymn",
        "colab_type": "text"
      },
      "source": [
        "The above liar df is the proper cleaned data"
      ]
    },
    {
      "cell_type": "code",
      "metadata": {
        "id": "86s2we-gdF1u",
        "colab_type": "code",
        "colab": {}
      },
      "source": [
        "liar_clean1 = liar[['cosineSim','label']]"
      ],
      "execution_count": 0,
      "outputs": []
    },
    {
      "cell_type": "markdown",
      "metadata": {
        "id": "hFb9M_ZIdmEs",
        "colab_type": "text"
      },
      "source": [
        "function to run all the algorithms on the data"
      ]
    },
    {
      "cell_type": "code",
      "metadata": {
        "id": "cXszDYgLdgFo",
        "colab_type": "code",
        "colab": {}
      },
      "source": [
        "from sklearn.metrics import plot_confusion_matrix\n",
        "def fitModelsAndPredict(models_dict,X_train,y_train,X_test,y_test):\n",
        "    accuracy={}\n",
        "    specificity={}\n",
        "    sensitivity={}\n",
        "    model_save=None\n",
        "    i=0\n",
        "    #models_dict holds name and its function , like {'LR':LogsticRegression()}\n",
        "    for name,model in models_dict.items():\n",
        "        #fitting model on the train data\n",
        "        model.fit(X_train,y_train)\n",
        "        joblib.dump(model, name+'.pkl')\n",
        "        #predicting model on X_test \n",
        "        model_save=model\n",
        "        y_pred=model.predict(X_test)\n",
        "        print('*'*100)\n",
        "        print('Model:',name)\n",
        "        #printing Confusion matrix an dAccuracy of each model\n",
        "        print(\"Confusion Matrix: \")\n",
        "        print(confusion_matrix(y_test, y_pred))\n",
        "        print(\"Accuracy : \",accuracy_score(y_test,y_pred)*100)\n",
        "\n",
        "        #mainitaing a dictionary of results of accuracy of each model to use it to plot in one systyem\n",
        "        accuracy[name]=accuracy_score(y_test,y_pred)*100\n",
        "        cm=confusion_matrix(y_test, y_pred)\n",
        "        sensitivity[name] = (cm[0,0]/(cm[0,0]+cm[0,1]))*100\n",
        "        specificity[name] = (cm[1,1]/(cm[1,0]+cm[1,1]))*100\n",
        "        print(\"Classificarion Report : \")\n",
        "        print(classification_report(y_test, y_pred))\n",
        "        \n",
        "  \n",
        "    #converting dictionaries to dataframes to have them handy\n",
        "    accuracy=pd.DataFrame.from_dict(accuracy,orient='index').reset_index()\n",
        "    sensitivity=pd.DataFrame.from_dict(sensitivity,orient='index').reset_index()\n",
        "    specificity=pd.DataFrame.from_dict(specificity,orient='index').reset_index()\n",
        "    # print(accuracy)\n",
        "    accuracy.columns=['model_name','accuracy']\n",
        "    sensitivity.columns=['model_name','sensitivity']\n",
        "    specificity.columns=['model_name','specificity']\n",
        "    \n",
        "    #plotting accuracy,sensitivity,specificity of each model\n",
        "    plt.figure(i+1,figsize=(16, 6))\n",
        "    ax = sns.lineplot(data=accuracy, x='model_name', y='accuracy',legend='full')\n",
        "    ax = sns.lineplot(data=sensitivity, x='model_name', y='sensitivity',legend='full')\n",
        "    ax = sns.lineplot(data=specificity, x='model_name', y='specificity',legend='full')\n",
        "    ax = sns.barplot(data=accuracy, x='model_name', y='accuracy')\n",
        "    plt.title('Blue :Accuracy,Orange: Senstivity,Green : Specicificity ')\n",
        "    return model_save"
      ],
      "execution_count": 0,
      "outputs": []
    },
    {
      "cell_type": "markdown",
      "metadata": {
        "id": "PcjEL065d5J1",
        "colab_type": "text"
      },
      "source": [
        "importing all the algo's"
      ]
    },
    {
      "cell_type": "code",
      "metadata": {
        "id": "azzbvKpDdsgN",
        "colab_type": "code",
        "colab": {
          "base_uri": "https://localhost:8080/",
          "height": 102
        },
        "outputId": "4ba57ebb-f00f-462d-b7f4-8708d5eb5c2b"
      },
      "source": [
        "from sklearn.model_selection import train_test_split\n",
        "import joblib\n",
        "from sklearn.ensemble import RandomForestClassifier\n",
        "from sklearn.linear_model import LogisticRegression,LinearRegression\n",
        "from sklearn.tree import DecisionTreeClassifier\n",
        "from sklearn.neighbors import KNeighborsClassifier\n",
        "from sklearn.discriminant_analysis import LinearDiscriminantAnalysis\n",
        "from sklearn.naive_bayes import GaussianNB\n",
        "from sklearn.svm import SVC\n",
        "from xgboost import XGBClassifier\n",
        "from sklearn.cluster import KMeans\n",
        "from yellowbrick.cluster import KElbowVisualizer\n",
        "from sklearn.mixture import GaussianMixture as GMM\n",
        "from sklearn.decomposition import PCA\n",
        "from sklearn.metrics import accuracy_score, confusion_matrix, classification_report, fbeta_score\n",
        "import matplotlib.pyplot as plt\n",
        "import seaborn as sns"
      ],
      "execution_count": 33,
      "outputs": [
        {
          "output_type": "stream",
          "text": [
            "/usr/local/lib/python3.6/dist-packages/sklearn/utils/deprecation.py:144: FutureWarning: The sklearn.metrics.classification module is  deprecated in version 0.22 and will be removed in version 0.24. The corresponding classes / functions should instead be imported from sklearn.metrics. Anything that cannot be imported from sklearn.metrics is now part of the private API.\n",
            "  warnings.warn(message, FutureWarning)\n",
            "/usr/local/lib/python3.6/dist-packages/statsmodels/tools/_testing.py:19: FutureWarning: pandas.util.testing is deprecated. Use the functions in the public API at pandas.testing instead.\n",
            "  import pandas.util.testing as tm\n"
          ],
          "name": "stderr"
        }
      ]
    },
    {
      "cell_type": "markdown",
      "metadata": {
        "id": "K1aDMGH4eDPk",
        "colab_type": "text"
      },
      "source": [
        "splitting the dataset"
      ]
    },
    {
      "cell_type": "code",
      "metadata": {
        "id": "NFvsXhRVd-e4",
        "colab_type": "code",
        "colab": {}
      },
      "source": [
        "liar_clean1=liar_clean1.fillna(0)\n",
        "X=liar_clean1.loc[:,liar_clean1.columns!='label']\n",
        "Y=liar_clean1.loc[:,liar_clean1.columns=='label']\n",
        "X_train, X_test, y_train, y_test = train_test_split(X, Y, test_size=0.3, random_state=1)"
      ],
      "execution_count": 0,
      "outputs": []
    },
    {
      "cell_type": "code",
      "metadata": {
        "id": "8LnOV6OoeIIz",
        "colab_type": "code",
        "colab": {}
      },
      "source": [
        "models_dict={}\n",
        "# models_dict['LinearRegression']       = LinearRegression()\n",
        "models_dict['LogisticRegression']     = LogisticRegression()\n",
        "models_dict['Dtree']                  = DecisionTreeClassifier()\n",
        "models_dict['NB']                     = GaussianNB()\n",
        "models_dict['XGB']                    = XGBClassifier()\n",
        "models_dict['RForest']                = RandomForestClassifier()\n",
        "models_dict['SVM']                    = SVC(gamma='auto')\n",
        "models_dict['KNN']                    = KNeighborsClassifier()"
      ],
      "execution_count": 0,
      "outputs": []
    },
    {
      "cell_type": "code",
      "metadata": {
        "id": "cdoCmWAoeODQ",
        "colab_type": "code",
        "colab": {
          "base_uri": "https://localhost:8080/",
          "height": 1000
        },
        "outputId": "2480c3dc-333b-47d9-98e8-1fc4c49f85ca"
      },
      "source": [
        "fitModelsAndPredict(models_dict,X_train,y_train,X_test,y_test)"
      ],
      "execution_count": 36,
      "outputs": [
        {
          "output_type": "stream",
          "text": [
            "/usr/local/lib/python3.6/dist-packages/sklearn/utils/validation.py:760: DataConversionWarning: A column-vector y was passed when a 1d array was expected. Please change the shape of y to (n_samples, ), for example using ravel().\n",
            "  y = column_or_1d(y, warn=True)\n"
          ],
          "name": "stderr"
        },
        {
          "output_type": "stream",
          "text": [
            "****************************************************************************************************\n",
            "Model: LogisticRegression\n",
            "Confusion Matrix: \n",
            "[[  0  18 518   0   0   0]\n",
            " [  0  33 655   0   0   0]\n",
            " [  0  31 696   0   0   0]\n",
            " [  0  21 626   0   0   0]\n",
            " [  0  11 279   0   0   0]\n",
            " [  0  28 537   0   0   0]]\n",
            "Accuracy :  21.112076455256297\n",
            "Classificarion Report : \n",
            "              precision    recall  f1-score   support\n",
            "\n",
            "           0       0.00      0.00      0.00       536\n",
            "           1       0.23      0.05      0.08       688\n",
            "           2       0.21      0.96      0.34       727\n",
            "           3       0.00      0.00      0.00       647\n",
            "           4       0.00      0.00      0.00       290\n",
            "           5       0.00      0.00      0.00       565\n",
            "\n",
            "    accuracy                           0.21      3453\n",
            "   macro avg       0.07      0.17      0.07      3453\n",
            "weighted avg       0.09      0.21      0.09      3453\n",
            "\n",
            "****************************************************************************************************\n",
            "Model: Dtree\n",
            "Confusion Matrix: \n",
            "[[ 21  26 458  19   3   9]\n",
            " [ 22  42 596  19   2   7]\n",
            " [ 20  46 631  19   4   7]\n",
            " [ 23  17 567  23   1  16]\n",
            " [ 13  21 244   7   0   5]\n",
            " [ 20  29 490  16   0  10]]\n",
            "Accuracy :  21.054155806545033\n",
            "Classificarion Report : \n",
            "              precision    recall  f1-score   support\n",
            "\n",
            "           0       0.18      0.04      0.06       536\n",
            "           1       0.23      0.06      0.10       688\n",
            "           2       0.21      0.87      0.34       727\n",
            "           3       0.22      0.04      0.06       647\n",
            "           4       0.00      0.00      0.00       290\n",
            "           5       0.19      0.02      0.03       565\n",
            "\n",
            "    accuracy                           0.21      3453\n",
            "   macro avg       0.17      0.17      0.10      3453\n",
            "weighted avg       0.19      0.21      0.12      3453\n",
            "\n",
            "****************************************************************************************************\n",
            "Model: NB\n",
            "Confusion Matrix: \n",
            "[[  0  26  63 447   0   0]\n",
            " [  0  21  91 576   0   0]\n",
            " [  0  26  90 611   0   0]\n",
            " [  0  22  71 554   0   0]\n",
            " [  0  10  39 241   0   0]\n",
            " [  0  19  76 470   0   0]]\n",
            "Accuracy :  19.258615696495802\n",
            "Classificarion Report : \n",
            "              precision    recall  f1-score   support\n",
            "\n",
            "           0       0.00      0.00      0.00       536\n",
            "           1       0.17      0.03      0.05       688\n",
            "           2       0.21      0.12      0.16       727\n",
            "           3       0.19      0.86      0.31       647\n",
            "           4       0.00      0.00      0.00       290\n",
            "           5       0.00      0.00      0.00       565\n",
            "\n",
            "    accuracy                           0.19      3453\n",
            "   macro avg       0.09      0.17      0.09      3453\n",
            "weighted avg       0.11      0.19      0.10      3453\n",
            "\n"
          ],
          "name": "stdout"
        },
        {
          "output_type": "stream",
          "text": [
            "/usr/local/lib/python3.6/dist-packages/sklearn/metrics/_classification.py:1272: UndefinedMetricWarning: Precision and F-score are ill-defined and being set to 0.0 in labels with no predicted samples. Use `zero_division` parameter to control this behavior.\n",
            "  _warn_prf(average, modifier, msg_start, len(result))\n",
            "/usr/local/lib/python3.6/dist-packages/sklearn/naive_bayes.py:206: DataConversionWarning: A column-vector y was passed when a 1d array was expected. Please change the shape of y to (n_samples, ), for example using ravel().\n",
            "  y = column_or_1d(y, warn=True)\n",
            "/usr/local/lib/python3.6/dist-packages/sklearn/metrics/_classification.py:1272: UndefinedMetricWarning: Precision and F-score are ill-defined and being set to 0.0 in labels with no predicted samples. Use `zero_division` parameter to control this behavior.\n",
            "  _warn_prf(average, modifier, msg_start, len(result))\n",
            "/usr/local/lib/python3.6/dist-packages/sklearn/preprocessing/_label.py:235: DataConversionWarning: A column-vector y was passed when a 1d array was expected. Please change the shape of y to (n_samples, ), for example using ravel().\n",
            "  y = column_or_1d(y, warn=True)\n",
            "/usr/local/lib/python3.6/dist-packages/sklearn/preprocessing/_label.py:268: DataConversionWarning: A column-vector y was passed when a 1d array was expected. Please change the shape of y to (n_samples, ), for example using ravel().\n",
            "  y = column_or_1d(y, warn=True)\n"
          ],
          "name": "stderr"
        },
        {
          "output_type": "stream",
          "text": [
            "****************************************************************************************************\n",
            "Model: XGB\n",
            "Confusion Matrix: \n",
            "[[ 13  36 471  12   1   3]\n",
            " [  9  48 609  13   1   8]\n",
            " [  7  55 643  12   1   9]\n",
            " [ 10  30 581  13   0  13]\n",
            " [  5  25 251   4   0   5]\n",
            " [  6  41 496  13   0   9]]\n",
            "Accuracy :  21.025195482189403\n",
            "Classificarion Report : \n",
            "              precision    recall  f1-score   support\n",
            "\n",
            "           0       0.26      0.02      0.04       536\n",
            "           1       0.20      0.07      0.10       688\n",
            "           2       0.21      0.88      0.34       727\n",
            "           3       0.19      0.02      0.04       647\n",
            "           4       0.00      0.00      0.00       290\n",
            "           5       0.19      0.02      0.03       565\n",
            "\n",
            "    accuracy                           0.21      3453\n",
            "   macro avg       0.18      0.17      0.09      3453\n",
            "weighted avg       0.19      0.21      0.11      3453\n",
            "\n"
          ],
          "name": "stdout"
        },
        {
          "output_type": "stream",
          "text": [
            "/usr/local/lib/python3.6/dist-packages/ipykernel_launcher.py:11: DataConversionWarning: A column-vector y was passed when a 1d array was expected. Please change the shape of y to (n_samples,), for example using ravel().\n",
            "  # This is added back by InteractiveShellApp.init_path()\n"
          ],
          "name": "stderr"
        },
        {
          "output_type": "stream",
          "text": [
            "****************************************************************************************************\n",
            "Model: RForest\n",
            "Confusion Matrix: \n",
            "[[ 15  23 460  22   3  13]\n",
            " [ 12  37 598  23   6  12]\n",
            " [  9  28 638  30   6  16]\n",
            " [ 18  11 570  27   1  20]\n",
            " [  8  16 247   9   3   7]\n",
            " [ 12  23 490  22   2  16]]\n",
            "Accuracy :  21.314798725745728\n",
            "Classificarion Report : \n",
            "              precision    recall  f1-score   support\n",
            "\n",
            "           0       0.20      0.03      0.05       536\n",
            "           1       0.27      0.05      0.09       688\n",
            "           2       0.21      0.88      0.34       727\n",
            "           3       0.20      0.04      0.07       647\n",
            "           4       0.14      0.01      0.02       290\n",
            "           5       0.19      0.03      0.05       565\n",
            "\n",
            "    accuracy                           0.21      3453\n",
            "   macro avg       0.20      0.17      0.10      3453\n",
            "weighted avg       0.21      0.21      0.12      3453\n",
            "\n"
          ],
          "name": "stdout"
        },
        {
          "output_type": "stream",
          "text": [
            "/usr/local/lib/python3.6/dist-packages/sklearn/utils/validation.py:760: DataConversionWarning: A column-vector y was passed when a 1d array was expected. Please change the shape of y to (n_samples, ), for example using ravel().\n",
            "  y = column_or_1d(y, warn=True)\n"
          ],
          "name": "stderr"
        },
        {
          "output_type": "stream",
          "text": [
            "****************************************************************************************************\n",
            "Model: SVM\n",
            "Confusion Matrix: \n",
            "[[  0   0 536   0   0   0]\n",
            " [  0   0 688   0   0   0]\n",
            " [  0   0 727   0   0   0]\n",
            " [  0   0 647   0   0   0]\n",
            " [  0   0 290   0   0   0]\n",
            " [  0   0 565   0   0   0]]\n",
            "Accuracy :  21.054155806545033\n",
            "Classificarion Report : \n",
            "              precision    recall  f1-score   support\n",
            "\n",
            "           0       0.00      0.00      0.00       536\n",
            "           1       0.00      0.00      0.00       688\n",
            "           2       0.21      1.00      0.35       727\n",
            "           3       0.00      0.00      0.00       647\n",
            "           4       0.00      0.00      0.00       290\n",
            "           5       0.00      0.00      0.00       565\n",
            "\n",
            "    accuracy                           0.21      3453\n",
            "   macro avg       0.04      0.17      0.06      3453\n",
            "weighted avg       0.04      0.21      0.07      3453\n",
            "\n"
          ],
          "name": "stdout"
        },
        {
          "output_type": "stream",
          "text": [
            "/usr/local/lib/python3.6/dist-packages/ipykernel_launcher.py:26: RuntimeWarning: invalid value encountered in long_scalars\n",
            "/usr/local/lib/python3.6/dist-packages/ipykernel_launcher.py:27: RuntimeWarning: invalid value encountered in long_scalars\n",
            "/usr/local/lib/python3.6/dist-packages/sklearn/metrics/_classification.py:1272: UndefinedMetricWarning: Precision and F-score are ill-defined and being set to 0.0 in labels with no predicted samples. Use `zero_division` parameter to control this behavior.\n",
            "  _warn_prf(average, modifier, msg_start, len(result))\n",
            "/usr/local/lib/python3.6/dist-packages/ipykernel_launcher.py:11: DataConversionWarning: A column-vector y was passed when a 1d array was expected. Please change the shape of y to (n_samples, ), for example using ravel().\n",
            "  # This is added back by InteractiveShellApp.init_path()\n"
          ],
          "name": "stderr"
        },
        {
          "output_type": "stream",
          "text": [
            "****************************************************************************************************\n",
            "Model: KNN\n",
            "Confusion Matrix: \n",
            "[[ 22  31 461  15   2   5]\n",
            " [ 22  36 599  20   3   8]\n",
            " [ 15  44 632  17   5  14]\n",
            " [ 27  19 572  14   1  14]\n",
            " [ 15  11 247  12   0   5]\n",
            " [ 22  36 484  14   3   6]]\n",
            "Accuracy :  20.561830292499277\n",
            "Classificarion Report : \n",
            "              precision    recall  f1-score   support\n",
            "\n",
            "           0       0.18      0.04      0.07       536\n",
            "           1       0.20      0.05      0.08       688\n",
            "           2       0.21      0.87      0.34       727\n",
            "           3       0.15      0.02      0.04       647\n",
            "           4       0.00      0.00      0.00       290\n",
            "           5       0.12      0.01      0.02       565\n",
            "\n",
            "    accuracy                           0.21      3453\n",
            "   macro avg       0.14      0.17      0.09      3453\n",
            "weighted avg       0.16      0.21      0.11      3453\n",
            "\n"
          ],
          "name": "stdout"
        },
        {
          "output_type": "execute_result",
          "data": {
            "text/plain": [
              "KNeighborsClassifier(algorithm='auto', leaf_size=30, metric='minkowski',\n",
              "                     metric_params=None, n_jobs=None, n_neighbors=5, p=2,\n",
              "                     weights='uniform')"
            ]
          },
          "metadata": {
            "tags": []
          },
          "execution_count": 36
        },
        {
          "output_type": "display_data",
          "data": {
            "image/png": "[encoded data removed]",
            "text/plain": [
              "<Figure size 1152x432 with 1 Axes>"
            ]
          },
          "metadata": {
            "tags": []
          }
        }
      ]
    },
    {
      "cell_type": "markdown",
      "metadata": {
        "id": "bHpgnfjMeeuw",
        "colab_type": "text"
      },
      "source": [
        "as you can see, almost all algo's give around 20 percent accuracy which is not great. So now lets add counts columns from liar liar"
      ]
    },
    {
      "cell_type": "code",
      "metadata": {
        "id": "UyEdnXd9eRJu",
        "colab_type": "code",
        "colab": {}
      },
      "source": [
        "liar_clean2 = liar[['cosineSim','label','barely_true_counts', 'false_counts', 'half_true_counts','mostly_true_counts', 'pants_on_fire_counts']]"
      ],
      "execution_count": 0,
      "outputs": []
    },
    {
      "cell_type": "code",
      "metadata": {
        "id": "BBTkipzdfFAl",
        "colab_type": "code",
        "colab": {}
      },
      "source": [
        "liar_clean2=liar_clean2.fillna(0)\n",
        "X=liar_clean2.loc[:,liar_clean2.columns!='label']\n",
        "Y=liar_clean2.loc[:,liar_clean2.columns=='label']\n",
        "X_train, X_test, y_train, y_test = train_test_split(X, Y, test_size=0.3, random_state=1)"
      ],
      "execution_count": 0,
      "outputs": []
    },
    {
      "cell_type": "code",
      "metadata": {
        "id": "rgt_zPLpfa1T",
        "colab_type": "code",
        "colab": {
          "base_uri": "https://localhost:8080/",
          "height": 1000
        },
        "outputId": "fa78341c-874d-44b8-9250-86998f2a1a95"
      },
      "source": [
        "fitModelsAndPredict(models_dict,X_train,y_train,X_test,y_test)"
      ],
      "execution_count": 39,
      "outputs": [
        {
          "output_type": "stream",
          "text": [
            "/usr/local/lib/python3.6/dist-packages/sklearn/utils/validation.py:760: DataConversionWarning: A column-vector y was passed when a 1d array was expected. Please change the shape of y to (n_samples, ), for example using ravel().\n",
            "  y = column_or_1d(y, warn=True)\n",
            "/usr/local/lib/python3.6/dist-packages/sklearn/linear_model/_logistic.py:940: ConvergenceWarning: lbfgs failed to converge (status=1):\n",
            "STOP: TOTAL NO. of ITERATIONS REACHED LIMIT.\n",
            "\n",
            "Increase the number of iterations (max_iter) or scale the data as shown in:\n",
            "    https://scikit-learn.org/stable/modules/preprocessing.html\n",
            "Please also refer to the documentation for alternative solver options:\n",
            "    https://scikit-learn.org/stable/modules/linear_model.html#logistic-regression\n",
            "  extra_warning_msg=_LOGISTIC_SOLVER_CONVERGENCE_MSG)\n",
            "/usr/local/lib/python3.6/dist-packages/sklearn/metrics/_classification.py:1272: UndefinedMetricWarning: Precision and F-score are ill-defined and being set to 0.0 in labels with no predicted samples. Use `zero_division` parameter to control this behavior.\n",
            "  _warn_prf(average, modifier, msg_start, len(result))\n",
            "/usr/local/lib/python3.6/dist-packages/sklearn/naive_bayes.py:206: DataConversionWarning: A column-vector y was passed when a 1d array was expected. Please change the shape of y to (n_samples, ), for example using ravel().\n",
            "  y = column_or_1d(y, warn=True)\n",
            "/usr/local/lib/python3.6/dist-packages/sklearn/preprocessing/_label.py:235: DataConversionWarning: A column-vector y was passed when a 1d array was expected. Please change the shape of y to (n_samples, ), for example using ravel().\n",
            "  y = column_or_1d(y, warn=True)\n",
            "/usr/local/lib/python3.6/dist-packages/sklearn/preprocessing/_label.py:268: DataConversionWarning: A column-vector y was passed when a 1d array was expected. Please change the shape of y to (n_samples, ), for example using ravel().\n",
            "  y = column_or_1d(y, warn=True)\n"
          ],
          "name": "stderr"
        },
        {
          "output_type": "stream",
          "text": [
            "****************************************************************************************************\n",
            "Model: LogisticRegression\n",
            "Confusion Matrix: \n",
            "[[ 66  41 338  84   7   0]\n",
            " [ 52 113 404 104  15   0]\n",
            " [ 73  51 509  91   3   0]\n",
            " [ 51  36 347 211   2   0]\n",
            " [ 20  54 145  38  33   0]\n",
            " [ 35  20 392 116   2   0]]\n",
            "Accuracy :  26.991022299449753\n",
            "Classificarion Report : \n",
            "              precision    recall  f1-score   support\n",
            "\n",
            "           0       0.22      0.12      0.16       536\n",
            "           1       0.36      0.16      0.23       688\n",
            "           2       0.24      0.70      0.36       727\n",
            "           3       0.33      0.33      0.33       647\n",
            "           4       0.53      0.11      0.19       290\n",
            "           5       0.00      0.00      0.00       565\n",
            "\n",
            "    accuracy                           0.27      3453\n",
            "   macro avg       0.28      0.24      0.21      3453\n",
            "weighted avg       0.26      0.27      0.22      3453\n",
            "\n",
            "****************************************************************************************************\n",
            "Model: Dtree\n",
            "Confusion Matrix: \n",
            "[[211 111  82  74  20  38]\n",
            " [103 283  92 103  47  60]\n",
            " [ 97 101 286 160  18  65]\n",
            " [ 75  97 110 276  10  79]\n",
            " [ 39  66  32  26 111  16]\n",
            " [ 70  83 104 127  12 169]]\n",
            "Accuracy :  38.6909933391254\n",
            "Classificarion Report : \n",
            "              precision    recall  f1-score   support\n",
            "\n",
            "           0       0.35      0.39      0.37       536\n",
            "           1       0.38      0.41      0.40       688\n",
            "           2       0.41      0.39      0.40       727\n",
            "           3       0.36      0.43      0.39       647\n",
            "           4       0.51      0.38      0.44       290\n",
            "           5       0.40      0.30      0.34       565\n",
            "\n",
            "    accuracy                           0.39      3453\n",
            "   macro avg       0.40      0.38      0.39      3453\n",
            "weighted avg       0.39      0.39      0.39      3453\n",
            "\n",
            "****************************************************************************************************\n",
            "Model: NB\n",
            "Confusion Matrix: \n",
            "[[420  28  43  29  12   4]\n",
            " [536  38  52  32  26   4]\n",
            " [555  44  58  57   7   6]\n",
            " [480  22  54  73   7  11]\n",
            " [195  33  10   7  45   0]\n",
            " [438  14  61  45   3   4]]\n",
            "Accuracy :  18.476686938893717\n",
            "Classificarion Report : \n",
            "              precision    recall  f1-score   support\n",
            "\n",
            "           0       0.16      0.78      0.27       536\n",
            "           1       0.21      0.06      0.09       688\n",
            "           2       0.21      0.08      0.12       727\n",
            "           3       0.30      0.11      0.16       647\n",
            "           4       0.45      0.16      0.23       290\n",
            "           5       0.14      0.01      0.01       565\n",
            "\n",
            "    accuracy                           0.18      3453\n",
            "   macro avg       0.24      0.20      0.15      3453\n",
            "weighted avg       0.23      0.18      0.14      3453\n",
            "\n",
            "****************************************************************************************************\n",
            "Model: XGB\n",
            "Confusion Matrix: \n",
            "[[192 139  85 103  12   5]\n",
            " [ 47 362  98 124  45  12]\n",
            " [ 64 122 320 198  12  11]\n",
            " [ 37  87 109 395  11   8]\n",
            " [ 31  73  43  22 118   3]\n",
            " [ 50  93 127 164  13 118]]\n",
            "Accuracy :  43.58528815522734\n",
            "Classificarion Report : \n",
            "              precision    recall  f1-score   support\n",
            "\n",
            "           0       0.46      0.36      0.40       536\n",
            "           1       0.41      0.53      0.46       688\n",
            "           2       0.41      0.44      0.42       727\n",
            "           3       0.39      0.61      0.48       647\n",
            "           4       0.56      0.41      0.47       290\n",
            "           5       0.75      0.21      0.33       565\n",
            "\n",
            "    accuracy                           0.44      3453\n",
            "   macro avg       0.50      0.43      0.43      3453\n",
            "weighted avg       0.48      0.44      0.43      3453\n",
            "\n"
          ],
          "name": "stdout"
        },
        {
          "output_type": "stream",
          "text": [
            "/usr/local/lib/python3.6/dist-packages/ipykernel_launcher.py:11: DataConversionWarning: A column-vector y was passed when a 1d array was expected. Please change the shape of y to (n_samples,), for example using ravel().\n",
            "  # This is added back by InteractiveShellApp.init_path()\n"
          ],
          "name": "stderr"
        },
        {
          "output_type": "stream",
          "text": [
            "****************************************************************************************************\n",
            "Model: RForest\n",
            "Confusion Matrix: \n",
            "[[200 101  83  84  19  49]\n",
            " [ 82 280  99 103  49  75]\n",
            " [ 82  94 294 169  15  73]\n",
            " [ 68  84 110 287  12  86]\n",
            " [ 32  64  39  21 119  15]\n",
            " [ 71  78 103 125  16 172]]\n",
            "Accuracy :  39.15435852881552\n",
            "Classificarion Report : \n",
            "              precision    recall  f1-score   support\n",
            "\n",
            "           0       0.37      0.37      0.37       536\n",
            "           1       0.40      0.41      0.40       688\n",
            "           2       0.40      0.40      0.40       727\n",
            "           3       0.36      0.44      0.40       647\n",
            "           4       0.52      0.41      0.46       290\n",
            "           5       0.37      0.30      0.33       565\n",
            "\n",
            "    accuracy                           0.39      3453\n",
            "   macro avg       0.40      0.39      0.40      3453\n",
            "weighted avg       0.39      0.39      0.39      3453\n",
            "\n"
          ],
          "name": "stdout"
        },
        {
          "output_type": "stream",
          "text": [
            "/usr/local/lib/python3.6/dist-packages/sklearn/utils/validation.py:760: DataConversionWarning: A column-vector y was passed when a 1d array was expected. Please change the shape of y to (n_samples, ), for example using ravel().\n",
            "  y = column_or_1d(y, warn=True)\n"
          ],
          "name": "stderr"
        },
        {
          "output_type": "stream",
          "text": [
            "****************************************************************************************************\n",
            "Model: SVM\n",
            "Confusion Matrix: \n",
            "[[198 126  98  79  16  19]\n",
            " [ 62 353 112 100  34  27]\n",
            " [ 59 124 356 133  18  37]\n",
            " [ 52  94 127 313  14  47]\n",
            " [ 37  70  37  16 124   6]\n",
            " [ 52  98 127 128  17 143]]\n",
            "Accuracy :  43.06400231682595\n",
            "Classificarion Report : \n",
            "              precision    recall  f1-score   support\n",
            "\n",
            "           0       0.43      0.37      0.40       536\n",
            "           1       0.41      0.51      0.45       688\n",
            "           2       0.42      0.49      0.45       727\n",
            "           3       0.41      0.48      0.44       647\n",
            "           4       0.56      0.43      0.48       290\n",
            "           5       0.51      0.25      0.34       565\n",
            "\n",
            "    accuracy                           0.43      3453\n",
            "   macro avg       0.45      0.42      0.43      3453\n",
            "weighted avg       0.44      0.43      0.43      3453\n",
            "\n"
          ],
          "name": "stdout"
        },
        {
          "output_type": "stream",
          "text": [
            "/usr/local/lib/python3.6/dist-packages/ipykernel_launcher.py:11: DataConversionWarning: A column-vector y was passed when a 1d array was expected. Please change the shape of y to (n_samples, ), for example using ravel().\n",
            "  # This is added back by InteractiveShellApp.init_path()\n"
          ],
          "name": "stderr"
        },
        {
          "output_type": "stream",
          "text": [
            "****************************************************************************************************\n",
            "Model: KNN\n",
            "Confusion Matrix: \n",
            "[[281  80  81  49  22  23]\n",
            " [167 296  94  55  45  31]\n",
            " [209  99 292  74  22  31]\n",
            " [175  76 148 204  11  33]\n",
            " [ 60  52  43  14 115   6]\n",
            " [153  65 122  62  18 145]]\n",
            "Accuracy :  38.6041123660585\n",
            "Classificarion Report : \n",
            "              precision    recall  f1-score   support\n",
            "\n",
            "           0       0.27      0.52      0.36       536\n",
            "           1       0.44      0.43      0.44       688\n",
            "           2       0.37      0.40      0.39       727\n",
            "           3       0.45      0.32      0.37       647\n",
            "           4       0.49      0.40      0.44       290\n",
            "           5       0.54      0.26      0.35       565\n",
            "\n",
            "    accuracy                           0.39      3453\n",
            "   macro avg       0.43      0.39      0.39      3453\n",
            "weighted avg       0.42      0.39      0.39      3453\n",
            "\n"
          ],
          "name": "stdout"
        },
        {
          "output_type": "execute_result",
          "data": {
            "text/plain": [
              "KNeighborsClassifier(algorithm='auto', leaf_size=30, metric='minkowski',\n",
              "                     metric_params=None, n_jobs=None, n_neighbors=5, p=2,\n",
              "                     weights='uniform')"
            ]
          },
          "metadata": {
            "tags": []
          },
          "execution_count": 39
        },
        {
          "output_type": "display_data",
          "data": {
            "image/png": "[encoded data removed]",
            "text/plain": [
              "<Figure size 1152x432 with 1 Axes>"
            ]
          },
          "metadata": {
            "tags": []
          }
        }
      ]
    },
    {
      "cell_type": "markdown",
      "metadata": {
        "id": "TQmoHGR0f0E1",
        "colab_type": "text"
      },
      "source": [
        "when we added the count columns, our accuracy bumped up more than twice and xgb along with svm fared best"
      ]
    },
    {
      "cell_type": "markdown",
      "metadata": {
        "id": "XnNWToJrh_HL",
        "colab_type": "text"
      },
      "source": [
        "#NER"
      ]
    },
    {
      "cell_type": "markdown",
      "metadata": {
        "id": "bvARJmLAhIU8",
        "colab_type": "text"
      },
      "source": [
        "Now lets use Named Entity Recognition and do feature engineering"
      ]
    },
    {
      "cell_type": "code",
      "metadata": {
        "id": "isjIgQGUflHI",
        "colab_type": "code",
        "colab": {}
      },
      "source": [
        "import spacy\n",
        "# Load English tokenizer, tagger, parser, NER and word vectors\n",
        "nlp = spacy.load(\"en_core_web_sm\")\n",
        "def generate_ner(text):\n",
        "    doc = nlp(text)\n",
        "    return [str(chunk) for chunk in doc.noun_chunks] + [str(token) for token in doc if token.pos_ == \"VERB\"]\n",
        "\n",
        "def generate_ner_verb(text):\n",
        "    doc = nlp(text)\n",
        "    return [str(token) for token in doc if token.pos_ == \"VERB\"]\n",
        "\n",
        "def spacy_similarity(t1,t2):\n",
        "    doc1 = nlp(t1)\n",
        "    doc2 = nlp(t2)\n",
        "    return doc1.similarity(doc2)"
      ],
      "execution_count": 0,
      "outputs": []
    },
    {
      "cell_type": "code",
      "metadata": {
        "id": "eTSxf1NdhiZa",
        "colab_type": "code",
        "colab": {}
      },
      "source": [
        "liar['noVeStatement'] = liar['finalStatement'].apply(lambda x: ' '.join(generate_ner(x)))"
      ],
      "execution_count": 0,
      "outputs": []
    },
    {
      "cell_type": "code",
      "metadata": {
        "id": "V_9YfISYiJLO",
        "colab_type": "code",
        "colab": {}
      },
      "source": [
        "liar['noVeSubject'] = liar['subjectSynonyms'].apply(lambda x: ' '.join(generate_ner(x)))"
      ],
      "execution_count": 0,
      "outputs": []
    },
    {
      "cell_type": "code",
      "metadata": {
        "id": "KVKDkTQqiPQb",
        "colab_type": "code",
        "colab": {}
      },
      "source": [
        "liar['nerScore'] = liar.apply(lambda x: (spacy_similarity(x.noVeSubject,x.noVeStatement)),axis=1)"
      ],
      "execution_count": 0,
      "outputs": []
    },
    {
      "cell_type": "code",
      "metadata": {
        "id": "yv6NMjI7iTaD",
        "colab_type": "code",
        "colab": {}
      },
      "source": [
        "liar_clean3 = liar[['nerScore','cosineSim','label','barely_true_counts', 'false_counts', 'half_true_counts','mostly_true_counts', 'pants_on_fire_counts']]"
      ],
      "execution_count": 0,
      "outputs": []
    },
    {
      "cell_type": "code",
      "metadata": {
        "id": "OjY7_iDEoLRv",
        "colab_type": "code",
        "colab": {}
      },
      "source": [
        "liar_clean3=liar_clean3.fillna(0)\n",
        "X=liar_clean3.loc[:,liar_clean3.columns!='label']\n",
        "Y=liar_clean3.loc[:,liar_clean3.columns=='label']\n",
        "X_train, X_test, y_train, y_test = train_test_split(X, Y, test_size=0.3, random_state=1)"
      ],
      "execution_count": 0,
      "outputs": []
    },
    {
      "cell_type": "markdown",
      "metadata": {
        "id": "AGLSYjShro9Z",
        "colab_type": "text"
      },
      "source": [
        "# Running models with NER scores combined"
      ]
    },
    {
      "cell_type": "code",
      "metadata": {
        "id": "CmyAX1MloTQC",
        "colab_type": "code",
        "colab": {
          "base_uri": "https://localhost:8080/",
          "height": 1000
        },
        "outputId": "640a620c-b15c-4a7b-d28f-b34860183ab9"
      },
      "source": [
        "fitModelsAndPredict(models_dict,X_train,y_train,X_test,y_test)"
      ],
      "execution_count": 46,
      "outputs": [
        {
          "output_type": "stream",
          "text": [
            "/usr/local/lib/python3.6/dist-packages/sklearn/utils/validation.py:760: DataConversionWarning: A column-vector y was passed when a 1d array was expected. Please change the shape of y to (n_samples, ), for example using ravel().\n",
            "  y = column_or_1d(y, warn=True)\n",
            "/usr/local/lib/python3.6/dist-packages/sklearn/linear_model/_logistic.py:940: ConvergenceWarning: lbfgs failed to converge (status=1):\n",
            "STOP: TOTAL NO. of ITERATIONS REACHED LIMIT.\n",
            "\n",
            "Increase the number of iterations (max_iter) or scale the data as shown in:\n",
            "    https://scikit-learn.org/stable/modules/preprocessing.html\n",
            "Please also refer to the documentation for alternative solver options:\n",
            "    https://scikit-learn.org/stable/modules/linear_model.html#logistic-regression\n",
            "  extra_warning_msg=_LOGISTIC_SOLVER_CONVERGENCE_MSG)\n",
            "/usr/local/lib/python3.6/dist-packages/sklearn/metrics/_classification.py:1272: UndefinedMetricWarning: Precision and F-score are ill-defined and being set to 0.0 in labels with no predicted samples. Use `zero_division` parameter to control this behavior.\n",
            "  _warn_prf(average, modifier, msg_start, len(result))\n",
            "/usr/local/lib/python3.6/dist-packages/sklearn/naive_bayes.py:206: DataConversionWarning: A column-vector y was passed when a 1d array was expected. Please change the shape of y to (n_samples, ), for example using ravel().\n",
            "  y = column_or_1d(y, warn=True)\n",
            "/usr/local/lib/python3.6/dist-packages/sklearn/preprocessing/_label.py:235: DataConversionWarning: A column-vector y was passed when a 1d array was expected. Please change the shape of y to (n_samples, ), for example using ravel().\n",
            "  y = column_or_1d(y, warn=True)\n",
            "/usr/local/lib/python3.6/dist-packages/sklearn/preprocessing/_label.py:268: DataConversionWarning: A column-vector y was passed when a 1d array was expected. Please change the shape of y to (n_samples, ), for example using ravel().\n",
            "  y = column_or_1d(y, warn=True)\n"
          ],
          "name": "stderr"
        },
        {
          "output_type": "stream",
          "text": [
            "****************************************************************************************************\n",
            "Model: LogisticRegression\n",
            "Confusion Matrix: \n",
            "[[ 66  43 319 101   7   0]\n",
            " [ 52 159 348 110  19   0]\n",
            " [ 72  61 466 124   4   0]\n",
            " [ 48  61 248 289   1   0]\n",
            " [ 21  70 133  40  26   0]\n",
            " [ 32  39 337 155   2   0]]\n",
            "Accuracy :  29.134086301766583\n",
            "Classificarion Report : \n",
            "              precision    recall  f1-score   support\n",
            "\n",
            "           0       0.23      0.12      0.16       536\n",
            "           1       0.37      0.23      0.28       688\n",
            "           2       0.25      0.64      0.36       727\n",
            "           3       0.35      0.45      0.39       647\n",
            "           4       0.44      0.09      0.15       290\n",
            "           5       0.00      0.00      0.00       565\n",
            "\n",
            "    accuracy                           0.29      3453\n",
            "   macro avg       0.27      0.26      0.22      3453\n",
            "weighted avg       0.26      0.29      0.24      3453\n",
            "\n",
            "****************************************************************************************************\n",
            "Model: Dtree\n",
            "Confusion Matrix: \n",
            "[[207  93  76  80  29  51]\n",
            " [ 89 269 105 111  46  68]\n",
            " [102 107 268 128  37  85]\n",
            " [ 84  84 101 250  28 100]\n",
            " [ 31  61  37  30 105  26]\n",
            " [ 82  84  96 105  14 184]]\n",
            "Accuracy :  37.15609614827686\n",
            "Classificarion Report : \n",
            "              precision    recall  f1-score   support\n",
            "\n",
            "           0       0.35      0.39      0.37       536\n",
            "           1       0.39      0.39      0.39       688\n",
            "           2       0.39      0.37      0.38       727\n",
            "           3       0.36      0.39      0.37       647\n",
            "           4       0.41      0.36      0.38       290\n",
            "           5       0.36      0.33      0.34       565\n",
            "\n",
            "    accuracy                           0.37      3453\n",
            "   macro avg       0.37      0.37      0.37      3453\n",
            "weighted avg       0.37      0.37      0.37      3453\n",
            "\n",
            "****************************************************************************************************\n",
            "Model: NB\n",
            "Confusion Matrix: \n",
            "[[418  30  34  35  12   7]\n",
            " [418  41  42  42  26 119]\n",
            " [530  40  49  71   7  30]\n",
            " [449  21  40  90   7  40]\n",
            " [145  29  12   8  49  47]\n",
            " [379  17  50  53   3  63]]\n",
            "Accuracy :  20.561830292499277\n",
            "Classificarion Report : \n",
            "              precision    recall  f1-score   support\n",
            "\n",
            "           0       0.18      0.78      0.29       536\n",
            "           1       0.23      0.06      0.09       688\n",
            "           2       0.22      0.07      0.10       727\n",
            "           3       0.30      0.14      0.19       647\n",
            "           4       0.47      0.17      0.25       290\n",
            "           5       0.21      0.11      0.14       565\n",
            "\n",
            "    accuracy                           0.21      3453\n",
            "   macro avg       0.27      0.22      0.18      3453\n",
            "weighted avg       0.25      0.21      0.17      3453\n",
            "\n",
            "****************************************************************************************************\n",
            "Model: XGB\n",
            "Confusion Matrix: \n",
            "[[180 144 112  82  11   7]\n",
            " [ 43 366 120  99  47  13]\n",
            " [ 55 135 364 147  12  14]\n",
            " [ 28  99 154 341  10  15]\n",
            " [ 28  75  46  20 116   5]\n",
            " [ 45 109 140 136  11 124]]\n",
            "Accuracy :  43.17984361424848\n",
            "Classificarion Report : \n",
            "              precision    recall  f1-score   support\n",
            "\n",
            "           0       0.47      0.34      0.39       536\n",
            "           1       0.39      0.53      0.45       688\n",
            "           2       0.39      0.50      0.44       727\n",
            "           3       0.41      0.53      0.46       647\n",
            "           4       0.56      0.40      0.47       290\n",
            "           5       0.70      0.22      0.33       565\n",
            "\n",
            "    accuracy                           0.43      3453\n",
            "   macro avg       0.49      0.42      0.42      3453\n",
            "weighted avg       0.47      0.43      0.42      3453\n",
            "\n"
          ],
          "name": "stdout"
        },
        {
          "output_type": "stream",
          "text": [
            "/usr/local/lib/python3.6/dist-packages/ipykernel_launcher.py:11: DataConversionWarning: A column-vector y was passed when a 1d array was expected. Please change the shape of y to (n_samples,), for example using ravel().\n",
            "  # This is added back by InteractiveShellApp.init_path()\n"
          ],
          "name": "stderr"
        },
        {
          "output_type": "stream",
          "text": [
            "****************************************************************************************************\n",
            "Model: RForest\n",
            "Confusion Matrix: \n",
            "[[184 120  84  71  27  50]\n",
            " [ 91 280 102 103  51  61]\n",
            " [ 89 106 290 140  30  72]\n",
            " [ 72  90 100 260  25 100]\n",
            " [ 33  55  44  30 108  20]\n",
            " [ 73  86  97 109  14 186]]\n",
            "Accuracy :  37.88010425716768\n",
            "Classificarion Report : \n",
            "              precision    recall  f1-score   support\n",
            "\n",
            "           0       0.34      0.34      0.34       536\n",
            "           1       0.38      0.41      0.39       688\n",
            "           2       0.40      0.40      0.40       727\n",
            "           3       0.36      0.40      0.38       647\n",
            "           4       0.42      0.37      0.40       290\n",
            "           5       0.38      0.33      0.35       565\n",
            "\n",
            "    accuracy                           0.38      3453\n",
            "   macro avg       0.38      0.38      0.38      3453\n",
            "weighted avg       0.38      0.38      0.38      3453\n",
            "\n"
          ],
          "name": "stdout"
        },
        {
          "output_type": "stream",
          "text": [
            "/usr/local/lib/python3.6/dist-packages/sklearn/utils/validation.py:760: DataConversionWarning: A column-vector y was passed when a 1d array was expected. Please change the shape of y to (n_samples, ), for example using ravel().\n",
            "  y = column_or_1d(y, warn=True)\n"
          ],
          "name": "stderr"
        },
        {
          "output_type": "stream",
          "text": [
            "****************************************************************************************************\n",
            "Model: SVM\n",
            "Confusion Matrix: \n",
            "[[201 119 106  76  16  18]\n",
            " [ 64 346 121  92  38  27]\n",
            " [ 59 121 371 124  16  36]\n",
            " [ 52  96 143 297  13  46]\n",
            " [ 38  66  37  18 125   6]\n",
            " [ 53  95 140 119  16 142]]\n",
            "Accuracy :  42.919200695047785\n",
            "Classificarion Report : \n",
            "              precision    recall  f1-score   support\n",
            "\n",
            "           0       0.43      0.38      0.40       536\n",
            "           1       0.41      0.50      0.45       688\n",
            "           2       0.40      0.51      0.45       727\n",
            "           3       0.41      0.46      0.43       647\n",
            "           4       0.56      0.43      0.49       290\n",
            "           5       0.52      0.25      0.34       565\n",
            "\n",
            "    accuracy                           0.43      3453\n",
            "   macro avg       0.45      0.42      0.43      3453\n",
            "weighted avg       0.44      0.43      0.42      3453\n",
            "\n"
          ],
          "name": "stdout"
        },
        {
          "output_type": "stream",
          "text": [
            "/usr/local/lib/python3.6/dist-packages/ipykernel_launcher.py:11: DataConversionWarning: A column-vector y was passed when a 1d array was expected. Please change the shape of y to (n_samples, ), for example using ravel().\n",
            "  # This is added back by InteractiveShellApp.init_path()\n"
          ],
          "name": "stderr"
        },
        {
          "output_type": "stream",
          "text": [
            "****************************************************************************************************\n",
            "Model: KNN\n",
            "Confusion Matrix: \n",
            "[[243  99  82  72  17  23]\n",
            " [147 287 109  66  34  45]\n",
            " [155 107 300  91  17  57]\n",
            " [112 104 129 239   9  54]\n",
            " [ 50  68  38  23 101  10]\n",
            " [107  85 113  76  17 167]]\n",
            "Accuracy :  38.719953663481036\n",
            "Classificarion Report : \n",
            "              precision    recall  f1-score   support\n",
            "\n",
            "           0       0.30      0.45      0.36       536\n",
            "           1       0.38      0.42      0.40       688\n",
            "           2       0.39      0.41      0.40       727\n",
            "           3       0.42      0.37      0.39       647\n",
            "           4       0.52      0.35      0.42       290\n",
            "           5       0.47      0.30      0.36       565\n",
            "\n",
            "    accuracy                           0.39      3453\n",
            "   macro avg       0.41      0.38      0.39      3453\n",
            "weighted avg       0.40      0.39      0.39      3453\n",
            "\n"
          ],
          "name": "stdout"
        },
        {
          "output_type": "execute_result",
          "data": {
            "text/plain": [
              "KNeighborsClassifier(algorithm='auto', leaf_size=30, metric='minkowski',\n",
              "                     metric_params=None, n_jobs=None, n_neighbors=5, p=2,\n",
              "                     weights='uniform')"
            ]
          },
          "metadata": {
            "tags": []
          },
          "execution_count": 46
        },
        {
          "output_type": "display_data",
          "data": {
            "image/png": "[encoded data removed]",
            "text/plain": [
              "<Figure size 1152x432 with 1 Axes>"
            ]
          },
          "metadata": {
            "tags": []
          }
        }
      ]
    },
    {
      "cell_type": "markdown",
      "metadata": {
        "id": "ew--pvepoyhV",
        "colab_type": "text"
      },
      "source": [
        "sfter our NER intro, there is a very slight bump in accuracy for xgb model. but apart from this, almost all models gave very similar accuracies compared to previous ones"
      ]
    },
    {
      "cell_type": "code",
      "metadata": {
        "id": "MlUxfwdRoXyB",
        "colab_type": "code",
        "colab": {}
      },
      "source": [
        "# liar "
      ],
      "execution_count": 0,
      "outputs": []
    },
    {
      "cell_type": "markdown",
      "metadata": {
        "id": "lJnUJoTFpoqX",
        "colab_type": "text"
      },
      "source": [
        "#sentiment analysis"
      ]
    },
    {
      "cell_type": "markdown",
      "metadata": {
        "id": "kNG9zKx3pr0G",
        "colab_type": "text"
      },
      "source": [
        "now lets add sentiment analysis scores using our title and body"
      ]
    },
    {
      "cell_type": "code",
      "metadata": {
        "id": "aZILfvNjpiJk",
        "colab_type": "code",
        "colab": {
          "base_uri": "https://localhost:8080/",
          "height": 118
        },
        "outputId": "0be8a3d1-74f4-4311-b8a9-03311c4462a1"
      },
      "source": [
        "!pip install vaderSentiment\n",
        "from vaderSentiment.vaderSentiment import SentimentIntensityAnalyzer\n",
        "analyser = SentimentIntensityAnalyzer()\n",
        "def sentiment_analyzer_scores(sentence):\n",
        "    score = analyser.polarity_scores(sentence)\n",
        "    return score"
      ],
      "execution_count": 50,
      "outputs": [
        {
          "output_type": "stream",
          "text": [
            "Collecting vaderSentiment\n",
            "\u001b[?25l  Downloading https://files.pythonhosted.org/packages/44/a3/1218a3b5651dbcba1699101c84e5c84c36cbba360d9dbf29f2ff18482982/vaderSentiment-3.3.1-py2.py3-none-any.whl (125kB)\n",
            "\r\u001b[K     |██▋                             | 10kB 6.7MB/s eta 0:00:01\r\u001b[K     |█████▏                          | 20kB 1.4MB/s eta 0:00:01\r\u001b[K     |███████▉                        | 30kB 1.9MB/s eta 0:00:01\r\u001b[K     |██████████▍                     | 40kB 1.5MB/s eta 0:00:01\r\u001b[K     |█████████████                   | 51kB 1.8MB/s eta 0:00:01\r\u001b[K     |███████████████▋                | 61kB 2.0MB/s eta 0:00:01\r\u001b[K     |██████████████████▎             | 71kB 2.2MB/s eta 0:00:01\r\u001b[K     |████████████████████▉           | 81kB 2.4MB/s eta 0:00:01\r\u001b[K     |███████████████████████▍        | 92kB 2.6MB/s eta 0:00:01\r\u001b[K     |██████████████████████████      | 102kB 2.6MB/s eta 0:00:01\r\u001b[K     |████████████████████████████▋   | 112kB 2.6MB/s eta 0:00:01\r\u001b[K     |███████████████████████████████▎| 122kB 2.6MB/s eta 0:00:01\r\u001b[K     |████████████████████████████████| 133kB 2.6MB/s \n",
            "\u001b[?25hInstalling collected packages: vaderSentiment\n",
            "Successfully installed vaderSentiment-3.3.1\n"
          ],
          "name": "stdout"
        }
      ]
    },
    {
      "cell_type": "code",
      "metadata": {
        "id": "fyif2UfaqECl",
        "colab_type": "code",
        "colab": {}
      },
      "source": [
        "liar['positiveScore']=liar['test_string'].apply(lambda x: sentiment_analyzer_scores(x)['pos'])\n",
        "liar['negativeScore']=liar['test_string'].apply(lambda x: sentiment_analyzer_scores(x)['neg'])\n",
        "liar['neutralScore']=liar['test_string'].apply(lambda x: sentiment_analyzer_scores(x)['neu'])"
      ],
      "execution_count": 0,
      "outputs": []
    },
    {
      "cell_type": "code",
      "metadata": {
        "id": "ycS4DxL1qX1G",
        "colab_type": "code",
        "colab": {}
      },
      "source": [
        "liar_clean4 = liar[['nerScore','cosineSim','label','barely_true_counts', 'false_counts', 'half_true_counts','mostly_true_counts', 'pants_on_fire_counts','positiveScore','negativeScore','neutralScore']]"
      ],
      "execution_count": 0,
      "outputs": []
    },
    {
      "cell_type": "code",
      "metadata": {
        "id": "S-DTdHvaqaER",
        "colab_type": "code",
        "colab": {}
      },
      "source": [
        "liar_clean4=liar_clean4.fillna(0)\n",
        "X=liar_clean4.loc[:,liar_clean4.columns!='label']\n",
        "Y=liar_clean4.loc[:,liar_clean4.columns=='label']\n",
        "X_train, X_test, y_train, y_test = train_test_split(X, Y, test_size=0.3, random_state=1)"
      ],
      "execution_count": 0,
      "outputs": []
    },
    {
      "cell_type": "markdown",
      "metadata": {
        "id": "5caMQqmnreen",
        "colab_type": "text"
      },
      "source": [
        "# running models with senti score combined"
      ]
    },
    {
      "cell_type": "code",
      "metadata": {
        "id": "gFsWIbxBq6j-",
        "colab_type": "code",
        "colab": {
          "base_uri": "https://localhost:8080/",
          "height": 1000
        },
        "outputId": "889a7e3d-82be-482f-fd4f-63802d93a5a8"
      },
      "source": [
        "fitModelsAndPredict(models_dict,X_train,y_train,X_test,y_test)"
      ],
      "execution_count": 59,
      "outputs": [
        {
          "output_type": "stream",
          "text": [
            "/usr/local/lib/python3.6/dist-packages/sklearn/utils/validation.py:760: DataConversionWarning: A column-vector y was passed when a 1d array was expected. Please change the shape of y to (n_samples, ), for example using ravel().\n",
            "  y = column_or_1d(y, warn=True)\n",
            "/usr/local/lib/python3.6/dist-packages/sklearn/linear_model/_logistic.py:940: ConvergenceWarning: lbfgs failed to converge (status=1):\n",
            "STOP: TOTAL NO. of ITERATIONS REACHED LIMIT.\n",
            "\n",
            "Increase the number of iterations (max_iter) or scale the data as shown in:\n",
            "    https://scikit-learn.org/stable/modules/preprocessing.html\n",
            "Please also refer to the documentation for alternative solver options:\n",
            "    https://scikit-learn.org/stable/modules/linear_model.html#logistic-regression\n",
            "  extra_warning_msg=_LOGISTIC_SOLVER_CONVERGENCE_MSG)\n",
            "/usr/local/lib/python3.6/dist-packages/sklearn/metrics/_classification.py:1272: UndefinedMetricWarning: Precision and F-score are ill-defined and being set to 0.0 in labels with no predicted samples. Use `zero_division` parameter to control this behavior.\n",
            "  _warn_prf(average, modifier, msg_start, len(result))\n",
            "/usr/local/lib/python3.6/dist-packages/sklearn/naive_bayes.py:206: DataConversionWarning: A column-vector y was passed when a 1d array was expected. Please change the shape of y to (n_samples, ), for example using ravel().\n",
            "  y = column_or_1d(y, warn=True)\n",
            "/usr/local/lib/python3.6/dist-packages/sklearn/preprocessing/_label.py:235: DataConversionWarning: A column-vector y was passed when a 1d array was expected. Please change the shape of y to (n_samples, ), for example using ravel().\n",
            "  y = column_or_1d(y, warn=True)\n",
            "/usr/local/lib/python3.6/dist-packages/sklearn/preprocessing/_label.py:268: DataConversionWarning: A column-vector y was passed when a 1d array was expected. Please change the shape of y to (n_samples, ), for example using ravel().\n",
            "  y = column_or_1d(y, warn=True)\n"
          ],
          "name": "stderr"
        },
        {
          "output_type": "stream",
          "text": [
            "****************************************************************************************************\n",
            "Model: LogisticRegression\n",
            "Confusion Matrix: \n",
            "[[ 67  39 314 105  11   0]\n",
            " [ 53 142 363 105  25   0]\n",
            " [ 72  55 497  97   6   0]\n",
            " [ 50  49 233 310   5   0]\n",
            " [ 20  55 135  42  38   0]\n",
            " [ 33  32 359 139   2   0]]\n",
            "Accuracy :  30.52418187083695\n",
            "Classificarion Report : \n",
            "              precision    recall  f1-score   support\n",
            "\n",
            "           0       0.23      0.12      0.16       536\n",
            "           1       0.38      0.21      0.27       688\n",
            "           2       0.26      0.68      0.38       727\n",
            "           3       0.39      0.48      0.43       647\n",
            "           4       0.44      0.13      0.20       290\n",
            "           5       0.00      0.00      0.00       565\n",
            "\n",
            "    accuracy                           0.31      3453\n",
            "   macro avg       0.28      0.27      0.24      3453\n",
            "weighted avg       0.28      0.31      0.26      3453\n",
            "\n",
            "****************************************************************************************************\n",
            "Model: Dtree\n",
            "Confusion Matrix: \n",
            "[[192  95  96  70  26  57]\n",
            " [ 88 264 120  77  58  81]\n",
            " [ 96  99 285 113  32 102]\n",
            " [ 83 104  96 236  22 106]\n",
            " [ 48  47  46  35  93  21]\n",
            " [ 84  79  96  93  16 197]]\n",
            "Accuracy :  36.692730958586736\n",
            "Classificarion Report : \n",
            "              precision    recall  f1-score   support\n",
            "\n",
            "           0       0.32      0.36      0.34       536\n",
            "           1       0.38      0.38      0.38       688\n",
            "           2       0.39      0.39      0.39       727\n",
            "           3       0.38      0.36      0.37       647\n",
            "           4       0.38      0.32      0.35       290\n",
            "           5       0.35      0.35      0.35       565\n",
            "\n",
            "    accuracy                           0.37      3453\n",
            "   macro avg       0.37      0.36      0.36      3453\n",
            "weighted avg       0.37      0.37      0.37      3453\n",
            "\n",
            "****************************************************************************************************\n",
            "Model: NB\n",
            "Confusion Matrix: \n",
            "[[361  29  34  35  12  65]\n",
            " [472  40  42  45  25  64]\n",
            " [473  38  51  69   7  89]\n",
            " [430  19  46  83   7  62]\n",
            " [161  28  12  12  51  26]\n",
            " [380  14  45  60   3  63]]\n",
            "Accuracy :  18.795250506805676\n",
            "Classificarion Report : \n",
            "              precision    recall  f1-score   support\n",
            "\n",
            "           0       0.16      0.67      0.26       536\n",
            "           1       0.24      0.06      0.09       688\n",
            "           2       0.22      0.07      0.11       727\n",
            "           3       0.27      0.13      0.17       647\n",
            "           4       0.49      0.18      0.26       290\n",
            "           5       0.17      0.11      0.13       565\n",
            "\n",
            "    accuracy                           0.19      3453\n",
            "   macro avg       0.26      0.20      0.17      3453\n",
            "weighted avg       0.24      0.19      0.16      3453\n",
            "\n",
            "****************************************************************************************************\n",
            "Model: XGB\n",
            "Confusion Matrix: \n",
            "[[179 141 108  90  11   7]\n",
            " [ 51 357 110 109  44  17]\n",
            " [ 54 125 361 156  15  16]\n",
            " [ 27  84 146 348  13  29]\n",
            " [ 25  80  45  23 116   1]\n",
            " [ 36 105 135 147  11 131]]\n",
            "Accuracy :  43.20880393860411\n",
            "Classificarion Report : \n",
            "              precision    recall  f1-score   support\n",
            "\n",
            "           0       0.48      0.33      0.39       536\n",
            "           1       0.40      0.52      0.45       688\n",
            "           2       0.40      0.50      0.44       727\n",
            "           3       0.40      0.54      0.46       647\n",
            "           4       0.55      0.40      0.46       290\n",
            "           5       0.65      0.23      0.34       565\n",
            "\n",
            "    accuracy                           0.43      3453\n",
            "   macro avg       0.48      0.42      0.43      3453\n",
            "weighted avg       0.47      0.43      0.43      3453\n",
            "\n"
          ],
          "name": "stdout"
        },
        {
          "output_type": "stream",
          "text": [
            "/usr/local/lib/python3.6/dist-packages/ipykernel_launcher.py:11: DataConversionWarning: A column-vector y was passed when a 1d array was expected. Please change the shape of y to (n_samples,), for example using ravel().\n",
            "  # This is added back by InteractiveShellApp.init_path()\n"
          ],
          "name": "stderr"
        },
        {
          "output_type": "stream",
          "text": [
            "****************************************************************************************************\n",
            "Model: RForest\n",
            "Confusion Matrix: \n",
            "[[200  99  87  85  24  41]\n",
            " [ 95 284 113  78  51  67]\n",
            " [ 96 115 317 111  16  72]\n",
            " [ 77  95  98 268  20  89]\n",
            " [ 41  58  46  27 102  16]\n",
            " [ 62  78 119  96  17 193]]\n",
            "Accuracy :  39.50188242108312\n",
            "Classificarion Report : \n",
            "              precision    recall  f1-score   support\n",
            "\n",
            "           0       0.35      0.37      0.36       536\n",
            "           1       0.39      0.41      0.40       688\n",
            "           2       0.41      0.44      0.42       727\n",
            "           3       0.40      0.41      0.41       647\n",
            "           4       0.44      0.35      0.39       290\n",
            "           5       0.40      0.34      0.37       565\n",
            "\n",
            "    accuracy                           0.40      3453\n",
            "   macro avg       0.40      0.39      0.39      3453\n",
            "weighted avg       0.40      0.40      0.39      3453\n",
            "\n"
          ],
          "name": "stdout"
        },
        {
          "output_type": "stream",
          "text": [
            "/usr/local/lib/python3.6/dist-packages/sklearn/utils/validation.py:760: DataConversionWarning: A column-vector y was passed when a 1d array was expected. Please change the shape of y to (n_samples, ), for example using ravel().\n",
            "  y = column_or_1d(y, warn=True)\n"
          ],
          "name": "stderr"
        },
        {
          "output_type": "stream",
          "text": [
            "****************************************************************************************************\n",
            "Model: SVM\n",
            "Confusion Matrix: \n",
            "[[209 121  93  80  16  17]\n",
            " [ 77 346  98 107  34  26]\n",
            " [ 67 123 332 152  17  36]\n",
            " [ 53  96 112 327  13  46]\n",
            " [ 40  66  34  20 125   5]\n",
            " [ 56  97 116 139  15 142]]\n",
            "Accuracy :  42.89024037069215\n",
            "Classificarion Report : \n",
            "              precision    recall  f1-score   support\n",
            "\n",
            "           0       0.42      0.39      0.40       536\n",
            "           1       0.41      0.50      0.45       688\n",
            "           2       0.42      0.46      0.44       727\n",
            "           3       0.40      0.51      0.44       647\n",
            "           4       0.57      0.43      0.49       290\n",
            "           5       0.52      0.25      0.34       565\n",
            "\n",
            "    accuracy                           0.43      3453\n",
            "   macro avg       0.46      0.42      0.43      3453\n",
            "weighted avg       0.44      0.43      0.42      3453\n",
            "\n"
          ],
          "name": "stdout"
        },
        {
          "output_type": "stream",
          "text": [
            "/usr/local/lib/python3.6/dist-packages/ipykernel_launcher.py:11: DataConversionWarning: A column-vector y was passed when a 1d array was expected. Please change the shape of y to (n_samples, ), for example using ravel().\n",
            "  # This is added back by InteractiveShellApp.init_path()\n"
          ],
          "name": "stderr"
        },
        {
          "output_type": "stream",
          "text": [
            "****************************************************************************************************\n",
            "Model: KNN\n",
            "Confusion Matrix: \n",
            "[[249  87  86  66  24  24]\n",
            " [137 297 105  75  37  37]\n",
            " [143 115 294 102  19  54]\n",
            " [120 103 107 244  15  58]\n",
            " [ 58  54  42  19 104  13]\n",
            " [ 97  98 109  79  14 168]]\n",
            "Accuracy :  39.270199826238056\n",
            "Classificarion Report : \n",
            "              precision    recall  f1-score   support\n",
            "\n",
            "           0       0.31      0.46      0.37       536\n",
            "           1       0.39      0.43      0.41       688\n",
            "           2       0.40      0.40      0.40       727\n",
            "           3       0.42      0.38      0.40       647\n",
            "           4       0.49      0.36      0.41       290\n",
            "           5       0.47      0.30      0.37       565\n",
            "\n",
            "    accuracy                           0.39      3453\n",
            "   macro avg       0.41      0.39      0.39      3453\n",
            "weighted avg       0.41      0.39      0.39      3453\n",
            "\n"
          ],
          "name": "stdout"
        },
        {
          "output_type": "execute_result",
          "data": {
            "text/plain": [
              "KNeighborsClassifier(algorithm='auto', leaf_size=30, metric='minkowski',\n",
              "                     metric_params=None, n_jobs=None, n_neighbors=5, p=2,\n",
              "                     weights='uniform')"
            ]
          },
          "metadata": {
            "tags": []
          },
          "execution_count": 59
        },
        {
          "output_type": "display_data",
          "data": {
            "image/png": "[encoded data removed]",
            "text/plain": [
              "<Figure size 1152x432 with 1 Axes>"
            ]
          },
          "metadata": {
            "tags": []
          }
        }
      ]
    },
    {
      "cell_type": "markdown",
      "metadata": {
        "id": "zt3iyy1lrGwc",
        "colab_type": "text"
      },
      "source": [
        "even though after applying the sentiment scores of both title and body, we only get a fraction of increase in average. Still i believe it has something to do with improvement"
      ]
    },
    {
      "cell_type": "markdown",
      "metadata": {
        "id": "Db9bu1uXumhj",
        "colab_type": "text"
      },
      "source": [
        "#downloading Kaggle News Dataset"
      ]
    },
    {
      "cell_type": "code",
      "metadata": {
        "id": "mzXQdG6tq-SE",
        "colab_type": "code",
        "colab": {}
      },
      "source": [
        "# link = 'https://drive.google.com/open?id=1wMizWzlDLkm8pIFEVPeqqlP8m-sCalWm'\n",
        "# fluff1, id1 = link.split('=')\n",
        "# print (id) # Verify that you have everything after '='\n",
        "# downloaded = drive.CreateFile({'id':id1}) \n",
        "# downloaded.GetContentFile('train.csv')\n",
        "\n",
        "link = ' https://drive.google.com/open?id=1wMizWzlDLkm8pIFEVPeqqlP8m-sCalWm'\n",
        "fluff, id = link.split('=')\n",
        "\n",
        "downloaded = drive.CreateFile({'id':id}) \n",
        "downloaded.GetContentFile('fakeNews.csv')"
      ],
      "execution_count": 0,
      "outputs": []
    },
    {
      "cell_type": "code",
      "metadata": {
        "id": "FuOTQ3HWu9dl",
        "colab_type": "code",
        "colab": {
          "base_uri": "https://localhost:8080/",
          "height": 33
        },
        "outputId": "68713491-9c17-4841-f1c7-5be6c9ef4c2e"
      },
      "source": [
        "link = 'https://drive.google.com/open?id=18z6S7CzSPgTT7Csj44jeT6M42B3xSek1'\n",
        "fluff1, id1 = link.split('=')\n",
        "print (id) # Verify that you have everything after '='\n",
        "downloaded = drive.CreateFile({'id':id1}) \n",
        "downloaded.GetContentFile('test_fakeNews.csv')"
      ],
      "execution_count": 67,
      "outputs": [
        {
          "output_type": "stream",
          "text": [
            "1wMizWzlDLkm8pIFEVPeqqlP8m-sCalWm\n"
          ],
          "name": "stdout"
        }
      ]
    },
    {
      "cell_type": "code",
      "metadata": {
        "id": "8osUzZ9hxFVf",
        "colab_type": "code",
        "colab": {}
      },
      "source": [
        "trainFake = '/content/fakeNews.csv'\n",
        "testFake = '/content/test_fakeNews.csv'"
      ],
      "execution_count": 0,
      "outputs": []
    },
    {
      "cell_type": "code",
      "metadata": {
        "id": "yPeFju52xZK9",
        "colab_type": "code",
        "colab": {}
      },
      "source": [
        "fakeTrain = pd.read_csv(trainFake)\n",
        "fakeTest = pd.read_csv(testFake)"
      ],
      "execution_count": 0,
      "outputs": []
    },
    {
      "cell_type": "code",
      "metadata": {
        "id": "wY-3jXHSxoLN",
        "colab_type": "code",
        "colab": {
          "base_uri": "https://localhost:8080/",
          "height": 33
        },
        "outputId": "3da55d85-17e3-40d5-c30a-c89416f700ed"
      },
      "source": [
        "fakeTrain['label'].unique()"
      ],
      "execution_count": 72,
      "outputs": [
        {
          "output_type": "execute_result",
          "data": {
            "text/plain": [
              "array([1, 0])"
            ]
          },
          "metadata": {
            "tags": []
          },
          "execution_count": 72
        }
      ]
    },
    {
      "cell_type": "code",
      "metadata": {
        "id": "sFII3lPWxuha",
        "colab_type": "code",
        "colab": {}
      },
      "source": [
        "fake = pd.concat([fakeTrain,fakeTest])"
      ],
      "execution_count": 0,
      "outputs": []
    },
    {
      "cell_type": "code",
      "metadata": {
        "id": "YnwHwFHzyA9E",
        "colab_type": "code",
        "colab": {
          "base_uri": "https://localhost:8080/",
          "height": 272
        },
        "outputId": "0de8e1f9-1363-4d1c-e70a-dd9277f7b84a"
      },
      "source": [
        "fake.head()"
      ],
      "execution_count": 74,
      "outputs": [
        {
          "output_type": "execute_result",
          "data": {
            "text/html": [
              "<div>\n",
              "<style scoped>\n",
              "    .dataframe tbody tr th:only-of-type {\n",
              "        vertical-align: middle;\n",
              "    }\n",
              "\n",
              "    .dataframe tbody tr th {\n",
              "        vertical-align: top;\n",
              "    }\n",
              "\n",
              "    .dataframe thead th {\n",
              "        text-align: right;\n",
              "    }\n",
              "</style>\n",
              "<table border=\"1\" class=\"dataframe\">\n",
              "  <thead>\n",
              "    <tr style=\"text-align: right;\">\n",
              "      <th></th>\n",
              "      <th>id</th>\n",
              "      <th>title</th>\n",
              "      <th>author</th>\n",
              "      <th>text</th>\n",
              "      <th>label</th>\n",
              "    </tr>\n",
              "  </thead>\n",
              "  <tbody>\n",
              "    <tr>\n",
              "      <th>0</th>\n",
              "      <td>0</td>\n",
              "      <td>House Dem Aide: We Didn’t Even See Comey’s Let...</td>\n",
              "      <td>Darrell Lucus</td>\n",
              "      <td>House Dem Aide: We Didn’t Even See Comey’s Let...</td>\n",
              "      <td>1.0</td>\n",
              "    </tr>\n",
              "    <tr>\n",
              "      <th>1</th>\n",
              "      <td>1</td>\n",
              "      <td>FLYNN: Hillary Clinton, Big Woman on Campus - ...</td>\n",
              "      <td>Daniel J. Flynn</td>\n",
              "      <td>Ever get the feeling your life circles the rou...</td>\n",
              "      <td>0.0</td>\n",
              "    </tr>\n",
              "    <tr>\n",
              "      <th>2</th>\n",
              "      <td>2</td>\n",
              "      <td>Why the Truth Might Get You Fired</td>\n",
              "      <td>Consortiumnews.com</td>\n",
              "      <td>Why the Truth Might Get You Fired October 29, ...</td>\n",
              "      <td>1.0</td>\n",
              "    </tr>\n",
              "    <tr>\n",
              "      <th>3</th>\n",
              "      <td>3</td>\n",
              "      <td>15 Civilians Killed In Single US Airstrike Hav...</td>\n",
              "      <td>Jessica Purkiss</td>\n",
              "      <td>Videos 15 Civilians Killed In Single US Airstr...</td>\n",
              "      <td>1.0</td>\n",
              "    </tr>\n",
              "    <tr>\n",
              "      <th>4</th>\n",
              "      <td>4</td>\n",
              "      <td>Iranian woman jailed for fictional unpublished...</td>\n",
              "      <td>Howard Portnoy</td>\n",
              "      <td>Print \\nAn Iranian woman has been sentenced to...</td>\n",
              "      <td>1.0</td>\n",
              "    </tr>\n",
              "  </tbody>\n",
              "</table>\n",
              "</div>"
            ],
            "text/plain": [
              "   id  ... label\n",
              "0   0  ...   1.0\n",
              "1   1  ...   0.0\n",
              "2   2  ...   1.0\n",
              "3   3  ...   1.0\n",
              "4   4  ...   1.0\n",
              "\n",
              "[5 rows x 5 columns]"
            ]
          },
          "metadata": {
            "tags": []
          },
          "execution_count": 74
        }
      ]
    },
    {
      "cell_type": "code",
      "metadata": {
        "id": "2zJn_D2fyCZw",
        "colab_type": "code",
        "colab": {}
      },
      "source": [
        "fake = fake[['title','text','label']]"
      ],
      "execution_count": 0,
      "outputs": []
    },
    {
      "cell_type": "code",
      "metadata": {
        "id": "dPOv3XDkyLjn",
        "colab_type": "code",
        "colab": {}
      },
      "source": [
        "fake['finalHeaderBody'] = fake.apply(lambda row: remove_punctuations(row['text']), axis=1)"
      ],
      "execution_count": 0,
      "outputs": []
    },
    {
      "cell_type": "code",
      "metadata": {
        "id": "qCDyc_Cdyt5O",
        "colab_type": "code",
        "colab": {}
      },
      "source": [
        "fake['finalHeaderBody'] = fake.apply(lambda row: tokenize(row['finalHeaderBody']), axis=1)"
      ],
      "execution_count": 0,
      "outputs": []
    },
    {
      "cell_type": "code",
      "metadata": {
        "id": "WkX78dSwyyWf",
        "colab_type": "code",
        "colab": {}
      },
      "source": [
        "fake['finalHeaderBody'] = fake.apply(lambda row: lematize(row['finalHeaderBody']), axis=1)"
      ],
      "execution_count": 0,
      "outputs": []
    },
    {
      "cell_type": "code",
      "metadata": {
        "id": "gziYdkTay24A",
        "colab_type": "code",
        "colab": {}
      },
      "source": [
        "fake['finalHeaderBody'] = fake.apply(lambda row: stem(row['finalHeaderBody']), axis=1)"
      ],
      "execution_count": 0,
      "outputs": []
    },
    {
      "cell_type": "markdown",
      "metadata": {
        "id": "CyYg8BR4znNm",
        "colab_type": "text"
      },
      "source": [
        "lets clean the title"
      ]
    },
    {
      "cell_type": "code",
      "metadata": {
        "id": "x1R1gh8WzJd1",
        "colab_type": "code",
        "colab": {}
      },
      "source": [
        "fake['finalTitle'] = fake.apply(lambda row: remove_punctuations(row['title']), axis=1)\n",
        "\n",
        "fake['finalTitle'] = fake.apply(lambda row: tokenize(row['finalTitle']), axis=1)\n",
        "\n",
        "# fake['finalHeaderBody'] = fake.apply(lambda row: remove_stopwords(row['finalHeaderBody']), axis=1)\n",
        "\n",
        "fake['finalTitle'] = fake.apply(lambda row: lematize(row['finalTitle']), axis=1)\n",
        "\n",
        "fake['finalTitle'] = fake.apply(lambda row: stem(row['finalTitle']), axis=1)"
      ],
      "execution_count": 0,
      "outputs": []
    },
    {
      "cell_type": "code",
      "metadata": {
        "id": "1GruTBLL0EWJ",
        "colab_type": "code",
        "colab": {}
      },
      "source": [
        "fake = fake[['finalTitle','finalHeaderBody','label']]"
      ],
      "execution_count": 0,
      "outputs": []
    },
    {
      "cell_type": "code",
      "metadata": {
        "id": "7Qr30DzT0nW0",
        "colab_type": "code",
        "colab": {}
      },
      "source": [
        "fake['test_string'] = fake['finalHeaderBody'] +'@@'+fake['finalTitle']"
      ],
      "execution_count": 0,
      "outputs": []
    },
    {
      "cell_type": "code",
      "metadata": {
        "id": "kjtRa82m0we3",
        "colab_type": "code",
        "colab": {}
      },
      "source": [
        "fake['cosineSim'] = fake['test_string'].apply(lambda x: cosine_sim(x))"
      ],
      "execution_count": 0,
      "outputs": []
    },
    {
      "cell_type": "code",
      "metadata": {
        "id": "Fgsg_3EW005S",
        "colab_type": "code",
        "colab": {
          "base_uri": "https://localhost:8080/",
          "height": 272
        },
        "outputId": "560b90f2-6cb3-4dcf-d3c1-1972bd52a4cd"
      },
      "source": [
        "fake.head()"
      ],
      "execution_count": 85,
      "outputs": [
        {
          "output_type": "execute_result",
          "data": {
            "text/html": [
              "<div>\n",
              "<style scoped>\n",
              "    .dataframe tbody tr th:only-of-type {\n",
              "        vertical-align: middle;\n",
              "    }\n",
              "\n",
              "    .dataframe tbody tr th {\n",
              "        vertical-align: top;\n",
              "    }\n",
              "\n",
              "    .dataframe thead th {\n",
              "        text-align: right;\n",
              "    }\n",
              "</style>\n",
              "<table border=\"1\" class=\"dataframe\">\n",
              "  <thead>\n",
              "    <tr style=\"text-align: right;\">\n",
              "      <th></th>\n",
              "      <th>finalTitle</th>\n",
              "      <th>finalHeaderBody</th>\n",
              "      <th>label</th>\n",
              "      <th>test_string</th>\n",
              "      <th>cosineSim</th>\n",
              "    </tr>\n",
              "  </thead>\n",
              "  <tbody>\n",
              "    <tr>\n",
              "      <th>0</th>\n",
              "      <td>hous dem aid we didn t even see comey s letter...</td>\n",
              "      <td>hous dem aid we didn t even see comey s letter...</td>\n",
              "      <td>1.0</td>\n",
              "      <td>hous dem aid we didn t even see comey s letter...</td>\n",
              "      <td>0.390770</td>\n",
              "    </tr>\n",
              "    <tr>\n",
              "      <th>1</th>\n",
              "      <td>flynn hillari clinton big woman on campu breit...</td>\n",
              "      <td>ever get the feel your life circl the roundabo...</td>\n",
              "      <td>0.0</td>\n",
              "      <td>ever get the feel your life circl the roundabo...</td>\n",
              "      <td>0.171162</td>\n",
              "    </tr>\n",
              "    <tr>\n",
              "      <th>2</th>\n",
              "      <td>whi the truth might get you fire</td>\n",
              "      <td>whi the truth might get you fire octob 29 2016...</td>\n",
              "      <td>1.0</td>\n",
              "      <td>whi the truth might get you fire octob 29 2016...</td>\n",
              "      <td>0.093800</td>\n",
              "    </tr>\n",
              "    <tr>\n",
              "      <th>3</th>\n",
              "      <td>15 civilian kill in singl u airstrik have been...</td>\n",
              "      <td>video 15 civilian kill in singl u airstrik hav...</td>\n",
              "      <td>1.0</td>\n",
              "      <td>video 15 civilian kill in singl u airstrik hav...</td>\n",
              "      <td>0.358106</td>\n",
              "    </tr>\n",
              "    <tr>\n",
              "      <th>4</th>\n",
              "      <td>iranian woman jail for fiction unpublish stori...</td>\n",
              "      <td>print an iranian woman ha been sentenc to six ...</td>\n",
              "      <td>1.0</td>\n",
              "      <td>print an iranian woman ha been sentenc to six ...</td>\n",
              "      <td>0.366995</td>\n",
              "    </tr>\n",
              "  </tbody>\n",
              "</table>\n",
              "</div>"
            ],
            "text/plain": [
              "                                          finalTitle  ... cosineSim\n",
              "0  hous dem aid we didn t even see comey s letter...  ...  0.390770\n",
              "1  flynn hillari clinton big woman on campu breit...  ...  0.171162\n",
              "2                   whi the truth might get you fire  ...  0.093800\n",
              "3  15 civilian kill in singl u airstrik have been...  ...  0.358106\n",
              "4  iranian woman jail for fiction unpublish stori...  ...  0.366995\n",
              "\n",
              "[5 rows x 5 columns]"
            ]
          },
          "metadata": {
            "tags": []
          },
          "execution_count": 85
        }
      ]
    },
    {
      "cell_type": "code",
      "metadata": {
        "id": "5OoDFazQ1KN9",
        "colab_type": "code",
        "colab": {}
      },
      "source": [
        "fake_clean1 = fake[['cosineSim','label']]"
      ],
      "execution_count": 0,
      "outputs": []
    },
    {
      "cell_type": "code",
      "metadata": {
        "id": "VKE03xhO1llU",
        "colab_type": "code",
        "colab": {}
      },
      "source": [
        "fake_clean1=fake_clean1.fillna(0)\n",
        "X=fake_clean1.loc[:,fake_clean1.columns!='label']\n",
        "Y=fake_clean1.loc[:,fake_clean1.columns=='label']\n",
        "X_train, X_test, y_train, y_test = train_test_split(X, Y, test_size=0.3, random_state=1)"
      ],
      "execution_count": 0,
      "outputs": []
    },
    {
      "cell_type": "markdown",
      "metadata": {
        "id": "AAFokzTQ1wL0",
        "colab_type": "text"
      },
      "source": [
        "#running models with cosine similarity in fake news dataset"
      ]
    },
    {
      "cell_type": "code",
      "metadata": {
        "id": "RqwGfsjI1srn",
        "colab_type": "code",
        "colab": {
          "base_uri": "https://localhost:8080/",
          "height": 1000
        },
        "outputId": "1ba455fb-b4b5-450d-9dee-5369a80ccf9a"
      },
      "source": [
        "fitModelsAndPredict(models_dict,X_train,y_train,X_test,y_test)"
      ],
      "execution_count": 88,
      "outputs": [
        {
          "output_type": "stream",
          "text": [
            "/usr/local/lib/python3.6/dist-packages/sklearn/utils/validation.py:760: DataConversionWarning: A column-vector y was passed when a 1d array was expected. Please change the shape of y to (n_samples, ), for example using ravel().\n",
            "  y = column_or_1d(y, warn=True)\n"
          ],
          "name": "stderr"
        },
        {
          "output_type": "stream",
          "text": [
            "****************************************************************************************************\n",
            "Model: LogisticRegression\n",
            "Confusion Matrix: \n",
            "[[4664    4]\n",
            " [3087   45]]\n",
            "Accuracy :  60.37179487179487\n",
            "Classificarion Report : \n",
            "              precision    recall  f1-score   support\n",
            "\n",
            "         0.0       0.60      1.00      0.75      4668\n",
            "         1.0       0.92      0.01      0.03      3132\n",
            "\n",
            "    accuracy                           0.60      7800\n",
            "   macro avg       0.76      0.51      0.39      7800\n",
            "weighted avg       0.73      0.60      0.46      7800\n",
            "\n",
            "****************************************************************************************************\n",
            "Model: Dtree\n",
            "Confusion Matrix: \n",
            "[[2949 1719]\n",
            " [1653 1479]]\n",
            "Accuracy :  56.769230769230774\n",
            "Classificarion Report : \n",
            "              precision    recall  f1-score   support\n",
            "\n",
            "         0.0       0.64      0.63      0.64      4668\n",
            "         1.0       0.46      0.47      0.47      3132\n",
            "\n",
            "    accuracy                           0.57      7800\n",
            "   macro avg       0.55      0.55      0.55      7800\n",
            "weighted avg       0.57      0.57      0.57      7800\n",
            "\n",
            "****************************************************************************************************\n",
            "Model: NB\n",
            "Confusion Matrix: \n",
            "[[4252  416]\n",
            " [2306  826]]\n",
            "Accuracy :  65.1025641025641\n",
            "Classificarion Report : \n",
            "              precision    recall  f1-score   support\n",
            "\n",
            "         0.0       0.65      0.91      0.76      4668\n",
            "         1.0       0.67      0.26      0.38      3132\n",
            "\n",
            "    accuracy                           0.65      7800\n",
            "   macro avg       0.66      0.59      0.57      7800\n",
            "weighted avg       0.66      0.65      0.61      7800\n",
            "\n"
          ],
          "name": "stdout"
        },
        {
          "output_type": "stream",
          "text": [
            "/usr/local/lib/python3.6/dist-packages/sklearn/naive_bayes.py:206: DataConversionWarning: A column-vector y was passed when a 1d array was expected. Please change the shape of y to (n_samples, ), for example using ravel().\n",
            "  y = column_or_1d(y, warn=True)\n",
            "/usr/local/lib/python3.6/dist-packages/sklearn/preprocessing/_label.py:235: DataConversionWarning: A column-vector y was passed when a 1d array was expected. Please change the shape of y to (n_samples, ), for example using ravel().\n",
            "  y = column_or_1d(y, warn=True)\n",
            "/usr/local/lib/python3.6/dist-packages/sklearn/preprocessing/_label.py:268: DataConversionWarning: A column-vector y was passed when a 1d array was expected. Please change the shape of y to (n_samples, ), for example using ravel().\n",
            "  y = column_or_1d(y, warn=True)\n"
          ],
          "name": "stderr"
        },
        {
          "output_type": "error",
          "ename": "XGBoostError",
          "evalue": "ignored",
          "traceback": [
            "\u001b[0;31m---------------------------------------------------------------------------\u001b[0m",
            "\u001b[0;31mXGBoostError\u001b[0m                              Traceback (most recent call last)",
            "\u001b[0;32m<ipython-input-88-8704927df02b>\u001b[0m in \u001b[0;36m<module>\u001b[0;34m()\u001b[0m\n\u001b[0;32m----> 1\u001b[0;31m \u001b[0mfitModelsAndPredict\u001b[0m\u001b[0;34m(\u001b[0m\u001b[0mmodels_dict\u001b[0m\u001b[0;34m,\u001b[0m\u001b[0mX_train\u001b[0m\u001b[0;34m,\u001b[0m\u001b[0my_train\u001b[0m\u001b[0;34m,\u001b[0m\u001b[0mX_test\u001b[0m\u001b[0;34m,\u001b[0m\u001b[0my_test\u001b[0m\u001b[0;34m)\u001b[0m\u001b[0;34m\u001b[0m\u001b[0;34m\u001b[0m\u001b[0m\n\u001b[0m",
            "\u001b[0;32m<ipython-input-32-33c0a4473138>\u001b[0m in \u001b[0;36mfitModelsAndPredict\u001b[0;34m(models_dict, X_train, y_train, X_test, y_test)\u001b[0m\n\u001b[1;32m      9\u001b[0m     \u001b[0;32mfor\u001b[0m \u001b[0mname\u001b[0m\u001b[0;34m,\u001b[0m\u001b[0mmodel\u001b[0m \u001b[0;32min\u001b[0m \u001b[0mmodels_dict\u001b[0m\u001b[0;34m.\u001b[0m\u001b[0mitems\u001b[0m\u001b[0;34m(\u001b[0m\u001b[0;34m)\u001b[0m\u001b[0;34m:\u001b[0m\u001b[0;34m\u001b[0m\u001b[0;34m\u001b[0m\u001b[0m\n\u001b[1;32m     10\u001b[0m         \u001b[0;31m#fitting model on the train data\u001b[0m\u001b[0;34m\u001b[0m\u001b[0;34m\u001b[0m\u001b[0;34m\u001b[0m\u001b[0m\n\u001b[0;32m---> 11\u001b[0;31m         \u001b[0mmodel\u001b[0m\u001b[0;34m.\u001b[0m\u001b[0mfit\u001b[0m\u001b[0;34m(\u001b[0m\u001b[0mX_train\u001b[0m\u001b[0;34m,\u001b[0m\u001b[0my_train\u001b[0m\u001b[0;34m)\u001b[0m\u001b[0;34m\u001b[0m\u001b[0;34m\u001b[0m\u001b[0m\n\u001b[0m\u001b[1;32m     12\u001b[0m         \u001b[0mjoblib\u001b[0m\u001b[0;34m.\u001b[0m\u001b[0mdump\u001b[0m\u001b[0;34m(\u001b[0m\u001b[0mmodel\u001b[0m\u001b[0;34m,\u001b[0m \u001b[0mname\u001b[0m\u001b[0;34m+\u001b[0m\u001b[0;34m'.pkl'\u001b[0m\u001b[0;34m)\u001b[0m\u001b[0;34m\u001b[0m\u001b[0;34m\u001b[0m\u001b[0m\n\u001b[1;32m     13\u001b[0m         \u001b[0;31m#predicting model on X_test\u001b[0m\u001b[0;34m\u001b[0m\u001b[0;34m\u001b[0m\u001b[0;34m\u001b[0m\u001b[0m\n",
            "\u001b[0;32m/usr/local/lib/python3.6/dist-packages/xgboost/sklearn.py\u001b[0m in \u001b[0;36mfit\u001b[0;34m(self, X, y, sample_weight, eval_set, eval_metric, early_stopping_rounds, verbose, xgb_model, sample_weight_eval_set, callbacks)\u001b[0m\n\u001b[1;32m    730\u001b[0m                               \u001b[0mevals_result\u001b[0m\u001b[0;34m=\u001b[0m\u001b[0mevals_result\u001b[0m\u001b[0;34m,\u001b[0m \u001b[0mobj\u001b[0m\u001b[0;34m=\u001b[0m\u001b[0mobj\u001b[0m\u001b[0;34m,\u001b[0m \u001b[0mfeval\u001b[0m\u001b[0;34m=\u001b[0m\u001b[0mfeval\u001b[0m\u001b[0;34m,\u001b[0m\u001b[0;34m\u001b[0m\u001b[0;34m\u001b[0m\u001b[0m\n\u001b[1;32m    731\u001b[0m                               \u001b[0mverbose_eval\u001b[0m\u001b[0;34m=\u001b[0m\u001b[0mverbose\u001b[0m\u001b[0;34m,\u001b[0m \u001b[0mxgb_model\u001b[0m\u001b[0;34m=\u001b[0m\u001b[0mxgb_model\u001b[0m\u001b[0;34m,\u001b[0m\u001b[0;34m\u001b[0m\u001b[0;34m\u001b[0m\u001b[0m\n\u001b[0;32m--> 732\u001b[0;31m                               callbacks=callbacks)\n\u001b[0m\u001b[1;32m    733\u001b[0m \u001b[0;34m\u001b[0m\u001b[0m\n\u001b[1;32m    734\u001b[0m         \u001b[0mself\u001b[0m\u001b[0;34m.\u001b[0m\u001b[0mobjective\u001b[0m \u001b[0;34m=\u001b[0m \u001b[0mxgb_options\u001b[0m\u001b[0;34m[\u001b[0m\u001b[0;34m\"objective\"\u001b[0m\u001b[0;34m]\u001b[0m\u001b[0;34m\u001b[0m\u001b[0;34m\u001b[0m\u001b[0m\n",
            "\u001b[0;32m/usr/local/lib/python3.6/dist-packages/xgboost/training.py\u001b[0m in \u001b[0;36mtrain\u001b[0;34m(params, dtrain, num_boost_round, evals, obj, feval, maximize, early_stopping_rounds, evals_result, verbose_eval, xgb_model, callbacks, learning_rates)\u001b[0m\n\u001b[1;32m    214\u001b[0m                            \u001b[0mevals\u001b[0m\u001b[0;34m=\u001b[0m\u001b[0mevals\u001b[0m\u001b[0;34m,\u001b[0m\u001b[0;34m\u001b[0m\u001b[0;34m\u001b[0m\u001b[0m\n\u001b[1;32m    215\u001b[0m                            \u001b[0mobj\u001b[0m\u001b[0;34m=\u001b[0m\u001b[0mobj\u001b[0m\u001b[0;34m,\u001b[0m \u001b[0mfeval\u001b[0m\u001b[0;34m=\u001b[0m\u001b[0mfeval\u001b[0m\u001b[0;34m,\u001b[0m\u001b[0;34m\u001b[0m\u001b[0;34m\u001b[0m\u001b[0m\n\u001b[0;32m--> 216\u001b[0;31m                            xgb_model=xgb_model, callbacks=callbacks)\n\u001b[0m\u001b[1;32m    217\u001b[0m \u001b[0;34m\u001b[0m\u001b[0m\n\u001b[1;32m    218\u001b[0m \u001b[0;34m\u001b[0m\u001b[0m\n",
            "\u001b[0;32m/usr/local/lib/python3.6/dist-packages/xgboost/training.py\u001b[0m in \u001b[0;36m_train_internal\u001b[0;34m(params, dtrain, num_boost_round, evals, obj, feval, xgb_model, callbacks)\u001b[0m\n\u001b[1;32m     72\u001b[0m         \u001b[0;31m# Skip the first update if it is a recovery step.\u001b[0m\u001b[0;34m\u001b[0m\u001b[0;34m\u001b[0m\u001b[0;34m\u001b[0m\u001b[0m\n\u001b[1;32m     73\u001b[0m         \u001b[0;32mif\u001b[0m \u001b[0mversion\u001b[0m \u001b[0;34m%\u001b[0m \u001b[0;36m2\u001b[0m \u001b[0;34m==\u001b[0m \u001b[0;36m0\u001b[0m\u001b[0;34m:\u001b[0m\u001b[0;34m\u001b[0m\u001b[0;34m\u001b[0m\u001b[0m\n\u001b[0;32m---> 74\u001b[0;31m             \u001b[0mbst\u001b[0m\u001b[0;34m.\u001b[0m\u001b[0mupdate\u001b[0m\u001b[0;34m(\u001b[0m\u001b[0mdtrain\u001b[0m\u001b[0;34m,\u001b[0m \u001b[0mi\u001b[0m\u001b[0;34m,\u001b[0m \u001b[0mobj\u001b[0m\u001b[0;34m)\u001b[0m\u001b[0;34m\u001b[0m\u001b[0;34m\u001b[0m\u001b[0m\n\u001b[0m\u001b[1;32m     75\u001b[0m             \u001b[0mbst\u001b[0m\u001b[0;34m.\u001b[0m\u001b[0msave_rabit_checkpoint\u001b[0m\u001b[0;34m(\u001b[0m\u001b[0;34m)\u001b[0m\u001b[0;34m\u001b[0m\u001b[0;34m\u001b[0m\u001b[0m\n\u001b[1;32m     76\u001b[0m             \u001b[0mversion\u001b[0m \u001b[0;34m+=\u001b[0m \u001b[0;36m1\u001b[0m\u001b[0;34m\u001b[0m\u001b[0;34m\u001b[0m\u001b[0m\n",
            "\u001b[0;32m/usr/local/lib/python3.6/dist-packages/xgboost/core.py\u001b[0m in \u001b[0;36mupdate\u001b[0;34m(self, dtrain, iteration, fobj)\u001b[0m\n\u001b[1;32m   1107\u001b[0m         \u001b[0;32mif\u001b[0m \u001b[0mfobj\u001b[0m \u001b[0;32mis\u001b[0m \u001b[0;32mNone\u001b[0m\u001b[0;34m:\u001b[0m\u001b[0;34m\u001b[0m\u001b[0;34m\u001b[0m\u001b[0m\n\u001b[1;32m   1108\u001b[0m             _check_call(_LIB.XGBoosterUpdateOneIter(self.handle, ctypes.c_int(iteration),\n\u001b[0;32m-> 1109\u001b[0;31m                                                     dtrain.handle))\n\u001b[0m\u001b[1;32m   1110\u001b[0m         \u001b[0;32melse\u001b[0m\u001b[0;34m:\u001b[0m\u001b[0;34m\u001b[0m\u001b[0;34m\u001b[0m\u001b[0m\n\u001b[1;32m   1111\u001b[0m             \u001b[0mpred\u001b[0m \u001b[0;34m=\u001b[0m \u001b[0mself\u001b[0m\u001b[0;34m.\u001b[0m\u001b[0mpredict\u001b[0m\u001b[0;34m(\u001b[0m\u001b[0mdtrain\u001b[0m\u001b[0;34m)\u001b[0m\u001b[0;34m\u001b[0m\u001b[0;34m\u001b[0m\u001b[0m\n",
            "\u001b[0;32m/usr/local/lib/python3.6/dist-packages/xgboost/core.py\u001b[0m in \u001b[0;36m_check_call\u001b[0;34m(ret)\u001b[0m\n\u001b[1;32m    174\u001b[0m     \"\"\"\n\u001b[1;32m    175\u001b[0m     \u001b[0;32mif\u001b[0m \u001b[0mret\u001b[0m \u001b[0;34m!=\u001b[0m \u001b[0;36m0\u001b[0m\u001b[0;34m:\u001b[0m\u001b[0;34m\u001b[0m\u001b[0;34m\u001b[0m\u001b[0m\n\u001b[0;32m--> 176\u001b[0;31m         \u001b[0;32mraise\u001b[0m \u001b[0mXGBoostError\u001b[0m\u001b[0;34m(\u001b[0m\u001b[0mpy_str\u001b[0m\u001b[0;34m(\u001b[0m\u001b[0m_LIB\u001b[0m\u001b[0;34m.\u001b[0m\u001b[0mXGBGetLastError\u001b[0m\u001b[0;34m(\u001b[0m\u001b[0;34m)\u001b[0m\u001b[0;34m)\u001b[0m\u001b[0;34m)\u001b[0m\u001b[0;34m\u001b[0m\u001b[0;34m\u001b[0m\u001b[0m\n\u001b[0m\u001b[1;32m    177\u001b[0m \u001b[0;34m\u001b[0m\u001b[0m\n\u001b[1;32m    178\u001b[0m \u001b[0;34m\u001b[0m\u001b[0m\n",
            "\u001b[0;31mXGBoostError\u001b[0m: value 0 for Parameter num_class should be greater equal to 1"
          ]
        }
      ]
    },
    {
      "cell_type": "markdown",
      "metadata": {
        "id": "suxTlOiI2iLG",
        "colab_type": "text"
      },
      "source": [
        "for some reason, xgb doesnt run but naive bayes has given 65 % accuracy which is again okayish in my view"
      ]
    },
    {
      "cell_type": "code",
      "metadata": {
        "id": "FQ0a7a9y-74b",
        "colab_type": "code",
        "colab": {}
      },
      "source": [
        "li = liar[['label','cosineSim']]\n",
        "fa = fake[['label','cosineSim']]"
      ],
      "execution_count": 0,
      "outputs": []
    },
    {
      "cell_type": "markdown",
      "metadata": {
        "id": "vSvILtss-9-1",
        "colab_type": "text"
      },
      "source": [
        "# Amalgamating both liar liar and fake news"
      ]
    },
    {
      "cell_type": "code",
      "metadata": {
        "id": "ZJuLa1WF1123",
        "colab_type": "code",
        "colab": {}
      },
      "source": [
        "amal = pd.concat([fa,li])"
      ],
      "execution_count": 0,
      "outputs": []
    },
    {
      "cell_type": "code",
      "metadata": {
        "id": "ltNGW_2X-2y9",
        "colab_type": "code",
        "colab": {}
      },
      "source": [
        "amal = amal.fillna(0)\n",
        "X=amal.loc[:,amal.columns!='label']\n",
        "Y=amal.loc[:,amal.columns=='label']\n",
        "X_train, X_test, y_train, y_test = train_test_split(X, Y, test_size=0.3, random_state=1)"
      ],
      "execution_count": 0,
      "outputs": []
    },
    {
      "cell_type": "markdown",
      "metadata": {
        "id": "nIwSl6-nArlx",
        "colab_type": "text"
      },
      "source": [
        "# running models on amalgamated data with cosine similarity"
      ]
    },
    {
      "cell_type": "code",
      "metadata": {
        "id": "MzMDup45_oyo",
        "colab_type": "code",
        "colab": {
          "base_uri": "https://localhost:8080/",
          "height": 1000
        },
        "outputId": "bc265aef-99a2-4d71-d51f-37cb97320dbc"
      },
      "source": [
        "fitModelsAndPredict(models_dict,X_train,y_train,X_test,y_test)"
      ],
      "execution_count": 94,
      "outputs": [
        {
          "output_type": "stream",
          "text": [
            "/usr/local/lib/python3.6/dist-packages/sklearn/utils/validation.py:760: DataConversionWarning: A column-vector y was passed when a 1d array was expected. Please change the shape of y to (n_samples, ), for example using ravel().\n",
            "  y = column_or_1d(y, warn=True)\n"
          ],
          "name": "stderr"
        },
        {
          "output_type": "stream",
          "text": [
            "****************************************************************************************************\n",
            "Model: LogisticRegression\n",
            "Confusion Matrix: \n",
            "[[5278    0    0    0    0    0]\n",
            " [3807    0    0    0    0    0]\n",
            " [ 715    0    0    0    0    0]\n",
            " [ 621    0    0    0    0    0]\n",
            " [ 284    0    0    0    0    0]\n",
            " [ 548    0    0    0    0    0]]\n",
            "Accuracy :  46.90304807606861\n",
            "Classificarion Report : \n",
            "              precision    recall  f1-score   support\n",
            "\n",
            "         0.0       0.47      1.00      0.64      5278\n",
            "         1.0       0.00      0.00      0.00      3807\n",
            "         2.0       0.00      0.00      0.00       715\n",
            "         3.0       0.00      0.00      0.00       621\n",
            "         4.0       0.00      0.00      0.00       284\n",
            "         5.0       0.00      0.00      0.00       548\n",
            "\n",
            "    accuracy                           0.47     11253\n",
            "   macro avg       0.08      0.17      0.11     11253\n",
            "weighted avg       0.22      0.47      0.30     11253\n",
            "\n",
            "****************************************************************************************************\n",
            "Model: Dtree\n",
            "Confusion Matrix: \n",
            "[[2983 2185   42   30   10   28]\n",
            " [1584 2133   28   35    9   18]\n",
            " [  27  649   14   16    3    6]\n",
            " [  26  555   18   13    4    5]\n",
            " [   8  260    4    8    1    3]\n",
            " [  23  489   11   16    3    6]]\n",
            "Accuracy :  45.76557362481116\n"
          ],
          "name": "stdout"
        },
        {
          "output_type": "stream",
          "text": [
            "/usr/local/lib/python3.6/dist-packages/sklearn/metrics/_classification.py:1272: UndefinedMetricWarning: Precision and F-score are ill-defined and being set to 0.0 in labels with no predicted samples. Use `zero_division` parameter to control this behavior.\n",
            "  _warn_prf(average, modifier, msg_start, len(result))\n",
            "/usr/local/lib/python3.6/dist-packages/sklearn/naive_bayes.py:206: DataConversionWarning: A column-vector y was passed when a 1d array was expected. Please change the shape of y to (n_samples, ), for example using ravel().\n",
            "  y = column_or_1d(y, warn=True)\n"
          ],
          "name": "stderr"
        },
        {
          "output_type": "stream",
          "text": [
            "Classificarion Report : \n",
            "              precision    recall  f1-score   support\n",
            "\n",
            "         0.0       0.64      0.57      0.60      5278\n",
            "         1.0       0.34      0.56      0.42      3807\n",
            "         2.0       0.12      0.02      0.03       715\n",
            "         3.0       0.11      0.02      0.04       621\n",
            "         4.0       0.03      0.00      0.01       284\n",
            "         5.0       0.09      0.01      0.02       548\n",
            "\n",
            "    accuracy                           0.46     11253\n",
            "   macro avg       0.22      0.20      0.19     11253\n",
            "weighted avg       0.43      0.46      0.43     11253\n",
            "\n",
            "****************************************************************************************************\n",
            "Model: NB\n",
            "Confusion Matrix: \n",
            "[[4365  313  600    0    0    0]\n",
            " [2399  466  942    0    0    0]\n",
            " [ 108    0  607    0    0    0]\n",
            " [  83    0  538    0    0    0]\n",
            " [  38    0  246    0    0    0]\n",
            " [  82    0  466    0    0    0]]\n",
            "Accuracy :  48.32489114014041\n",
            "Classificarion Report : \n",
            "              precision    recall  f1-score   support\n",
            "\n",
            "         0.0       0.62      0.83      0.71      5278\n",
            "         1.0       0.60      0.12      0.20      3807\n",
            "         2.0       0.18      0.85      0.30       715\n",
            "         3.0       0.00      0.00      0.00       621\n",
            "         4.0       0.00      0.00      0.00       284\n",
            "         5.0       0.00      0.00      0.00       548\n",
            "\n",
            "    accuracy                           0.48     11253\n",
            "   macro avg       0.23      0.30      0.20     11253\n",
            "weighted avg       0.50      0.48      0.42     11253\n",
            "\n"
          ],
          "name": "stdout"
        },
        {
          "output_type": "stream",
          "text": [
            "/usr/local/lib/python3.6/dist-packages/sklearn/metrics/_classification.py:1272: UndefinedMetricWarning: Precision and F-score are ill-defined and being set to 0.0 in labels with no predicted samples. Use `zero_division` parameter to control this behavior.\n",
            "  _warn_prf(average, modifier, msg_start, len(result))\n",
            "/usr/local/lib/python3.6/dist-packages/sklearn/preprocessing/_label.py:235: DataConversionWarning: A column-vector y was passed when a 1d array was expected. Please change the shape of y to (n_samples, ), for example using ravel().\n",
            "  y = column_or_1d(y, warn=True)\n",
            "/usr/local/lib/python3.6/dist-packages/sklearn/preprocessing/_label.py:268: DataConversionWarning: A column-vector y was passed when a 1d array was expected. Please change the shape of y to (n_samples, ), for example using ravel().\n",
            "  y = column_or_1d(y, warn=True)\n"
          ],
          "name": "stderr"
        },
        {
          "output_type": "stream",
          "text": [
            "****************************************************************************************************\n",
            "Model: XGB\n",
            "Confusion Matrix: \n",
            "[[4325  953    0    0    0    0]\n",
            " [2348 1459    0    0    0    0]\n",
            " [  89  626    0    0    0    0]\n",
            " [  62  559    0    0    0    0]\n",
            " [  28  256    0    0    0    0]\n",
            " [  71  477    0    0    0    0]]\n",
            "Accuracy :  51.39962676619568\n",
            "Classificarion Report : \n",
            "              precision    recall  f1-score   support\n",
            "\n",
            "         0.0       0.62      0.82      0.71      5278\n",
            "         1.0       0.34      0.38      0.36      3807\n",
            "         2.0       0.00      0.00      0.00       715\n",
            "         3.0       0.00      0.00      0.00       621\n",
            "         4.0       0.00      0.00      0.00       284\n",
            "         5.0       0.00      0.00      0.00       548\n",
            "\n",
            "    accuracy                           0.51     11253\n",
            "   macro avg       0.16      0.20      0.18     11253\n",
            "weighted avg       0.41      0.51      0.45     11253\n",
            "\n"
          ],
          "name": "stdout"
        },
        {
          "output_type": "stream",
          "text": [
            "/usr/local/lib/python3.6/dist-packages/ipykernel_launcher.py:11: DataConversionWarning: A column-vector y was passed when a 1d array was expected. Please change the shape of y to (n_samples,), for example using ravel().\n",
            "  # This is added back by InteractiveShellApp.init_path()\n"
          ],
          "name": "stderr"
        },
        {
          "output_type": "stream",
          "text": [
            "****************************************************************************************************\n",
            "Model: RForest\n",
            "Confusion Matrix: \n",
            "[[2970 2181   42   36   11   38]\n",
            " [1569 2132   32   42   10   22]\n",
            " [  23  644   15   21    2   10]\n",
            " [  21  551   20   14    4   11]\n",
            " [   7  259    4    8    1    5]\n",
            " [  20  486   12   18    2   10]]\n",
            "Accuracy :  45.694481471607574\n",
            "Classificarion Report : \n",
            "              precision    recall  f1-score   support\n",
            "\n",
            "         0.0       0.64      0.56      0.60      5278\n",
            "         1.0       0.34      0.56      0.42      3807\n",
            "         2.0       0.12      0.02      0.04       715\n",
            "         3.0       0.10      0.02      0.04       621\n",
            "         4.0       0.03      0.00      0.01       284\n",
            "         5.0       0.10      0.02      0.03       548\n",
            "\n",
            "    accuracy                           0.46     11253\n",
            "   macro avg       0.22      0.20      0.19     11253\n",
            "weighted avg       0.44      0.46      0.43     11253\n",
            "\n"
          ],
          "name": "stdout"
        },
        {
          "output_type": "stream",
          "text": [
            "/usr/local/lib/python3.6/dist-packages/sklearn/utils/validation.py:760: DataConversionWarning: A column-vector y was passed when a 1d array was expected. Please change the shape of y to (n_samples, ), for example using ravel().\n",
            "  y = column_or_1d(y, warn=True)\n"
          ],
          "name": "stderr"
        },
        {
          "output_type": "stream",
          "text": [
            "****************************************************************************************************\n",
            "Model: SVM\n",
            "Confusion Matrix: \n",
            "[[4328  950    0    0    0    0]\n",
            " [2312 1495    0    0    0    0]\n",
            " [  71  644    0    0    0    0]\n",
            " [  43  578    0    0    0    0]\n",
            " [  23  261    0    0    0    0]\n",
            " [  59  489    0    0    0    0]]\n",
            "Accuracy :  51.746201013063185\n",
            "Classificarion Report : \n",
            "              precision    recall  f1-score   support\n",
            "\n",
            "         0.0       0.63      0.82      0.71      5278\n",
            "         1.0       0.34      0.39      0.36      3807\n",
            "         2.0       0.00      0.00      0.00       715\n",
            "         3.0       0.00      0.00      0.00       621\n",
            "         4.0       0.00      0.00      0.00       284\n",
            "         5.0       0.00      0.00      0.00       548\n",
            "\n",
            "    accuracy                           0.52     11253\n",
            "   macro avg       0.16      0.20      0.18     11253\n",
            "weighted avg       0.41      0.52      0.46     11253\n",
            "\n"
          ],
          "name": "stdout"
        },
        {
          "output_type": "stream",
          "text": [
            "/usr/local/lib/python3.6/dist-packages/sklearn/metrics/_classification.py:1272: UndefinedMetricWarning: Precision and F-score are ill-defined and being set to 0.0 in labels with no predicted samples. Use `zero_division` parameter to control this behavior.\n",
            "  _warn_prf(average, modifier, msg_start, len(result))\n",
            "/usr/local/lib/python3.6/dist-packages/ipykernel_launcher.py:11: DataConversionWarning: A column-vector y was passed when a 1d array was expected. Please change the shape of y to (n_samples, ), for example using ravel().\n",
            "  # This is added back by InteractiveShellApp.init_path()\n"
          ],
          "name": "stderr"
        },
        {
          "output_type": "stream",
          "text": [
            "****************************************************************************************************\n",
            "Model: KNN\n",
            "Confusion Matrix: \n",
            "[[3459 1203  576   23    5   12]\n",
            " [1865 1008  891   27    5   11]\n",
            " [  55   34  607   16    1    2]\n",
            " [  34   29  542    7    4    5]\n",
            " [  16   14  245    6    1    2]\n",
            " [  39   28  466   10    1    4]]\n",
            "Accuracy :  45.19683639918244\n",
            "Classificarion Report : \n",
            "              precision    recall  f1-score   support\n",
            "\n",
            "         0.0       0.63      0.66      0.64      5278\n",
            "         1.0       0.44      0.26      0.33      3807\n",
            "         2.0       0.18      0.85      0.30       715\n",
            "         3.0       0.08      0.01      0.02       621\n",
            "         4.0       0.06      0.00      0.01       284\n",
            "         5.0       0.11      0.01      0.01       548\n",
            "\n",
            "    accuracy                           0.45     11253\n",
            "   macro avg       0.25      0.30      0.22     11253\n",
            "weighted avg       0.47      0.45      0.43     11253\n",
            "\n"
          ],
          "name": "stdout"
        },
        {
          "output_type": "execute_result",
          "data": {
            "text/plain": [
              "KNeighborsClassifier(algorithm='auto', leaf_size=30, metric='minkowski',\n",
              "                     metric_params=None, n_jobs=None, n_neighbors=5, p=2,\n",
              "                     weights='uniform')"
            ]
          },
          "metadata": {
            "tags": []
          },
          "execution_count": 94
        },
        {
          "output_type": "display_data",
          "data": {
            "image/png": "[encoded data removed]",
            "text/plain": [
              "<Figure size 1152x432 with 1 Axes>"
            ]
          },
          "metadata": {
            "tags": []
          }
        }
      ]
    },
    {
      "cell_type": "markdown",
      "metadata": {
        "id": "Qg8gvG2v_6p6",
        "colab_type": "text"
      },
      "source": [
        "The amalgamted dataset best performed by svm and xgb with accuracy of slightly more than 50 for 6 class classification"
      ]
    },
    {
      "cell_type": "code",
      "metadata": {
        "id": "dwXI_xN4_rNA",
        "colab_type": "code",
        "colab": {}
      },
      "source": [
        "fake['positiveScore']=fake['finalTitle'].apply(lambda x: sentiment_analyzer_scores(x)['pos'])\n",
        "fake['negativeScore']=fake['finalTitle'].apply(lambda x: sentiment_analyzer_scores(x)['neg'])\n",
        "fake['neutralScore']=fake['finalTitle'].apply(lambda x: sentiment_analyzer_scores(x)['neu'])"
      ],
      "execution_count": 0,
      "outputs": []
    },
    {
      "cell_type": "code",
      "metadata": {
        "id": "dknCB9nRBHhL",
        "colab_type": "code",
        "colab": {}
      },
      "source": [
        "f_c = fake[['cosineSim','label','positiveScore','negativeScore','neutralScore']]\n",
        "l_c = liar[['cosineSim','label','positiveScore','negativeScore','neutralScore']]"
      ],
      "execution_count": 0,
      "outputs": []
    },
    {
      "cell_type": "code",
      "metadata": {
        "id": "AWMByKBNEVCv",
        "colab_type": "code",
        "colab": {}
      },
      "source": [
        "amal1 = pd.concat([f_c,l_c])"
      ],
      "execution_count": 0,
      "outputs": []
    },
    {
      "cell_type": "code",
      "metadata": {
        "id": "wGJQ-kOhEcpm",
        "colab_type": "code",
        "colab": {}
      },
      "source": [
        "amal1 = amal1.fillna(0)\n",
        "X=amal1.loc[:,amal1.columns!='label']\n",
        "Y=amal1.loc[:,amal1.columns=='label']\n",
        "X_train, X_test, y_train, y_test = train_test_split(X, Y, test_size=0.3, random_state=1)"
      ],
      "execution_count": 0,
      "outputs": []
    },
    {
      "cell_type": "markdown",
      "metadata": {
        "id": "sUISZyqVEnnD",
        "colab_type": "text"
      },
      "source": [
        "# running models on amalgamated data with sentiment scores combined"
      ]
    },
    {
      "cell_type": "code",
      "metadata": {
        "id": "C5oTWIR9EiMY",
        "colab_type": "code",
        "colab": {
          "base_uri": "https://localhost:8080/",
          "height": 1000
        },
        "outputId": "6a80973e-62eb-40dd-e409-847c3923f333"
      },
      "source": [
        "fitModelsAndPredict(models_dict,X_train,y_train,X_test,y_test)"
      ],
      "execution_count": 100,
      "outputs": [
        {
          "output_type": "stream",
          "text": [
            "/usr/local/lib/python3.6/dist-packages/sklearn/utils/validation.py:760: DataConversionWarning: A column-vector y was passed when a 1d array was expected. Please change the shape of y to (n_samples, ), for example using ravel().\n",
            "  y = column_or_1d(y, warn=True)\n",
            "/usr/local/lib/python3.6/dist-packages/sklearn/linear_model/_logistic.py:940: ConvergenceWarning: lbfgs failed to converge (status=1):\n",
            "STOP: TOTAL NO. of ITERATIONS REACHED LIMIT.\n",
            "\n",
            "Increase the number of iterations (max_iter) or scale the data as shown in:\n",
            "    https://scikit-learn.org/stable/modules/preprocessing.html\n",
            "Please also refer to the documentation for alternative solver options:\n",
            "    https://scikit-learn.org/stable/modules/linear_model.html#logistic-regression\n",
            "  extra_warning_msg=_LOGISTIC_SOLVER_CONVERGENCE_MSG)\n",
            "/usr/local/lib/python3.6/dist-packages/sklearn/metrics/_classification.py:1272: UndefinedMetricWarning: Precision and F-score are ill-defined and being set to 0.0 in labels with no predicted samples. Use `zero_division` parameter to control this behavior.\n",
            "  _warn_prf(average, modifier, msg_start, len(result))\n"
          ],
          "name": "stderr"
        },
        {
          "output_type": "stream",
          "text": [
            "****************************************************************************************************\n",
            "Model: LogisticRegression\n",
            "Confusion Matrix: \n",
            "[[5272    0    6    0    0    0]\n",
            " [3794    2   11    0    0    0]\n",
            " [ 709    0    6    0    0    0]\n",
            " [ 616    0    5    0    0    0]\n",
            " [ 280    0    4    0    0    0]\n",
            " [ 537    0   11    0    0    0]]\n",
            "Accuracy :  46.9208211143695\n",
            "Classificarion Report : \n",
            "              precision    recall  f1-score   support\n",
            "\n",
            "         0.0       0.47      1.00      0.64      5278\n",
            "         1.0       1.00      0.00      0.00      3807\n",
            "         2.0       0.14      0.01      0.02       715\n",
            "         3.0       0.00      0.00      0.00       621\n",
            "         4.0       0.00      0.00      0.00       284\n",
            "         5.0       0.00      0.00      0.00       548\n",
            "\n",
            "    accuracy                           0.47     11253\n",
            "   macro avg       0.27      0.17      0.11     11253\n",
            "weighted avg       0.57      0.47      0.30     11253\n",
            "\n",
            "****************************************************************************************************\n",
            "Model: Dtree\n",
            "Confusion Matrix: \n",
            "[[3001 1980  109   95   30   63]\n",
            " [1670 1829  118   83   30   77]\n",
            " [ 127  348   98   75   17   50]\n",
            " [ 118  306   78   63   18   38]\n",
            " [  55  130   44   35   11    9]\n",
            " [  80  286   73   51   24   34]]\n",
            "Accuracy :  44.75251044166001\n",
            "Classificarion Report : \n",
            "              precision    recall  f1-score   support\n",
            "\n",
            "         0.0       0.59      0.57      0.58      5278\n",
            "         1.0       0.37      0.48      0.42      3807\n",
            "         2.0       0.19      0.14      0.16       715\n",
            "         3.0       0.16      0.10      0.12       621\n",
            "         4.0       0.08      0.04      0.05       284\n",
            "         5.0       0.13      0.06      0.08       548\n",
            "\n",
            "    accuracy                           0.45     11253\n",
            "   macro avg       0.25      0.23      0.24     11253\n",
            "weighted avg       0.43      0.45      0.44     11253\n",
            "\n",
            "****************************************************************************************************\n",
            "Model: NB\n",
            "Confusion Matrix: \n",
            "[[4099  619  523   30    0    7]\n",
            " [2128  812  816   38    0   13]\n",
            " [  85   63  526   37    0    4]\n",
            " [  70   55  465   27    0    4]\n",
            " [  28   26  213   17    0    0]\n",
            " [  70   52  391   25    0   10]]\n",
            "Accuracy :  48.64480582955657\n",
            "Classificarion Report : \n",
            "              precision    recall  f1-score   support\n",
            "\n",
            "         0.0       0.63      0.78      0.70      5278\n",
            "         1.0       0.50      0.21      0.30      3807\n",
            "         2.0       0.18      0.74      0.29       715\n",
            "         3.0       0.16      0.04      0.07       621\n",
            "         4.0       0.00      0.00      0.00       284\n",
            "         5.0       0.26      0.02      0.03       548\n",
            "\n",
            "    accuracy                           0.49     11253\n",
            "   macro avg       0.29      0.30      0.23     11253\n",
            "weighted avg       0.50      0.49      0.45     11253\n",
            "\n"
          ],
          "name": "stdout"
        },
        {
          "output_type": "stream",
          "text": [
            "/usr/local/lib/python3.6/dist-packages/sklearn/naive_bayes.py:206: DataConversionWarning: A column-vector y was passed when a 1d array was expected. Please change the shape of y to (n_samples, ), for example using ravel().\n",
            "  y = column_or_1d(y, warn=True)\n",
            "/usr/local/lib/python3.6/dist-packages/sklearn/metrics/_classification.py:1272: UndefinedMetricWarning: Precision and F-score are ill-defined and being set to 0.0 in labels with no predicted samples. Use `zero_division` parameter to control this behavior.\n",
            "  _warn_prf(average, modifier, msg_start, len(result))\n",
            "/usr/local/lib/python3.6/dist-packages/sklearn/preprocessing/_label.py:235: DataConversionWarning: A column-vector y was passed when a 1d array was expected. Please change the shape of y to (n_samples, ), for example using ravel().\n",
            "  y = column_or_1d(y, warn=True)\n",
            "/usr/local/lib/python3.6/dist-packages/sklearn/preprocessing/_label.py:268: DataConversionWarning: A column-vector y was passed when a 1d array was expected. Please change the shape of y to (n_samples, ), for example using ravel().\n",
            "  y = column_or_1d(y, warn=True)\n"
          ],
          "name": "stderr"
        },
        {
          "output_type": "stream",
          "text": [
            "****************************************************************************************************\n",
            "Model: XGB\n",
            "Confusion Matrix: \n",
            "[[4277  819  160   22    0    0]\n",
            " [2264 1359  165   19    0    0]\n",
            " [  90  413  191   21    0    0]\n",
            " [  64  388  151   18    0    0]\n",
            " [  32  177   67    8    0    0]\n",
            " [  73  344  117   14    0    0]]\n",
            "Accuracy :  51.94170443437306\n",
            "Classificarion Report : \n",
            "              precision    recall  f1-score   support\n",
            "\n",
            "         0.0       0.63      0.81      0.71      5278\n",
            "         1.0       0.39      0.36      0.37      3807\n",
            "         2.0       0.22      0.27      0.24       715\n",
            "         3.0       0.18      0.03      0.05       621\n",
            "         4.0       0.00      0.00      0.00       284\n",
            "         5.0       0.00      0.00      0.00       548\n",
            "\n",
            "    accuracy                           0.52     11253\n",
            "   macro avg       0.24      0.24      0.23     11253\n",
            "weighted avg       0.45      0.52      0.48     11253\n",
            "\n"
          ],
          "name": "stdout"
        },
        {
          "output_type": "stream",
          "text": [
            "/usr/local/lib/python3.6/dist-packages/ipykernel_launcher.py:11: DataConversionWarning: A column-vector y was passed when a 1d array was expected. Please change the shape of y to (n_samples,), for example using ravel().\n",
            "  # This is added back by InteractiveShellApp.init_path()\n"
          ],
          "name": "stderr"
        },
        {
          "output_type": "stream",
          "text": [
            "****************************************************************************************************\n",
            "Model: RForest\n",
            "Confusion Matrix: \n",
            "[[3178 1829  103   85   25   58]\n",
            " [1710 1805  116   79   24   73]\n",
            " [ 115  337  115   71   20   57]\n",
            " [ 103  304   91   56   21   46]\n",
            " [  46  136   47   31    8   16]\n",
            " [  77  289   59   57   25   41]]\n",
            "Accuracy :  46.236559139784944\n",
            "Classificarion Report : \n",
            "              precision    recall  f1-score   support\n",
            "\n",
            "         0.0       0.61      0.60      0.60      5278\n",
            "         1.0       0.38      0.47      0.42      3807\n",
            "         2.0       0.22      0.16      0.18       715\n",
            "         3.0       0.15      0.09      0.11       621\n",
            "         4.0       0.07      0.03      0.04       284\n",
            "         5.0       0.14      0.07      0.10       548\n",
            "\n",
            "    accuracy                           0.46     11253\n",
            "   macro avg       0.26      0.24      0.24     11253\n",
            "weighted avg       0.45      0.46      0.45     11253\n",
            "\n"
          ],
          "name": "stdout"
        },
        {
          "output_type": "stream",
          "text": [
            "/usr/local/lib/python3.6/dist-packages/sklearn/utils/validation.py:760: DataConversionWarning: A column-vector y was passed when a 1d array was expected. Please change the shape of y to (n_samples, ), for example using ravel().\n",
            "  y = column_or_1d(y, warn=True)\n"
          ],
          "name": "stderr"
        },
        {
          "output_type": "stream",
          "text": [
            "****************************************************************************************************\n",
            "Model: SVM\n",
            "Confusion Matrix: \n",
            "[[5224   54    0    0    0    0]\n",
            " [3657  150    0    0    0    0]\n",
            " [ 712    3    0    0    0    0]\n",
            " [ 618    3    0    0    0    0]\n",
            " [ 284    0    0    0    0    0]\n",
            " [ 542    6    0    0    0    0]]\n",
            "Accuracy :  47.756153914511685\n",
            "Classificarion Report : \n",
            "              precision    recall  f1-score   support\n",
            "\n",
            "         0.0       0.47      0.99      0.64      5278\n",
            "         1.0       0.69      0.04      0.07      3807\n",
            "         2.0       0.00      0.00      0.00       715\n",
            "         3.0       0.00      0.00      0.00       621\n",
            "         4.0       0.00      0.00      0.00       284\n",
            "         5.0       0.00      0.00      0.00       548\n",
            "\n",
            "    accuracy                           0.48     11253\n",
            "   macro avg       0.19      0.17      0.12     11253\n",
            "weighted avg       0.46      0.48      0.33     11253\n",
            "\n"
          ],
          "name": "stdout"
        },
        {
          "output_type": "stream",
          "text": [
            "/usr/local/lib/python3.6/dist-packages/sklearn/metrics/_classification.py:1272: UndefinedMetricWarning: Precision and F-score are ill-defined and being set to 0.0 in labels with no predicted samples. Use `zero_division` parameter to control this behavior.\n",
            "  _warn_prf(average, modifier, msg_start, len(result))\n",
            "/usr/local/lib/python3.6/dist-packages/ipykernel_launcher.py:11: DataConversionWarning: A column-vector y was passed when a 1d array was expected. Please change the shape of y to (n_samples, ), for example using ravel().\n",
            "  # This is added back by InteractiveShellApp.init_path()\n"
          ],
          "name": "stderr"
        },
        {
          "output_type": "stream",
          "text": [
            "****************************************************************************************************\n",
            "Model: KNN\n",
            "Confusion Matrix: \n",
            "[[3600 1238   77  310    6   47]\n",
            " [1941 1171   92  543   13   47]\n",
            " [ 181  123   86  277    5   43]\n",
            " [ 145   95   71  270    7   33]\n",
            " [  76   35   42  112    2   17]\n",
            " [ 130   83   53  243    6   33]]\n",
            "Accuracy :  45.872211854616545\n",
            "Classificarion Report : \n",
            "              precision    recall  f1-score   support\n",
            "\n",
            "         0.0       0.59      0.68      0.63      5278\n",
            "         1.0       0.43      0.31      0.36      3807\n",
            "         2.0       0.20      0.12      0.15       715\n",
            "         3.0       0.15      0.43      0.23       621\n",
            "         4.0       0.05      0.01      0.01       284\n",
            "         5.0       0.15      0.06      0.09       548\n",
            "\n",
            "    accuracy                           0.46     11253\n",
            "   macro avg       0.26      0.27      0.24     11253\n",
            "weighted avg       0.45      0.46      0.45     11253\n",
            "\n"
          ],
          "name": "stdout"
        },
        {
          "output_type": "execute_result",
          "data": {
            "text/plain": [
              "KNeighborsClassifier(algorithm='auto', leaf_size=30, metric='minkowski',\n",
              "                     metric_params=None, n_jobs=None, n_neighbors=5, p=2,\n",
              "                     weights='uniform')"
            ]
          },
          "metadata": {
            "tags": []
          },
          "execution_count": 100
        },
        {
          "output_type": "display_data",
          "data": {
            "image/png": "[encoded data removed]",
            "text/plain": [
              "<Figure size 1152x432 with 1 Axes>"
            ]
          },
          "metadata": {
            "tags": []
          }
        }
      ]
    },
    {
      "cell_type": "markdown",
      "metadata": {
        "id": "bqgzIOkSE4hM",
        "colab_type": "text"
      },
      "source": [
        "xgb performed best with accuracy of 52% which is good for a 6 class classification"
      ]
    },
    {
      "cell_type": "code",
      "metadata": {
        "id": "mqLxoE7rElLq",
        "colab_type": "code",
        "colab": {
          "base_uri": "https://localhost:8080/",
          "height": 503
        },
        "outputId": "53be9c3b-2583-4cb9-9cc3-274429c461e2"
      },
      "source": [
        "fake.head()"
      ],
      "execution_count": 101,
      "outputs": [
        {
          "output_type": "execute_result",
          "data": {
            "text/html": [
              "<div>\n",
              "<style scoped>\n",
              "    .dataframe tbody tr th:only-of-type {\n",
              "        vertical-align: middle;\n",
              "    }\n",
              "\n",
              "    .dataframe tbody tr th {\n",
              "        vertical-align: top;\n",
              "    }\n",
              "\n",
              "    .dataframe thead th {\n",
              "        text-align: right;\n",
              "    }\n",
              "</style>\n",
              "<table border=\"1\" class=\"dataframe\">\n",
              "  <thead>\n",
              "    <tr style=\"text-align: right;\">\n",
              "      <th></th>\n",
              "      <th>finalTitle</th>\n",
              "      <th>finalHeaderBody</th>\n",
              "      <th>label</th>\n",
              "      <th>test_string</th>\n",
              "      <th>cosineSim</th>\n",
              "      <th>positiveScore</th>\n",
              "      <th>negativeScore</th>\n",
              "      <th>neutralScore</th>\n",
              "    </tr>\n",
              "  </thead>\n",
              "  <tbody>\n",
              "    <tr>\n",
              "      <th>0</th>\n",
              "      <td>hous dem aid we didn t even see comey s letter...</td>\n",
              "      <td>hous dem aid we didn t even see comey s letter...</td>\n",
              "      <td>1.0</td>\n",
              "      <td>hous dem aid we didn t even see comey s letter...</td>\n",
              "      <td>0.390770</td>\n",
              "      <td>0.000</td>\n",
              "      <td>0.000</td>\n",
              "      <td>1.000</td>\n",
              "    </tr>\n",
              "    <tr>\n",
              "      <th>1</th>\n",
              "      <td>flynn hillari clinton big woman on campu breit...</td>\n",
              "      <td>ever get the feel your life circl the roundabo...</td>\n",
              "      <td>0.0</td>\n",
              "      <td>ever get the feel your life circl the roundabo...</td>\n",
              "      <td>0.171162</td>\n",
              "      <td>0.000</td>\n",
              "      <td>0.000</td>\n",
              "      <td>1.000</td>\n",
              "    </tr>\n",
              "    <tr>\n",
              "      <th>2</th>\n",
              "      <td>whi the truth might get you fire</td>\n",
              "      <td>whi the truth might get you fire octob 29 2016...</td>\n",
              "      <td>1.0</td>\n",
              "      <td>whi the truth might get you fire octob 29 2016...</td>\n",
              "      <td>0.093800</td>\n",
              "      <td>0.237</td>\n",
              "      <td>0.247</td>\n",
              "      <td>0.515</td>\n",
              "    </tr>\n",
              "    <tr>\n",
              "      <th>3</th>\n",
              "      <td>15 civilian kill in singl u airstrik have been...</td>\n",
              "      <td>video 15 civilian kill in singl u airstrik hav...</td>\n",
              "      <td>1.0</td>\n",
              "      <td>video 15 civilian kill in singl u airstrik hav...</td>\n",
              "      <td>0.358106</td>\n",
              "      <td>0.000</td>\n",
              "      <td>0.343</td>\n",
              "      <td>0.657</td>\n",
              "    </tr>\n",
              "    <tr>\n",
              "      <th>4</th>\n",
              "      <td>iranian woman jail for fiction unpublish stori...</td>\n",
              "      <td>print an iranian woman ha been sentenc to six ...</td>\n",
              "      <td>1.0</td>\n",
              "      <td>print an iranian woman ha been sentenc to six ...</td>\n",
              "      <td>0.366995</td>\n",
              "      <td>0.000</td>\n",
              "      <td>0.231</td>\n",
              "      <td>0.769</td>\n",
              "    </tr>\n",
              "  </tbody>\n",
              "</table>\n",
              "</div>"
            ],
            "text/plain": [
              "                                          finalTitle  ... neutralScore\n",
              "0  hous dem aid we didn t even see comey s letter...  ...        1.000\n",
              "1  flynn hillari clinton big woman on campu breit...  ...        1.000\n",
              "2                   whi the truth might get you fire  ...        0.515\n",
              "3  15 civilian kill in singl u airstrik have been...  ...        0.657\n",
              "4  iranian woman jail for fiction unpublish stori...  ...        0.769\n",
              "\n",
              "[5 rows x 8 columns]"
            ]
          },
          "metadata": {
            "tags": []
          },
          "execution_count": 101
        }
      ]
    },
    {
      "cell_type": "code",
      "metadata": {
        "id": "hGRuHQaFWncE",
        "colab_type": "code",
        "colab": {
          "base_uri": "https://localhost:8080/",
          "height": 996
        },
        "outputId": "9ba34bbd-6caf-42d1-8548-b28978bbce2f"
      },
      "source": [
        "fake"
      ],
      "execution_count": 102,
      "outputs": [
        {
          "output_type": "execute_result",
          "data": {
            "text/html": [
              "<div>\n",
              "<style scoped>\n",
              "    .dataframe tbody tr th:only-of-type {\n",
              "        vertical-align: middle;\n",
              "    }\n",
              "\n",
              "    .dataframe tbody tr th {\n",
              "        vertical-align: top;\n",
              "    }\n",
              "\n",
              "    .dataframe thead th {\n",
              "        text-align: right;\n",
              "    }\n",
              "</style>\n",
              "<table border=\"1\" class=\"dataframe\">\n",
              "  <thead>\n",
              "    <tr style=\"text-align: right;\">\n",
              "      <th></th>\n",
              "      <th>finalTitle</th>\n",
              "      <th>finalHeaderBody</th>\n",
              "      <th>label</th>\n",
              "      <th>test_string</th>\n",
              "      <th>cosineSim</th>\n",
              "      <th>positiveScore</th>\n",
              "      <th>negativeScore</th>\n",
              "      <th>neutralScore</th>\n",
              "    </tr>\n",
              "  </thead>\n",
              "  <tbody>\n",
              "    <tr>\n",
              "      <th>0</th>\n",
              "      <td>hous dem aid we didn t even see comey s letter...</td>\n",
              "      <td>hous dem aid we didn t even see comey s letter...</td>\n",
              "      <td>1.0</td>\n",
              "      <td>hous dem aid we didn t even see comey s letter...</td>\n",
              "      <td>0.390770</td>\n",
              "      <td>0.000</td>\n",
              "      <td>0.000</td>\n",
              "      <td>1.000</td>\n",
              "    </tr>\n",
              "    <tr>\n",
              "      <th>1</th>\n",
              "      <td>flynn hillari clinton big woman on campu breit...</td>\n",
              "      <td>ever get the feel your life circl the roundabo...</td>\n",
              "      <td>0.0</td>\n",
              "      <td>ever get the feel your life circl the roundabo...</td>\n",
              "      <td>0.171162</td>\n",
              "      <td>0.000</td>\n",
              "      <td>0.000</td>\n",
              "      <td>1.000</td>\n",
              "    </tr>\n",
              "    <tr>\n",
              "      <th>2</th>\n",
              "      <td>whi the truth might get you fire</td>\n",
              "      <td>whi the truth might get you fire octob 29 2016...</td>\n",
              "      <td>1.0</td>\n",
              "      <td>whi the truth might get you fire octob 29 2016...</td>\n",
              "      <td>0.093800</td>\n",
              "      <td>0.237</td>\n",
              "      <td>0.247</td>\n",
              "      <td>0.515</td>\n",
              "    </tr>\n",
              "    <tr>\n",
              "      <th>3</th>\n",
              "      <td>15 civilian kill in singl u airstrik have been...</td>\n",
              "      <td>video 15 civilian kill in singl u airstrik hav...</td>\n",
              "      <td>1.0</td>\n",
              "      <td>video 15 civilian kill in singl u airstrik hav...</td>\n",
              "      <td>0.358106</td>\n",
              "      <td>0.000</td>\n",
              "      <td>0.343</td>\n",
              "      <td>0.657</td>\n",
              "    </tr>\n",
              "    <tr>\n",
              "      <th>4</th>\n",
              "      <td>iranian woman jail for fiction unpublish stori...</td>\n",
              "      <td>print an iranian woman ha been sentenc to six ...</td>\n",
              "      <td>1.0</td>\n",
              "      <td>print an iranian woman ha been sentenc to six ...</td>\n",
              "      <td>0.366995</td>\n",
              "      <td>0.000</td>\n",
              "      <td>0.231</td>\n",
              "      <td>0.769</td>\n",
              "    </tr>\n",
              "    <tr>\n",
              "      <th>...</th>\n",
              "      <td>...</td>\n",
              "      <td>...</td>\n",
              "      <td>...</td>\n",
              "      <td>...</td>\n",
              "      <td>...</td>\n",
              "      <td>...</td>\n",
              "      <td>...</td>\n",
              "      <td>...</td>\n",
              "    </tr>\n",
              "    <tr>\n",
              "      <th>5195</th>\n",
              "      <td>the bangladeshi traffic jam that never end the...</td>\n",
              "      <td>of all the dysfunct that plagu the world s meg...</td>\n",
              "      <td>NaN</td>\n",
              "      <td>of all the dysfunct that plagu the world s meg...</td>\n",
              "      <td>0.168387</td>\n",
              "      <td>0.000</td>\n",
              "      <td>0.000</td>\n",
              "      <td>1.000</td>\n",
              "    </tr>\n",
              "    <tr>\n",
              "      <th>5196</th>\n",
              "      <td>john kasich sign one abort bill in ohio but ve...</td>\n",
              "      <td>washington gov john kasich of ohio on tuesday ...</td>\n",
              "      <td>NaN</td>\n",
              "      <td>washington gov john kasich of ohio on tuesday ...</td>\n",
              "      <td>0.256108</td>\n",
              "      <td>0.000</td>\n",
              "      <td>0.184</td>\n",
              "      <td>0.816</td>\n",
              "    </tr>\n",
              "    <tr>\n",
              "      <th>5197</th>\n",
              "      <td>california today what exactli is in your sushi...</td>\n",
              "      <td>good morn want to get california today by emai...</td>\n",
              "      <td>NaN</td>\n",
              "      <td>good morn want to get california today by emai...</td>\n",
              "      <td>0.221154</td>\n",
              "      <td>0.000</td>\n",
              "      <td>0.000</td>\n",
              "      <td>1.000</td>\n",
              "    </tr>\n",
              "    <tr>\n",
              "      <th>5198</th>\n",
              "      <td>300 u marin to be deploy to russian border in ...</td>\n",
              "      <td>previou next 300 u marin to be deploy to russi...</td>\n",
              "      <td>NaN</td>\n",
              "      <td>previou next 300 u marin to be deploy to russi...</td>\n",
              "      <td>0.270868</td>\n",
              "      <td>0.000</td>\n",
              "      <td>0.000</td>\n",
              "      <td>1.000</td>\n",
              "    </tr>\n",
              "    <tr>\n",
              "      <th>5199</th>\n",
              "      <td>awkward sex onscreen and off the new york time</td>\n",
              "      <td>perhap you ve seen the new tv seri whose pilot...</td>\n",
              "      <td>NaN</td>\n",
              "      <td>perhap you ve seen the new tv seri whose pilot...</td>\n",
              "      <td>0.182386</td>\n",
              "      <td>0.000</td>\n",
              "      <td>0.167</td>\n",
              "      <td>0.833</td>\n",
              "    </tr>\n",
              "  </tbody>\n",
              "</table>\n",
              "<p>26000 rows × 8 columns</p>\n",
              "</div>"
            ],
            "text/plain": [
              "                                             finalTitle  ... neutralScore\n",
              "0     hous dem aid we didn t even see comey s letter...  ...        1.000\n",
              "1     flynn hillari clinton big woman on campu breit...  ...        1.000\n",
              "2                      whi the truth might get you fire  ...        0.515\n",
              "3     15 civilian kill in singl u airstrik have been...  ...        0.657\n",
              "4     iranian woman jail for fiction unpublish stori...  ...        0.769\n",
              "...                                                 ...  ...          ...\n",
              "5195  the bangladeshi traffic jam that never end the...  ...        1.000\n",
              "5196  john kasich sign one abort bill in ohio but ve...  ...        0.816\n",
              "5197  california today what exactli is in your sushi...  ...        1.000\n",
              "5198  300 u marin to be deploy to russian border in ...  ...        1.000\n",
              "5199     awkward sex onscreen and off the new york time  ...        0.833\n",
              "\n",
              "[26000 rows x 8 columns]"
            ]
          },
          "metadata": {
            "tags": []
          },
          "execution_count": 102
        }
      ]
    },
    {
      "cell_type": "markdown",
      "metadata": {
        "id": "mCeTsBmbh2WA",
        "colab_type": "text"
      },
      "source": [
        "#adding political party column in liarliar and checking accuracy"
      ]
    },
    {
      "cell_type": "code",
      "metadata": {
        "id": "-eU7cyqNiKhv",
        "colab_type": "code",
        "colab": {}
      },
      "source": [
        "party=LabelEncoder()\n",
        "party.fit(liar['party affiliation'].astype(str))\n",
        "liar['party affiliation']=party.fit_transform(liar['party affiliation'].astype(str))"
      ],
      "execution_count": 0,
      "outputs": []
    },
    {
      "cell_type": "code",
      "metadata": {
        "id": "dA7IlSlHaeRY",
        "colab_type": "code",
        "colab": {}
      },
      "source": [
        "ll = liar[['party affiliation','nerScore','cosineSim','label','barely_true_counts', 'false_counts', 'half_true_counts','mostly_true_counts', 'pants_on_fire_counts','positiveScore','negativeScore','neutralScore']]"
      ],
      "execution_count": 0,
      "outputs": []
    },
    {
      "cell_type": "code",
      "metadata": {
        "id": "bCp1WgmZicoR",
        "colab_type": "code",
        "colab": {}
      },
      "source": [
        "ll = ll.fillna(0)\n",
        "X=ll.loc[:,ll.columns!='label']\n",
        "Y=ll.loc[:,ll.columns=='label']\n",
        "X_train, X_test, y_train, y_test = train_test_split(X, Y, test_size=0.3, random_state=1)"
      ],
      "execution_count": 0,
      "outputs": []
    },
    {
      "cell_type": "code",
      "metadata": {
        "id": "qYzT9pnGijEd",
        "colab_type": "code",
        "colab": {
          "base_uri": "https://localhost:8080/",
          "height": 1000
        },
        "outputId": "9f3d18ee-21ce-4955-f642-2e82c56fa237"
      },
      "source": [
        "fitModelsAndPredict(models_dict,X_train,y_train,X_test,y_test)"
      ],
      "execution_count": 106,
      "outputs": [
        {
          "output_type": "stream",
          "text": [
            "/usr/local/lib/python3.6/dist-packages/sklearn/utils/validation.py:760: DataConversionWarning: A column-vector y was passed when a 1d array was expected. Please change the shape of y to (n_samples, ), for example using ravel().\n",
            "  y = column_or_1d(y, warn=True)\n",
            "/usr/local/lib/python3.6/dist-packages/sklearn/linear_model/_logistic.py:940: ConvergenceWarning: lbfgs failed to converge (status=1):\n",
            "STOP: TOTAL NO. of ITERATIONS REACHED LIMIT.\n",
            "\n",
            "Increase the number of iterations (max_iter) or scale the data as shown in:\n",
            "    https://scikit-learn.org/stable/modules/preprocessing.html\n",
            "Please also refer to the documentation for alternative solver options:\n",
            "    https://scikit-learn.org/stable/modules/linear_model.html#logistic-regression\n",
            "  extra_warning_msg=_LOGISTIC_SOLVER_CONVERGENCE_MSG)\n",
            "/usr/local/lib/python3.6/dist-packages/sklearn/metrics/_classification.py:1272: UndefinedMetricWarning: Precision and F-score are ill-defined and being set to 0.0 in labels with no predicted samples. Use `zero_division` parameter to control this behavior.\n",
            "  _warn_prf(average, modifier, msg_start, len(result))\n",
            "/usr/local/lib/python3.6/dist-packages/sklearn/naive_bayes.py:206: DataConversionWarning: A column-vector y was passed when a 1d array was expected. Please change the shape of y to (n_samples, ), for example using ravel().\n",
            "  y = column_or_1d(y, warn=True)\n",
            "/usr/local/lib/python3.6/dist-packages/sklearn/preprocessing/_label.py:235: DataConversionWarning: A column-vector y was passed when a 1d array was expected. Please change the shape of y to (n_samples, ), for example using ravel().\n",
            "  y = column_or_1d(y, warn=True)\n",
            "/usr/local/lib/python3.6/dist-packages/sklearn/preprocessing/_label.py:268: DataConversionWarning: A column-vector y was passed when a 1d array was expected. Please change the shape of y to (n_samples, ), for example using ravel().\n",
            "  y = column_or_1d(y, warn=True)\n"
          ],
          "name": "stderr"
        },
        {
          "output_type": "stream",
          "text": [
            "****************************************************************************************************\n",
            "Model: LogisticRegression\n",
            "Confusion Matrix: \n",
            "[[ 62 139 225 100  10   0]\n",
            " [ 49 280 192 144  23   0]\n",
            " [ 69 136 401 115   6   0]\n",
            " [ 47 169 127 301   3   0]\n",
            " [ 19 113  83  44  31   0]\n",
            " [ 32 138 222 170   3   0]]\n",
            "Accuracy :  31.132348682305246\n",
            "Classificarion Report : \n",
            "              precision    recall  f1-score   support\n",
            "\n",
            "           0       0.22      0.12      0.15       536\n",
            "           1       0.29      0.41      0.34       688\n",
            "           2       0.32      0.55      0.41       727\n",
            "           3       0.34      0.47      0.40       647\n",
            "           4       0.41      0.11      0.17       290\n",
            "           5       0.00      0.00      0.00       565\n",
            "\n",
            "    accuracy                           0.31      3453\n",
            "   macro avg       0.26      0.27      0.24      3453\n",
            "weighted avg       0.26      0.31      0.26      3453\n",
            "\n",
            "****************************************************************************************************\n",
            "Model: Dtree\n",
            "Confusion Matrix: \n",
            "[[190  94  88  85  26  53]\n",
            " [ 91 269 102  81  57  88]\n",
            " [ 95 103 263 129  38  99]\n",
            " [ 77  98 102 235  32 103]\n",
            " [ 46  49  45  29 100  21]\n",
            " [ 81  72 106  98  16 192]]\n",
            "Accuracy :  36.171445120185346\n",
            "Classificarion Report : \n",
            "              precision    recall  f1-score   support\n",
            "\n",
            "           0       0.33      0.35      0.34       536\n",
            "           1       0.39      0.39      0.39       688\n",
            "           2       0.37      0.36      0.37       727\n",
            "           3       0.36      0.36      0.36       647\n",
            "           4       0.37      0.34      0.36       290\n",
            "           5       0.35      0.34      0.34       565\n",
            "\n",
            "    accuracy                           0.36      3453\n",
            "   macro avg       0.36      0.36      0.36      3453\n",
            "weighted avg       0.36      0.36      0.36      3453\n",
            "\n",
            "****************************************************************************************************\n",
            "Model: NB\n",
            "Confusion Matrix: \n",
            "[[270  41  28  52  21 124]\n",
            " [345  52  37  60  41 153]\n",
            " [338  51  46  79  25 188]\n",
            " [257  32  34 123  13 188]\n",
            " [129  36   9  11  56  49]\n",
            " [222  31  43  89  14 166]]\n",
            "Accuracy :  20.648711265566174\n",
            "Classificarion Report : \n",
            "              precision    recall  f1-score   support\n",
            "\n",
            "           0       0.17      0.50      0.26       536\n",
            "           1       0.21      0.08      0.11       688\n",
            "           2       0.23      0.06      0.10       727\n",
            "           3       0.30      0.19      0.23       647\n",
            "           4       0.33      0.19      0.24       290\n",
            "           5       0.19      0.29      0.23       565\n",
            "\n",
            "    accuracy                           0.21      3453\n",
            "   macro avg       0.24      0.22      0.20      3453\n",
            "weighted avg       0.23      0.21      0.18      3453\n",
            "\n",
            "****************************************************************************************************\n",
            "Model: XGB\n",
            "Confusion Matrix: \n",
            "[[186 136 108  89  11   6]\n",
            " [ 60 350 103 114  44  17]\n",
            " [ 61 126 362 148  14  16]\n",
            " [ 28  80 149 351  13  26]\n",
            " [ 23  80  45  23 117   2]\n",
            " [ 42 101 129 149  13 131]]\n",
            "Accuracy :  43.35360556038228\n",
            "Classificarion Report : \n",
            "              precision    recall  f1-score   support\n",
            "\n",
            "           0       0.47      0.35      0.40       536\n",
            "           1       0.40      0.51      0.45       688\n",
            "           2       0.40      0.50      0.45       727\n",
            "           3       0.40      0.54      0.46       647\n",
            "           4       0.55      0.40      0.47       290\n",
            "           5       0.66      0.23      0.34       565\n",
            "\n",
            "    accuracy                           0.43      3453\n",
            "   macro avg       0.48      0.42      0.43      3453\n",
            "weighted avg       0.47      0.43      0.43      3453\n",
            "\n"
          ],
          "name": "stdout"
        },
        {
          "output_type": "stream",
          "text": [
            "/usr/local/lib/python3.6/dist-packages/ipykernel_launcher.py:11: DataConversionWarning: A column-vector y was passed when a 1d array was expected. Please change the shape of y to (n_samples,), for example using ravel().\n",
            "  # This is added back by InteractiveShellApp.init_path()\n"
          ],
          "name": "stderr"
        },
        {
          "output_type": "stream",
          "text": [
            "****************************************************************************************************\n",
            "Model: RForest\n",
            "Confusion Matrix: \n",
            "[[199  95  96  92  23  31]\n",
            " [ 87 291 103  84  58  65]\n",
            " [ 94 112 309 114  19  79]\n",
            " [ 84  97 108 265  16  77]\n",
            " [ 46  53  48  29  99  15]\n",
            " [ 64  79 113 112  15 182]]\n",
            "Accuracy :  38.9516362583261\n",
            "Classificarion Report : \n",
            "              precision    recall  f1-score   support\n",
            "\n",
            "           0       0.35      0.37      0.36       536\n",
            "           1       0.40      0.42      0.41       688\n",
            "           2       0.40      0.43      0.41       727\n",
            "           3       0.38      0.41      0.39       647\n",
            "           4       0.43      0.34      0.38       290\n",
            "           5       0.41      0.32      0.36       565\n",
            "\n",
            "    accuracy                           0.39      3453\n",
            "   macro avg       0.39      0.38      0.39      3453\n",
            "weighted avg       0.39      0.39      0.39      3453\n",
            "\n"
          ],
          "name": "stdout"
        },
        {
          "output_type": "stream",
          "text": [
            "/usr/local/lib/python3.6/dist-packages/sklearn/utils/validation.py:760: DataConversionWarning: A column-vector y was passed when a 1d array was expected. Please change the shape of y to (n_samples, ), for example using ravel().\n",
            "  y = column_or_1d(y, warn=True)\n"
          ],
          "name": "stderr"
        },
        {
          "output_type": "stream",
          "text": [
            "****************************************************************************************************\n",
            "Model: SVM\n",
            "Confusion Matrix: \n",
            "[[224 113  80  85  15  19]\n",
            " [ 84 329  95 102  49  29]\n",
            " [ 79 121 312 159  17  39]\n",
            " [ 58  89  98 343  11  48]\n",
            " [ 33  67  36  24 123   7]\n",
            " [ 62  93 107 141  13 149]]\n",
            "Accuracy :  42.86128004633652\n",
            "Classificarion Report : \n",
            "              precision    recall  f1-score   support\n",
            "\n",
            "           0       0.41      0.42      0.42       536\n",
            "           1       0.41      0.48      0.44       688\n",
            "           2       0.43      0.43      0.43       727\n",
            "           3       0.40      0.53      0.46       647\n",
            "           4       0.54      0.42      0.47       290\n",
            "           5       0.51      0.26      0.35       565\n",
            "\n",
            "    accuracy                           0.43      3453\n",
            "   macro avg       0.45      0.42      0.43      3453\n",
            "weighted avg       0.44      0.43      0.42      3453\n",
            "\n"
          ],
          "name": "stdout"
        },
        {
          "output_type": "stream",
          "text": [
            "/usr/local/lib/python3.6/dist-packages/ipykernel_launcher.py:11: DataConversionWarning: A column-vector y was passed when a 1d array was expected. Please change the shape of y to (n_samples, ), for example using ravel().\n",
            "  # This is added back by InteractiveShellApp.init_path()\n"
          ],
          "name": "stderr"
        },
        {
          "output_type": "stream",
          "text": [
            "****************************************************************************************************\n",
            "Model: KNN\n",
            "Confusion Matrix: \n",
            "[[233  95  89  68  24  27]\n",
            " [133 287 107  83  40  38]\n",
            " [141 117 287 100  23  59]\n",
            " [118 113 113 233  15  55]\n",
            " [ 51  56  47  23 100  13]\n",
            " [ 95  96 105  90  14 165]]\n",
            "Accuracy :  37.79322328410078\n",
            "Classificarion Report : \n",
            "              precision    recall  f1-score   support\n",
            "\n",
            "           0       0.30      0.43      0.36       536\n",
            "           1       0.38      0.42      0.40       688\n",
            "           2       0.38      0.39      0.39       727\n",
            "           3       0.39      0.36      0.37       647\n",
            "           4       0.46      0.34      0.40       290\n",
            "           5       0.46      0.29      0.36       565\n",
            "\n",
            "    accuracy                           0.38      3453\n",
            "   macro avg       0.40      0.37      0.38      3453\n",
            "weighted avg       0.39      0.38      0.38      3453\n",
            "\n"
          ],
          "name": "stdout"
        },
        {
          "output_type": "execute_result",
          "data": {
            "text/plain": [
              "KNeighborsClassifier(algorithm='auto', leaf_size=30, metric='minkowski',\n",
              "                     metric_params=None, n_jobs=None, n_neighbors=5, p=2,\n",
              "                     weights='uniform')"
            ]
          },
          "metadata": {
            "tags": []
          },
          "execution_count": 106
        },
        {
          "output_type": "display_data",
          "data": {
            "image/png": "[encoded data removed]",
            "text/plain": [
              "<Figure size 1152x432 with 1 Axes>"
            ]
          },
          "metadata": {
            "tags": []
          }
        }
      ]
    },
    {
      "cell_type": "markdown",
      "metadata": {
        "id": "CBO66g0qiyD8",
        "colab_type": "text"
      },
      "source": [
        "again with political factor added, we get very slight increase in the accuracy by some fraction. "
      ]
    },
    {
      "cell_type": "markdown",
      "metadata": {
        "id": "3hpNW69PoIXV",
        "colab_type": "text"
      },
      "source": [
        "#bert on Liar Liar dataset\n",
        "\n",
        "performing bert on liar liar dataset"
      ]
    },
    {
      "cell_type": "code",
      "metadata": {
        "id": "x_K5mMA2ilDA",
        "colab_type": "code",
        "colab": {
          "base_uri": "https://localhost:8080/",
          "height": 118
        },
        "outputId": "552a2987-70b1-49fb-eba1-2c0463a757d4"
      },
      "source": [
        "!pip install bert-for-tf2\n",
        "\n",
        "import tensorflow as tf\n",
        "import tensorflow_hub as hub\n",
        "from tensorflow.keras import layers\n",
        "import bert"
      ],
      "execution_count": 108,
      "outputs": [
        {
          "output_type": "stream",
          "text": [
            "Requirement already satisfied: bert-for-tf2 in /usr/local/lib/python3.6/dist-packages (0.14.4)\n",
            "Requirement already satisfied: py-params>=0.9.6 in /usr/local/lib/python3.6/dist-packages (from bert-for-tf2) (0.9.7)\n",
            "Requirement already satisfied: params-flow>=0.8.0 in /usr/local/lib/python3.6/dist-packages (from bert-for-tf2) (0.8.2)\n",
            "Requirement already satisfied: numpy in /usr/local/lib/python3.6/dist-packages (from params-flow>=0.8.0->bert-for-tf2) (1.18.4)\n",
            "Requirement already satisfied: tqdm in /usr/local/lib/python3.6/dist-packages (from params-flow>=0.8.0->bert-for-tf2) (4.41.1)\n"
          ],
          "name": "stdout"
        }
      ]
    },
    {
      "cell_type": "code",
      "metadata": {
        "id": "3BgIRPnPoNwL",
        "colab_type": "code",
        "colab": {}
      },
      "source": [
        "#Loding pretrained bert layer\n",
        "BertTokenizer = bert.bert_tokenization.FullTokenizer\n",
        "bert_layer = hub.KerasLayer(\"https://tfhub.dev/tensorflow/bert_en_uncased_L-12_H-768_A-12/1\",trainable=False)\n"
      ],
      "execution_count": 0,
      "outputs": []
    },
    {
      "cell_type": "code",
      "metadata": {
        "id": "7eio0EZzoWRw",
        "colab_type": "code",
        "colab": {}
      },
      "source": [
        "# Loading tokenizer from the bert layer\n",
        "vocab_file = bert_layer.resolved_object.vocab_file.asset_path.numpy()\n",
        "do_lower_case = bert_layer.resolved_object.do_lower_case.numpy()\n",
        "tokenizer = BertTokenizer(vocab_file, do_lower_case)"
      ],
      "execution_count": 0,
      "outputs": []
    },
    {
      "cell_type": "code",
      "metadata": {
        "id": "zIdkU8kqo1QD",
        "colab_type": "code",
        "colab": {}
      },
      "source": [
        "# function to encode the text into tokens, masks, and segment flags\n",
        "import numpy as np\n",
        "def bert_encode(texts, tokenizer, max_len=512):\n",
        "    all_tokens = []\n",
        "    all_masks = []\n",
        "    all_segments = []\n",
        "    \n",
        "    for text in texts:\n",
        "        text = tokenizer.tokenize(text)\n",
        "            \n",
        "        text = text[:max_len-2]\n",
        "        input_sequence = [\"[CLS]\"] + text + [\"[SEP]\"]\n",
        "        pad_len = max_len - len(input_sequence)\n",
        "        \n",
        "        tokens = tokenizer.convert_tokens_to_ids(input_sequence)\n",
        "        tokens += [0] * pad_len\n",
        "        pad_masks = [1] * len(input_sequence) + [0] * pad_len\n",
        "        segment_ids = [0] * max_len\n",
        "        \n",
        "        all_tokens.append(tokens)\n",
        "        all_masks.append(pad_masks)\n",
        "        all_segments.append(segment_ids)\n",
        "    \n",
        "    return np.array(all_tokens), np.array(all_masks), np.array(all_segments)"
      ],
      "execution_count": 0,
      "outputs": []
    },
    {
      "cell_type": "code",
      "metadata": {
        "id": "MRMa61Ubt5sg",
        "colab_type": "code",
        "colab": {}
      },
      "source": [
        "MAX_LEN = 64\n",
        "\n",
        "# encode train set \n",
        "train_input = bert_encode(liar.finalStatement.values, tokenizer, max_len=MAX_LEN)\n",
        "# encode  test set \n",
        "# test_input = bert_encode(test_df.text.values, tokenizer, max_len= MAX_LEN )\n",
        "train_labels = liar.subjectSynonyms.values"
      ],
      "execution_count": 0,
      "outputs": []
    },
    {
      "cell_type": "code",
      "metadata": {
        "id": "503IbG5AujRL",
        "colab_type": "code",
        "colab": {
          "base_uri": "https://localhost:8080/",
          "height": 358
        },
        "outputId": "1891db19-47c5-44a1-8ff6-fb4b37d30654"
      },
      "source": [
        "train_input"
      ],
      "execution_count": 126,
      "outputs": [
        {
          "output_type": "execute_result",
          "data": {
            "text/plain": [
              "(array([[  101,  2360,  5754, ...,     0,     0,     0],\n",
              "        [  101, 11703,  4115, ...,     0,     0,     0],\n",
              "        [  101,  2940,  8486, ...,     0,     0,     0],\n",
              "        ...,\n",
              "        [  101,  4656,  2072, ...,     0,     0,     0],\n",
              "        [  101,  2360, 19044, ...,     0,     0,     0],\n",
              "        [  101,  2360,  3099, ...,     0,     0,     0]]),\n",
              " array([[1, 1, 1, ..., 0, 0, 0],\n",
              "        [1, 1, 1, ..., 0, 0, 0],\n",
              "        [1, 1, 1, ..., 0, 0, 0],\n",
              "        ...,\n",
              "        [1, 1, 1, ..., 0, 0, 0],\n",
              "        [1, 1, 1, ..., 0, 0, 0],\n",
              "        [1, 1, 1, ..., 0, 0, 0]]),\n",
              " array([[0, 0, 0, ..., 0, 0, 0],\n",
              "        [0, 0, 0, ..., 0, 0, 0],\n",
              "        [0, 0, 0, ..., 0, 0, 0],\n",
              "        ...,\n",
              "        [0, 0, 0, ..., 0, 0, 0],\n",
              "        [0, 0, 0, ..., 0, 0, 0],\n",
              "        [0, 0, 0, ..., 0, 0, 0]]))"
            ]
          },
          "metadata": {
            "tags": []
          },
          "execution_count": 126
        }
      ]
    },
    {
      "cell_type": "code",
      "metadata": {
        "id": "U_nMLtK_vRKk",
        "colab_type": "code",
        "colab": {
          "base_uri": "https://localhost:8080/",
          "height": 411
        },
        "outputId": "e1b751ed-e8f6-43d0-96b2-a3776589206b"
      },
      "source": [
        "# first define input for token, mask and segment id  \n",
        "from tensorflow.keras.layers import  Input\n",
        "input_word_ids = Input(shape=(MAX_LEN,), dtype=tf.int32, name=\"input_word_ids\")\n",
        "input_mask = Input(shape=(MAX_LEN,), dtype=tf.int32, name=\"input_mask\")\n",
        "segment_ids = Input(shape=(MAX_LEN,), dtype=tf.int32, name=\"segment_ids\")\n",
        "\n",
        "#  output  \n",
        "from tensorflow.keras.layers import Dense\n",
        "pooled_output, sequence_output = bert_layer([input_word_ids, input_mask, segment_ids])  \n",
        "clf_output = sequence_output[:, 0, :]\n",
        "out = Dense(1, activation='sigmoid')(clf_output)   \n",
        "\n",
        "# intilize model\n",
        "from tensorflow.keras.models import Model\n",
        "from tensorflow.keras.optimizers import Adam\n",
        "model = Model(inputs=[input_word_ids, input_mask, segment_ids], outputs=out)\n",
        "model.compile(Adam(lr=2e-6), loss='binary_crossentropy', metrics=['accuracy'])\n",
        "model.summary()\n",
        "\n",
        "# train\n",
        "train_history = model.fit(\n",
        "    train_input, train_labels,\n",
        "    validation_split=0.2,\n",
        "    epochs=2,\n",
        "    batch_size=32\n",
        ")\n"
      ],
      "execution_count": 0,
      "outputs": [
        {
          "output_type": "stream",
          "text": [
            "Model: \"model_2\"\n",
            "__________________________________________________________________________________________________\n",
            "Layer (type)                    Output Shape         Param #     Connected to                     \n",
            "==================================================================================================\n",
            "input_word_ids (InputLayer)     [(None, 64)]         0                                            \n",
            "__________________________________________________________________________________________________\n",
            "input_mask (InputLayer)         [(None, 64)]         0                                            \n",
            "__________________________________________________________________________________________________\n",
            "segment_ids (InputLayer)        [(None, 64)]         0                                            \n",
            "__________________________________________________________________________________________________\n",
            "keras_layer (KerasLayer)        [(None, 768), (None, 109482241   input_word_ids[0][0]             \n",
            "                                                                 input_mask[0][0]                 \n",
            "                                                                 segment_ids[0][0]                \n",
            "__________________________________________________________________________________________________\n",
            "tf_op_layer_strided_slice_2 (Te [(None, 768)]        0           keras_layer[2][1]                \n",
            "__________________________________________________________________________________________________\n",
            "dense_2 (Dense)                 (None, 1)            769         tf_op_layer_strided_slice_2[0][0]\n",
            "==================================================================================================\n",
            "Total params: 109,483,010\n",
            "Trainable params: 769\n",
            "Non-trainable params: 109,482,241\n",
            "__________________________________________________________________________________________________\n",
            "Epoch 1/2\n"
          ],
          "name": "stdout"
        }
      ]
    },
    {
      "cell_type": "markdown",
      "metadata": {
        "id": "tBQr0Qsfy_M7",
        "colab_type": "text"
      },
      "source": [
        "bert model takes soo long to train"
      ]
    },
    {
      "cell_type": "code",
      "metadata": {
        "id": "bpx6ekz8vgHy",
        "colab_type": "code",
        "colab": {}
      },
      "source": [
        "test_pred = model.predict('Says the Annies List political group supports')\n",
        "preds = test_pred.round().astype(int)\n",
        "preds"
      ],
      "execution_count": 0,
      "outputs": []
    }
  ]
}