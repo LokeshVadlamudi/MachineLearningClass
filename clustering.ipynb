{
  "nbformat": 4,
  "nbformat_minor": 0,
  "metadata": {
    "colab": {
      "name": "clustering.ipynb",
      "provenance": [],
      "collapsed_sections": [],
      "mount_file_id": "14falSrQ55gMK5dIUsHavbD4kEpsUbe37",
      "authorship_tag": "ABX9TyNyfkU42GSiFfMXpyueigev",
      "include_colab_link": true
    },
    "kernelspec": {
      "name": "python3",
      "display_name": "Python 3"
    },
    "accelerator": "GPU"
  },
  "cells": [
    {
      "cell_type": "markdown",
      "metadata": {
        "id": "view-in-github",
        "colab_type": "text"
      },
      "source": [
        "<a href=\"https://colab.research.google.com/github/LokeshVadlamudi/MachineLearningClass/blob/master/clustering.ipynb\" target=\"_parent\"><img src=\"https://colab.research.google.com/assets/colab-badge.svg\" alt=\"Open In Colab\"/></a>"
      ]
    },
    {
      "cell_type": "code",
      "metadata": {
        "id": "6qMLLMu638mD",
        "colab_type": "code",
        "colab": {}
      },
      "source": [
        "import pandas as pd"
      ],
      "execution_count": 0,
      "outputs": []
    },
    {
      "cell_type": "code",
      "metadata": {
        "id": "WL0qQCFA43BR",
        "colab_type": "code",
        "colab": {
          "base_uri": "https://localhost:8080/",
          "height": 71
        },
        "outputId": "7d865fd5-6daa-4d91-cf9a-94a0d2b6557c"
      },
      "source": [
        "df = pd.read_csv('/content/drive/My Drive/fire.csv')"
      ],
      "execution_count": 59,
      "outputs": [
        {
          "output_type": "stream",
          "text": [
            "/usr/local/lib/python3.6/dist-packages/IPython/core/interactiveshell.py:2718: DtypeWarning: Columns (9,12,15,16) have mixed types. Specify dtype option on import or set low_memory=False.\n",
            "  interactivity=interactivity, compiler=compiler, result=result)\n"
          ],
          "name": "stderr"
        }
      ]
    },
    {
      "cell_type": "code",
      "metadata": {
        "id": "M9Dw5Kk15BbX",
        "colab_type": "code",
        "colab": {
          "base_uri": "https://localhost:8080/",
          "height": 626
        },
        "outputId": "caf84eef-7ed6-4a59-d36a-85997f086689"
      },
      "source": [
        "df"
      ],
      "execution_count": 60,
      "outputs": [
        {
          "output_type": "execute_result",
          "data": {
            "text/html": [
              "<div>\n",
              "<style scoped>\n",
              "    .dataframe tbody tr th:only-of-type {\n",
              "        vertical-align: middle;\n",
              "    }\n",
              "\n",
              "    .dataframe tbody tr th {\n",
              "        vertical-align: top;\n",
              "    }\n",
              "\n",
              "    .dataframe thead th {\n",
              "        text-align: right;\n",
              "    }\n",
              "</style>\n",
              "<table border=\"1\" class=\"dataframe\">\n",
              "  <thead>\n",
              "    <tr style=\"text-align: right;\">\n",
              "      <th></th>\n",
              "      <th>Unnamed: 0</th>\n",
              "      <th>OBJECTID</th>\n",
              "      <th>FOD_ID</th>\n",
              "      <th>FPA_ID</th>\n",
              "      <th>SOURCE_SYSTEM_TYPE</th>\n",
              "      <th>SOURCE_SYSTEM</th>\n",
              "      <th>NWCG_REPORTING_AGENCY</th>\n",
              "      <th>NWCG_REPORTING_UNIT_ID</th>\n",
              "      <th>NWCG_REPORTING_UNIT_NAME</th>\n",
              "      <th>SOURCE_REPORTING_UNIT</th>\n",
              "      <th>SOURCE_REPORTING_UNIT_NAME</th>\n",
              "      <th>LOCAL_FIRE_REPORT_ID</th>\n",
              "      <th>LOCAL_INCIDENT_ID</th>\n",
              "      <th>FIRE_CODE</th>\n",
              "      <th>FIRE_NAME</th>\n",
              "      <th>ICS_209_INCIDENT_NUMBER</th>\n",
              "      <th>ICS_209_NAME</th>\n",
              "      <th>MTBS_ID</th>\n",
              "      <th>MTBS_FIRE_NAME</th>\n",
              "      <th>COMPLEX_NAME</th>\n",
              "      <th>FIRE_YEAR</th>\n",
              "      <th>DISCOVERY_DATE</th>\n",
              "      <th>DISCOVERY_DOY</th>\n",
              "      <th>DISCOVERY_TIME</th>\n",
              "      <th>STAT_CAUSE_CODE</th>\n",
              "      <th>STAT_CAUSE_DESCR</th>\n",
              "      <th>CONT_DATE</th>\n",
              "      <th>CONT_DOY</th>\n",
              "      <th>CONT_TIME</th>\n",
              "      <th>FIRE_SIZE</th>\n",
              "      <th>FIRE_SIZE_CLASS</th>\n",
              "      <th>LATITUDE</th>\n",
              "      <th>LONGITUDE</th>\n",
              "      <th>OWNER_CODE</th>\n",
              "      <th>OWNER_DESCR</th>\n",
              "      <th>STATE</th>\n",
              "      <th>COUNTY</th>\n",
              "      <th>FIPS_CODE</th>\n",
              "      <th>FIPS_NAME</th>\n",
              "      <th>Shape</th>\n",
              "    </tr>\n",
              "  </thead>\n",
              "  <tbody>\n",
              "    <tr>\n",
              "      <th>0</th>\n",
              "      <td>0</td>\n",
              "      <td>1</td>\n",
              "      <td>1</td>\n",
              "      <td>FS-1418826</td>\n",
              "      <td>FED</td>\n",
              "      <td>FS-FIRESTAT</td>\n",
              "      <td>FS</td>\n",
              "      <td>USCAPNF</td>\n",
              "      <td>Plumas National Forest</td>\n",
              "      <td>511</td>\n",
              "      <td>Plumas National Forest</td>\n",
              "      <td>1</td>\n",
              "      <td>PNF-47</td>\n",
              "      <td>BJ8K</td>\n",
              "      <td>FOUNTAIN</td>\n",
              "      <td>NaN</td>\n",
              "      <td>NaN</td>\n",
              "      <td>NaN</td>\n",
              "      <td>NaN</td>\n",
              "      <td>NaN</td>\n",
              "      <td>2005</td>\n",
              "      <td>2453403.5</td>\n",
              "      <td>33</td>\n",
              "      <td>1300</td>\n",
              "      <td>9.0</td>\n",
              "      <td>Miscellaneous</td>\n",
              "      <td>2453403.5</td>\n",
              "      <td>33.0</td>\n",
              "      <td>1730.0</td>\n",
              "      <td>0.10</td>\n",
              "      <td>A</td>\n",
              "      <td>40.036944</td>\n",
              "      <td>-121.005833</td>\n",
              "      <td>5.0</td>\n",
              "      <td>USFS</td>\n",
              "      <td>CA</td>\n",
              "      <td>63.0</td>\n",
              "      <td>63.0</td>\n",
              "      <td>Plumas</td>\n",
              "      <td>b'\\x00\\x01\\xad\\x10\\x00\\x00\\xe8d\\xc2\\x92_@^\\xc0...</td>\n",
              "    </tr>\n",
              "    <tr>\n",
              "      <th>1</th>\n",
              "      <td>1</td>\n",
              "      <td>2</td>\n",
              "      <td>2</td>\n",
              "      <td>FS-1418827</td>\n",
              "      <td>FED</td>\n",
              "      <td>FS-FIRESTAT</td>\n",
              "      <td>FS</td>\n",
              "      <td>USCAENF</td>\n",
              "      <td>Eldorado National Forest</td>\n",
              "      <td>503</td>\n",
              "      <td>Eldorado National Forest</td>\n",
              "      <td>13</td>\n",
              "      <td>13</td>\n",
              "      <td>AAC0</td>\n",
              "      <td>PIGEON</td>\n",
              "      <td>NaN</td>\n",
              "      <td>NaN</td>\n",
              "      <td>NaN</td>\n",
              "      <td>NaN</td>\n",
              "      <td>NaN</td>\n",
              "      <td>2004</td>\n",
              "      <td>2453137.5</td>\n",
              "      <td>133</td>\n",
              "      <td>845</td>\n",
              "      <td>1.0</td>\n",
              "      <td>Lightning</td>\n",
              "      <td>2453137.5</td>\n",
              "      <td>133.0</td>\n",
              "      <td>1530.0</td>\n",
              "      <td>0.25</td>\n",
              "      <td>A</td>\n",
              "      <td>38.933056</td>\n",
              "      <td>-120.404444</td>\n",
              "      <td>5.0</td>\n",
              "      <td>USFS</td>\n",
              "      <td>CA</td>\n",
              "      <td>61.0</td>\n",
              "      <td>61.0</td>\n",
              "      <td>Placer</td>\n",
              "      <td>b'\\x00\\x01\\xad\\x10\\x00\\x00T\\xb6\\xeej\\xe2\\x19^\\...</td>\n",
              "    </tr>\n",
              "    <tr>\n",
              "      <th>2</th>\n",
              "      <td>2</td>\n",
              "      <td>3</td>\n",
              "      <td>3</td>\n",
              "      <td>FS-1418835</td>\n",
              "      <td>FED</td>\n",
              "      <td>FS-FIRESTAT</td>\n",
              "      <td>FS</td>\n",
              "      <td>USCAENF</td>\n",
              "      <td>Eldorado National Forest</td>\n",
              "      <td>503</td>\n",
              "      <td>Eldorado National Forest</td>\n",
              "      <td>27</td>\n",
              "      <td>021</td>\n",
              "      <td>A32W</td>\n",
              "      <td>SLACK</td>\n",
              "      <td>NaN</td>\n",
              "      <td>NaN</td>\n",
              "      <td>NaN</td>\n",
              "      <td>NaN</td>\n",
              "      <td>NaN</td>\n",
              "      <td>2004</td>\n",
              "      <td>2453156.5</td>\n",
              "      <td>152</td>\n",
              "      <td>1921</td>\n",
              "      <td>5.0</td>\n",
              "      <td>Debris Burning</td>\n",
              "      <td>2453156.5</td>\n",
              "      <td>152.0</td>\n",
              "      <td>2024.0</td>\n",
              "      <td>0.10</td>\n",
              "      <td>A</td>\n",
              "      <td>38.984167</td>\n",
              "      <td>-120.735556</td>\n",
              "      <td>13.0</td>\n",
              "      <td>STATE OR PRIVATE</td>\n",
              "      <td>CA</td>\n",
              "      <td>17.0</td>\n",
              "      <td>17.0</td>\n",
              "      <td>El Dorado</td>\n",
              "      <td>b'\\x00\\x01\\xad\\x10\\x00\\x00\\xd0\\xa5\\xa0W\\x13/^\\...</td>\n",
              "    </tr>\n",
              "    <tr>\n",
              "      <th>3</th>\n",
              "      <td>3</td>\n",
              "      <td>4</td>\n",
              "      <td>4</td>\n",
              "      <td>FS-1418845</td>\n",
              "      <td>FED</td>\n",
              "      <td>FS-FIRESTAT</td>\n",
              "      <td>FS</td>\n",
              "      <td>USCAENF</td>\n",
              "      <td>Eldorado National Forest</td>\n",
              "      <td>503</td>\n",
              "      <td>Eldorado National Forest</td>\n",
              "      <td>43</td>\n",
              "      <td>6</td>\n",
              "      <td>NaN</td>\n",
              "      <td>DEER</td>\n",
              "      <td>NaN</td>\n",
              "      <td>NaN</td>\n",
              "      <td>NaN</td>\n",
              "      <td>NaN</td>\n",
              "      <td>NaN</td>\n",
              "      <td>2004</td>\n",
              "      <td>2453184.5</td>\n",
              "      <td>180</td>\n",
              "      <td>1600</td>\n",
              "      <td>1.0</td>\n",
              "      <td>Lightning</td>\n",
              "      <td>2453189.5</td>\n",
              "      <td>185.0</td>\n",
              "      <td>1400.0</td>\n",
              "      <td>0.10</td>\n",
              "      <td>A</td>\n",
              "      <td>38.559167</td>\n",
              "      <td>-119.913333</td>\n",
              "      <td>5.0</td>\n",
              "      <td>USFS</td>\n",
              "      <td>CA</td>\n",
              "      <td>3.0</td>\n",
              "      <td>3.0</td>\n",
              "      <td>Alpine</td>\n",
              "      <td>b'\\x00\\x01\\xad\\x10\\x00\\x00\\x94\\xac\\xa3\\rt\\xfa]...</td>\n",
              "    </tr>\n",
              "    <tr>\n",
              "      <th>4</th>\n",
              "      <td>4</td>\n",
              "      <td>5</td>\n",
              "      <td>5</td>\n",
              "      <td>FS-1418847</td>\n",
              "      <td>FED</td>\n",
              "      <td>FS-FIRESTAT</td>\n",
              "      <td>FS</td>\n",
              "      <td>USCAENF</td>\n",
              "      <td>Eldorado National Forest</td>\n",
              "      <td>503</td>\n",
              "      <td>Eldorado National Forest</td>\n",
              "      <td>44</td>\n",
              "      <td>7</td>\n",
              "      <td>NaN</td>\n",
              "      <td>STEVENOT</td>\n",
              "      <td>NaN</td>\n",
              "      <td>NaN</td>\n",
              "      <td>NaN</td>\n",
              "      <td>NaN</td>\n",
              "      <td>NaN</td>\n",
              "      <td>2004</td>\n",
              "      <td>2453184.5</td>\n",
              "      <td>180</td>\n",
              "      <td>1600</td>\n",
              "      <td>1.0</td>\n",
              "      <td>Lightning</td>\n",
              "      <td>2453189.5</td>\n",
              "      <td>185.0</td>\n",
              "      <td>1200.0</td>\n",
              "      <td>0.10</td>\n",
              "      <td>A</td>\n",
              "      <td>38.559167</td>\n",
              "      <td>-119.933056</td>\n",
              "      <td>5.0</td>\n",
              "      <td>USFS</td>\n",
              "      <td>CA</td>\n",
              "      <td>3.0</td>\n",
              "      <td>3.0</td>\n",
              "      <td>Alpine</td>\n",
              "      <td>b'\\x00\\x01\\xad\\x10\\x00\\x00@\\xe3\\xaa.\\xb7\\xfb]\\...</td>\n",
              "    </tr>\n",
              "    <tr>\n",
              "      <th>...</th>\n",
              "      <td>...</td>\n",
              "      <td>...</td>\n",
              "      <td>...</td>\n",
              "      <td>...</td>\n",
              "      <td>...</td>\n",
              "      <td>...</td>\n",
              "      <td>...</td>\n",
              "      <td>...</td>\n",
              "      <td>...</td>\n",
              "      <td>...</td>\n",
              "      <td>...</td>\n",
              "      <td>...</td>\n",
              "      <td>...</td>\n",
              "      <td>...</td>\n",
              "      <td>...</td>\n",
              "      <td>...</td>\n",
              "      <td>...</td>\n",
              "      <td>...</td>\n",
              "      <td>...</td>\n",
              "      <td>...</td>\n",
              "      <td>...</td>\n",
              "      <td>...</td>\n",
              "      <td>...</td>\n",
              "      <td>...</td>\n",
              "      <td>...</td>\n",
              "      <td>...</td>\n",
              "      <td>...</td>\n",
              "      <td>...</td>\n",
              "      <td>...</td>\n",
              "      <td>...</td>\n",
              "      <td>...</td>\n",
              "      <td>...</td>\n",
              "      <td>...</td>\n",
              "      <td>...</td>\n",
              "      <td>...</td>\n",
              "      <td>...</td>\n",
              "      <td>...</td>\n",
              "      <td>...</td>\n",
              "      <td>...</td>\n",
              "      <td>...</td>\n",
              "    </tr>\n",
              "    <tr>\n",
              "      <th>58649</th>\n",
              "      <td>58649</td>\n",
              "      <td>58650</td>\n",
              "      <td>59199</td>\n",
              "      <td>FS-283735</td>\n",
              "      <td>FED</td>\n",
              "      <td>FS-FIRESTAT</td>\n",
              "      <td>FS</td>\n",
              "      <td>USTNCNF</td>\n",
              "      <td>Cherokee National Forest</td>\n",
              "      <td>804</td>\n",
              "      <td>Cherokee National Forest</td>\n",
              "      <td>13</td>\n",
              "      <td>NaN</td>\n",
              "      <td>NaN</td>\n",
              "      <td>NaN</td>\n",
              "      <td>NaN</td>\n",
              "      <td>NaN</td>\n",
              "      <td>NaN</td>\n",
              "      <td>NaN</td>\n",
              "      <td>NaN</td>\n",
              "      <td>1993</td>\n",
              "      <td>2449096.5</td>\n",
              "      <td>109</td>\n",
              "      <td>1000</td>\n",
              "      <td>7.0</td>\n",
              "      <td>Arson</td>\n",
              "      <td>2449096.5</td>\n",
              "      <td>109.0</td>\n",
              "      <td>1700.0</td>\n",
              "      <td>2.00</td>\n",
              "      <td>B</td>\n",
              "      <td>35.400000</td>\n",
              "      <td>-84.133333</td>\n",
              "      <td>13.0</td>\n",
              "      <td>STATE OR PRIVATE</td>\n",
              "      <td>TN</td>\n",
              "      <td>NaN</td>\n",
              "      <td>NaN</td>\n",
              "      <td>NaN</td>\n",
              "      <td>b'\\x00\\x01\\xad\\x10\\x00\\x00D\\xf4\\x84\\x88\\x88\\x0...</td>\n",
              "    </tr>\n",
              "    <tr>\n",
              "      <th>58650</th>\n",
              "      <td>58650</td>\n",
              "      <td>58651</td>\n",
              "      <td>59200</td>\n",
              "      <td>FS-283736</td>\n",
              "      <td>FED</td>\n",
              "      <td>FS-FIRESTAT</td>\n",
              "      <td>FS</td>\n",
              "      <td>USTNCNF</td>\n",
              "      <td>Cherokee National Forest</td>\n",
              "      <td>804</td>\n",
              "      <td>Cherokee National Forest</td>\n",
              "      <td>14</td>\n",
              "      <td>NaN</td>\n",
              "      <td>NaN</td>\n",
              "      <td>NaN</td>\n",
              "      <td>NaN</td>\n",
              "      <td>NaN</td>\n",
              "      <td>NaN</td>\n",
              "      <td>NaN</td>\n",
              "      <td>NaN</td>\n",
              "      <td>1993</td>\n",
              "      <td>2449101.5</td>\n",
              "      <td>114</td>\n",
              "      <td>1650</td>\n",
              "      <td>7.0</td>\n",
              "      <td>Arson</td>\n",
              "      <td>2449101.5</td>\n",
              "      <td>114.0</td>\n",
              "      <td>1800.0</td>\n",
              "      <td>0.20</td>\n",
              "      <td>A</td>\n",
              "      <td>35.343333</td>\n",
              "      <td>-84.238333</td>\n",
              "      <td>5.0</td>\n",
              "      <td>USFS</td>\n",
              "      <td>TN</td>\n",
              "      <td>NaN</td>\n",
              "      <td>NaN</td>\n",
              "      <td>NaN</td>\n",
              "      <td>b'\\x00\\x01\\xad\\x10\\x00\\x00dyp\\xda@\\x0fU\\xc0\\x1...</td>\n",
              "    </tr>\n",
              "    <tr>\n",
              "      <th>58651</th>\n",
              "      <td>58651</td>\n",
              "      <td>58652</td>\n",
              "      <td>59201</td>\n",
              "      <td>FS-283737</td>\n",
              "      <td>FED</td>\n",
              "      <td>FS-FIRESTAT</td>\n",
              "      <td>FS</td>\n",
              "      <td>USTNCNF</td>\n",
              "      <td>Cherokee National Forest</td>\n",
              "      <td>804</td>\n",
              "      <td>Cherokee National Forest</td>\n",
              "      <td>15</td>\n",
              "      <td>NaN</td>\n",
              "      <td>NaN</td>\n",
              "      <td>NaN</td>\n",
              "      <td>NaN</td>\n",
              "      <td>NaN</td>\n",
              "      <td>NaN</td>\n",
              "      <td>NaN</td>\n",
              "      <td>NaN</td>\n",
              "      <td>1993</td>\n",
              "      <td>2449101.5</td>\n",
              "      <td>114</td>\n",
              "      <td>1720</td>\n",
              "      <td>7.0</td>\n",
              "      <td>Arson</td>\n",
              "      <td>2449101.5</td>\n",
              "      <td>114.0</td>\n",
              "      <td>1745.0</td>\n",
              "      <td>0.10</td>\n",
              "      <td>A</td>\n",
              "      <td>35.348333</td>\n",
              "      <td>-84.240000</td>\n",
              "      <td>5.0</td>\n",
              "      <td>USFS</td>\n",
              "      <td>TN</td>\n",
              "      <td>NaN</td>\n",
              "      <td>NaN</td>\n",
              "      <td>NaN</td>\n",
              "      <td>b'\\x00\\x01\\xad\\x10\\x00\\x00\\x8c\\xc2\\xf5(\\\\\\x0fU...</td>\n",
              "    </tr>\n",
              "    <tr>\n",
              "      <th>58652</th>\n",
              "      <td>58652</td>\n",
              "      <td>58653</td>\n",
              "      <td>59202</td>\n",
              "      <td>FS-283738</td>\n",
              "      <td>FED</td>\n",
              "      <td>FS-FIRESTAT</td>\n",
              "      <td>FS</td>\n",
              "      <td>USTNCNF</td>\n",
              "      <td>Cherokee National Forest</td>\n",
              "      <td>804</td>\n",
              "      <td>Cherokee National Forest</td>\n",
              "      <td>16</td>\n",
              "      <td>NaN</td>\n",
              "      <td>NaN</td>\n",
              "      <td>NaN</td>\n",
              "      <td>NaN</td>\n",
              "      <td>NaN</td>\n",
              "      <td>NaN</td>\n",
              "      <td>NaN</td>\n",
              "      <td>NaN</td>\n",
              "      <td>1993</td>\n",
              "      <td>2449101.5</td>\n",
              "      <td>114</td>\n",
              "      <td>1700</td>\n",
              "      <td>7.0</td>\n",
              "      <td>Arson</td>\n",
              "      <td>2449101.5</td>\n",
              "      <td>114.0</td>\n",
              "      <td>1830.0</td>\n",
              "      <td>0.20</td>\n",
              "      <td>A</td>\n",
              "      <td>35.351667</td>\n",
              "      <td>-84.223333</td>\n",
              "      <td>5.0</td>\n",
              "      <td>USFS</td>\n",
              "      <td>TN</td>\n",
              "      <td>NaN</td>\n",
              "      <td>NaN</td>\n",
              "      <td>NaN</td>\n",
              "      <td>b'\\x00\\x01\\xad\\x10\\x00\\x008\\x1d\\xe1\\x17K\\x0eU\\...</td>\n",
              "    </tr>\n",
              "    <tr>\n",
              "      <th>58653</th>\n",
              "      <td>58653</td>\n",
              "      <td>58654</td>\n",
              "      <td>59203</td>\n",
              "      <td>FS-283739</td>\n",
              "      <td>FED</td>\n",
              "      <td>FS-FIRESTAT</td>\n",
              "      <td>FS</td>\n",
              "      <td>USTNCNF</td>\n",
              "      <td>Cherokee National Forest</td>\n",
              "      <td>804</td>\n",
              "      <td>Cherokee National Forest</td>\n",
              "      <td>17</td>\n",
              "      <td>NaN</td>\n",
              "      <td>NaN</td>\n",
              "      <td>NaN</td>\n",
              "      <td>NaN</td>\n",
              "      <td>NaN</td>\n",
              "      <td>NaN</td>\n",
              "      <td>NaN</td>\n",
              "      <td>NaN</td>\n",
              "      <td>1993</td>\n",
              "      <td>2449101.5</td>\n",
              "      <td>114</td>\n",
              "      <td>1700</td>\n",
              "      <td>7.0</td>\n",
              "      <td>Arson</td>\n",
              "      <td>2449101.5</td>\n",
              "      <td>114.0</td>\n",
              "      <td>2100.0</td>\n",
              "      <td>20.00</td>\n",
              "      <td>C</td>\n",
              "      <td>35.351667</td>\n",
              "      <td>-84.216667</td>\n",
              "      <td>5.0</td>\n",
              "      <td>USFS</td>\n",
              "      <td>TN</td>\n",
              "      <td>NaN</td>\n",
              "      <td>NaN</td>\n",
              "      <td>NaN</td>\n",
              "      <td>b'\\x00\\x01\\xad\\x10\\x00\\x00\\x1cr\\xe1\\xdd\\xdd\\rU...</td>\n",
              "    </tr>\n",
              "  </tbody>\n",
              "</table>\n",
              "<p>58654 rows × 40 columns</p>\n",
              "</div>"
            ],
            "text/plain": [
              "       Unnamed: 0  ...                                              Shape\n",
              "0               0  ...  b'\\x00\\x01\\xad\\x10\\x00\\x00\\xe8d\\xc2\\x92_@^\\xc0...\n",
              "1               1  ...  b'\\x00\\x01\\xad\\x10\\x00\\x00T\\xb6\\xeej\\xe2\\x19^\\...\n",
              "2               2  ...  b'\\x00\\x01\\xad\\x10\\x00\\x00\\xd0\\xa5\\xa0W\\x13/^\\...\n",
              "3               3  ...  b'\\x00\\x01\\xad\\x10\\x00\\x00\\x94\\xac\\xa3\\rt\\xfa]...\n",
              "4               4  ...  b'\\x00\\x01\\xad\\x10\\x00\\x00@\\xe3\\xaa.\\xb7\\xfb]\\...\n",
              "...           ...  ...                                                ...\n",
              "58649       58649  ...  b'\\x00\\x01\\xad\\x10\\x00\\x00D\\xf4\\x84\\x88\\x88\\x0...\n",
              "58650       58650  ...  b'\\x00\\x01\\xad\\x10\\x00\\x00dyp\\xda@\\x0fU\\xc0\\x1...\n",
              "58651       58651  ...  b'\\x00\\x01\\xad\\x10\\x00\\x00\\x8c\\xc2\\xf5(\\\\\\x0fU...\n",
              "58652       58652  ...  b'\\x00\\x01\\xad\\x10\\x00\\x008\\x1d\\xe1\\x17K\\x0eU\\...\n",
              "58653       58653  ...  b'\\x00\\x01\\xad\\x10\\x00\\x00\\x1cr\\xe1\\xdd\\xdd\\rU...\n",
              "\n",
              "[58654 rows x 40 columns]"
            ]
          },
          "metadata": {
            "tags": []
          },
          "execution_count": 60
        }
      ]
    },
    {
      "cell_type": "code",
      "metadata": {
        "id": "ns_KXfpL5Cdh",
        "colab_type": "code",
        "colab": {
          "base_uri": "https://localhost:8080/",
          "height": 221
        },
        "outputId": "ca1e3745-aa01-45cf-822a-ef3c84f878dc"
      },
      "source": [
        "df.columns"
      ],
      "execution_count": 61,
      "outputs": [
        {
          "output_type": "execute_result",
          "data": {
            "text/plain": [
              "Index(['Unnamed: 0', 'OBJECTID', 'FOD_ID', 'FPA_ID', 'SOURCE_SYSTEM_TYPE',\n",
              "       'SOURCE_SYSTEM', 'NWCG_REPORTING_AGENCY', 'NWCG_REPORTING_UNIT_ID',\n",
              "       'NWCG_REPORTING_UNIT_NAME', 'SOURCE_REPORTING_UNIT',\n",
              "       'SOURCE_REPORTING_UNIT_NAME', 'LOCAL_FIRE_REPORT_ID',\n",
              "       'LOCAL_INCIDENT_ID', 'FIRE_CODE', 'FIRE_NAME',\n",
              "       'ICS_209_INCIDENT_NUMBER', 'ICS_209_NAME', 'MTBS_ID', 'MTBS_FIRE_NAME',\n",
              "       'COMPLEX_NAME', 'FIRE_YEAR', 'DISCOVERY_DATE', 'DISCOVERY_DOY',\n",
              "       'DISCOVERY_TIME', 'STAT_CAUSE_CODE', 'STAT_CAUSE_DESCR', 'CONT_DATE',\n",
              "       'CONT_DOY', 'CONT_TIME', 'FIRE_SIZE', 'FIRE_SIZE_CLASS', 'LATITUDE',\n",
              "       'LONGITUDE', 'OWNER_CODE', 'OWNER_DESCR', 'STATE', 'COUNTY',\n",
              "       'FIPS_CODE', 'FIPS_NAME', 'Shape'],\n",
              "      dtype='object')"
            ]
          },
          "metadata": {
            "tags": []
          },
          "execution_count": 61
        }
      ]
    },
    {
      "cell_type": "code",
      "metadata": {
        "id": "WWD00tSZ6ASt",
        "colab_type": "code",
        "colab": {
          "base_uri": "https://localhost:8080/",
          "height": 34
        },
        "outputId": "e8ffbcfc-0948-4c73-b577-da73d2796933"
      },
      "source": [
        "df.size"
      ],
      "execution_count": 62,
      "outputs": [
        {
          "output_type": "execute_result",
          "data": {
            "text/plain": [
              "2346160"
            ]
          },
          "metadata": {
            "tags": []
          },
          "execution_count": 62
        }
      ]
    },
    {
      "cell_type": "code",
      "metadata": {
        "id": "bGJ78upW6CG6",
        "colab_type": "code",
        "colab": {
          "base_uri": "https://localhost:8080/",
          "height": 714
        },
        "outputId": "638088cc-ae0f-4a83-93ac-27231bdaf431"
      },
      "source": [
        "df.isnull().sum()"
      ],
      "execution_count": 63,
      "outputs": [
        {
          "output_type": "execute_result",
          "data": {
            "text/plain": [
              "Unnamed: 0                        0\n",
              "OBJECTID                          0\n",
              "FOD_ID                            0\n",
              "FPA_ID                            0\n",
              "SOURCE_SYSTEM_TYPE                0\n",
              "SOURCE_SYSTEM                     0\n",
              "NWCG_REPORTING_AGENCY             0\n",
              "NWCG_REPORTING_UNIT_ID            0\n",
              "NWCG_REPORTING_UNIT_NAME          0\n",
              "SOURCE_REPORTING_UNIT             0\n",
              "SOURCE_REPORTING_UNIT_NAME        0\n",
              "LOCAL_FIRE_REPORT_ID              0\n",
              "LOCAL_INCIDENT_ID             17578\n",
              "FIRE_CODE                     16801\n",
              "FIRE_NAME                     13237\n",
              "ICS_209_INCIDENT_NUMBER       56102\n",
              "ICS_209_NAME                  56102\n",
              "MTBS_ID                       57835\n",
              "MTBS_FIRE_NAME                57835\n",
              "COMPLEX_NAME                  57693\n",
              "FIRE_YEAR                         0\n",
              "DISCOVERY_DATE                    0\n",
              "DISCOVERY_DOY                     0\n",
              "DISCOVERY_TIME                    0\n",
              "STAT_CAUSE_CODE                   0\n",
              "STAT_CAUSE_DESCR                  0\n",
              "CONT_DATE                       105\n",
              "CONT_DOY                        105\n",
              "CONT_TIME                       139\n",
              "FIRE_SIZE                         0\n",
              "FIRE_SIZE_CLASS                   0\n",
              "LATITUDE                          0\n",
              "LONGITUDE                         0\n",
              "OWNER_CODE                        0\n",
              "OWNER_DESCR                       0\n",
              "STATE                             0\n",
              "COUNTY                        18737\n",
              "FIPS_CODE                     18737\n",
              "FIPS_NAME                     18737\n",
              "Shape                             0\n",
              "dtype: int64"
            ]
          },
          "metadata": {
            "tags": []
          },
          "execution_count": 63
        }
      ]
    },
    {
      "cell_type": "code",
      "metadata": {
        "id": "zx_MzlDu6vX1",
        "colab_type": "code",
        "colab": {}
      },
      "source": [
        "cols = ['FIRE_YEAR','FIRE_SIZE','STAT_CAUSE_DESCR','LATITUDE','LONGITUDE','STATE','DISCOVERY_DATE']"
      ],
      "execution_count": 0,
      "outputs": []
    },
    {
      "cell_type": "code",
      "metadata": {
        "id": "04Svq7gs7D9b",
        "colab_type": "code",
        "colab": {}
      },
      "source": [
        "df = df[cols]"
      ],
      "execution_count": 0,
      "outputs": []
    },
    {
      "cell_type": "code",
      "metadata": {
        "id": "MGbcufPP7YLR",
        "colab_type": "code",
        "colab": {
          "base_uri": "https://localhost:8080/",
          "height": 139
        },
        "outputId": "cebc374b-307f-4273-dbd4-56d6a2d8284d"
      },
      "source": [
        "df['DATE'] = pd.to_datetime(df['DISCOVERY_DATE'] - pd.Timestamp(0).to_julian_date(), unit='D')"
      ],
      "execution_count": 72,
      "outputs": [
        {
          "output_type": "stream",
          "text": [
            "/usr/local/lib/python3.6/dist-packages/ipykernel_launcher.py:1: SettingWithCopyWarning: \n",
            "A value is trying to be set on a copy of a slice from a DataFrame.\n",
            "Try using .loc[row_indexer,col_indexer] = value instead\n",
            "\n",
            "See the caveats in the documentation: http://pandas.pydata.org/pandas-docs/stable/user_guide/indexing.html#returning-a-view-versus-a-copy\n",
            "  \"\"\"Entry point for launching an IPython kernel.\n"
          ],
          "name": "stderr"
        }
      ]
    },
    {
      "cell_type": "code",
      "metadata": {
        "id": "zA7_duqt_PvY",
        "colab_type": "code",
        "colab": {
          "base_uri": "https://localhost:8080/",
          "height": 255
        },
        "outputId": "9e5f218f-0906-484c-8c49-b8e16fad9ab4"
      },
      "source": [
        "df.head"
      ],
      "execution_count": 73,
      "outputs": [
        {
          "output_type": "execute_result",
          "data": {
            "text/plain": [
              "<bound method NDFrame.head of        FIRE_YEAR  FIRE_SIZE STAT_CAUSE_DESCR  ...  STATE  DISCOVERY_DATE       DATE\n",
              "0           2005       0.10    Miscellaneous  ...     CA       2453403.5 2005-02-02\n",
              "1           2004       0.25        Lightning  ...     CA       2453137.5 2004-05-12\n",
              "2           2004       0.10   Debris Burning  ...     CA       2453156.5 2004-05-31\n",
              "3           2004       0.10        Lightning  ...     CA       2453184.5 2004-06-28\n",
              "4           2004       0.10        Lightning  ...     CA       2453184.5 2004-06-28\n",
              "...          ...        ...              ...  ...    ...             ...        ...\n",
              "58649       1993       2.00            Arson  ...     TN       2449096.5 1993-04-19\n",
              "58650       1993       0.20            Arson  ...     TN       2449101.5 1993-04-24\n",
              "58651       1993       0.10            Arson  ...     TN       2449101.5 1993-04-24\n",
              "58652       1993       0.20            Arson  ...     TN       2449101.5 1993-04-24\n",
              "58653       1993      20.00            Arson  ...     TN       2449101.5 1993-04-24\n",
              "\n",
              "[58654 rows x 8 columns]>"
            ]
          },
          "metadata": {
            "tags": []
          },
          "execution_count": 73
        }
      ]
    },
    {
      "cell_type": "code",
      "metadata": {
        "id": "CPLoH9cS_dg7",
        "colab_type": "code",
        "colab": {
          "base_uri": "https://localhost:8080/",
          "height": 139
        },
        "outputId": "2920200e-934c-457a-e5c0-4bc92451e12d"
      },
      "source": [
        "df['MONTH'] = pd.DatetimeIndex(df['DATE']).month"
      ],
      "execution_count": 74,
      "outputs": [
        {
          "output_type": "stream",
          "text": [
            "/usr/local/lib/python3.6/dist-packages/ipykernel_launcher.py:1: SettingWithCopyWarning: \n",
            "A value is trying to be set on a copy of a slice from a DataFrame.\n",
            "Try using .loc[row_indexer,col_indexer] = value instead\n",
            "\n",
            "See the caveats in the documentation: http://pandas.pydata.org/pandas-docs/stable/user_guide/indexing.html#returning-a-view-versus-a-copy\n",
            "  \"\"\"Entry point for launching an IPython kernel.\n"
          ],
          "name": "stderr"
        }
      ]
    },
    {
      "cell_type": "code",
      "metadata": {
        "id": "KsBNlvof_dbx",
        "colab_type": "code",
        "colab": {
          "base_uri": "https://localhost:8080/",
          "height": 139
        },
        "outputId": "945faf96-5351-41a3-fc14-80bb84d66977"
      },
      "source": [
        "df['DAY_OF_WEEK'] = df['DATE'].dt.weekday_name"
      ],
      "execution_count": 75,
      "outputs": [
        {
          "output_type": "stream",
          "text": [
            "/usr/local/lib/python3.6/dist-packages/ipykernel_launcher.py:1: SettingWithCopyWarning: \n",
            "A value is trying to be set on a copy of a slice from a DataFrame.\n",
            "Try using .loc[row_indexer,col_indexer] = value instead\n",
            "\n",
            "See the caveats in the documentation: http://pandas.pydata.org/pandas-docs/stable/user_guide/indexing.html#returning-a-view-versus-a-copy\n",
            "  \"\"\"Entry point for launching an IPython kernel.\n"
          ],
          "name": "stderr"
        }
      ]
    },
    {
      "cell_type": "code",
      "metadata": {
        "id": "1FSJQmKg_dVo",
        "colab_type": "code",
        "colab": {
          "base_uri": "https://localhost:8080/",
          "height": 609
        },
        "outputId": "8fe60a7d-6c7f-4df9-fab7-6df863cfae0b"
      },
      "source": [
        "df"
      ],
      "execution_count": 76,
      "outputs": [
        {
          "output_type": "execute_result",
          "data": {
            "text/html": [
              "<div>\n",
              "<style scoped>\n",
              "    .dataframe tbody tr th:only-of-type {\n",
              "        vertical-align: middle;\n",
              "    }\n",
              "\n",
              "    .dataframe tbody tr th {\n",
              "        vertical-align: top;\n",
              "    }\n",
              "\n",
              "    .dataframe thead th {\n",
              "        text-align: right;\n",
              "    }\n",
              "</style>\n",
              "<table border=\"1\" class=\"dataframe\">\n",
              "  <thead>\n",
              "    <tr style=\"text-align: right;\">\n",
              "      <th></th>\n",
              "      <th>FIRE_YEAR</th>\n",
              "      <th>FIRE_SIZE</th>\n",
              "      <th>STAT_CAUSE_DESCR</th>\n",
              "      <th>LATITUDE</th>\n",
              "      <th>LONGITUDE</th>\n",
              "      <th>STATE</th>\n",
              "      <th>DISCOVERY_DATE</th>\n",
              "      <th>DATE</th>\n",
              "      <th>MONTH</th>\n",
              "      <th>DAY_OF_WEEK</th>\n",
              "    </tr>\n",
              "  </thead>\n",
              "  <tbody>\n",
              "    <tr>\n",
              "      <th>0</th>\n",
              "      <td>2005</td>\n",
              "      <td>0.10</td>\n",
              "      <td>Miscellaneous</td>\n",
              "      <td>40.036944</td>\n",
              "      <td>-121.005833</td>\n",
              "      <td>CA</td>\n",
              "      <td>2453403.5</td>\n",
              "      <td>2005-02-02</td>\n",
              "      <td>2</td>\n",
              "      <td>Wednesday</td>\n",
              "    </tr>\n",
              "    <tr>\n",
              "      <th>1</th>\n",
              "      <td>2004</td>\n",
              "      <td>0.25</td>\n",
              "      <td>Lightning</td>\n",
              "      <td>38.933056</td>\n",
              "      <td>-120.404444</td>\n",
              "      <td>CA</td>\n",
              "      <td>2453137.5</td>\n",
              "      <td>2004-05-12</td>\n",
              "      <td>5</td>\n",
              "      <td>Wednesday</td>\n",
              "    </tr>\n",
              "    <tr>\n",
              "      <th>2</th>\n",
              "      <td>2004</td>\n",
              "      <td>0.10</td>\n",
              "      <td>Debris Burning</td>\n",
              "      <td>38.984167</td>\n",
              "      <td>-120.735556</td>\n",
              "      <td>CA</td>\n",
              "      <td>2453156.5</td>\n",
              "      <td>2004-05-31</td>\n",
              "      <td>5</td>\n",
              "      <td>Monday</td>\n",
              "    </tr>\n",
              "    <tr>\n",
              "      <th>3</th>\n",
              "      <td>2004</td>\n",
              "      <td>0.10</td>\n",
              "      <td>Lightning</td>\n",
              "      <td>38.559167</td>\n",
              "      <td>-119.913333</td>\n",
              "      <td>CA</td>\n",
              "      <td>2453184.5</td>\n",
              "      <td>2004-06-28</td>\n",
              "      <td>6</td>\n",
              "      <td>Monday</td>\n",
              "    </tr>\n",
              "    <tr>\n",
              "      <th>4</th>\n",
              "      <td>2004</td>\n",
              "      <td>0.10</td>\n",
              "      <td>Lightning</td>\n",
              "      <td>38.559167</td>\n",
              "      <td>-119.933056</td>\n",
              "      <td>CA</td>\n",
              "      <td>2453184.5</td>\n",
              "      <td>2004-06-28</td>\n",
              "      <td>6</td>\n",
              "      <td>Monday</td>\n",
              "    </tr>\n",
              "    <tr>\n",
              "      <th>...</th>\n",
              "      <td>...</td>\n",
              "      <td>...</td>\n",
              "      <td>...</td>\n",
              "      <td>...</td>\n",
              "      <td>...</td>\n",
              "      <td>...</td>\n",
              "      <td>...</td>\n",
              "      <td>...</td>\n",
              "      <td>...</td>\n",
              "      <td>...</td>\n",
              "    </tr>\n",
              "    <tr>\n",
              "      <th>58649</th>\n",
              "      <td>1993</td>\n",
              "      <td>2.00</td>\n",
              "      <td>Arson</td>\n",
              "      <td>35.400000</td>\n",
              "      <td>-84.133333</td>\n",
              "      <td>TN</td>\n",
              "      <td>2449096.5</td>\n",
              "      <td>1993-04-19</td>\n",
              "      <td>4</td>\n",
              "      <td>Monday</td>\n",
              "    </tr>\n",
              "    <tr>\n",
              "      <th>58650</th>\n",
              "      <td>1993</td>\n",
              "      <td>0.20</td>\n",
              "      <td>Arson</td>\n",
              "      <td>35.343333</td>\n",
              "      <td>-84.238333</td>\n",
              "      <td>TN</td>\n",
              "      <td>2449101.5</td>\n",
              "      <td>1993-04-24</td>\n",
              "      <td>4</td>\n",
              "      <td>Saturday</td>\n",
              "    </tr>\n",
              "    <tr>\n",
              "      <th>58651</th>\n",
              "      <td>1993</td>\n",
              "      <td>0.10</td>\n",
              "      <td>Arson</td>\n",
              "      <td>35.348333</td>\n",
              "      <td>-84.240000</td>\n",
              "      <td>TN</td>\n",
              "      <td>2449101.5</td>\n",
              "      <td>1993-04-24</td>\n",
              "      <td>4</td>\n",
              "      <td>Saturday</td>\n",
              "    </tr>\n",
              "    <tr>\n",
              "      <th>58652</th>\n",
              "      <td>1993</td>\n",
              "      <td>0.20</td>\n",
              "      <td>Arson</td>\n",
              "      <td>35.351667</td>\n",
              "      <td>-84.223333</td>\n",
              "      <td>TN</td>\n",
              "      <td>2449101.5</td>\n",
              "      <td>1993-04-24</td>\n",
              "      <td>4</td>\n",
              "      <td>Saturday</td>\n",
              "    </tr>\n",
              "    <tr>\n",
              "      <th>58653</th>\n",
              "      <td>1993</td>\n",
              "      <td>20.00</td>\n",
              "      <td>Arson</td>\n",
              "      <td>35.351667</td>\n",
              "      <td>-84.216667</td>\n",
              "      <td>TN</td>\n",
              "      <td>2449101.5</td>\n",
              "      <td>1993-04-24</td>\n",
              "      <td>4</td>\n",
              "      <td>Saturday</td>\n",
              "    </tr>\n",
              "  </tbody>\n",
              "</table>\n",
              "<p>58654 rows × 10 columns</p>\n",
              "</div>"
            ],
            "text/plain": [
              "       FIRE_YEAR  FIRE_SIZE STAT_CAUSE_DESCR  ...       DATE  MONTH DAY_OF_WEEK\n",
              "0           2005       0.10    Miscellaneous  ... 2005-02-02      2   Wednesday\n",
              "1           2004       0.25        Lightning  ... 2004-05-12      5   Wednesday\n",
              "2           2004       0.10   Debris Burning  ... 2004-05-31      5      Monday\n",
              "3           2004       0.10        Lightning  ... 2004-06-28      6      Monday\n",
              "4           2004       0.10        Lightning  ... 2004-06-28      6      Monday\n",
              "...          ...        ...              ...  ...        ...    ...         ...\n",
              "58649       1993       2.00            Arson  ... 1993-04-19      4      Monday\n",
              "58650       1993       0.20            Arson  ... 1993-04-24      4    Saturday\n",
              "58651       1993       0.10            Arson  ... 1993-04-24      4    Saturday\n",
              "58652       1993       0.20            Arson  ... 1993-04-24      4    Saturday\n",
              "58653       1993      20.00            Arson  ... 1993-04-24      4    Saturday\n",
              "\n",
              "[58654 rows x 10 columns]"
            ]
          },
          "metadata": {
            "tags": []
          },
          "execution_count": 76
        }
      ]
    },
    {
      "cell_type": "markdown",
      "metadata": {
        "id": "WdRCZSQiKg62",
        "colab_type": "text"
      },
      "source": [
        "la,lo,fz,fy,m"
      ]
    },
    {
      "cell_type": "code",
      "metadata": {
        "id": "iv0nRdiS_dMs",
        "colab_type": "code",
        "colab": {}
      },
      "source": [
        "df_orig = df.copy()\n"
      ],
      "execution_count": 0,
      "outputs": []
    },
    {
      "cell_type": "code",
      "metadata": {
        "id": "rUVInEfh_rC9",
        "colab_type": "code",
        "colab": {}
      },
      "source": [
        "df_orig = df_orig[['LATITUDE','LONGITUDE','FIRE_SIZE','FIRE_YEAR','MONTH']]"
      ],
      "execution_count": 0,
      "outputs": []
    },
    {
      "cell_type": "code",
      "metadata": {
        "id": "9NHiceCc_rAr",
        "colab_type": "code",
        "colab": {
          "base_uri": "https://localhost:8080/",
          "height": 419
        },
        "outputId": "629cc384-4f57-45fb-f055-3cb37a01526d"
      },
      "source": [
        "df_orig"
      ],
      "execution_count": 81,
      "outputs": [
        {
          "output_type": "execute_result",
          "data": {
            "text/html": [
              "<div>\n",
              "<style scoped>\n",
              "    .dataframe tbody tr th:only-of-type {\n",
              "        vertical-align: middle;\n",
              "    }\n",
              "\n",
              "    .dataframe tbody tr th {\n",
              "        vertical-align: top;\n",
              "    }\n",
              "\n",
              "    .dataframe thead th {\n",
              "        text-align: right;\n",
              "    }\n",
              "</style>\n",
              "<table border=\"1\" class=\"dataframe\">\n",
              "  <thead>\n",
              "    <tr style=\"text-align: right;\">\n",
              "      <th></th>\n",
              "      <th>LATITUDE</th>\n",
              "      <th>LONGITUDE</th>\n",
              "      <th>FIRE_SIZE</th>\n",
              "      <th>FIRE_YEAR</th>\n",
              "      <th>MONTH</th>\n",
              "    </tr>\n",
              "  </thead>\n",
              "  <tbody>\n",
              "    <tr>\n",
              "      <th>0</th>\n",
              "      <td>40.036944</td>\n",
              "      <td>-121.005833</td>\n",
              "      <td>0.10</td>\n",
              "      <td>2005</td>\n",
              "      <td>2</td>\n",
              "    </tr>\n",
              "    <tr>\n",
              "      <th>1</th>\n",
              "      <td>38.933056</td>\n",
              "      <td>-120.404444</td>\n",
              "      <td>0.25</td>\n",
              "      <td>2004</td>\n",
              "      <td>5</td>\n",
              "    </tr>\n",
              "    <tr>\n",
              "      <th>2</th>\n",
              "      <td>38.984167</td>\n",
              "      <td>-120.735556</td>\n",
              "      <td>0.10</td>\n",
              "      <td>2004</td>\n",
              "      <td>5</td>\n",
              "    </tr>\n",
              "    <tr>\n",
              "      <th>3</th>\n",
              "      <td>38.559167</td>\n",
              "      <td>-119.913333</td>\n",
              "      <td>0.10</td>\n",
              "      <td>2004</td>\n",
              "      <td>6</td>\n",
              "    </tr>\n",
              "    <tr>\n",
              "      <th>4</th>\n",
              "      <td>38.559167</td>\n",
              "      <td>-119.933056</td>\n",
              "      <td>0.10</td>\n",
              "      <td>2004</td>\n",
              "      <td>6</td>\n",
              "    </tr>\n",
              "    <tr>\n",
              "      <th>...</th>\n",
              "      <td>...</td>\n",
              "      <td>...</td>\n",
              "      <td>...</td>\n",
              "      <td>...</td>\n",
              "      <td>...</td>\n",
              "    </tr>\n",
              "    <tr>\n",
              "      <th>58649</th>\n",
              "      <td>35.400000</td>\n",
              "      <td>-84.133333</td>\n",
              "      <td>2.00</td>\n",
              "      <td>1993</td>\n",
              "      <td>4</td>\n",
              "    </tr>\n",
              "    <tr>\n",
              "      <th>58650</th>\n",
              "      <td>35.343333</td>\n",
              "      <td>-84.238333</td>\n",
              "      <td>0.20</td>\n",
              "      <td>1993</td>\n",
              "      <td>4</td>\n",
              "    </tr>\n",
              "    <tr>\n",
              "      <th>58651</th>\n",
              "      <td>35.348333</td>\n",
              "      <td>-84.240000</td>\n",
              "      <td>0.10</td>\n",
              "      <td>1993</td>\n",
              "      <td>4</td>\n",
              "    </tr>\n",
              "    <tr>\n",
              "      <th>58652</th>\n",
              "      <td>35.351667</td>\n",
              "      <td>-84.223333</td>\n",
              "      <td>0.20</td>\n",
              "      <td>1993</td>\n",
              "      <td>4</td>\n",
              "    </tr>\n",
              "    <tr>\n",
              "      <th>58653</th>\n",
              "      <td>35.351667</td>\n",
              "      <td>-84.216667</td>\n",
              "      <td>20.00</td>\n",
              "      <td>1993</td>\n",
              "      <td>4</td>\n",
              "    </tr>\n",
              "  </tbody>\n",
              "</table>\n",
              "<p>58654 rows × 5 columns</p>\n",
              "</div>"
            ],
            "text/plain": [
              "        LATITUDE   LONGITUDE  FIRE_SIZE  FIRE_YEAR  MONTH\n",
              "0      40.036944 -121.005833       0.10       2005      2\n",
              "1      38.933056 -120.404444       0.25       2004      5\n",
              "2      38.984167 -120.735556       0.10       2004      5\n",
              "3      38.559167 -119.913333       0.10       2004      6\n",
              "4      38.559167 -119.933056       0.10       2004      6\n",
              "...          ...         ...        ...        ...    ...\n",
              "58649  35.400000  -84.133333       2.00       1993      4\n",
              "58650  35.343333  -84.238333       0.20       1993      4\n",
              "58651  35.348333  -84.240000       0.10       1993      4\n",
              "58652  35.351667  -84.223333       0.20       1993      4\n",
              "58653  35.351667  -84.216667      20.00       1993      4\n",
              "\n",
              "[58654 rows x 5 columns]"
            ]
          },
          "metadata": {
            "tags": []
          },
          "execution_count": 81
        }
      ]
    },
    {
      "cell_type": "code",
      "metadata": {
        "id": "btyYUtJN8JUM",
        "colab_type": "code",
        "colab": {}
      },
      "source": [
        "from sklearn.cluster import KMeans"
      ],
      "execution_count": 0,
      "outputs": []
    },
    {
      "cell_type": "code",
      "metadata": {
        "id": "XMsBU6Wm8TBh",
        "colab_type": "code",
        "colab": {}
      },
      "source": [
        "import numpy as np"
      ],
      "execution_count": 0,
      "outputs": []
    },
    {
      "cell_type": "code",
      "metadata": {
        "id": "4feodH7u8U4v",
        "colab_type": "code",
        "colab": {}
      },
      "source": [
        "kmeans = KMeans(n_clusters=4,random_state=0).fit(df_orig)"
      ],
      "execution_count": 0,
      "outputs": []
    },
    {
      "cell_type": "code",
      "metadata": {
        "id": "03_LTdsj8hYA",
        "colab_type": "code",
        "colab": {
          "base_uri": "https://localhost:8080/",
          "height": 34
        },
        "outputId": "2ae8892f-715b-4b0b-f187-b0e7a760de36"
      },
      "source": [
        "kmeans.labels_"
      ],
      "execution_count": 85,
      "outputs": [
        {
          "output_type": "execute_result",
          "data": {
            "text/plain": [
              "array([0, 0, 0, ..., 0, 0, 0], dtype=int32)"
            ]
          },
          "metadata": {
            "tags": []
          },
          "execution_count": 85
        }
      ]
    },
    {
      "cell_type": "code",
      "metadata": {
        "id": "BtNOrAve8jQA",
        "colab_type": "code",
        "colab": {
          "base_uri": "https://localhost:8080/",
          "height": 153
        },
        "outputId": "4670c3e7-190c-483d-c7f3-3b4e1a177abd"
      },
      "source": [
        "kmeans.cluster_centers_"
      ],
      "execution_count": 86,
      "outputs": [
        {
          "output_type": "execute_result",
          "data": {
            "text/plain": [
              "array([[ 3.98146672e+01, -1.10790322e+02,  6.47589145e+01,\n",
              "         2.00276008e+03,  6.97673863e+00],\n",
              "       [ 3.97337269e+01, -1.14420787e+02,  1.62361583e+05,\n",
              "         2.00566667e+03,  7.50000000e+00],\n",
              "       [ 4.16335019e+01, -1.15701336e+02,  4.52616620e+04,\n",
              "         2.00562921e+03,  7.24719101e+00],\n",
              "       [ 3.52166667e+01, -1.00933333e+02,  4.27696000e+05,\n",
              "         2.00600000e+03,  3.00000000e+00]])"
            ]
          },
          "metadata": {
            "tags": []
          },
          "execution_count": 86
        }
      ]
    },
    {
      "cell_type": "code",
      "metadata": {
        "id": "pCSK2h8k9zIb",
        "colab_type": "code",
        "colab": {}
      },
      "source": [
        "import matplotlib.pyplot as plt"
      ],
      "execution_count": 0,
      "outputs": []
    },
    {
      "cell_type": "code",
      "metadata": {
        "id": "7jmRCjFK9x3s",
        "colab_type": "code",
        "colab": {
          "base_uri": "https://localhost:8080/",
          "height": 282
        },
        "outputId": "b2ce9681-e9d1-4283-9757-08124487eb61"
      },
      "source": [
        "plt.scatter(df_orig['LATITUDE'], df_orig['LONGITUDE'])"
      ],
      "execution_count": 95,
      "outputs": [
        {
          "output_type": "execute_result",
          "data": {
            "text/plain": [
              "<matplotlib.collections.PathCollection at 0x7f620bbf01d0>"
            ]
          },
          "metadata": {
            "tags": []
          },
          "execution_count": 95
        },
        {
          "output_type": "display_data",
          "data": {
            "image/png": "[encoded data removed]",
            "text/plain": [
              "<Figure size 432x288 with 1 Axes>"
            ]
          },
          "metadata": {
            "tags": []
          }
        }
      ]
    },
    {
      "cell_type": "markdown",
      "metadata": {
        "id": "hzphTECIKXT7",
        "colab_type": "text"
      },
      "source": [
        "clustering with just latitudes and longitudes"
      ]
    },
    {
      "cell_type": "code",
      "metadata": {
        "id": "RVzQ5WejBYSn",
        "colab_type": "code",
        "colab": {}
      },
      "source": [
        "df_l = df.copy()"
      ],
      "execution_count": 0,
      "outputs": []
    },
    {
      "cell_type": "code",
      "metadata": {
        "id": "4KuHUs4EKeZh",
        "colab_type": "code",
        "colab": {}
      },
      "source": [
        "df_l = df_l[['LATITUDE','LONGITUDE']]"
      ],
      "execution_count": 0,
      "outputs": []
    },
    {
      "cell_type": "code",
      "metadata": {
        "id": "eGAmc8ocKsdm",
        "colab_type": "code",
        "colab": {
          "base_uri": "https://localhost:8080/",
          "height": 419
        },
        "outputId": "68e5106c-524c-4bec-bd17-066522849bb8"
      },
      "source": [
        "df_l"
      ],
      "execution_count": 98,
      "outputs": [
        {
          "output_type": "execute_result",
          "data": {
            "text/html": [
              "<div>\n",
              "<style scoped>\n",
              "    .dataframe tbody tr th:only-of-type {\n",
              "        vertical-align: middle;\n",
              "    }\n",
              "\n",
              "    .dataframe tbody tr th {\n",
              "        vertical-align: top;\n",
              "    }\n",
              "\n",
              "    .dataframe thead th {\n",
              "        text-align: right;\n",
              "    }\n",
              "</style>\n",
              "<table border=\"1\" class=\"dataframe\">\n",
              "  <thead>\n",
              "    <tr style=\"text-align: right;\">\n",
              "      <th></th>\n",
              "      <th>LATITUDE</th>\n",
              "      <th>LONGITUDE</th>\n",
              "    </tr>\n",
              "  </thead>\n",
              "  <tbody>\n",
              "    <tr>\n",
              "      <th>0</th>\n",
              "      <td>40.036944</td>\n",
              "      <td>-121.005833</td>\n",
              "    </tr>\n",
              "    <tr>\n",
              "      <th>1</th>\n",
              "      <td>38.933056</td>\n",
              "      <td>-120.404444</td>\n",
              "    </tr>\n",
              "    <tr>\n",
              "      <th>2</th>\n",
              "      <td>38.984167</td>\n",
              "      <td>-120.735556</td>\n",
              "    </tr>\n",
              "    <tr>\n",
              "      <th>3</th>\n",
              "      <td>38.559167</td>\n",
              "      <td>-119.913333</td>\n",
              "    </tr>\n",
              "    <tr>\n",
              "      <th>4</th>\n",
              "      <td>38.559167</td>\n",
              "      <td>-119.933056</td>\n",
              "    </tr>\n",
              "    <tr>\n",
              "      <th>...</th>\n",
              "      <td>...</td>\n",
              "      <td>...</td>\n",
              "    </tr>\n",
              "    <tr>\n",
              "      <th>58649</th>\n",
              "      <td>35.400000</td>\n",
              "      <td>-84.133333</td>\n",
              "    </tr>\n",
              "    <tr>\n",
              "      <th>58650</th>\n",
              "      <td>35.343333</td>\n",
              "      <td>-84.238333</td>\n",
              "    </tr>\n",
              "    <tr>\n",
              "      <th>58651</th>\n",
              "      <td>35.348333</td>\n",
              "      <td>-84.240000</td>\n",
              "    </tr>\n",
              "    <tr>\n",
              "      <th>58652</th>\n",
              "      <td>35.351667</td>\n",
              "      <td>-84.223333</td>\n",
              "    </tr>\n",
              "    <tr>\n",
              "      <th>58653</th>\n",
              "      <td>35.351667</td>\n",
              "      <td>-84.216667</td>\n",
              "    </tr>\n",
              "  </tbody>\n",
              "</table>\n",
              "<p>58654 rows × 2 columns</p>\n",
              "</div>"
            ],
            "text/plain": [
              "        LATITUDE   LONGITUDE\n",
              "0      40.036944 -121.005833\n",
              "1      38.933056 -120.404444\n",
              "2      38.984167 -120.735556\n",
              "3      38.559167 -119.913333\n",
              "4      38.559167 -119.933056\n",
              "...          ...         ...\n",
              "58649  35.400000  -84.133333\n",
              "58650  35.343333  -84.238333\n",
              "58651  35.348333  -84.240000\n",
              "58652  35.351667  -84.223333\n",
              "58653  35.351667  -84.216667\n",
              "\n",
              "[58654 rows x 2 columns]"
            ]
          },
          "metadata": {
            "tags": []
          },
          "execution_count": 98
        }
      ]
    },
    {
      "cell_type": "code",
      "metadata": {
        "id": "nObJs2iuKtIv",
        "colab_type": "code",
        "colab": {}
      },
      "source": [
        "kmeans_l = KMeans(n_clusters=3,random_state=0).fit(df_l)"
      ],
      "execution_count": 0,
      "outputs": []
    },
    {
      "cell_type": "code",
      "metadata": {
        "id": "3mrbA8yiK9-B",
        "colab_type": "code",
        "colab": {
          "base_uri": "https://localhost:8080/",
          "height": 34
        },
        "outputId": "38ee7202-e587-409b-eb51-6c100fa445d0"
      },
      "source": [
        "kmeans_l.labels_\n"
      ],
      "execution_count": 105,
      "outputs": [
        {
          "output_type": "execute_result",
          "data": {
            "text/plain": [
              "array([0, 0, 0, ..., 1, 1, 1], dtype=int32)"
            ]
          },
          "metadata": {
            "tags": []
          },
          "execution_count": 105
        }
      ]
    },
    {
      "cell_type": "code",
      "metadata": {
        "id": "mF8fFJECLCLe",
        "colab_type": "code",
        "colab": {}
      },
      "source": [
        "y_kmeans = kmeans_l.predict(df_l)"
      ],
      "execution_count": 0,
      "outputs": []
    },
    {
      "cell_type": "code",
      "metadata": {
        "id": "btUG-GARL7Zn",
        "colab_type": "code",
        "colab": {
          "base_uri": "https://localhost:8080/",
          "height": 282
        },
        "outputId": "9178ad1f-c434-4154-c8c6-c43c155e9564"
      },
      "source": [
        "plt.scatter(df_l['LATITUDE'], df_l['LONGITUDE'], c=y_kmeans, s=50, cmap='viridis')\n"
      ],
      "execution_count": 107,
      "outputs": [
        {
          "output_type": "execute_result",
          "data": {
            "text/plain": [
              "<matplotlib.collections.PathCollection at 0x7f620bafc6d8>"
            ]
          },
          "metadata": {
            "tags": []
          },
          "execution_count": 107
        },
        {
          "output_type": "display_data",
          "data": {
            "image/png": "[encoded data removed]",
            "text/plain": [
              "<Figure size 432x288 with 1 Axes>"
            ]
          },
          "metadata": {
            "tags": []
          }
        }
      ]
    },
    {
      "cell_type": "markdown",
      "metadata": {
        "id": "Tl4g5JISXG3n",
        "colab_type": "text"
      },
      "source": [
        "As you can conclude from the above image, the forest fires are major inbetween -100 and -125 longitudes. The biggest state inside these longitudes is california. "
      ]
    },
    {
      "cell_type": "code",
      "metadata": {
        "id": "kxvl2wXXXGnK",
        "colab_type": "code",
        "colab": {}
      },
      "source": [
        ""
      ],
      "execution_count": 0,
      "outputs": []
    },
    {
      "cell_type": "code",
      "metadata": {
        "id": "p2oRw5D3XGZY",
        "colab_type": "code",
        "colab": {}
      },
      "source": [
        ""
      ],
      "execution_count": 0,
      "outputs": []
    },
    {
      "cell_type": "markdown",
      "metadata": {
        "id": "7UIx3nXaTUKr",
        "colab_type": "text"
      },
      "source": [
        "clustering with fire year and fire size"
      ]
    },
    {
      "cell_type": "code",
      "metadata": {
        "id": "OY6F-3mDNJtw",
        "colab_type": "code",
        "colab": {}
      },
      "source": [
        "df_y = df.copy()"
      ],
      "execution_count": 0,
      "outputs": []
    },
    {
      "cell_type": "code",
      "metadata": {
        "id": "JWM0236oTlH8",
        "colab_type": "code",
        "colab": {}
      },
      "source": [
        "df_y = df_y[['FIRE_YEAR','FIRE_SIZE']]"
      ],
      "execution_count": 0,
      "outputs": []
    },
    {
      "cell_type": "code",
      "metadata": {
        "id": "VoufWbwPTyd8",
        "colab_type": "code",
        "colab": {
          "base_uri": "https://localhost:8080/",
          "height": 419
        },
        "outputId": "55be6add-8a55-4590-94b0-22e7fa5d9cd8"
      },
      "source": [
        "df_y"
      ],
      "execution_count": 110,
      "outputs": [
        {
          "output_type": "execute_result",
          "data": {
            "text/html": [
              "<div>\n",
              "<style scoped>\n",
              "    .dataframe tbody tr th:only-of-type {\n",
              "        vertical-align: middle;\n",
              "    }\n",
              "\n",
              "    .dataframe tbody tr th {\n",
              "        vertical-align: top;\n",
              "    }\n",
              "\n",
              "    .dataframe thead th {\n",
              "        text-align: right;\n",
              "    }\n",
              "</style>\n",
              "<table border=\"1\" class=\"dataframe\">\n",
              "  <thead>\n",
              "    <tr style=\"text-align: right;\">\n",
              "      <th></th>\n",
              "      <th>FIRE_YEAR</th>\n",
              "      <th>FIRE_SIZE</th>\n",
              "    </tr>\n",
              "  </thead>\n",
              "  <tbody>\n",
              "    <tr>\n",
              "      <th>0</th>\n",
              "      <td>2005</td>\n",
              "      <td>0.10</td>\n",
              "    </tr>\n",
              "    <tr>\n",
              "      <th>1</th>\n",
              "      <td>2004</td>\n",
              "      <td>0.25</td>\n",
              "    </tr>\n",
              "    <tr>\n",
              "      <th>2</th>\n",
              "      <td>2004</td>\n",
              "      <td>0.10</td>\n",
              "    </tr>\n",
              "    <tr>\n",
              "      <th>3</th>\n",
              "      <td>2004</td>\n",
              "      <td>0.10</td>\n",
              "    </tr>\n",
              "    <tr>\n",
              "      <th>4</th>\n",
              "      <td>2004</td>\n",
              "      <td>0.10</td>\n",
              "    </tr>\n",
              "    <tr>\n",
              "      <th>...</th>\n",
              "      <td>...</td>\n",
              "      <td>...</td>\n",
              "    </tr>\n",
              "    <tr>\n",
              "      <th>58649</th>\n",
              "      <td>1993</td>\n",
              "      <td>2.00</td>\n",
              "    </tr>\n",
              "    <tr>\n",
              "      <th>58650</th>\n",
              "      <td>1993</td>\n",
              "      <td>0.20</td>\n",
              "    </tr>\n",
              "    <tr>\n",
              "      <th>58651</th>\n",
              "      <td>1993</td>\n",
              "      <td>0.10</td>\n",
              "    </tr>\n",
              "    <tr>\n",
              "      <th>58652</th>\n",
              "      <td>1993</td>\n",
              "      <td>0.20</td>\n",
              "    </tr>\n",
              "    <tr>\n",
              "      <th>58653</th>\n",
              "      <td>1993</td>\n",
              "      <td>20.00</td>\n",
              "    </tr>\n",
              "  </tbody>\n",
              "</table>\n",
              "<p>58654 rows × 2 columns</p>\n",
              "</div>"
            ],
            "text/plain": [
              "       FIRE_YEAR  FIRE_SIZE\n",
              "0           2005       0.10\n",
              "1           2004       0.25\n",
              "2           2004       0.10\n",
              "3           2004       0.10\n",
              "4           2004       0.10\n",
              "...          ...        ...\n",
              "58649       1993       2.00\n",
              "58650       1993       0.20\n",
              "58651       1993       0.10\n",
              "58652       1993       0.20\n",
              "58653       1993      20.00\n",
              "\n",
              "[58654 rows x 2 columns]"
            ]
          },
          "metadata": {
            "tags": []
          },
          "execution_count": 110
        }
      ]
    },
    {
      "cell_type": "code",
      "metadata": {
        "id": "aU92Z3FSTzOP",
        "colab_type": "code",
        "colab": {}
      },
      "source": [
        "kmeans_y = KMeans(n_clusters=5,random_state=0).fit(df_y)"
      ],
      "execution_count": 0,
      "outputs": []
    },
    {
      "cell_type": "code",
      "metadata": {
        "id": "4vEkFBOlT7LG",
        "colab_type": "code",
        "colab": {}
      },
      "source": [
        "ys_kmeans = kmeans_y.predict(df_y)"
      ],
      "execution_count": 0,
      "outputs": []
    },
    {
      "cell_type": "code",
      "metadata": {
        "id": "6CBJiIi4UHyO",
        "colab_type": "code",
        "colab": {
          "base_uri": "https://localhost:8080/",
          "height": 282
        },
        "outputId": "4f4a0d9d-1862-4386-cdac-5636e9e4431a"
      },
      "source": [
        "plt.scatter(df_y['FIRE_YEAR'], df_y['FIRE_SIZE'], c=ys_kmeans, s=50, cmap='viridis')"
      ],
      "execution_count": 113,
      "outputs": [
        {
          "output_type": "execute_result",
          "data": {
            "text/plain": [
              "<matplotlib.collections.PathCollection at 0x7f620ba71080>"
            ]
          },
          "metadata": {
            "tags": []
          },
          "execution_count": 113
        },
        {
          "output_type": "display_data",
          "data": {
            "image/png": "[encoded data removed]",
            "text/plain": [
              "<Figure size 432x288 with 1 Axes>"
            ]
          },
          "metadata": {
            "tags": []
          }
        }
      ]
    },
    {
      "cell_type": "markdown",
      "metadata": {
        "id": "ytFWBCUgWykx",
        "colab_type": "text"
      },
      "source": [
        "As you can see, majority of fires have took place after 2000's. The rise of industrial era clearly seen causing harm to forests."
      ]
    },
    {
      "cell_type": "markdown",
      "metadata": {
        "id": "_crmelWSZEPc",
        "colab_type": "text"
      },
      "source": [
        "****************"
      ]
    },
    {
      "cell_type": "markdown",
      "metadata": {
        "id": "jYxgSY6rZENP",
        "colab_type": "text"
      },
      "source": [
        "*******************"
      ]
    },
    {
      "cell_type": "markdown",
      "metadata": {
        "id": "Z772Nap3ZEJX",
        "colab_type": "text"
      },
      "source": [
        "*****"
      ]
    },
    {
      "cell_type": "markdown",
      "metadata": {
        "id": "wumHp4XqZEGK",
        "colab_type": "text"
      },
      "source": [
        "*********"
      ]
    },
    {
      "cell_type": "markdown",
      "metadata": {
        "id": "e_FIUf6nY7Mn",
        "colab_type": "text"
      },
      "source": [
        "**Clustering using Tensor Flow**\n",
        "\n",
        "\n",
        "\n",
        "\n",
        "\n",
        "\n",
        "\n",
        "\n",
        "\n"
      ]
    },
    {
      "cell_type": "code",
      "metadata": {
        "id": "WYODD8rvZE1V",
        "colab_type": "code",
        "colab": {}
      },
      "source": [
        ""
      ],
      "execution_count": 0,
      "outputs": []
    },
    {
      "cell_type": "code",
      "metadata": {
        "id": "QTpNUcWTUSmm",
        "colab_type": "code",
        "colab": {}
      },
      "source": [
        ""
      ],
      "execution_count": 0,
      "outputs": []
    }
  ]
}