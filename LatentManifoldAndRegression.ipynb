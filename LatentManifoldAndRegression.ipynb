{
  "nbformat": 4,
  "nbformat_minor": 0,
  "metadata": {
    "colab": {
      "name": "LatentManifoldAndRegression",
      "provenance": [],
      "collapsed_sections": [],
      "mount_file_id": "1xHSm4HqcId48MAMqFMhynQlkTOYOmeBE",
      "authorship_tag": "ABX9TyOZm1BS6I1CT7PeTgZKMZfl",
      "include_colab_link": true
    },
    "kernelspec": {
      "name": "python3",
      "display_name": "Python 3"
    },
    "accelerator": "GPU"
  },
  "cells": [
    {
      "cell_type": "markdown",
      "metadata": {
        "id": "view-in-github",
        "colab_type": "text"
      },
      "source": [
        "<a href=\"https://colab.research.google.com/github/LokeshVadlamudi/MachineLearningClass/blob/master/LatentManifoldAndRegression.ipynb\" target=\"_parent\"><img src=\"https://colab.research.google.com/assets/colab-badge.svg\" alt=\"Open In Colab\"/></a>"
      ]
    },
    {
      "cell_type": "code",
      "metadata": {
        "id": "z_J504RJzalQ",
        "colab_type": "code",
        "colab": {}
      },
      "source": [
        "import pandas as pd\n",
        "import numpy as np"
      ],
      "execution_count": 0,
      "outputs": []
    },
    {
      "cell_type": "code",
      "metadata": {
        "id": "egQK4Dj7zwfr",
        "colab_type": "code",
        "outputId": "313bf1c9-4d6a-4696-9196-afbf4364cbf8",
        "colab": {
          "base_uri": "https://localhost:8080/",
          "height": 50
        }
      },
      "source": [
        "df = pd.read_csv('/content/drive/My Drive/fire.csv')"
      ],
      "execution_count": 3,
      "outputs": [
        {
          "output_type": "stream",
          "text": [
            "/usr/local/lib/python3.6/dist-packages/IPython/core/interactiveshell.py:2718: DtypeWarning: Columns (9,12,15,16) have mixed types. Specify dtype option on import or set low_memory=False.\n",
            "  interactivity=interactivity, compiler=compiler, result=result)\n"
          ],
          "name": "stderr"
        }
      ]
    },
    {
      "cell_type": "code",
      "metadata": {
        "id": "eNt8zBBFzzpd",
        "colab_type": "code",
        "outputId": "353b88d0-c7e9-4b2d-c984-f50de5eadc4f",
        "colab": {
          "base_uri": "https://localhost:8080/",
          "height": 265
        }
      },
      "source": [
        "df.head"
      ],
      "execution_count": 0,
      "outputs": [
        {
          "output_type": "execute_result",
          "data": {
            "text/plain": [
              "<bound method NDFrame.head of        Unnamed: 0  ...                                              Shape\n",
              "0               0  ...  b'\\x00\\x01\\xad\\x10\\x00\\x00\\xe8d\\xc2\\x92_@^\\xc0...\n",
              "1               1  ...  b'\\x00\\x01\\xad\\x10\\x00\\x00T\\xb6\\xeej\\xe2\\x19^\\...\n",
              "2               2  ...  b'\\x00\\x01\\xad\\x10\\x00\\x00\\xd0\\xa5\\xa0W\\x13/^\\...\n",
              "3               3  ...  b'\\x00\\x01\\xad\\x10\\x00\\x00\\x94\\xac\\xa3\\rt\\xfa]...\n",
              "4               4  ...  b'\\x00\\x01\\xad\\x10\\x00\\x00@\\xe3\\xaa.\\xb7\\xfb]\\...\n",
              "...           ...  ...                                                ...\n",
              "58649       58649  ...  b'\\x00\\x01\\xad\\x10\\x00\\x00D\\xf4\\x84\\x88\\x88\\x0...\n",
              "58650       58650  ...  b'\\x00\\x01\\xad\\x10\\x00\\x00dyp\\xda@\\x0fU\\xc0\\x1...\n",
              "58651       58651  ...  b'\\x00\\x01\\xad\\x10\\x00\\x00\\x8c\\xc2\\xf5(\\\\\\x0fU...\n",
              "58652       58652  ...  b'\\x00\\x01\\xad\\x10\\x00\\x008\\x1d\\xe1\\x17K\\x0eU\\...\n",
              "58653       58653  ...  b'\\x00\\x01\\xad\\x10\\x00\\x00\\x1cr\\xe1\\xdd\\xdd\\rU...\n",
              "\n",
              "[58654 rows x 40 columns]>"
            ]
          },
          "metadata": {
            "tags": []
          },
          "execution_count": 4
        }
      ]
    },
    {
      "cell_type": "code",
      "metadata": {
        "id": "mF8de1QWz2VS",
        "colab_type": "code",
        "outputId": "a508e47c-8f73-4a90-f7f9-33487c109b7b",
        "colab": {
          "base_uri": "https://localhost:8080/",
          "height": 33
        }
      },
      "source": [
        "df.shape"
      ],
      "execution_count": 0,
      "outputs": [
        {
          "output_type": "execute_result",
          "data": {
            "text/plain": [
              "(58654, 40)"
            ]
          },
          "metadata": {
            "tags": []
          },
          "execution_count": 5
        }
      ]
    },
    {
      "cell_type": "code",
      "metadata": {
        "id": "RCeYHfEf0Y1o",
        "colab_type": "code",
        "outputId": "57517a07-5670-44cb-f4f4-680e1bf7a145",
        "colab": {
          "base_uri": "https://localhost:8080/",
          "height": 212
        }
      },
      "source": [
        "df.columns"
      ],
      "execution_count": 0,
      "outputs": [
        {
          "output_type": "execute_result",
          "data": {
            "text/plain": [
              "Index(['Unnamed: 0', 'OBJECTID', 'FOD_ID', 'FPA_ID', 'SOURCE_SYSTEM_TYPE',\n",
              "       'SOURCE_SYSTEM', 'NWCG_REPORTING_AGENCY', 'NWCG_REPORTING_UNIT_ID',\n",
              "       'NWCG_REPORTING_UNIT_NAME', 'SOURCE_REPORTING_UNIT',\n",
              "       'SOURCE_REPORTING_UNIT_NAME', 'LOCAL_FIRE_REPORT_ID',\n",
              "       'LOCAL_INCIDENT_ID', 'FIRE_CODE', 'FIRE_NAME',\n",
              "       'ICS_209_INCIDENT_NUMBER', 'ICS_209_NAME', 'MTBS_ID', 'MTBS_FIRE_NAME',\n",
              "       'COMPLEX_NAME', 'FIRE_YEAR', 'DISCOVERY_DATE', 'DISCOVERY_DOY',\n",
              "       'DISCOVERY_TIME', 'STAT_CAUSE_CODE', 'STAT_CAUSE_DESCR', 'CONT_DATE',\n",
              "       'CONT_DOY', 'CONT_TIME', 'FIRE_SIZE', 'FIRE_SIZE_CLASS', 'LATITUDE',\n",
              "       'LONGITUDE', 'OWNER_CODE', 'OWNER_DESCR', 'STATE', 'COUNTY',\n",
              "       'FIPS_CODE', 'FIPS_NAME', 'Shape'],\n",
              "      dtype='object')"
            ]
          },
          "metadata": {
            "tags": []
          },
          "execution_count": 6
        }
      ]
    },
    {
      "cell_type": "code",
      "metadata": {
        "id": "9xcUjJBy0s1b",
        "colab_type": "code",
        "outputId": "3179ba92-d9c5-429b-d7fc-fdeaa87bd311",
        "colab": {
          "base_uri": "https://localhost:8080/",
          "height": 33
        }
      },
      "source": [
        "len(df['FIRE_SIZE'])"
      ],
      "execution_count": 0,
      "outputs": [
        {
          "output_type": "execute_result",
          "data": {
            "text/plain": [
              "58654"
            ]
          },
          "metadata": {
            "tags": []
          },
          "execution_count": 7
        }
      ]
    },
    {
      "cell_type": "markdown",
      "metadata": {
        "id": "xYvcQPzE_azw",
        "colab_type": "text"
      },
      "source": [
        "INPUT Features : \n",
        "The year, date fire started (continuous date), discovery day of the year (1-365),\n",
        "fire cause code (1-13) specifying what started the fire, latitude, and longitude."
      ]
    },
    {
      "cell_type": "markdown",
      "metadata": {
        "id": "A6HLe1_vHhlA",
        "colab_type": "text"
      },
      "source": [
        "OUTPUT:\n",
        "We need to predict the fire size"
      ]
    },
    {
      "cell_type": "code",
      "metadata": {
        "id": "ahO_gjBv-HEb",
        "colab_type": "code",
        "outputId": "c4fb0c8d-5747-4c88-babe-e9a990293820",
        "colab": {
          "base_uri": "https://localhost:8080/",
          "height": 33
        }
      },
      "source": [
        "max(df['LONGITUDE']) , min(df['LONGITUDE'])"
      ],
      "execution_count": 0,
      "outputs": [
        {
          "output_type": "execute_result",
          "data": {
            "text/plain": [
              "(-70.8125, -149.97277778)"
            ]
          },
          "metadata": {
            "tags": []
          },
          "execution_count": 133
        }
      ]
    },
    {
      "cell_type": "code",
      "metadata": {
        "id": "J-L_ScqN-MAB",
        "colab_type": "code",
        "outputId": "3e204a30-58b1-43a6-8d5e-58e090ccbd1a",
        "colab": {
          "base_uri": "https://localhost:8080/",
          "height": 33
        }
      },
      "source": [
        "max(df['LATITUDE']) , min(df['LATITUDE'])"
      ],
      "execution_count": 0,
      "outputs": [
        {
          "output_type": "execute_result",
          "data": {
            "text/plain": [
              "(60.95027778, 28.12222222)"
            ]
          },
          "metadata": {
            "tags": []
          },
          "execution_count": 134
        }
      ]
    },
    {
      "cell_type": "code",
      "metadata": {
        "id": "_i_3_SOY1x2G",
        "colab_type": "code",
        "outputId": "324bbc1a-5753-47e4-9cb5-2316f0480466",
        "colab": {
          "base_uri": "https://localhost:8080/",
          "height": 683
        }
      },
      "source": [
        "df.isnull().sum()\n"
      ],
      "execution_count": 0,
      "outputs": [
        {
          "output_type": "execute_result",
          "data": {
            "text/plain": [
              "Unnamed: 0                        0\n",
              "OBJECTID                          0\n",
              "FOD_ID                            0\n",
              "FPA_ID                            0\n",
              "SOURCE_SYSTEM_TYPE                0\n",
              "SOURCE_SYSTEM                     0\n",
              "NWCG_REPORTING_AGENCY             0\n",
              "NWCG_REPORTING_UNIT_ID            0\n",
              "NWCG_REPORTING_UNIT_NAME          0\n",
              "SOURCE_REPORTING_UNIT             0\n",
              "SOURCE_REPORTING_UNIT_NAME        0\n",
              "LOCAL_FIRE_REPORT_ID              0\n",
              "LOCAL_INCIDENT_ID             17578\n",
              "FIRE_CODE                     16801\n",
              "FIRE_NAME                     13237\n",
              "ICS_209_INCIDENT_NUMBER       56102\n",
              "ICS_209_NAME                  56102\n",
              "MTBS_ID                       57835\n",
              "MTBS_FIRE_NAME                57835\n",
              "COMPLEX_NAME                  57693\n",
              "FIRE_YEAR                         0\n",
              "DISCOVERY_DATE                    0\n",
              "DISCOVERY_DOY                     0\n",
              "DISCOVERY_TIME                    0\n",
              "STAT_CAUSE_CODE                   0\n",
              "STAT_CAUSE_DESCR                  0\n",
              "CONT_DATE                       105\n",
              "CONT_DOY                        105\n",
              "CONT_TIME                       139\n",
              "FIRE_SIZE                         0\n",
              "FIRE_SIZE_CLASS                   0\n",
              "LATITUDE                          0\n",
              "LONGITUDE                         0\n",
              "OWNER_CODE                        0\n",
              "OWNER_DESCR                       0\n",
              "STATE                             0\n",
              "COUNTY                        18737\n",
              "FIPS_CODE                     18737\n",
              "FIPS_NAME                     18737\n",
              "Shape                             0\n",
              "dtype: int64"
            ]
          },
          "metadata": {
            "tags": []
          },
          "execution_count": 10
        }
      ]
    },
    {
      "cell_type": "code",
      "metadata": {
        "id": "7wfZ2f2kgU6f",
        "colab_type": "code",
        "colab": {}
      },
      "source": [
        "cols = ['FIRE_YEAR','LATITUDE','LONGITUDE','DISCOVERY_DOY','STAT_CAUSE_CODE','FIRE_SIZE']"
      ],
      "execution_count": 0,
      "outputs": []
    },
    {
      "cell_type": "code",
      "metadata": {
        "id": "4mDrq825hykE",
        "colab_type": "code",
        "colab": {}
      },
      "source": [
        "df1 = df[cols]"
      ],
      "execution_count": 0,
      "outputs": []
    },
    {
      "cell_type": "code",
      "metadata": {
        "id": "qnrDBpHMh4JX",
        "colab_type": "code",
        "outputId": "3bae9302-43e9-4f7b-ccb6-8ba7556ec09d",
        "colab": {
          "base_uri": "https://localhost:8080/",
          "height": 391
        }
      },
      "source": [
        "df1"
      ],
      "execution_count": 0,
      "outputs": [
        {
          "output_type": "execute_result",
          "data": {
            "text/html": [
              "<div>\n",
              "<style scoped>\n",
              "    .dataframe tbody tr th:only-of-type {\n",
              "        vertical-align: middle;\n",
              "    }\n",
              "\n",
              "    .dataframe tbody tr th {\n",
              "        vertical-align: top;\n",
              "    }\n",
              "\n",
              "    .dataframe thead th {\n",
              "        text-align: right;\n",
              "    }\n",
              "</style>\n",
              "<table border=\"1\" class=\"dataframe\">\n",
              "  <thead>\n",
              "    <tr style=\"text-align: right;\">\n",
              "      <th></th>\n",
              "      <th>FIRE_YEAR</th>\n",
              "      <th>LATITUDE</th>\n",
              "      <th>LONGITUDE</th>\n",
              "      <th>DISCOVERY_DOY</th>\n",
              "      <th>STAT_CAUSE_CODE</th>\n",
              "      <th>FIRE_SIZE</th>\n",
              "    </tr>\n",
              "  </thead>\n",
              "  <tbody>\n",
              "    <tr>\n",
              "      <th>0</th>\n",
              "      <td>2005</td>\n",
              "      <td>40.036944</td>\n",
              "      <td>-121.005833</td>\n",
              "      <td>33</td>\n",
              "      <td>9.0</td>\n",
              "      <td>0.10</td>\n",
              "    </tr>\n",
              "    <tr>\n",
              "      <th>1</th>\n",
              "      <td>2004</td>\n",
              "      <td>38.933056</td>\n",
              "      <td>-120.404444</td>\n",
              "      <td>133</td>\n",
              "      <td>1.0</td>\n",
              "      <td>0.25</td>\n",
              "    </tr>\n",
              "    <tr>\n",
              "      <th>2</th>\n",
              "      <td>2004</td>\n",
              "      <td>38.984167</td>\n",
              "      <td>-120.735556</td>\n",
              "      <td>152</td>\n",
              "      <td>5.0</td>\n",
              "      <td>0.10</td>\n",
              "    </tr>\n",
              "    <tr>\n",
              "      <th>3</th>\n",
              "      <td>2004</td>\n",
              "      <td>38.559167</td>\n",
              "      <td>-119.913333</td>\n",
              "      <td>180</td>\n",
              "      <td>1.0</td>\n",
              "      <td>0.10</td>\n",
              "    </tr>\n",
              "    <tr>\n",
              "      <th>4</th>\n",
              "      <td>2004</td>\n",
              "      <td>38.559167</td>\n",
              "      <td>-119.933056</td>\n",
              "      <td>180</td>\n",
              "      <td>1.0</td>\n",
              "      <td>0.10</td>\n",
              "    </tr>\n",
              "    <tr>\n",
              "      <th>...</th>\n",
              "      <td>...</td>\n",
              "      <td>...</td>\n",
              "      <td>...</td>\n",
              "      <td>...</td>\n",
              "      <td>...</td>\n",
              "      <td>...</td>\n",
              "    </tr>\n",
              "    <tr>\n",
              "      <th>58649</th>\n",
              "      <td>1993</td>\n",
              "      <td>35.400000</td>\n",
              "      <td>-84.133333</td>\n",
              "      <td>109</td>\n",
              "      <td>7.0</td>\n",
              "      <td>2.00</td>\n",
              "    </tr>\n",
              "    <tr>\n",
              "      <th>58650</th>\n",
              "      <td>1993</td>\n",
              "      <td>35.343333</td>\n",
              "      <td>-84.238333</td>\n",
              "      <td>114</td>\n",
              "      <td>7.0</td>\n",
              "      <td>0.20</td>\n",
              "    </tr>\n",
              "    <tr>\n",
              "      <th>58651</th>\n",
              "      <td>1993</td>\n",
              "      <td>35.348333</td>\n",
              "      <td>-84.240000</td>\n",
              "      <td>114</td>\n",
              "      <td>7.0</td>\n",
              "      <td>0.10</td>\n",
              "    </tr>\n",
              "    <tr>\n",
              "      <th>58652</th>\n",
              "      <td>1993</td>\n",
              "      <td>35.351667</td>\n",
              "      <td>-84.223333</td>\n",
              "      <td>114</td>\n",
              "      <td>7.0</td>\n",
              "      <td>0.20</td>\n",
              "    </tr>\n",
              "    <tr>\n",
              "      <th>58653</th>\n",
              "      <td>1993</td>\n",
              "      <td>35.351667</td>\n",
              "      <td>-84.216667</td>\n",
              "      <td>114</td>\n",
              "      <td>7.0</td>\n",
              "      <td>20.00</td>\n",
              "    </tr>\n",
              "  </tbody>\n",
              "</table>\n",
              "<p>58654 rows × 6 columns</p>\n",
              "</div>"
            ],
            "text/plain": [
              "       FIRE_YEAR   LATITUDE  ...  STAT_CAUSE_CODE  FIRE_SIZE\n",
              "0           2005  40.036944  ...              9.0       0.10\n",
              "1           2004  38.933056  ...              1.0       0.25\n",
              "2           2004  38.984167  ...              5.0       0.10\n",
              "3           2004  38.559167  ...              1.0       0.10\n",
              "4           2004  38.559167  ...              1.0       0.10\n",
              "...          ...        ...  ...              ...        ...\n",
              "58649       1993  35.400000  ...              7.0       2.00\n",
              "58650       1993  35.343333  ...              7.0       0.20\n",
              "58651       1993  35.348333  ...              7.0       0.10\n",
              "58652       1993  35.351667  ...              7.0       0.20\n",
              "58653       1993  35.351667  ...              7.0      20.00\n",
              "\n",
              "[58654 rows x 6 columns]"
            ]
          },
          "metadata": {
            "tags": []
          },
          "execution_count": 34
        }
      ]
    },
    {
      "cell_type": "code",
      "metadata": {
        "id": "HP_dbs9mh5MM",
        "colab_type": "code",
        "outputId": "134d3061-5423-4e8f-873f-c637b6a7fd18",
        "colab": {
          "base_uri": "https://localhost:8080/",
          "height": 131
        }
      },
      "source": [
        "df1.isnull().sum()"
      ],
      "execution_count": 0,
      "outputs": [
        {
          "output_type": "execute_result",
          "data": {
            "text/plain": [
              "FIRE_YEAR          0\n",
              "LATITUDE           0\n",
              "LONGITUDE          0\n",
              "DISCOVERY_DOY      0\n",
              "STAT_CAUSE_CODE    0\n",
              "FIRE_SIZE          0\n",
              "dtype: int64"
            ]
          },
          "metadata": {
            "tags": []
          },
          "execution_count": 35
        }
      ]
    },
    {
      "cell_type": "code",
      "metadata": {
        "id": "ri2AGj90kDeo",
        "colab_type": "code",
        "colab": {}
      },
      "source": [
        "import matplotlib.pyplot as plt "
      ],
      "execution_count": 0,
      "outputs": []
    },
    {
      "cell_type": "code",
      "metadata": {
        "id": "10BPU44AltU2",
        "colab_type": "code",
        "colab": {}
      },
      "source": [
        "import seaborn as sns"
      ],
      "execution_count": 0,
      "outputs": []
    },
    {
      "cell_type": "code",
      "metadata": {
        "id": "lN6szP2clyN8",
        "colab_type": "code",
        "colab": {}
      },
      "source": [
        "from sklearn.model_selection import train_test_split"
      ],
      "execution_count": 0,
      "outputs": []
    },
    {
      "cell_type": "code",
      "metadata": {
        "id": "h9R8hEqNl5Xf",
        "colab_type": "code",
        "colab": {}
      },
      "source": [
        "from sklearn.linear_model import LinearRegression"
      ],
      "execution_count": 0,
      "outputs": []
    },
    {
      "cell_type": "code",
      "metadata": {
        "id": "DoGNCwQOmCvY",
        "colab_type": "code",
        "colab": {}
      },
      "source": [
        "from sklearn.metrics import mean_absolute_error as MAE\n",
        "def MAPE(Y_true,Y_pred):\n",
        "  return np.mean(np.abs((Y_true - Y_pred) / Y_true)) * 100"
      ],
      "execution_count": 0,
      "outputs": []
    },
    {
      "cell_type": "code",
      "metadata": {
        "id": "io5WZSWCmFYa",
        "colab_type": "code",
        "colab": {}
      },
      "source": [
        "%matplotlib inline"
      ],
      "execution_count": 0,
      "outputs": []
    },
    {
      "cell_type": "code",
      "metadata": {
        "id": "IyspDkiWmOVL",
        "colab_type": "code",
        "outputId": "3ba67b0d-5a00-425b-8493-3357852d8e6f",
        "colab": {
          "base_uri": "https://localhost:8080/",
          "height": 277
        }
      },
      "source": [
        "df1.describe()"
      ],
      "execution_count": 0,
      "outputs": [
        {
          "output_type": "execute_result",
          "data": {
            "text/html": [
              "<div>\n",
              "<style scoped>\n",
              "    .dataframe tbody tr th:only-of-type {\n",
              "        vertical-align: middle;\n",
              "    }\n",
              "\n",
              "    .dataframe tbody tr th {\n",
              "        vertical-align: top;\n",
              "    }\n",
              "\n",
              "    .dataframe thead th {\n",
              "        text-align: right;\n",
              "    }\n",
              "</style>\n",
              "<table border=\"1\" class=\"dataframe\">\n",
              "  <thead>\n",
              "    <tr style=\"text-align: right;\">\n",
              "      <th></th>\n",
              "      <th>FIRE_YEAR</th>\n",
              "      <th>LATITUDE</th>\n",
              "      <th>LONGITUDE</th>\n",
              "      <th>DISCOVERY_DOY</th>\n",
              "      <th>STAT_CAUSE_CODE</th>\n",
              "      <th>FIRE_SIZE</th>\n",
              "    </tr>\n",
              "  </thead>\n",
              "  <tbody>\n",
              "    <tr>\n",
              "      <th>count</th>\n",
              "      <td>58654.000000</td>\n",
              "      <td>58654.000000</td>\n",
              "      <td>58654.000000</td>\n",
              "      <td>58654.000000</td>\n",
              "      <td>58654.000000</td>\n",
              "      <td>58654.000000</td>\n",
              "    </tr>\n",
              "    <tr>\n",
              "      <th>mean</th>\n",
              "      <td>2002.765080</td>\n",
              "      <td>39.817332</td>\n",
              "      <td>-110.798348</td>\n",
              "      <td>196.614945</td>\n",
              "      <td>3.289051</td>\n",
              "      <td>173.834468</td>\n",
              "    </tr>\n",
              "    <tr>\n",
              "      <th>std</th>\n",
              "      <td>6.716818</td>\n",
              "      <td>5.185016</td>\n",
              "      <td>11.694565</td>\n",
              "      <td>61.240135</td>\n",
              "      <td>2.924482</td>\n",
              "      <td>3594.730779</td>\n",
              "    </tr>\n",
              "    <tr>\n",
              "      <th>min</th>\n",
              "      <td>1992.000000</td>\n",
              "      <td>28.122222</td>\n",
              "      <td>-149.972778</td>\n",
              "      <td>1.000000</td>\n",
              "      <td>1.000000</td>\n",
              "      <td>0.010000</td>\n",
              "    </tr>\n",
              "    <tr>\n",
              "      <th>25%</th>\n",
              "      <td>1993.000000</td>\n",
              "      <td>34.995139</td>\n",
              "      <td>-119.454167</td>\n",
              "      <td>169.000000</td>\n",
              "      <td>1.000000</td>\n",
              "      <td>0.100000</td>\n",
              "    </tr>\n",
              "    <tr>\n",
              "      <th>50%</th>\n",
              "      <td>2006.000000</td>\n",
              "      <td>39.484028</td>\n",
              "      <td>-114.231806</td>\n",
              "      <td>204.000000</td>\n",
              "      <td>1.000000</td>\n",
              "      <td>0.100000</td>\n",
              "    </tr>\n",
              "    <tr>\n",
              "      <th>75%</th>\n",
              "      <td>2008.000000</td>\n",
              "      <td>44.357361</td>\n",
              "      <td>-107.472847</td>\n",
              "      <td>232.000000</td>\n",
              "      <td>5.000000</td>\n",
              "      <td>1.000000</td>\n",
              "    </tr>\n",
              "    <tr>\n",
              "      <th>max</th>\n",
              "      <td>2009.000000</td>\n",
              "      <td>60.950278</td>\n",
              "      <td>-70.812500</td>\n",
              "      <td>366.000000</td>\n",
              "      <td>9.000000</td>\n",
              "      <td>427696.000000</td>\n",
              "    </tr>\n",
              "  </tbody>\n",
              "</table>\n",
              "</div>"
            ],
            "text/plain": [
              "          FIRE_YEAR      LATITUDE  ...  STAT_CAUSE_CODE      FIRE_SIZE\n",
              "count  58654.000000  58654.000000  ...     58654.000000   58654.000000\n",
              "mean    2002.765080     39.817332  ...         3.289051     173.834468\n",
              "std        6.716818      5.185016  ...         2.924482    3594.730779\n",
              "min     1992.000000     28.122222  ...         1.000000       0.010000\n",
              "25%     1993.000000     34.995139  ...         1.000000       0.100000\n",
              "50%     2006.000000     39.484028  ...         1.000000       0.100000\n",
              "75%     2008.000000     44.357361  ...         5.000000       1.000000\n",
              "max     2009.000000     60.950278  ...         9.000000  427696.000000\n",
              "\n",
              "[8 rows x 6 columns]"
            ]
          },
          "metadata": {
            "tags": []
          },
          "execution_count": 44
        }
      ]
    },
    {
      "cell_type": "code",
      "metadata": {
        "id": "fkz-N6sPmR1r",
        "colab_type": "code",
        "outputId": "32bb6a17-a44a-4789-e646-ef07bc909c41",
        "colab": {
          "base_uri": "https://localhost:8080/",
          "height": 296
        }
      },
      "source": [
        "df1.plot(x='FIRE_YEAR',y='FIRE_SIZE',style = 'o')\n",
        "plt.title('FIRE_SIZE vs FIRE_YEAR')\n",
        "plt.xlabel('FIRE_YEAR')\n",
        "plt.ylabel('FIRE_SIZE')\n",
        "plt.show()"
      ],
      "execution_count": 0,
      "outputs": [
        {
          "output_type": "display_data",
          "data": {
            "image/png": "[encoded data removed]",
            "text/plain": [
              "<Figure size 432x288 with 1 Axes>"
            ]
          },
          "metadata": {
            "tags": []
          }
        }
      ]
    },
    {
      "cell_type": "code",
      "metadata": {
        "colab_type": "code",
        "outputId": "6e552606-18d5-4447-e9c8-55e3d1dd0b46",
        "id": "54qgH6Ipnr2B",
        "colab": {
          "base_uri": "https://localhost:8080/",
          "height": 352
        }
      },
      "source": [
        "plt.figure(figsize=(10,5))\n",
        "plt.tight_layout()\n",
        "sns.distplot(df1['FIRE_SIZE'])"
      ],
      "execution_count": 0,
      "outputs": [
        {
          "output_type": "execute_result",
          "data": {
            "text/plain": [
              "<matplotlib.axes._subplots.AxesSubplot at 0x7ff947799240>"
            ]
          },
          "metadata": {
            "tags": []
          },
          "execution_count": 49
        },
        {
          "output_type": "display_data",
          "data": {
            "image/png": "[encoded data removed]",
            "text/plain": [
              "<Figure size 720x360 with 1 Axes>"
            ]
          },
          "metadata": {
            "tags": []
          }
        }
      ]
    },
    {
      "cell_type": "code",
      "metadata": {
        "id": "lZwKfnMZnO27",
        "colab_type": "code",
        "colab": {}
      },
      "source": [
        "X = df1[['FIRE_YEAR','LATITUDE','LONGITUDE','STAT_CAUSE_CODE','DISCOVERY_DOY']].values.reshape(-1,5)"
      ],
      "execution_count": 0,
      "outputs": []
    },
    {
      "cell_type": "code",
      "metadata": {
        "id": "6vWYA04roE_D",
        "colab_type": "code",
        "colab": {}
      },
      "source": [
        "Y = df1[['FIRE_SIZE']].values.reshape(-1,1)"
      ],
      "execution_count": 0,
      "outputs": []
    },
    {
      "cell_type": "code",
      "metadata": {
        "id": "U1De3uNMzUGw",
        "colab_type": "code",
        "outputId": "b3663949-79d4-48bc-a824-340cf32f1600",
        "colab": {
          "base_uri": "https://localhost:8080/",
          "height": 33
        }
      },
      "source": [
        "X.shape"
      ],
      "execution_count": 0,
      "outputs": [
        {
          "output_type": "execute_result",
          "data": {
            "text/plain": [
              "(58654, 5)"
            ]
          },
          "metadata": {
            "tags": []
          },
          "execution_count": 104
        }
      ]
    },
    {
      "cell_type": "code",
      "metadata": {
        "id": "bpSaNZAvzWD1",
        "colab_type": "code",
        "outputId": "5968cbe7-b200-410c-ff82-210115a98f2f",
        "colab": {
          "base_uri": "https://localhost:8080/",
          "height": 33
        }
      },
      "source": [
        "Y.shape"
      ],
      "execution_count": 0,
      "outputs": [
        {
          "output_type": "execute_result",
          "data": {
            "text/plain": [
              "(58654, 1)"
            ]
          },
          "metadata": {
            "tags": []
          },
          "execution_count": 105
        }
      ]
    },
    {
      "cell_type": "code",
      "metadata": {
        "id": "4oNvzMM_1CBw",
        "colab_type": "code",
        "outputId": "24f9ca76-7f28-48a6-baeb-3145c69ec53c",
        "colab": {
          "base_uri": "https://localhost:8080/",
          "height": 278
        }
      },
      "source": [
        "plt.scatter(X[:,4],Y,marker='.')\n",
        "\n",
        "plt.ylabel(\"Fire Size\")\n",
        "plt.xlabel(\"Day of Year\")\n",
        "\n",
        "plt.show()"
      ],
      "execution_count": 0,
      "outputs": [
        {
          "output_type": "display_data",
          "data": {
            "image/png": "[encoded data removed]",
            "text/plain": [
              "<Figure size 432x288 with 1 Axes>"
            ]
          },
          "metadata": {
            "tags": []
          }
        }
      ]
    },
    {
      "cell_type": "code",
      "metadata": {
        "id": "K4DeuaQ_1iCZ",
        "colab_type": "code",
        "outputId": "8c57201b-240f-4e4c-9d3b-9007f37ba732",
        "colab": {
          "base_uri": "https://localhost:8080/",
          "height": 278
        }
      },
      "source": [
        "plt.scatter(X[:,1],Y,marker='.')\n",
        "\n",
        "plt.ylabel(\"Fire Size\")\n",
        "plt.xlabel(\"Latitude\")\n",
        "\n",
        "plt.show()"
      ],
      "execution_count": 0,
      "outputs": [
        {
          "output_type": "display_data",
          "data": {
            "image/png": "[encoded data removed]",
            "text/plain": [
              "<Figure size 432x288 with 1 Axes>"
            ]
          },
          "metadata": {
            "tags": []
          }
        }
      ]
    },
    {
      "cell_type": "code",
      "metadata": {
        "id": "FbjfjtMs2Lit",
        "colab_type": "code",
        "outputId": "33165cc8-4b9a-400c-96e6-39b94f4d7e4e",
        "colab": {
          "base_uri": "https://localhost:8080/",
          "height": 278
        }
      },
      "source": [
        "plt.scatter(X[:,2],Y,marker='.')\n",
        "\n",
        "plt.ylabel(\"Fire Size\")\n",
        "plt.xlabel(\"Longitude\")\n",
        "\n",
        "plt.show()"
      ],
      "execution_count": 0,
      "outputs": [
        {
          "output_type": "display_data",
          "data": {
            "image/png": "[encoded data removed]",
            "text/plain": [
              "<Figure size 432x288 with 1 Axes>"
            ]
          },
          "metadata": {
            "tags": []
          }
        }
      ]
    },
    {
      "cell_type": "code",
      "metadata": {
        "id": "5IMuqFmd2ux_",
        "colab_type": "code",
        "colab": {}
      },
      "source": [
        "from sklearn.preprocessing import StandardScaler"
      ],
      "execution_count": 0,
      "outputs": []
    },
    {
      "cell_type": "code",
      "metadata": {
        "id": "Bli736aS2Qgp",
        "colab_type": "code",
        "colab": {}
      },
      "source": [
        "sc = StandardScaler()\n",
        "X_norm = sc.fit_transform(X)"
      ],
      "execution_count": 0,
      "outputs": []
    },
    {
      "cell_type": "code",
      "metadata": {
        "id": "Fu-mtUN92iQM",
        "colab_type": "code",
        "colab": {}
      },
      "source": [
        "X_train, X_test, Y_train, Y_test = train_test_split(X,Y,test_size = 0.2)"
      ],
      "execution_count": 0,
      "outputs": []
    },
    {
      "cell_type": "code",
      "metadata": {
        "id": "bp3up74j3Hvf",
        "colab_type": "code",
        "colab": {}
      },
      "source": [
        "regressor = LinearRegression().fit(X_train,Y_train)"
      ],
      "execution_count": 0,
      "outputs": []
    },
    {
      "cell_type": "markdown",
      "metadata": {
        "id": "aVeam-fl3fgQ",
        "colab_type": "text"
      },
      "source": [
        "TESTING on All Features"
      ]
    },
    {
      "cell_type": "code",
      "metadata": {
        "id": "E0omWNKw3QhK",
        "colab_type": "code",
        "outputId": "aa9f4321-ec4a-41b3-bb09-2b5d1ea0241e",
        "colab": {
          "base_uri": "https://localhost:8080/",
          "height": 33
        }
      },
      "source": [
        "regressor.coef_"
      ],
      "execution_count": 0,
      "outputs": [
        {
          "output_type": "execute_result",
          "data": {
            "text/plain": [
              "array([ 2.41531257, -2.25131311,  3.63086875,  2.35361206, -0.17839948])"
            ]
          },
          "metadata": {
            "tags": []
          },
          "execution_count": 126
        }
      ]
    },
    {
      "cell_type": "code",
      "metadata": {
        "id": "DzHOFERG3T_x",
        "colab_type": "code",
        "outputId": "3a11d828-69f5-4146-d5ea-bf3db1df5178",
        "colab": {
          "base_uri": "https://localhost:8080/",
          "height": 281
        }
      },
      "source": [
        "pred = regressor.predict(X_test)\n",
        "plt.scatter(Y_test,pred,s=0.3,marker='.',c='b')\n",
        "plt.plot([.1,20,400],[.1,20,400],c='k',linestyle='--')"
      ],
      "execution_count": 0,
      "outputs": [
        {
          "output_type": "execute_result",
          "data": {
            "text/plain": [
              "[<matplotlib.lines.Line2D at 0x7ff93f27b0b8>]"
            ]
          },
          "metadata": {
            "tags": []
          },
          "execution_count": 129
        },
        {
          "output_type": "display_data",
          "data": {
            "image/png": "[encoded data removed]",
            "text/plain": [
              "<Figure size 432x288 with 1 Axes>"
            ]
          },
          "metadata": {
            "tags": []
          }
        }
      ]
    },
    {
      "cell_type": "markdown",
      "metadata": {
        "id": "QABYqunw5KP7",
        "colab_type": "text"
      },
      "source": [
        "TESTING on Discovery DOY"
      ]
    },
    {
      "cell_type": "code",
      "metadata": {
        "id": "9s5UoyJF37hl",
        "colab_type": "code",
        "outputId": "ab3cf041-daa3-48fb-fd8b-2193c45a5e6f",
        "colab": {
          "base_uri": "https://localhost:8080/",
          "height": 281
        }
      },
      "source": [
        "regressor = LinearRegression().fit(X_train[:,4:],Y_train)\n",
        "pred = regressor.predict(X_test[:,4:])\n",
        "plt.scatter(Y_test,pred,s=0.3,marker='.',c='b')\n",
        "plt.plot([.1,20,400],[.1,20,400],c='k',linestyle='--')"
      ],
      "execution_count": 0,
      "outputs": [
        {
          "output_type": "execute_result",
          "data": {
            "text/plain": [
              "[<matplotlib.lines.Line2D at 0x7ff93f28b278>]"
            ]
          },
          "metadata": {
            "tags": []
          },
          "execution_count": 130
        },
        {
          "output_type": "display_data",
          "data": {
            "image/png": "[encoded data removed]",
            "text/plain": [
              "<Figure size 432x288 with 1 Axes>"
            ]
          },
          "metadata": {
            "tags": []
          }
        }
      ]
    },
    {
      "cell_type": "code",
      "metadata": {
        "id": "KQf1Yd815_rt",
        "colab_type": "code",
        "colab": {}
      },
      "source": [
        ""
      ],
      "execution_count": 0,
      "outputs": []
    },
    {
      "cell_type": "markdown",
      "metadata": {
        "id": "_YJOmV3rYVsn",
        "colab_type": "text"
      },
      "source": [
        "Adding temperate data to the dataset\n"
      ]
    },
    {
      "cell_type": "code",
      "metadata": {
        "id": "0oLd9YC1YZtc",
        "colab_type": "code",
        "outputId": "3ce327f9-d819-427c-950c-d4d28e7d0e1e",
        "colab": {
          "base_uri": "https://localhost:8080/",
          "height": 115
        }
      },
      "source": [
        "files = [str(x)+'.csv.gz' for x in range(2010,2016)]\n",
        "files"
      ],
      "execution_count": 0,
      "outputs": [
        {
          "output_type": "execute_result",
          "data": {
            "text/plain": [
              "['2010.csv.gz',\n",
              " '2011.csv.gz',\n",
              " '2012.csv.gz',\n",
              " '2013.csv.gz',\n",
              " '2014.csv.gz',\n",
              " '2015.csv.gz']"
            ]
          },
          "metadata": {
            "tags": []
          },
          "execution_count": 13
        }
      ]
    },
    {
      "cell_type": "code",
      "metadata": {
        "id": "BG0H7zppYccB",
        "colab_type": "code",
        "colab": {}
      },
      "source": [
        "#fetching data from ftp server for years from 2010 to 2015"
      ],
      "execution_count": 0,
      "outputs": []
    },
    {
      "cell_type": "code",
      "metadata": {
        "id": "ivnR9pqmYgvr",
        "colab_type": "code",
        "outputId": "9d044aee-24ae-4880-b167-e665193ab11a",
        "colab": {
          "base_uri": "https://localhost:8080/",
          "height": 131
        }
      },
      "source": [
        "from ftplib import FTP\n",
        "from datetime import datetime\n",
        "\n",
        "start = datetime.now()\n",
        "ftp = FTP('ftp.ncdc.noaa.gov')\n",
        "ftp.login()\n",
        "ftp.cwd(\"pub/data/ghcn/daily/by_year/\")\n",
        "\n",
        "\n",
        "# Get All Files\n",
        "files = [str(x)+'.csv.gz' for x in range(2010,2016)]\n",
        "\n",
        "# Print out the files\n",
        "for file in files:\n",
        "\tprint(\"Downloading...\" + file)\n",
        "\tftp.retrbinary(\"RETR \" + file ,open(file, 'wb').write)\n",
        "\n",
        "ftp.close()\n",
        "\n",
        "end = datetime.now()\n",
        "diff = end - start\n",
        "print('All files downloaded for ' + str(diff.seconds) + 's')"
      ],
      "execution_count": 0,
      "outputs": [
        {
          "output_type": "stream",
          "text": [
            "Downloading...2010.csv.gz\n",
            "Downloading...2011.csv.gz\n",
            "Downloading...2012.csv.gz\n",
            "Downloading...2013.csv.gz\n",
            "Downloading...2014.csv.gz\n",
            "Downloading...2015.csv.gz\n",
            "All files downloaded for 152s\n"
          ],
          "name": "stdout"
        }
      ]
    },
    {
      "cell_type": "markdown",
      "metadata": {
        "id": "UMLb3U-UiltB",
        "colab_type": "text"
      },
      "source": [
        "PYspark instance/\n",
        "/\n"
      ]
    },
    {
      "cell_type": "code",
      "metadata": {
        "id": "QMCDb6zzikYQ",
        "colab_type": "code",
        "colab": {}
      },
      "source": [
        "\n",
        "!apt-get install openjdk-8-jdk-headless -qq > /dev/null\n",
        "!wget -q https://www-us.apache.org/dist/spark/spark-2.4.5/spark-2.4.5-bin-hadoop2.7.tgz\n",
        "!tar xf spark-2.4.5-bin-hadoop2.7.tgz\n",
        "!pip install -q findspark"
      ],
      "execution_count": 0,
      "outputs": []
    },
    {
      "cell_type": "code",
      "metadata": {
        "id": "_VMRuEDvibbh",
        "colab_type": "code",
        "outputId": "5d08126e-02c7-4e22-92e3-bd151ad926c3",
        "colab": {
          "base_uri": "https://localhost:8080/",
          "height": 228
        }
      },
      "source": [
        "!pip install pyspark\n",
        "import pyspark\n",
        "from pyspark import SparkContext\n",
        "from pyspark.sql import SQLContext\n",
        "from pyspark import SparkFiles\n",
        "import pyspark.sql.functions as func"
      ],
      "execution_count": 0,
      "outputs": [
        {
          "output_type": "stream",
          "text": [
            "Collecting pyspark\n",
            "\u001b[?25l  Downloading https://files.pythonhosted.org/packages/9a/5a/271c416c1c2185b6cb0151b29a91fff6fcaed80173c8584ff6d20e46b465/pyspark-2.4.5.tar.gz (217.8MB)\n",
            "\u001b[K     |████████████████████████████████| 217.8MB 77kB/s \n",
            "\u001b[?25hCollecting py4j==0.10.7\n",
            "\u001b[?25l  Downloading https://files.pythonhosted.org/packages/e3/53/c737818eb9a7dc32a7cd4f1396e787bd94200c3997c72c1dbe028587bd76/py4j-0.10.7-py2.py3-none-any.whl (197kB)\n",
            "\u001b[K     |████████████████████████████████| 204kB 58.9MB/s \n",
            "\u001b[?25hBuilding wheels for collected packages: pyspark\n",
            "  Building wheel for pyspark (setup.py) ... \u001b[?25l\u001b[?25hdone\n",
            "  Created wheel for pyspark: filename=pyspark-2.4.5-py2.py3-none-any.whl size=218257927 sha256=39f5cad127462a082d9cd3998c6650b46ad19d990e38509d400d92ba0b7ca6f7\n",
            "  Stored in directory: /root/.cache/pip/wheels/bf/db/04/61d66a5939364e756eb1c1be4ec5bdce6e04047fc7929a3c3c\n",
            "Successfully built pyspark\n",
            "Installing collected packages: py4j, pyspark\n",
            "Successfully installed py4j-0.10.7 pyspark-2.4.5\n"
          ],
          "name": "stdout"
        }
      ]
    },
    {
      "cell_type": "code",
      "metadata": {
        "id": "PXxdFM8hkhuQ",
        "colab_type": "code",
        "colab": {}
      },
      "source": [
        "import os\n",
        "os.environ[\"JAVA_HOME\"] = \"/usr/lib/jvm/java-8-openjdk-amd64\"\n",
        "os.environ[\"SPARK_HOME\"] = \"/content/spark-2.4.5-bin-hadoop2.7\""
      ],
      "execution_count": 0,
      "outputs": []
    },
    {
      "cell_type": "code",
      "metadata": {
        "id": "TB080S22ksNZ",
        "colab_type": "code",
        "colab": {}
      },
      "source": [
        "from pyspark.sql import SparkSession\n",
        "spark = SparkSession \\\n",
        "        .builder \\\n",
        "        .appName(\"gfcj\") \\\n",
        "        .getOrCreate()"
      ],
      "execution_count": 0,
      "outputs": []
    },
    {
      "cell_type": "code",
      "metadata": {
        "id": "sa8efTGckwh4",
        "colab_type": "code",
        "colab": {}
      },
      "source": [
        "sc =SparkContext.getOrCreate()\n",
        "\n",
        "for file in files:\n",
        "  sc.addFile(file)"
      ],
      "execution_count": 0,
      "outputs": []
    },
    {
      "cell_type": "code",
      "metadata": {
        "id": "-7ZX8b_7k0gX",
        "colab_type": "code",
        "colab": {}
      },
      "source": [
        "sqlContext = SQLContext(sc)\n",
        "sqlContext\n",
        "# df = sqlContext.read.csv(SparkFiles.get(files), header=True, inferSchema= True)\n",
        "# df.printSchema()\n",
        "\n",
        "spark.read.format(\"csv\").option(\"header\", \"true\").load(\"*.csv.gz\")\n",
        "df=spark.read.option(\"header\", \"false\").csv(\"*.csv.gz\")"
      ],
      "execution_count": 0,
      "outputs": []
    },
    {
      "cell_type": "code",
      "metadata": {
        "id": "3sIp7EuMlAUr",
        "colab_type": "code",
        "outputId": "74f1183b-b848-4140-b7e4-961af87446f0",
        "colab": {
          "base_uri": "https://localhost:8080/",
          "height": 180
        }
      },
      "source": [
        "df.printSchema()"
      ],
      "execution_count": 0,
      "outputs": [
        {
          "output_type": "stream",
          "text": [
            "root\n",
            " |-- _c0: string (nullable = true)\n",
            " |-- _c1: string (nullable = true)\n",
            " |-- _c2: string (nullable = true)\n",
            " |-- _c3: string (nullable = true)\n",
            " |-- _c4: string (nullable = true)\n",
            " |-- _c5: string (nullable = true)\n",
            " |-- _c6: string (nullable = true)\n",
            " |-- _c7: string (nullable = true)\n",
            "\n"
          ],
          "name": "stdout"
        }
      ]
    },
    {
      "cell_type": "code",
      "metadata": {
        "id": "3eZleJFelFQh",
        "colab_type": "code",
        "outputId": "411dffd9-b33e-4abf-bc43-3ddae5aed9fa",
        "colab": {
          "base_uri": "https://localhost:8080/",
          "height": 196
        }
      },
      "source": [
        "df.show(5)"
      ],
      "execution_count": 0,
      "outputs": [
        {
          "output_type": "stream",
          "text": [
            "+-----------+--------+----+----+----+----+---+----+\n",
            "|        _c0|     _c1| _c2| _c3| _c4| _c5|_c6| _c7|\n",
            "+-----------+--------+----+----+----+----+---+----+\n",
            "|CA002303986|20100101|TMAX| 205|null|   G|  C|null|\n",
            "|CA002303986|20100101|TMIN|-300|null|null|  C|null|\n",
            "|CA002303986|20100101|PRCP|   4|null|null|  C|null|\n",
            "|CA002303986|20100101|SNOW|   4|null|null|  C|null|\n",
            "|CA002303986|20100101|SNWD|   0|null|   I|  C|null|\n",
            "+-----------+--------+----+----+----+----+---+----+\n",
            "only showing top 5 rows\n",
            "\n"
          ],
          "name": "stdout"
        }
      ]
    },
    {
      "cell_type": "code",
      "metadata": {
        "id": "l77om8halQo2",
        "colab_type": "code",
        "colab": {}
      },
      "source": [
        "sc.addFile('/content/ghcnd-stations.csv')"
      ],
      "execution_count": 0,
      "outputs": []
    },
    {
      "cell_type": "code",
      "metadata": {
        "id": "jg_T8-lflWkX",
        "colab_type": "code",
        "colab": {}
      },
      "source": [
        "df2=spark.read.option(\"header\", \"true\").csv('ghcnd-stations.csv')"
      ],
      "execution_count": 0,
      "outputs": []
    },
    {
      "cell_type": "code",
      "metadata": {
        "id": "GWuyRNoKlZG0",
        "colab_type": "code",
        "outputId": "06e8030a-3ce8-46df-9ac1-58fc0a72a0e4",
        "colab": {
          "base_uri": "https://localhost:8080/",
          "height": 33
        }
      },
      "source": [
        "df2"
      ],
      "execution_count": 0,
      "outputs": [
        {
          "output_type": "execute_result",
          "data": {
            "text/plain": [
              "DataFrame[id: string, lat: string, long: string, _c3: string, _c4: string, _c5: string]"
            ]
          },
          "metadata": {
            "tags": []
          },
          "execution_count": 25
        }
      ]
    },
    {
      "cell_type": "code",
      "metadata": {
        "id": "J4tPWE5XlcFq",
        "colab_type": "code",
        "outputId": "df448cd5-8abd-4c64-9897-76b3306e2cd2",
        "colab": {
          "base_uri": "https://localhost:8080/",
          "height": 196
        }
      },
      "source": [
        "df.show(5)"
      ],
      "execution_count": 0,
      "outputs": [
        {
          "output_type": "stream",
          "text": [
            "+-----------+--------+----+----+----+----+---+----+\n",
            "|        _c0|     _c1| _c2| _c3| _c4| _c5|_c6| _c7|\n",
            "+-----------+--------+----+----+----+----+---+----+\n",
            "|CA002303986|20100101|TMAX| 205|null|   G|  C|null|\n",
            "|CA002303986|20100101|TMIN|-300|null|null|  C|null|\n",
            "|CA002303986|20100101|PRCP|   4|null|null|  C|null|\n",
            "|CA002303986|20100101|SNOW|   4|null|null|  C|null|\n",
            "|CA002303986|20100101|SNWD|   0|null|   I|  C|null|\n",
            "+-----------+--------+----+----+----+----+---+----+\n",
            "only showing top 5 rows\n",
            "\n"
          ],
          "name": "stdout"
        }
      ]
    },
    {
      "cell_type": "code",
      "metadata": {
        "id": "cWF9QYpJlekx",
        "colab_type": "code",
        "outputId": "4403814b-dbe4-4082-de74-3aa2dab0f578",
        "colab": {
          "base_uri": "https://localhost:8080/",
          "height": 196
        }
      },
      "source": [
        "df2.show(5)"
      ],
      "execution_count": 0,
      "outputs": [
        {
          "output_type": "stream",
          "text": [
            "+-----------+-------+--------+----+----+----+\n",
            "|         id|    lat|    long| _c3| _c4| _c5|\n",
            "+-----------+-------+--------+----+----+----+\n",
            "|ACW00011604|17.1167|-61.7833|null|null|null|\n",
            "|ACW00011647|17.1333|-61.7833|null|null|null|\n",
            "|AE000041196| 25.333|  55.517|null|null|null|\n",
            "|AEM00041194| 25.255|  55.364|null|null|null|\n",
            "|AEM00041217| 24.433|  54.651|null|null|null|\n",
            "+-----------+-------+--------+----+----+----+\n",
            "only showing top 5 rows\n",
            "\n"
          ],
          "name": "stdout"
        }
      ]
    },
    {
      "cell_type": "code",
      "metadata": {
        "id": "qLXN9DJllpKX",
        "colab_type": "code",
        "colab": {}
      },
      "source": [
        "\n",
        "data=df.selectExpr('_c0 as id','_c1 as date','_c2 as type','_c3 as value')"
      ],
      "execution_count": 0,
      "outputs": []
    },
    {
      "cell_type": "code",
      "metadata": {
        "id": "7SmA3RbDlvuj",
        "colab_type": "code",
        "outputId": "7441ffe3-6035-439e-f54d-8ad5246b45e7",
        "colab": {
          "base_uri": "https://localhost:8080/",
          "height": 440
        }
      },
      "source": [
        "data.show()"
      ],
      "execution_count": 0,
      "outputs": [
        {
          "output_type": "stream",
          "text": [
            "+-----------+--------+----+-----+\n",
            "|         id|    date|type|value|\n",
            "+-----------+--------+----+-----+\n",
            "|CA002303986|20100101|TMAX|  205|\n",
            "|CA002303986|20100101|TMIN| -300|\n",
            "|CA002303986|20100101|PRCP|    4|\n",
            "|CA002303986|20100101|SNOW|    4|\n",
            "|CA002303986|20100101|SNWD|    0|\n",
            "|US1FLSL0019|20100101|PRCP|    0|\n",
            "|ASN00037003|20100101|PRCP|    0|\n",
            "|US1AZMR0019|20100101|PRCP|    0|\n",
            "|US1AZMR0019|20100101|SNOW|    0|\n",
            "|USC00178998|20100101|TMAX|    0|\n",
            "|USC00178998|20100101|TMIN|  -56|\n",
            "|USC00178998|20100101|TOBS|  -56|\n",
            "|USC00178998|20100101|PRCP|   43|\n",
            "|USC00178998|20100101|SNOW|   46|\n",
            "|USC00178998|20100101|SNWD|  102|\n",
            "|USC00242347|20100101|TMAX|   33|\n",
            "|USC00242347|20100101|TMIN| -161|\n",
            "|USC00242347|20100101|TOBS|   28|\n",
            "|USC00242347|20100101|PRCP|    0|\n",
            "|NOE00133566|20100101|TMAX|    2|\n",
            "+-----------+--------+----+-----+\n",
            "only showing top 20 rows\n",
            "\n"
          ],
          "name": "stdout"
        }
      ]
    },
    {
      "cell_type": "code",
      "metadata": {
        "id": "mMxmu_5JlyKJ",
        "colab_type": "code",
        "colab": {}
      },
      "source": [
        "final_df = data.join(df2, on=['id'], how='inner')"
      ],
      "execution_count": 0,
      "outputs": []
    },
    {
      "cell_type": "code",
      "metadata": {
        "id": "qhoTWGZNmA_C",
        "colab_type": "code",
        "colab": {}
      },
      "source": [
        "final_df=final_df.selectExpr('id','lat as LATITUDE','long as LONGITUDE','date','type','value')"
      ],
      "execution_count": 0,
      "outputs": []
    },
    {
      "cell_type": "code",
      "metadata": {
        "id": "KaM4I5xwmERC",
        "colab_type": "code",
        "colab": {}
      },
      "source": [
        "final_df.registerTempTable(\"temperature\")"
      ],
      "execution_count": 0,
      "outputs": []
    },
    {
      "cell_type": "code",
      "metadata": {
        "id": "6ArE1SCvpTLB",
        "colab_type": "code",
        "outputId": "9e86572f-40b9-44f7-cd5c-9a0c31ba43ea",
        "colab": {
          "base_uri": "https://localhost:8080/",
          "height": 33
        }
      },
      "source": [
        "import requests\n",
        "!pip install -U -q PyDrive\n",
        "from pydrive.auth import GoogleAuth\n",
        "from pydrive.drive import GoogleDrive\n",
        "from google.colab import auth\n",
        "from oauth2client.client import GoogleCredentials\n",
        "# Authenticate and create the PyDrive client.\n",
        "auth.authenticate_user()\n",
        "gauth = GoogleAuth()\n",
        "gauth.credentials = GoogleCredentials.get_application_default()\n",
        "drive = GoogleDrive(gauth)\n",
        "\n",
        "link = 'https://drive.google.com/open?id=1ApRYxyMqnFKH8XW1GbQ-KZNJdbdeEdV9'\n",
        "fluff, id = link.split('=')\n",
        "print (id) # Verify that you have everything after '='\n",
        "\n",
        "\n",
        "downloaded = drive.CreateFile({'id':id}) \n",
        "downloaded.GetContentFile('Fire.csv')"
      ],
      "execution_count": 0,
      "outputs": [
        {
          "output_type": "stream",
          "text": [
            "1ApRYxyMqnFKH8XW1GbQ-KZNJdbdeEdV9\n"
          ],
          "name": "stdout"
        }
      ]
    },
    {
      "cell_type": "code",
      "metadata": {
        "id": "IdCc660VmGtn",
        "colab_type": "code",
        "outputId": "e09d9ff3-952f-40f5-bbcc-87dbd73824cd",
        "colab": {
          "base_uri": "https://localhost:8080/",
          "height": 70
        }
      },
      "source": [
        "fire=pd.read_csv('Fire.csv')"
      ],
      "execution_count": 0,
      "outputs": [
        {
          "output_type": "stream",
          "text": [
            "/usr/local/lib/python3.6/dist-packages/IPython/core/interactiveshell.py:2718: DtypeWarning: Columns (9,11,12,13,14,15,16,17,18,19,36,38) have mixed types. Specify dtype option on import or set low_memory=False.\n",
            "  interactivity=interactivity, compiler=compiler, result=result)\n"
          ],
          "name": "stderr"
        }
      ]
    },
    {
      "cell_type": "code",
      "metadata": {
        "id": "JZOWMthnmTvB",
        "colab_type": "code",
        "colab": {}
      },
      "source": [
        "df=fire\n",
        "\n",
        "df['disc_clean_date'] = pd.to_datetime(df['DISCOVERY_DATE'] - pd.Timestamp(0).to_julian_date(), unit='D')\n",
        "#Convert containment date from julian to standard date\n",
        "df['cont_clean_date'] = pd.to_datetime(df['CONT_DATE'] - pd.Timestamp(0).to_julian_date(), unit='D')\n",
        "#Day of month string\n",
        "df['discovery_month'] = df['disc_clean_date'].dt.strftime('%b')\n",
        "#Returns the weekday string\n",
        "df['discovery_weekday'] = df['disc_clean_date'].dt.strftime('%a')\n",
        "#Merge discovery date and time"
      ],
      "execution_count": 0,
      "outputs": []
    },
    {
      "cell_type": "code",
      "metadata": {
        "id": "7kNvni9eoIA7",
        "colab_type": "code",
        "outputId": "4555d515-30be-477e-bfb4-a7b78a6b0637",
        "colab": {
          "base_uri": "https://localhost:8080/",
          "height": 33
        }
      },
      "source": [
        "fire_filter=[2010]\n",
        "df_2010=df[df.FIRE_YEAR.isin(fire_filter)]\n",
        "\n",
        "fire_filter"
      ],
      "execution_count": 0,
      "outputs": [
        {
          "output_type": "execute_result",
          "data": {
            "text/plain": [
              "[2010]"
            ]
          },
          "metadata": {
            "tags": []
          },
          "execution_count": 69
        }
      ]
    },
    {
      "cell_type": "code",
      "metadata": {
        "id": "zgw3fnJBoYKJ",
        "colab_type": "code",
        "colab": {}
      },
      "source": [
        "df_2010=df_2010[['LATITUDE','LONGITUDE','cont_clean_date']]"
      ],
      "execution_count": 0,
      "outputs": []
    },
    {
      "cell_type": "code",
      "metadata": {
        "id": "rR7qj0j9ocvs",
        "colab_type": "code",
        "colab": {}
      },
      "source": [
        "df_2010=df_2010.round()"
      ],
      "execution_count": 0,
      "outputs": []
    },
    {
      "cell_type": "code",
      "metadata": {
        "id": "qmD56jU9oggj",
        "colab_type": "code",
        "colab": {}
      },
      "source": [
        "df_2010=df_2010.dropna()"
      ],
      "execution_count": 0,
      "outputs": []
    },
    {
      "cell_type": "code",
      "metadata": {
        "id": "M4yh1EjRolxE",
        "colab_type": "code",
        "outputId": "68e6ca65-e304-4975-f666-954efb5e94d7",
        "colab": {
          "base_uri": "https://localhost:8080/",
          "height": 391
        }
      },
      "source": [
        "df_2010"
      ],
      "execution_count": 0,
      "outputs": [
        {
          "output_type": "execute_result",
          "data": {
            "text/html": [
              "<div>\n",
              "<style scoped>\n",
              "    .dataframe tbody tr th:only-of-type {\n",
              "        vertical-align: middle;\n",
              "    }\n",
              "\n",
              "    .dataframe tbody tr th {\n",
              "        vertical-align: top;\n",
              "    }\n",
              "\n",
              "    .dataframe thead th {\n",
              "        text-align: right;\n",
              "    }\n",
              "</style>\n",
              "<table border=\"1\" class=\"dataframe\">\n",
              "  <thead>\n",
              "    <tr style=\"text-align: right;\">\n",
              "      <th></th>\n",
              "      <th>LATITUDE</th>\n",
              "      <th>LONGITUDE</th>\n",
              "      <th>cont_clean_date</th>\n",
              "    </tr>\n",
              "  </thead>\n",
              "  <tbody>\n",
              "    <tr>\n",
              "      <th>1145148</th>\n",
              "      <td>62.0</td>\n",
              "      <td>-145.0</td>\n",
              "      <td>2010-08-25</td>\n",
              "    </tr>\n",
              "    <tr>\n",
              "      <th>1145149</th>\n",
              "      <td>61.0</td>\n",
              "      <td>-150.0</td>\n",
              "      <td>2010-06-04</td>\n",
              "    </tr>\n",
              "    <tr>\n",
              "      <th>1145150</th>\n",
              "      <td>63.0</td>\n",
              "      <td>-141.0</td>\n",
              "      <td>2010-06-10</td>\n",
              "    </tr>\n",
              "    <tr>\n",
              "      <th>1145151</th>\n",
              "      <td>65.0</td>\n",
              "      <td>-148.0</td>\n",
              "      <td>2010-04-24</td>\n",
              "    </tr>\n",
              "    <tr>\n",
              "      <th>1145152</th>\n",
              "      <td>65.0</td>\n",
              "      <td>-148.0</td>\n",
              "      <td>2010-04-25</td>\n",
              "    </tr>\n",
              "    <tr>\n",
              "      <th>...</th>\n",
              "      <td>...</td>\n",
              "      <td>...</td>\n",
              "      <td>...</td>\n",
              "    </tr>\n",
              "    <tr>\n",
              "      <th>1880370</th>\n",
              "      <td>42.0</td>\n",
              "      <td>-121.0</td>\n",
              "      <td>2010-07-27</td>\n",
              "    </tr>\n",
              "    <tr>\n",
              "      <th>1880390</th>\n",
              "      <td>38.0</td>\n",
              "      <td>-121.0</td>\n",
              "      <td>2010-06-11</td>\n",
              "    </tr>\n",
              "    <tr>\n",
              "      <th>1880393</th>\n",
              "      <td>42.0</td>\n",
              "      <td>-121.0</td>\n",
              "      <td>2010-08-04</td>\n",
              "    </tr>\n",
              "    <tr>\n",
              "      <th>1880417</th>\n",
              "      <td>38.0</td>\n",
              "      <td>-120.0</td>\n",
              "      <td>2010-09-15</td>\n",
              "    </tr>\n",
              "    <tr>\n",
              "      <th>1880420</th>\n",
              "      <td>41.0</td>\n",
              "      <td>-124.0</td>\n",
              "      <td>2010-08-01</td>\n",
              "    </tr>\n",
              "  </tbody>\n",
              "</table>\n",
              "<p>33834 rows × 3 columns</p>\n",
              "</div>"
            ],
            "text/plain": [
              "         LATITUDE  LONGITUDE cont_clean_date\n",
              "1145148      62.0     -145.0      2010-08-25\n",
              "1145149      61.0     -150.0      2010-06-04\n",
              "1145150      63.0     -141.0      2010-06-10\n",
              "1145151      65.0     -148.0      2010-04-24\n",
              "1145152      65.0     -148.0      2010-04-25\n",
              "...           ...        ...             ...\n",
              "1880370      42.0     -121.0      2010-07-27\n",
              "1880390      38.0     -121.0      2010-06-11\n",
              "1880393      42.0     -121.0      2010-08-04\n",
              "1880417      38.0     -120.0      2010-09-15\n",
              "1880420      41.0     -124.0      2010-08-01\n",
              "\n",
              "[33834 rows x 3 columns]"
            ]
          },
          "metadata": {
            "tags": []
          },
          "execution_count": 73
        }
      ]
    },
    {
      "cell_type": "code",
      "metadata": {
        "id": "j3mMAHXRooMJ",
        "colab_type": "code",
        "colab": {}
      },
      "source": [
        "df_2010['cont_clean_date']=df_2010['cont_clean_date'].astype(str)"
      ],
      "execution_count": 0,
      "outputs": []
    },
    {
      "cell_type": "code",
      "metadata": {
        "id": "obNGHvn4qO1X",
        "colab_type": "code",
        "colab": {}
      },
      "source": [
        "df_2010['date']=df_2010['cont_clean_date'].replace('-', '', regex=True).astype(int)"
      ],
      "execution_count": 0,
      "outputs": []
    },
    {
      "cell_type": "code",
      "metadata": {
        "id": "Rbdl0kOeqTuv",
        "colab_type": "code",
        "outputId": "ffdf1895-f203-44e1-d765-befc3deeac4c",
        "colab": {
          "base_uri": "https://localhost:8080/",
          "height": 391
        }
      },
      "source": [
        "df_2010"
      ],
      "execution_count": 0,
      "outputs": [
        {
          "output_type": "execute_result",
          "data": {
            "text/html": [
              "<div>\n",
              "<style scoped>\n",
              "    .dataframe tbody tr th:only-of-type {\n",
              "        vertical-align: middle;\n",
              "    }\n",
              "\n",
              "    .dataframe tbody tr th {\n",
              "        vertical-align: top;\n",
              "    }\n",
              "\n",
              "    .dataframe thead th {\n",
              "        text-align: right;\n",
              "    }\n",
              "</style>\n",
              "<table border=\"1\" class=\"dataframe\">\n",
              "  <thead>\n",
              "    <tr style=\"text-align: right;\">\n",
              "      <th></th>\n",
              "      <th>LATITUDE</th>\n",
              "      <th>LONGITUDE</th>\n",
              "      <th>cont_clean_date</th>\n",
              "      <th>date</th>\n",
              "    </tr>\n",
              "  </thead>\n",
              "  <tbody>\n",
              "    <tr>\n",
              "      <th>1145148</th>\n",
              "      <td>62.0</td>\n",
              "      <td>-145.0</td>\n",
              "      <td>2010-08-25</td>\n",
              "      <td>20100825</td>\n",
              "    </tr>\n",
              "    <tr>\n",
              "      <th>1145149</th>\n",
              "      <td>61.0</td>\n",
              "      <td>-150.0</td>\n",
              "      <td>2010-06-04</td>\n",
              "      <td>20100604</td>\n",
              "    </tr>\n",
              "    <tr>\n",
              "      <th>1145150</th>\n",
              "      <td>63.0</td>\n",
              "      <td>-141.0</td>\n",
              "      <td>2010-06-10</td>\n",
              "      <td>20100610</td>\n",
              "    </tr>\n",
              "    <tr>\n",
              "      <th>1145151</th>\n",
              "      <td>65.0</td>\n",
              "      <td>-148.0</td>\n",
              "      <td>2010-04-24</td>\n",
              "      <td>20100424</td>\n",
              "    </tr>\n",
              "    <tr>\n",
              "      <th>1145152</th>\n",
              "      <td>65.0</td>\n",
              "      <td>-148.0</td>\n",
              "      <td>2010-04-25</td>\n",
              "      <td>20100425</td>\n",
              "    </tr>\n",
              "    <tr>\n",
              "      <th>...</th>\n",
              "      <td>...</td>\n",
              "      <td>...</td>\n",
              "      <td>...</td>\n",
              "      <td>...</td>\n",
              "    </tr>\n",
              "    <tr>\n",
              "      <th>1880370</th>\n",
              "      <td>42.0</td>\n",
              "      <td>-121.0</td>\n",
              "      <td>2010-07-27</td>\n",
              "      <td>20100727</td>\n",
              "    </tr>\n",
              "    <tr>\n",
              "      <th>1880390</th>\n",
              "      <td>38.0</td>\n",
              "      <td>-121.0</td>\n",
              "      <td>2010-06-11</td>\n",
              "      <td>20100611</td>\n",
              "    </tr>\n",
              "    <tr>\n",
              "      <th>1880393</th>\n",
              "      <td>42.0</td>\n",
              "      <td>-121.0</td>\n",
              "      <td>2010-08-04</td>\n",
              "      <td>20100804</td>\n",
              "    </tr>\n",
              "    <tr>\n",
              "      <th>1880417</th>\n",
              "      <td>38.0</td>\n",
              "      <td>-120.0</td>\n",
              "      <td>2010-09-15</td>\n",
              "      <td>20100915</td>\n",
              "    </tr>\n",
              "    <tr>\n",
              "      <th>1880420</th>\n",
              "      <td>41.0</td>\n",
              "      <td>-124.0</td>\n",
              "      <td>2010-08-01</td>\n",
              "      <td>20100801</td>\n",
              "    </tr>\n",
              "  </tbody>\n",
              "</table>\n",
              "<p>33834 rows × 4 columns</p>\n",
              "</div>"
            ],
            "text/plain": [
              "         LATITUDE  LONGITUDE cont_clean_date      date\n",
              "1145148      62.0     -145.0      2010-08-25  20100825\n",
              "1145149      61.0     -150.0      2010-06-04  20100604\n",
              "1145150      63.0     -141.0      2010-06-10  20100610\n",
              "1145151      65.0     -148.0      2010-04-24  20100424\n",
              "1145152      65.0     -148.0      2010-04-25  20100425\n",
              "...           ...        ...             ...       ...\n",
              "1880370      42.0     -121.0      2010-07-27  20100727\n",
              "1880390      38.0     -121.0      2010-06-11  20100611\n",
              "1880393      42.0     -121.0      2010-08-04  20100804\n",
              "1880417      38.0     -120.0      2010-09-15  20100915\n",
              "1880420      41.0     -124.0      2010-08-01  20100801\n",
              "\n",
              "[33834 rows x 4 columns]"
            ]
          },
          "metadata": {
            "tags": []
          },
          "execution_count": 76
        }
      ]
    },
    {
      "cell_type": "code",
      "metadata": {
        "id": "IZ_V5l8TqV48",
        "colab_type": "code",
        "colab": {}
      },
      "source": [
        "df_2010=df_2010[['LATITUDE','LONGITUDE','date']]"
      ],
      "execution_count": 0,
      "outputs": []
    },
    {
      "cell_type": "code",
      "metadata": {
        "id": "qMqXadrIqdCQ",
        "colab_type": "code",
        "colab": {
          "base_uri": "https://localhost:8080/",
          "height": 158
        },
        "outputId": "048b844e-a6c1-4134-f6d6-4b3628edef8c"
      },
      "source": [
        "df_2010.to_csv(r'fire_2010.csv')"
      ],
      "execution_count": 1,
      "outputs": [
        {
          "output_type": "error",
          "ename": "NameError",
          "evalue": "ignored",
          "traceback": [
            "\u001b[0;31m---------------------------------------------------------------------------\u001b[0m",
            "\u001b[0;31mNameError\u001b[0m                                 Traceback (most recent call last)",
            "\u001b[0;32m<ipython-input-1-79a9a6fae56a>\u001b[0m in \u001b[0;36m<module>\u001b[0;34m()\u001b[0m\n\u001b[0;32m----> 1\u001b[0;31m \u001b[0mdf_2010\u001b[0m\u001b[0;34m.\u001b[0m\u001b[0mto_csv\u001b[0m\u001b[0;34m(\u001b[0m\u001b[0;34mr'fire_2010.csv'\u001b[0m\u001b[0;34m)\u001b[0m\u001b[0;34m\u001b[0m\u001b[0;34m\u001b[0m\u001b[0m\n\u001b[0m",
            "\u001b[0;31mNameError\u001b[0m: name 'df_2010' is not defined"
          ]
        }
      ]
    },
    {
      "cell_type": "code",
      "metadata": {
        "id": "-CM1vd3fqj7Z",
        "colab_type": "code",
        "colab": {}
      },
      "source": [
        "sc.addFile('fire_2010.csv')"
      ],
      "execution_count": 0,
      "outputs": []
    },
    {
      "cell_type": "code",
      "metadata": {
        "id": "OpzGIh1frhLD",
        "colab_type": "code",
        "colab": {}
      },
      "source": [
        "fire=spark.read.option(\"header\", \"true\").csv('fire_2010.csv')"
      ],
      "execution_count": 0,
      "outputs": []
    },
    {
      "cell_type": "code",
      "metadata": {
        "id": "lxT_-Cunrke_",
        "colab_type": "code",
        "outputId": "ea54d355-2ed5-4b29-ee2c-869c6ab27d31",
        "colab": {
          "base_uri": "https://localhost:8080/",
          "height": 196
        }
      },
      "source": [
        "fire.show(5)"
      ],
      "execution_count": 0,
      "outputs": [
        {
          "output_type": "stream",
          "text": [
            "+-------+--------+---------+--------+\n",
            "|    _c0|LATITUDE|LONGITUDE|    date|\n",
            "+-------+--------+---------+--------+\n",
            "|1145148|    62.0|   -145.0|20100825|\n",
            "|1145149|    61.0|   -150.0|20100604|\n",
            "|1145150|    63.0|   -141.0|20100610|\n",
            "|1145151|    65.0|   -148.0|20100424|\n",
            "|1145152|    65.0|   -148.0|20100425|\n",
            "+-------+--------+---------+--------+\n",
            "only showing top 5 rows\n",
            "\n"
          ],
          "name": "stdout"
        }
      ]
    },
    {
      "cell_type": "code",
      "metadata": {
        "id": "S5OzOTa2rm2V",
        "colab_type": "code",
        "outputId": "827e5158-274b-478f-ba72-f6a00d9da383",
        "colab": {
          "base_uri": "https://localhost:8080/",
          "height": 440
        }
      },
      "source": [
        "final_df.show()"
      ],
      "execution_count": 0,
      "outputs": [
        {
          "output_type": "stream",
          "text": [
            "+-----------+--------+---------+--------+----+-----+\n",
            "|         id|LATITUDE|LONGITUDE|    date|type|value|\n",
            "+-----------+--------+---------+--------+----+-----+\n",
            "|CA002303986| 62.2333|    -92.6|20100101|TMAX|  205|\n",
            "|CA002303986| 62.2333|    -92.6|20100101|TMIN| -300|\n",
            "|CA002303986| 62.2333|    -92.6|20100101|PRCP|    4|\n",
            "|CA002303986| 62.2333|    -92.6|20100101|SNOW|    4|\n",
            "|CA002303986| 62.2333|    -92.6|20100101|SNWD|    0|\n",
            "|US1FLSL0019| 27.3237| -80.3111|20100101|PRCP|    0|\n",
            "|ASN00037003|-20.4661| 138.4683|20100101|PRCP|    0|\n",
            "|US1AZMR0019| 33.5902|-111.9712|20100101|PRCP|    0|\n",
            "|US1AZMR0019| 33.5902|-111.9712|20100101|SNOW|    0|\n",
            "|USC00178998| 44.6917| -68.3475|20100101|TMAX|    0|\n",
            "|USC00178998| 44.6917| -68.3475|20100101|TMIN|  -56|\n",
            "|USC00178998| 44.6917| -68.3475|20100101|TOBS|  -56|\n",
            "|USC00178998| 44.6917| -68.3475|20100101|PRCP|   43|\n",
            "|USC00178998| 44.6917| -68.3475|20100101|SNOW|   46|\n",
            "|USC00178998| 44.6917| -68.3475|20100101|SNWD|  102|\n",
            "|USC00242347| 47.3181|-109.9372|20100101|TMAX|   33|\n",
            "|USC00242347| 47.3181|-109.9372|20100101|TMIN| -161|\n",
            "|USC00242347| 47.3181|-109.9372|20100101|TOBS|   28|\n",
            "|USC00242347| 47.3181|-109.9372|20100101|PRCP|    0|\n",
            "|NOE00133566| 62.1031|   5.5817|20100101|TMAX|    2|\n",
            "+-----------+--------+---------+--------+----+-----+\n",
            "only showing top 20 rows\n",
            "\n"
          ],
          "name": "stdout"
        }
      ]
    },
    {
      "cell_type": "code",
      "metadata": {
        "id": "4De2BUqurr0T",
        "colab_type": "code",
        "colab": {}
      },
      "source": [
        "\n",
        "final_df=final_df.withColumn(\"LATITUDE\", func.round(final_df[\"LATITUDE\"]))\n",
        "final_df=final_df.withColumn(\"LONGITUDE\", func.round(final_df[\"LONGITUDE\"]))"
      ],
      "execution_count": 0,
      "outputs": []
    },
    {
      "cell_type": "code",
      "metadata": {
        "id": "u0JmwyEurywK",
        "colab_type": "code",
        "outputId": "988ff29d-6b38-4770-c897-035119fdf61f",
        "colab": {
          "base_uri": "https://localhost:8080/",
          "height": 440
        }
      },
      "source": [
        "final_df.show()"
      ],
      "execution_count": 0,
      "outputs": [
        {
          "output_type": "stream",
          "text": [
            "+-----------+--------+---------+--------+----+-----+\n",
            "|         id|LATITUDE|LONGITUDE|    date|type|value|\n",
            "+-----------+--------+---------+--------+----+-----+\n",
            "|CA002303986|    62.0|    -93.0|20100101|TMAX|  205|\n",
            "|CA002303986|    62.0|    -93.0|20100101|TMIN| -300|\n",
            "|CA002303986|    62.0|    -93.0|20100101|PRCP|    4|\n",
            "|CA002303986|    62.0|    -93.0|20100101|SNOW|    4|\n",
            "|CA002303986|    62.0|    -93.0|20100101|SNWD|    0|\n",
            "|US1FLSL0019|    27.0|    -80.0|20100101|PRCP|    0|\n",
            "|ASN00037003|   -20.0|    138.0|20100101|PRCP|    0|\n",
            "|US1AZMR0019|    34.0|   -112.0|20100101|PRCP|    0|\n",
            "|US1AZMR0019|    34.0|   -112.0|20100101|SNOW|    0|\n",
            "|USC00178998|    45.0|    -68.0|20100101|TMAX|    0|\n",
            "|USC00178998|    45.0|    -68.0|20100101|TMIN|  -56|\n",
            "|USC00178998|    45.0|    -68.0|20100101|TOBS|  -56|\n",
            "|USC00178998|    45.0|    -68.0|20100101|PRCP|   43|\n",
            "|USC00178998|    45.0|    -68.0|20100101|SNOW|   46|\n",
            "|USC00178998|    45.0|    -68.0|20100101|SNWD|  102|\n",
            "|USC00242347|    47.0|   -110.0|20100101|TMAX|   33|\n",
            "|USC00242347|    47.0|   -110.0|20100101|TMIN| -161|\n",
            "|USC00242347|    47.0|   -110.0|20100101|TOBS|   28|\n",
            "|USC00242347|    47.0|   -110.0|20100101|PRCP|    0|\n",
            "|NOE00133566|    62.0|      6.0|20100101|TMAX|    2|\n",
            "+-----------+--------+---------+--------+----+-----+\n",
            "only showing top 20 rows\n",
            "\n"
          ],
          "name": "stdout"
        }
      ]
    },
    {
      "cell_type": "code",
      "metadata": {
        "id": "dZ21sCSSr1hQ",
        "colab_type": "code",
        "colab": {}
      },
      "source": [
        "complete = fire.join(final_df, on=['LATITUDE','LONGITUDE','date'], how='inner')"
      ],
      "execution_count": 0,
      "outputs": []
    },
    {
      "cell_type": "code",
      "metadata": {
        "id": "EJq0uRBpr4wA",
        "colab_type": "code",
        "outputId": "4d698cd3-cda3-493d-bdb2-136491a3cd5c",
        "colab": {
          "base_uri": "https://localhost:8080/",
          "height": 196
        }
      },
      "source": [
        "complete.show(5)"
      ],
      "execution_count": 0,
      "outputs": [
        {
          "output_type": "stream",
          "text": [
            "+--------+---------+--------+-------+-----------+----+-----+\n",
            "|LATITUDE|LONGITUDE|    date|    _c0|         id|type|value|\n",
            "+--------+---------+--------+-------+-----------+----+-----+\n",
            "|    34.0|   -117.0|20100101|1176703|USC00045860|TMAX|  122|\n",
            "|    34.0|   -117.0|20100101|1176703|USC00045860|TMIN|   33|\n",
            "|    34.0|   -117.0|20100101|1176703|USC00045860|TOBS|   39|\n",
            "|    34.0|   -117.0|20100101|1176703|USC00045860|PRCP|    0|\n",
            "|    34.0|   -117.0|20100101|1176703|USC00045860|SNOW|    0|\n",
            "+--------+---------+--------+-------+-----------+----+-----+\n",
            "only showing top 5 rows\n",
            "\n"
          ],
          "name": "stdout"
        }
      ]
    },
    {
      "cell_type": "code",
      "metadata": {
        "id": "15DpFXzQr66Y",
        "colab_type": "code",
        "outputId": "81f17662-75cb-4dd6-a10d-36519c48e6c5",
        "colab": {
          "base_uri": "https://localhost:8080/",
          "height": 33
        }
      },
      "source": [
        "complete.count"
      ],
      "execution_count": 0,
      "outputs": [
        {
          "output_type": "execute_result",
          "data": {
            "text/plain": [
              "<bound method DataFrame.count of DataFrame[LATITUDE: string, LONGITUDE: string, date: string, _c0: string, id: string, type: string, value: string]>"
            ]
          },
          "metadata": {
            "tags": []
          },
          "execution_count": 67
        }
      ]
    },
    {
      "cell_type": "code",
      "metadata": {
        "id": "9X8BuH29sG5g",
        "colab_type": "code",
        "outputId": "cfaa8c3a-229b-4111-97af-c5ecaf5aa962",
        "colab": {
          "base_uri": "https://localhost:8080/",
          "height": 296
        }
      },
      "source": [
        "pandas_df = complete.toPandas()"
      ],
      "execution_count": 0,
      "outputs": [
        {
          "output_type": "error",
          "ename": "KeyboardInterrupt",
          "evalue": "ignored",
          "traceback": [
            "\u001b[0;31m---------------------------------------------------------------------------\u001b[0m",
            "\u001b[0;31mKeyboardInterrupt\u001b[0m                         Traceback (most recent call last)",
            "\u001b[0;32m<ipython-input-68-55280e9b712e>\u001b[0m in \u001b[0;36m<module>\u001b[0;34m()\u001b[0m\n\u001b[0;32m----> 1\u001b[0;31m \u001b[0mpandas_df\u001b[0m \u001b[0;34m=\u001b[0m \u001b[0mcomplete\u001b[0m\u001b[0;34m.\u001b[0m\u001b[0mtoPandas\u001b[0m\u001b[0;34m(\u001b[0m\u001b[0;34m)\u001b[0m\u001b[0;34m\u001b[0m\u001b[0;34m\u001b[0m\u001b[0m\n\u001b[0m",
            "\u001b[0;32m/usr/local/lib/python3.6/dist-packages/pyspark/sql/dataframe.py\u001b[0m in \u001b[0;36mtoPandas\u001b[0;34m(self)\u001b[0m\n\u001b[1;32m   2148\u001b[0m \u001b[0;34m\u001b[0m\u001b[0m\n\u001b[1;32m   2149\u001b[0m         \u001b[0;31m# Below is toPandas without Arrow optimization.\u001b[0m\u001b[0;34m\u001b[0m\u001b[0;34m\u001b[0m\u001b[0;34m\u001b[0m\u001b[0m\n\u001b[0;32m-> 2150\u001b[0;31m         \u001b[0mpdf\u001b[0m \u001b[0;34m=\u001b[0m \u001b[0mpd\u001b[0m\u001b[0;34m.\u001b[0m\u001b[0mDataFrame\u001b[0m\u001b[0;34m.\u001b[0m\u001b[0mfrom_records\u001b[0m\u001b[0;34m(\u001b[0m\u001b[0mself\u001b[0m\u001b[0;34m.\u001b[0m\u001b[0mcollect\u001b[0m\u001b[0;34m(\u001b[0m\u001b[0;34m)\u001b[0m\u001b[0;34m,\u001b[0m \u001b[0mcolumns\u001b[0m\u001b[0;34m=\u001b[0m\u001b[0mself\u001b[0m\u001b[0;34m.\u001b[0m\u001b[0mcolumns\u001b[0m\u001b[0;34m)\u001b[0m\u001b[0;34m\u001b[0m\u001b[0;34m\u001b[0m\u001b[0m\n\u001b[0m\u001b[1;32m   2151\u001b[0m \u001b[0;34m\u001b[0m\u001b[0m\n\u001b[1;32m   2152\u001b[0m         \u001b[0mdtype\u001b[0m \u001b[0;34m=\u001b[0m \u001b[0;34m{\u001b[0m\u001b[0;34m}\u001b[0m\u001b[0;34m\u001b[0m\u001b[0;34m\u001b[0m\u001b[0m\n",
            "\u001b[0;32m/usr/local/lib/python3.6/dist-packages/pyspark/sql/dataframe.py\u001b[0m in \u001b[0;36mcollect\u001b[0;34m(self)\u001b[0m\n\u001b[1;32m    532\u001b[0m         \"\"\"\n\u001b[1;32m    533\u001b[0m         \u001b[0;32mwith\u001b[0m \u001b[0mSCCallSiteSync\u001b[0m\u001b[0;34m(\u001b[0m\u001b[0mself\u001b[0m\u001b[0;34m.\u001b[0m\u001b[0m_sc\u001b[0m\u001b[0;34m)\u001b[0m \u001b[0;32mas\u001b[0m \u001b[0mcss\u001b[0m\u001b[0;34m:\u001b[0m\u001b[0;34m\u001b[0m\u001b[0;34m\u001b[0m\u001b[0m\n\u001b[0;32m--> 534\u001b[0;31m             \u001b[0msock_info\u001b[0m \u001b[0;34m=\u001b[0m \u001b[0mself\u001b[0m\u001b[0;34m.\u001b[0m\u001b[0m_jdf\u001b[0m\u001b[0;34m.\u001b[0m\u001b[0mcollectToPython\u001b[0m\u001b[0;34m(\u001b[0m\u001b[0;34m)\u001b[0m\u001b[0;34m\u001b[0m\u001b[0;34m\u001b[0m\u001b[0m\n\u001b[0m\u001b[1;32m    535\u001b[0m         \u001b[0;32mreturn\u001b[0m \u001b[0mlist\u001b[0m\u001b[0;34m(\u001b[0m\u001b[0m_load_from_socket\u001b[0m\u001b[0;34m(\u001b[0m\u001b[0msock_info\u001b[0m\u001b[0;34m,\u001b[0m \u001b[0mBatchedSerializer\u001b[0m\u001b[0;34m(\u001b[0m\u001b[0mPickleSerializer\u001b[0m\u001b[0;34m(\u001b[0m\u001b[0;34m)\u001b[0m\u001b[0;34m)\u001b[0m\u001b[0;34m)\u001b[0m\u001b[0;34m)\u001b[0m\u001b[0;34m\u001b[0m\u001b[0;34m\u001b[0m\u001b[0m\n\u001b[1;32m    536\u001b[0m \u001b[0;34m\u001b[0m\u001b[0m\n",
            "\u001b[0;32m/usr/local/lib/python3.6/dist-packages/py4j/java_gateway.py\u001b[0m in \u001b[0;36m__call__\u001b[0;34m(self, *args)\u001b[0m\n\u001b[1;32m   1253\u001b[0m             \u001b[0mproto\u001b[0m\u001b[0;34m.\u001b[0m\u001b[0mEND_COMMAND_PART\u001b[0m\u001b[0;34m\u001b[0m\u001b[0;34m\u001b[0m\u001b[0m\n\u001b[1;32m   1254\u001b[0m \u001b[0;34m\u001b[0m\u001b[0m\n\u001b[0;32m-> 1255\u001b[0;31m         \u001b[0manswer\u001b[0m \u001b[0;34m=\u001b[0m \u001b[0mself\u001b[0m\u001b[0;34m.\u001b[0m\u001b[0mgateway_client\u001b[0m\u001b[0;34m.\u001b[0m\u001b[0msend_command\u001b[0m\u001b[0;34m(\u001b[0m\u001b[0mcommand\u001b[0m\u001b[0;34m)\u001b[0m\u001b[0;34m\u001b[0m\u001b[0;34m\u001b[0m\u001b[0m\n\u001b[0m\u001b[1;32m   1256\u001b[0m         return_value = get_return_value(\n\u001b[1;32m   1257\u001b[0m             answer, self.gateway_client, self.target_id, self.name)\n",
            "\u001b[0;32m/usr/local/lib/python3.6/dist-packages/py4j/java_gateway.py\u001b[0m in \u001b[0;36msend_command\u001b[0;34m(self, command, retry, binary)\u001b[0m\n\u001b[1;32m    983\u001b[0m         \u001b[0mconnection\u001b[0m \u001b[0;34m=\u001b[0m \u001b[0mself\u001b[0m\u001b[0;34m.\u001b[0m\u001b[0m_get_connection\u001b[0m\u001b[0;34m(\u001b[0m\u001b[0;34m)\u001b[0m\u001b[0;34m\u001b[0m\u001b[0;34m\u001b[0m\u001b[0m\n\u001b[1;32m    984\u001b[0m         \u001b[0;32mtry\u001b[0m\u001b[0;34m:\u001b[0m\u001b[0;34m\u001b[0m\u001b[0;34m\u001b[0m\u001b[0m\n\u001b[0;32m--> 985\u001b[0;31m             \u001b[0mresponse\u001b[0m \u001b[0;34m=\u001b[0m \u001b[0mconnection\u001b[0m\u001b[0;34m.\u001b[0m\u001b[0msend_command\u001b[0m\u001b[0;34m(\u001b[0m\u001b[0mcommand\u001b[0m\u001b[0;34m)\u001b[0m\u001b[0;34m\u001b[0m\u001b[0;34m\u001b[0m\u001b[0m\n\u001b[0m\u001b[1;32m    986\u001b[0m             \u001b[0;32mif\u001b[0m \u001b[0mbinary\u001b[0m\u001b[0;34m:\u001b[0m\u001b[0;34m\u001b[0m\u001b[0;34m\u001b[0m\u001b[0m\n\u001b[1;32m    987\u001b[0m                 \u001b[0;32mreturn\u001b[0m \u001b[0mresponse\u001b[0m\u001b[0;34m,\u001b[0m \u001b[0mself\u001b[0m\u001b[0;34m.\u001b[0m\u001b[0m_create_connection_guard\u001b[0m\u001b[0;34m(\u001b[0m\u001b[0mconnection\u001b[0m\u001b[0;34m)\u001b[0m\u001b[0;34m\u001b[0m\u001b[0;34m\u001b[0m\u001b[0m\n",
            "\u001b[0;32m/usr/local/lib/python3.6/dist-packages/py4j/java_gateway.py\u001b[0m in \u001b[0;36msend_command\u001b[0;34m(self, command)\u001b[0m\n\u001b[1;32m   1150\u001b[0m \u001b[0;34m\u001b[0m\u001b[0m\n\u001b[1;32m   1151\u001b[0m         \u001b[0;32mtry\u001b[0m\u001b[0;34m:\u001b[0m\u001b[0;34m\u001b[0m\u001b[0;34m\u001b[0m\u001b[0m\n\u001b[0;32m-> 1152\u001b[0;31m             \u001b[0manswer\u001b[0m \u001b[0;34m=\u001b[0m \u001b[0msmart_decode\u001b[0m\u001b[0;34m(\u001b[0m\u001b[0mself\u001b[0m\u001b[0;34m.\u001b[0m\u001b[0mstream\u001b[0m\u001b[0;34m.\u001b[0m\u001b[0mreadline\u001b[0m\u001b[0;34m(\u001b[0m\u001b[0;34m)\u001b[0m\u001b[0;34m[\u001b[0m\u001b[0;34m:\u001b[0m\u001b[0;34m-\u001b[0m\u001b[0;36m1\u001b[0m\u001b[0;34m]\u001b[0m\u001b[0;34m)\u001b[0m\u001b[0;34m\u001b[0m\u001b[0;34m\u001b[0m\u001b[0m\n\u001b[0m\u001b[1;32m   1153\u001b[0m             \u001b[0mlogger\u001b[0m\u001b[0;34m.\u001b[0m\u001b[0mdebug\u001b[0m\u001b[0;34m(\u001b[0m\u001b[0;34m\"Answer received: {0}\"\u001b[0m\u001b[0;34m.\u001b[0m\u001b[0mformat\u001b[0m\u001b[0;34m(\u001b[0m\u001b[0manswer\u001b[0m\u001b[0;34m)\u001b[0m\u001b[0;34m)\u001b[0m\u001b[0;34m\u001b[0m\u001b[0;34m\u001b[0m\u001b[0m\n\u001b[1;32m   1154\u001b[0m             \u001b[0;32mif\u001b[0m \u001b[0manswer\u001b[0m\u001b[0;34m.\u001b[0m\u001b[0mstartswith\u001b[0m\u001b[0;34m(\u001b[0m\u001b[0mproto\u001b[0m\u001b[0;34m.\u001b[0m\u001b[0mRETURN_MESSAGE\u001b[0m\u001b[0;34m)\u001b[0m\u001b[0;34m:\u001b[0m\u001b[0;34m\u001b[0m\u001b[0;34m\u001b[0m\u001b[0m\n",
            "\u001b[0;32m/usr/lib/python3.6/socket.py\u001b[0m in \u001b[0;36mreadinto\u001b[0;34m(self, b)\u001b[0m\n\u001b[1;32m    584\u001b[0m         \u001b[0;32mwhile\u001b[0m \u001b[0;32mTrue\u001b[0m\u001b[0;34m:\u001b[0m\u001b[0;34m\u001b[0m\u001b[0;34m\u001b[0m\u001b[0m\n\u001b[1;32m    585\u001b[0m             \u001b[0;32mtry\u001b[0m\u001b[0;34m:\u001b[0m\u001b[0;34m\u001b[0m\u001b[0;34m\u001b[0m\u001b[0m\n\u001b[0;32m--> 586\u001b[0;31m                 \u001b[0;32mreturn\u001b[0m \u001b[0mself\u001b[0m\u001b[0;34m.\u001b[0m\u001b[0m_sock\u001b[0m\u001b[0;34m.\u001b[0m\u001b[0mrecv_into\u001b[0m\u001b[0;34m(\u001b[0m\u001b[0mb\u001b[0m\u001b[0;34m)\u001b[0m\u001b[0;34m\u001b[0m\u001b[0;34m\u001b[0m\u001b[0m\n\u001b[0m\u001b[1;32m    587\u001b[0m             \u001b[0;32mexcept\u001b[0m \u001b[0mtimeout\u001b[0m\u001b[0;34m:\u001b[0m\u001b[0;34m\u001b[0m\u001b[0;34m\u001b[0m\u001b[0m\n\u001b[1;32m    588\u001b[0m                 \u001b[0mself\u001b[0m\u001b[0;34m.\u001b[0m\u001b[0m_timeout_occurred\u001b[0m \u001b[0;34m=\u001b[0m \u001b[0;32mTrue\u001b[0m\u001b[0;34m\u001b[0m\u001b[0;34m\u001b[0m\u001b[0m\n",
            "\u001b[0;31mKeyboardInterrupt\u001b[0m: "
          ]
        }
      ]
    },
    {
      "cell_type": "code",
      "metadata": {
        "id": "zuwyf5i1s4YM",
        "colab_type": "code",
        "colab": {}
      },
      "source": [
        ""
      ],
      "execution_count": 0,
      "outputs": []
    }
  ]
}