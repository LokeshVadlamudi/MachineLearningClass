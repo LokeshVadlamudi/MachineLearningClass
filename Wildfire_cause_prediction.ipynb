{
  "nbformat": 4,
  "nbformat_minor": 0,
  "metadata": {
    "colab": {
      "name": "Wildfire_cause_prediction.ipynb",
      "provenance": [],
      "collapsed_sections": [],
      "toc_visible": true,
      "machine_shape": "hm",
      "include_colab_link": true
    },
    "kernelspec": {
      "name": "python3",
      "display_name": "Python 3"
    },
    "accelerator": "GPU"
  },
  "cells": [
    {
      "cell_type": "markdown",
      "metadata": {
        "id": "view-in-github",
        "colab_type": "text"
      },
      "source": [
        "<a href=\"https://colab.research.google.com/github/LokeshVadlamudi/MachineLearningClass/blob/master/Wildfire_cause_prediction.ipynb\" target=\"_parent\"><img src=\"https://colab.research.google.com/assets/colab-badge.svg\" alt=\"Open In Colab\"/></a>"
      ]
    },
    {
      "cell_type": "markdown",
      "metadata": {
        "id": "1e52p8v16XkV",
        "colab_type": "text"
      },
      "source": [
        "#**Wildfire Cause Prediction**\n",
        "\n",
        "##Team: FourReal\n",
        "\n",
        "1. Nupur Yadav\n",
        "2. Chetan Kulkarni\n",
        "3. Lokesh Vadlamudi\n",
        "4. Ronak Mehta"
      ]
    },
    {
      "cell_type": "markdown",
      "metadata": {
        "id": "MRJdyNcj7ABe",
        "colab_type": "text"
      },
      "source": [
        "##**Problem Definition:**\n",
        "\n",
        "The number of wildfire cases have drastically increased in the past few years, with more than 52,000 fires in 2018 alone. The goal of this project is to predict the cause of wildfire using meteorological and other weather related data such as location, day of the week, month, temperature and so on. This type of prediction can help government to monitor and mitigate impact of these fires by allocating proper resources based on the cause of fire."
      ]
    },
    {
      "cell_type": "markdown",
      "metadata": {
        "id": "Da1AzaygFydE",
        "colab_type": "text"
      },
      "source": [
        "##**Datasets:**\n",
        "\n",
        "We have taken our base dataset from kaggle (https://www.kaggle.com/rtatman/188-million-us-wildfires) which had 1.88 million historic fires from throughout the United States and during the period of\n",
        "1992-2015. It had features such as fire cause code (1-13) specifying what started the fire, fire cause description, latitude, and longitude, discovery date etc. \n",
        "\n",
        "In our dataset the fire cause code has values from 1-13 mapped to below fire cause description.\n",
        "\n",
        "1 - Lightning\n",
        "\n",
        "2 - Equipment Use\n",
        "\n",
        "3 - Smoking\n",
        "\n",
        "4 - Campfire\n",
        "\n",
        "5 - Debris Burning\n",
        "\n",
        "6 - Railroad\n",
        "\n",
        "7 - Arson\n",
        "\n",
        "8 - Children\n",
        "\n",
        "9 - Miscellaneous\n",
        "\n",
        "10 - Fireworks\n",
        "\n",
        "11 - Powerline\n",
        "\n",
        "12 - Structure\n",
        "\n",
        "13 - Missing/Undefined\n",
        "\n",
        "But it didn't have weather related data which was crucial for our prediction so we **amalgamated our base dataset with weather dataset from National Oceanic and Atmospheric Administration (ncdc.novaa.gov website)** and added fields such as Temperature, snow, precipitation, TOBS to our dataset."
      ]
    },
    {
      "cell_type": "markdown",
      "metadata": {
        "id": "RQ5cA1SPEkGC",
        "colab_type": "text"
      },
      "source": [
        "##**Importing necessary libraries and loading our base dataset**\n",
        "\n"
      ]
    },
    {
      "cell_type": "code",
      "metadata": {
        "id": "XUgOBZc96EEX",
        "colab_type": "code",
        "colab": {
          "base_uri": "https://localhost:8080/",
          "height": 70
        },
        "outputId": "d58db755-fb30-4e51-84d9-f1c94ab353cc"
      },
      "source": [
        "#Importing Libraries\n",
        "import sqlite3\n",
        "import pandas as pd\n",
        "from matplotlib import pyplot as plt\n",
        "from sklearn.cluster import KMeans\n",
        "from sklearn import tree, preprocessing\n",
        "\n",
        "from sklearn.ensemble import RandomForestClassifier\n",
        "from sklearn.linear_model import LogisticRegression,LinearRegression\n",
        "from sklearn.tree import DecisionTreeClassifier\n",
        "from sklearn.neighbors import KNeighborsClassifier\n",
        "from sklearn.discriminant_analysis import LinearDiscriminantAnalysis\n",
        "from sklearn.naive_bayes import GaussianNB\n",
        "from sklearn import svm\n",
        "from sklearn.feature_selection import SelectKBest, chi2\n",
        "from sklearn.neighbors import KNeighborsClassifier\n",
        "from sklearn.mixture import GaussianMixture\n",
        "from sklearn.cluster import KMeans\n",
        "from sklearn.metrics import accuracy_score\n",
        "from sklearn.svm import SVC\n",
        "from sklearn.metrics import confusion_matrix\n",
        "from xgboost import XGBClassifier\n",
        "from sklearn.cluster import KMeans\n",
        "from yellowbrick.cluster import KElbowVisualizer\n",
        "from sklearn.metrics import classification_report\n",
        "from sklearn.mixture import GaussianMixture as GMM\n",
        "from sklearn.decomposition import PCA\n"
      ],
      "execution_count": 1,
      "outputs": [
        {
          "output_type": "stream",
          "text": [
            "/usr/local/lib/python3.6/dist-packages/sklearn/utils/deprecation.py:144: FutureWarning: The sklearn.metrics.classification module is  deprecated in version 0.22 and will be removed in version 0.24. The corresponding classes / functions should instead be imported from sklearn.metrics. Anything that cannot be imported from sklearn.metrics is now part of the private API.\n",
            "  warnings.warn(message, FutureWarning)\n"
          ],
          "name": "stderr"
        }
      ]
    },
    {
      "cell_type": "code",
      "metadata": {
        "id": "HdVG0h0orh_x",
        "colab_type": "code",
        "colab": {}
      },
      "source": [
        "import random\n",
        "random.seed( 30 )"
      ],
      "execution_count": 0,
      "outputs": []
    },
    {
      "cell_type": "code",
      "metadata": {
        "id": "v56bRLm6M7Nm",
        "colab_type": "code",
        "colab": {}
      },
      "source": [
        "# Code to read csv file into Colaboratory:\n",
        "!pip install -U -q PyDrive\n",
        "from pydrive.auth import GoogleAuth\n",
        "from pydrive.drive import GoogleDrive\n",
        "from google.colab import auth\n",
        "from oauth2client.client import GoogleCredentials\n",
        "# Authenticate and create the PyDrive client.\n",
        "auth.authenticate_user()\n",
        "gauth = GoogleAuth()\n",
        "gauth.credentials = GoogleCredentials.get_application_default()\n",
        "drive = GoogleDrive(gauth)"
      ],
      "execution_count": 0,
      "outputs": []
    },
    {
      "cell_type": "code",
      "metadata": {
        "id": "VKnVz-jhNJnk",
        "colab_type": "code",
        "outputId": "d320700b-fbdf-4207-c006-c8b095ba30fe",
        "colab": {
          "base_uri": "https://localhost:8080/",
          "height": 33
        }
      },
      "source": [
        "link = 'https://drive.google.com/open?id=1ApRYxyMqnFKH8XW1GbQ-KZNJdbdeEdV9'\n",
        "fluff, id = link.split('=')\n",
        "print (id) # Verify that you have everything after '='"
      ],
      "execution_count": 4,
      "outputs": [
        {
          "output_type": "stream",
          "text": [
            "1ApRYxyMqnFKH8XW1GbQ-KZNJdbdeEdV9\n"
          ],
          "name": "stdout"
        }
      ]
    },
    {
      "cell_type": "code",
      "metadata": {
        "id": "pVVI9r86NT-N",
        "colab_type": "code",
        "colab": {}
      },
      "source": [
        "downloaded = drive.CreateFile({'id':id}) \n",
        "downloaded.GetContentFile('Fire.csv')"
      ],
      "execution_count": 0,
      "outputs": []
    },
    {
      "cell_type": "code",
      "metadata": {
        "id": "BAaaWco3Nb13",
        "colab_type": "code",
        "outputId": "0257e476-ad18-452f-d489-85254f83abae",
        "colab": {
          "base_uri": "https://localhost:8080/",
          "height": 70
        }
      },
      "source": [
        "#Loading dataset into pandas dataframe\n",
        "df = pd.read_csv('Fire.csv')"
      ],
      "execution_count": 6,
      "outputs": [
        {
          "output_type": "stream",
          "text": [
            "/usr/local/lib/python3.6/dist-packages/IPython/core/interactiveshell.py:2718: DtypeWarning: Columns (9,11,12,13,14,15,16,17,18,19,36,38) have mixed types.Specify dtype option on import or set low_memory=False.\n",
            "  interactivity=interactivity, compiler=compiler, result=result)\n"
          ],
          "name": "stderr"
        }
      ]
    },
    {
      "cell_type": "code",
      "metadata": {
        "id": "6xehoO9dNnH6",
        "colab_type": "code",
        "outputId": "f410a45e-f0b4-43a9-9617-737873cab7ff",
        "colab": {
          "base_uri": "https://localhost:8080/",
          "height": 308
        }
      },
      "source": [
        "#Displaying first few records\n",
        "df.head()"
      ],
      "execution_count": 7,
      "outputs": [
        {
          "output_type": "execute_result",
          "data": {
            "text/html": [
              "<div>\n",
              "<style scoped>\n",
              "    .dataframe tbody tr th:only-of-type {\n",
              "        vertical-align: middle;\n",
              "    }\n",
              "\n",
              "    .dataframe tbody tr th {\n",
              "        vertical-align: top;\n",
              "    }\n",
              "\n",
              "    .dataframe thead th {\n",
              "        text-align: right;\n",
              "    }\n",
              "</style>\n",
              "<table border=\"1\" class=\"dataframe\">\n",
              "  <thead>\n",
              "    <tr style=\"text-align: right;\">\n",
              "      <th></th>\n",
              "      <th>Unnamed: 0</th>\n",
              "      <th>OBJECTID</th>\n",
              "      <th>FOD_ID</th>\n",
              "      <th>FPA_ID</th>\n",
              "      <th>SOURCE_SYSTEM_TYPE</th>\n",
              "      <th>SOURCE_SYSTEM</th>\n",
              "      <th>NWCG_REPORTING_AGENCY</th>\n",
              "      <th>NWCG_REPORTING_UNIT_ID</th>\n",
              "      <th>NWCG_REPORTING_UNIT_NAME</th>\n",
              "      <th>SOURCE_REPORTING_UNIT</th>\n",
              "      <th>SOURCE_REPORTING_UNIT_NAME</th>\n",
              "      <th>LOCAL_FIRE_REPORT_ID</th>\n",
              "      <th>LOCAL_INCIDENT_ID</th>\n",
              "      <th>FIRE_CODE</th>\n",
              "      <th>FIRE_NAME</th>\n",
              "      <th>ICS_209_INCIDENT_NUMBER</th>\n",
              "      <th>ICS_209_NAME</th>\n",
              "      <th>MTBS_ID</th>\n",
              "      <th>MTBS_FIRE_NAME</th>\n",
              "      <th>COMPLEX_NAME</th>\n",
              "      <th>FIRE_YEAR</th>\n",
              "      <th>DISCOVERY_DATE</th>\n",
              "      <th>DISCOVERY_DOY</th>\n",
              "      <th>DISCOVERY_TIME</th>\n",
              "      <th>STAT_CAUSE_CODE</th>\n",
              "      <th>STAT_CAUSE_DESCR</th>\n",
              "      <th>CONT_DATE</th>\n",
              "      <th>CONT_DOY</th>\n",
              "      <th>CONT_TIME</th>\n",
              "      <th>FIRE_SIZE</th>\n",
              "      <th>FIRE_SIZE_CLASS</th>\n",
              "      <th>LATITUDE</th>\n",
              "      <th>LONGITUDE</th>\n",
              "      <th>OWNER_CODE</th>\n",
              "      <th>OWNER_DESCR</th>\n",
              "      <th>STATE</th>\n",
              "      <th>COUNTY</th>\n",
              "      <th>FIPS_CODE</th>\n",
              "      <th>FIPS_NAME</th>\n",
              "      <th>Shape</th>\n",
              "    </tr>\n",
              "  </thead>\n",
              "  <tbody>\n",
              "    <tr>\n",
              "      <th>0</th>\n",
              "      <td>0</td>\n",
              "      <td>1</td>\n",
              "      <td>1</td>\n",
              "      <td>FS-1418826</td>\n",
              "      <td>FED</td>\n",
              "      <td>FS-FIRESTAT</td>\n",
              "      <td>FS</td>\n",
              "      <td>USCAPNF</td>\n",
              "      <td>Plumas National Forest</td>\n",
              "      <td>511</td>\n",
              "      <td>Plumas National Forest</td>\n",
              "      <td>1</td>\n",
              "      <td>PNF-47</td>\n",
              "      <td>BJ8K</td>\n",
              "      <td>FOUNTAIN</td>\n",
              "      <td>NaN</td>\n",
              "      <td>NaN</td>\n",
              "      <td>NaN</td>\n",
              "      <td>NaN</td>\n",
              "      <td>NaN</td>\n",
              "      <td>2005</td>\n",
              "      <td>2453403.5</td>\n",
              "      <td>33</td>\n",
              "      <td>1300.0</td>\n",
              "      <td>9.0</td>\n",
              "      <td>Miscellaneous</td>\n",
              "      <td>2453403.5</td>\n",
              "      <td>33.0</td>\n",
              "      <td>1730.0</td>\n",
              "      <td>0.10</td>\n",
              "      <td>A</td>\n",
              "      <td>40.036944</td>\n",
              "      <td>-121.005833</td>\n",
              "      <td>5.0</td>\n",
              "      <td>USFS</td>\n",
              "      <td>CA</td>\n",
              "      <td>63</td>\n",
              "      <td>63.0</td>\n",
              "      <td>Plumas</td>\n",
              "      <td>b'\\x00\\x01\\xad\\x10\\x00\\x00\\xe8d\\xc2\\x92_@^\\xc0...</td>\n",
              "    </tr>\n",
              "    <tr>\n",
              "      <th>1</th>\n",
              "      <td>1</td>\n",
              "      <td>2</td>\n",
              "      <td>2</td>\n",
              "      <td>FS-1418827</td>\n",
              "      <td>FED</td>\n",
              "      <td>FS-FIRESTAT</td>\n",
              "      <td>FS</td>\n",
              "      <td>USCAENF</td>\n",
              "      <td>Eldorado National Forest</td>\n",
              "      <td>503</td>\n",
              "      <td>Eldorado National Forest</td>\n",
              "      <td>13</td>\n",
              "      <td>13</td>\n",
              "      <td>AAC0</td>\n",
              "      <td>PIGEON</td>\n",
              "      <td>NaN</td>\n",
              "      <td>NaN</td>\n",
              "      <td>NaN</td>\n",
              "      <td>NaN</td>\n",
              "      <td>NaN</td>\n",
              "      <td>2004</td>\n",
              "      <td>2453137.5</td>\n",
              "      <td>133</td>\n",
              "      <td>845.0</td>\n",
              "      <td>1.0</td>\n",
              "      <td>Lightning</td>\n",
              "      <td>2453137.5</td>\n",
              "      <td>133.0</td>\n",
              "      <td>1530.0</td>\n",
              "      <td>0.25</td>\n",
              "      <td>A</td>\n",
              "      <td>38.933056</td>\n",
              "      <td>-120.404444</td>\n",
              "      <td>5.0</td>\n",
              "      <td>USFS</td>\n",
              "      <td>CA</td>\n",
              "      <td>61</td>\n",
              "      <td>61.0</td>\n",
              "      <td>Placer</td>\n",
              "      <td>b'\\x00\\x01\\xad\\x10\\x00\\x00T\\xb6\\xeej\\xe2\\x19^\\...</td>\n",
              "    </tr>\n",
              "    <tr>\n",
              "      <th>2</th>\n",
              "      <td>2</td>\n",
              "      <td>3</td>\n",
              "      <td>3</td>\n",
              "      <td>FS-1418835</td>\n",
              "      <td>FED</td>\n",
              "      <td>FS-FIRESTAT</td>\n",
              "      <td>FS</td>\n",
              "      <td>USCAENF</td>\n",
              "      <td>Eldorado National Forest</td>\n",
              "      <td>503</td>\n",
              "      <td>Eldorado National Forest</td>\n",
              "      <td>27</td>\n",
              "      <td>021</td>\n",
              "      <td>A32W</td>\n",
              "      <td>SLACK</td>\n",
              "      <td>NaN</td>\n",
              "      <td>NaN</td>\n",
              "      <td>NaN</td>\n",
              "      <td>NaN</td>\n",
              "      <td>NaN</td>\n",
              "      <td>2004</td>\n",
              "      <td>2453156.5</td>\n",
              "      <td>152</td>\n",
              "      <td>1921.0</td>\n",
              "      <td>5.0</td>\n",
              "      <td>Debris Burning</td>\n",
              "      <td>2453156.5</td>\n",
              "      <td>152.0</td>\n",
              "      <td>2024.0</td>\n",
              "      <td>0.10</td>\n",
              "      <td>A</td>\n",
              "      <td>38.984167</td>\n",
              "      <td>-120.735556</td>\n",
              "      <td>13.0</td>\n",
              "      <td>STATE OR PRIVATE</td>\n",
              "      <td>CA</td>\n",
              "      <td>17</td>\n",
              "      <td>17.0</td>\n",
              "      <td>El Dorado</td>\n",
              "      <td>b'\\x00\\x01\\xad\\x10\\x00\\x00\\xd0\\xa5\\xa0W\\x13/^\\...</td>\n",
              "    </tr>\n",
              "    <tr>\n",
              "      <th>3</th>\n",
              "      <td>3</td>\n",
              "      <td>4</td>\n",
              "      <td>4</td>\n",
              "      <td>FS-1418845</td>\n",
              "      <td>FED</td>\n",
              "      <td>FS-FIRESTAT</td>\n",
              "      <td>FS</td>\n",
              "      <td>USCAENF</td>\n",
              "      <td>Eldorado National Forest</td>\n",
              "      <td>503</td>\n",
              "      <td>Eldorado National Forest</td>\n",
              "      <td>43</td>\n",
              "      <td>6</td>\n",
              "      <td>NaN</td>\n",
              "      <td>DEER</td>\n",
              "      <td>NaN</td>\n",
              "      <td>NaN</td>\n",
              "      <td>NaN</td>\n",
              "      <td>NaN</td>\n",
              "      <td>NaN</td>\n",
              "      <td>2004</td>\n",
              "      <td>2453184.5</td>\n",
              "      <td>180</td>\n",
              "      <td>1600.0</td>\n",
              "      <td>1.0</td>\n",
              "      <td>Lightning</td>\n",
              "      <td>2453189.5</td>\n",
              "      <td>185.0</td>\n",
              "      <td>1400.0</td>\n",
              "      <td>0.10</td>\n",
              "      <td>A</td>\n",
              "      <td>38.559167</td>\n",
              "      <td>-119.913333</td>\n",
              "      <td>5.0</td>\n",
              "      <td>USFS</td>\n",
              "      <td>CA</td>\n",
              "      <td>3</td>\n",
              "      <td>3.0</td>\n",
              "      <td>Alpine</td>\n",
              "      <td>b'\\x00\\x01\\xad\\x10\\x00\\x00\\x94\\xac\\xa3\\rt\\xfa]...</td>\n",
              "    </tr>\n",
              "    <tr>\n",
              "      <th>4</th>\n",
              "      <td>4</td>\n",
              "      <td>5</td>\n",
              "      <td>5</td>\n",
              "      <td>FS-1418847</td>\n",
              "      <td>FED</td>\n",
              "      <td>FS-FIRESTAT</td>\n",
              "      <td>FS</td>\n",
              "      <td>USCAENF</td>\n",
              "      <td>Eldorado National Forest</td>\n",
              "      <td>503</td>\n",
              "      <td>Eldorado National Forest</td>\n",
              "      <td>44</td>\n",
              "      <td>7</td>\n",
              "      <td>NaN</td>\n",
              "      <td>STEVENOT</td>\n",
              "      <td>NaN</td>\n",
              "      <td>NaN</td>\n",
              "      <td>NaN</td>\n",
              "      <td>NaN</td>\n",
              "      <td>NaN</td>\n",
              "      <td>2004</td>\n",
              "      <td>2453184.5</td>\n",
              "      <td>180</td>\n",
              "      <td>1600.0</td>\n",
              "      <td>1.0</td>\n",
              "      <td>Lightning</td>\n",
              "      <td>2453189.5</td>\n",
              "      <td>185.0</td>\n",
              "      <td>1200.0</td>\n",
              "      <td>0.10</td>\n",
              "      <td>A</td>\n",
              "      <td>38.559167</td>\n",
              "      <td>-119.933056</td>\n",
              "      <td>5.0</td>\n",
              "      <td>USFS</td>\n",
              "      <td>CA</td>\n",
              "      <td>3</td>\n",
              "      <td>3.0</td>\n",
              "      <td>Alpine</td>\n",
              "      <td>b'\\x00\\x01\\xad\\x10\\x00\\x00@\\xe3\\xaa.\\xb7\\xfb]\\...</td>\n",
              "    </tr>\n",
              "  </tbody>\n",
              "</table>\n",
              "</div>"
            ],
            "text/plain": [
              "   Unnamed: 0  ...                                              Shape\n",
              "0           0  ...  b'\\x00\\x01\\xad\\x10\\x00\\x00\\xe8d\\xc2\\x92_@^\\xc0...\n",
              "1           1  ...  b'\\x00\\x01\\xad\\x10\\x00\\x00T\\xb6\\xeej\\xe2\\x19^\\...\n",
              "2           2  ...  b'\\x00\\x01\\xad\\x10\\x00\\x00\\xd0\\xa5\\xa0W\\x13/^\\...\n",
              "3           3  ...  b'\\x00\\x01\\xad\\x10\\x00\\x00\\x94\\xac\\xa3\\rt\\xfa]...\n",
              "4           4  ...  b'\\x00\\x01\\xad\\x10\\x00\\x00@\\xe3\\xaa.\\xb7\\xfb]\\...\n",
              "\n",
              "[5 rows x 40 columns]"
            ]
          },
          "metadata": {
            "tags": []
          },
          "execution_count": 7
        }
      ]
    },
    {
      "cell_type": "markdown",
      "metadata": {
        "id": "AHh20_Z2NzLm",
        "colab_type": "text"
      },
      "source": [
        "##**Preprocessing data**"
      ]
    },
    {
      "cell_type": "code",
      "metadata": {
        "id": "NGGzZ7C7OAmB",
        "colab_type": "code",
        "outputId": "c7561b90-0285-4896-eae4-b5fd7d95a7ce",
        "colab": {
          "base_uri": "https://localhost:8080/",
          "height": 212
        }
      },
      "source": [
        "#Checking the columns in dataset\n",
        "df.columns"
      ],
      "execution_count": 8,
      "outputs": [
        {
          "output_type": "execute_result",
          "data": {
            "text/plain": [
              "Index(['Unnamed: 0', 'OBJECTID', 'FOD_ID', 'FPA_ID', 'SOURCE_SYSTEM_TYPE',\n",
              "       'SOURCE_SYSTEM', 'NWCG_REPORTING_AGENCY', 'NWCG_REPORTING_UNIT_ID',\n",
              "       'NWCG_REPORTING_UNIT_NAME', 'SOURCE_REPORTING_UNIT',\n",
              "       'SOURCE_REPORTING_UNIT_NAME', 'LOCAL_FIRE_REPORT_ID',\n",
              "       'LOCAL_INCIDENT_ID', 'FIRE_CODE', 'FIRE_NAME',\n",
              "       'ICS_209_INCIDENT_NUMBER', 'ICS_209_NAME', 'MTBS_ID', 'MTBS_FIRE_NAME',\n",
              "       'COMPLEX_NAME', 'FIRE_YEAR', 'DISCOVERY_DATE', 'DISCOVERY_DOY',\n",
              "       'DISCOVERY_TIME', 'STAT_CAUSE_CODE', 'STAT_CAUSE_DESCR', 'CONT_DATE',\n",
              "       'CONT_DOY', 'CONT_TIME', 'FIRE_SIZE', 'FIRE_SIZE_CLASS', 'LATITUDE',\n",
              "       'LONGITUDE', 'OWNER_CODE', 'OWNER_DESCR', 'STATE', 'COUNTY',\n",
              "       'FIPS_CODE', 'FIPS_NAME', 'Shape'],\n",
              "      dtype='object')"
            ]
          },
          "metadata": {
            "tags": []
          },
          "execution_count": 8
        }
      ]
    },
    {
      "cell_type": "code",
      "metadata": {
        "id": "BDMyLv7jOID0",
        "colab_type": "code",
        "outputId": "5f8d0fb6-2654-422c-ff45-3da0f3bba3d8",
        "colab": {
          "base_uri": "https://localhost:8080/",
          "height": 33
        }
      },
      "source": [
        "#Displaying the shape of data\n",
        "df.shape"
      ],
      "execution_count": 9,
      "outputs": [
        {
          "output_type": "execute_result",
          "data": {
            "text/plain": [
              "(1880465, 40)"
            ]
          },
          "metadata": {
            "tags": []
          },
          "execution_count": 9
        }
      ]
    },
    {
      "cell_type": "code",
      "metadata": {
        "id": "Xz1D0sdMOT4L",
        "colab_type": "code",
        "colab": {}
      },
      "source": [
        "#Creating a new data frame with required columns\n",
        "df = df[['FIRE_YEAR','STAT_CAUSE_CODE','STAT_CAUSE_DESCR','LATITUDE','LONGITUDE','STATE','DISCOVERY_DATE','FIRE_SIZE']].copy()"
      ],
      "execution_count": 0,
      "outputs": []
    },
    {
      "cell_type": "code",
      "metadata": {
        "id": "uaNLz0yH7GmW",
        "colab_type": "code",
        "outputId": "3cfe188c-908f-4733-ecb8-edb85246a4d7",
        "colab": {
          "base_uri": "https://localhost:8080/",
          "height": 163
        }
      },
      "source": [
        "#Checking for the missing values in the dataset\n",
        "df.isnull().sum()"
      ],
      "execution_count": 11,
      "outputs": [
        {
          "output_type": "execute_result",
          "data": {
            "text/plain": [
              "FIRE_YEAR           0\n",
              "STAT_CAUSE_CODE     0\n",
              "STAT_CAUSE_DESCR    0\n",
              "LATITUDE            0\n",
              "LONGITUDE           0\n",
              "STATE               0\n",
              "DISCOVERY_DATE      0\n",
              "FIRE_SIZE           0\n",
              "dtype: int64"
            ]
          },
          "metadata": {
            "tags": []
          },
          "execution_count": 11
        }
      ]
    },
    {
      "cell_type": "markdown",
      "metadata": {
        "id": "LxKs81RjGQI1",
        "colab_type": "text"
      },
      "source": [
        "As we can see our dataset don't have any missing values."
      ]
    },
    {
      "cell_type": "code",
      "metadata": {
        "id": "EcKvM3x5Oqf4",
        "colab_type": "code",
        "outputId": "61a677aa-fa0b-45d7-c23a-806c479d687c",
        "colab": {
          "base_uri": "https://localhost:8080/",
          "height": 211
        }
      },
      "source": [
        "#Displaying top 5 records\n",
        "df.head()"
      ],
      "execution_count": 12,
      "outputs": [
        {
          "output_type": "execute_result",
          "data": {
            "text/html": [
              "<div>\n",
              "<style scoped>\n",
              "    .dataframe tbody tr th:only-of-type {\n",
              "        vertical-align: middle;\n",
              "    }\n",
              "\n",
              "    .dataframe tbody tr th {\n",
              "        vertical-align: top;\n",
              "    }\n",
              "\n",
              "    .dataframe thead th {\n",
              "        text-align: right;\n",
              "    }\n",
              "</style>\n",
              "<table border=\"1\" class=\"dataframe\">\n",
              "  <thead>\n",
              "    <tr style=\"text-align: right;\">\n",
              "      <th></th>\n",
              "      <th>FIRE_YEAR</th>\n",
              "      <th>STAT_CAUSE_CODE</th>\n",
              "      <th>STAT_CAUSE_DESCR</th>\n",
              "      <th>LATITUDE</th>\n",
              "      <th>LONGITUDE</th>\n",
              "      <th>STATE</th>\n",
              "      <th>DISCOVERY_DATE</th>\n",
              "      <th>FIRE_SIZE</th>\n",
              "    </tr>\n",
              "  </thead>\n",
              "  <tbody>\n",
              "    <tr>\n",
              "      <th>0</th>\n",
              "      <td>2005</td>\n",
              "      <td>9.0</td>\n",
              "      <td>Miscellaneous</td>\n",
              "      <td>40.036944</td>\n",
              "      <td>-121.005833</td>\n",
              "      <td>CA</td>\n",
              "      <td>2453403.5</td>\n",
              "      <td>0.10</td>\n",
              "    </tr>\n",
              "    <tr>\n",
              "      <th>1</th>\n",
              "      <td>2004</td>\n",
              "      <td>1.0</td>\n",
              "      <td>Lightning</td>\n",
              "      <td>38.933056</td>\n",
              "      <td>-120.404444</td>\n",
              "      <td>CA</td>\n",
              "      <td>2453137.5</td>\n",
              "      <td>0.25</td>\n",
              "    </tr>\n",
              "    <tr>\n",
              "      <th>2</th>\n",
              "      <td>2004</td>\n",
              "      <td>5.0</td>\n",
              "      <td>Debris Burning</td>\n",
              "      <td>38.984167</td>\n",
              "      <td>-120.735556</td>\n",
              "      <td>CA</td>\n",
              "      <td>2453156.5</td>\n",
              "      <td>0.10</td>\n",
              "    </tr>\n",
              "    <tr>\n",
              "      <th>3</th>\n",
              "      <td>2004</td>\n",
              "      <td>1.0</td>\n",
              "      <td>Lightning</td>\n",
              "      <td>38.559167</td>\n",
              "      <td>-119.913333</td>\n",
              "      <td>CA</td>\n",
              "      <td>2453184.5</td>\n",
              "      <td>0.10</td>\n",
              "    </tr>\n",
              "    <tr>\n",
              "      <th>4</th>\n",
              "      <td>2004</td>\n",
              "      <td>1.0</td>\n",
              "      <td>Lightning</td>\n",
              "      <td>38.559167</td>\n",
              "      <td>-119.933056</td>\n",
              "      <td>CA</td>\n",
              "      <td>2453184.5</td>\n",
              "      <td>0.10</td>\n",
              "    </tr>\n",
              "  </tbody>\n",
              "</table>\n",
              "</div>"
            ],
            "text/plain": [
              "   FIRE_YEAR  STAT_CAUSE_CODE STAT_CAUSE_DESCR  ...  STATE  DISCOVERY_DATE FIRE_SIZE\n",
              "0       2005              9.0    Miscellaneous  ...     CA       2453403.5      0.10\n",
              "1       2004              1.0        Lightning  ...     CA       2453137.5      0.25\n",
              "2       2004              5.0   Debris Burning  ...     CA       2453156.5      0.10\n",
              "3       2004              1.0        Lightning  ...     CA       2453184.5      0.10\n",
              "4       2004              1.0        Lightning  ...     CA       2453184.5      0.10\n",
              "\n",
              "[5 rows x 8 columns]"
            ]
          },
          "metadata": {
            "tags": []
          },
          "execution_count": 12
        }
      ]
    },
    {
      "cell_type": "code",
      "metadata": {
        "id": "iNMIVWhuznlD",
        "colab_type": "code",
        "outputId": "d8d630e6-6a1d-45ca-9214-1da06c228e25",
        "colab": {
          "base_uri": "https://localhost:8080/",
          "height": 292
        }
      },
      "source": [
        "#Converting the DISCOVERY_DATE field's Julian Date format in Gregorian dates\n",
        "df['DATE'] = pd.to_datetime(df['DISCOVERY_DATE'] - pd.Timestamp(0).to_julian_date(), unit='D')\n",
        "df.head() #check the data"
      ],
      "execution_count": 13,
      "outputs": [
        {
          "output_type": "execute_result",
          "data": {
            "text/html": [
              "<div>\n",
              "<style scoped>\n",
              "    .dataframe tbody tr th:only-of-type {\n",
              "        vertical-align: middle;\n",
              "    }\n",
              "\n",
              "    .dataframe tbody tr th {\n",
              "        vertical-align: top;\n",
              "    }\n",
              "\n",
              "    .dataframe thead th {\n",
              "        text-align: right;\n",
              "    }\n",
              "</style>\n",
              "<table border=\"1\" class=\"dataframe\">\n",
              "  <thead>\n",
              "    <tr style=\"text-align: right;\">\n",
              "      <th></th>\n",
              "      <th>FIRE_YEAR</th>\n",
              "      <th>STAT_CAUSE_CODE</th>\n",
              "      <th>STAT_CAUSE_DESCR</th>\n",
              "      <th>LATITUDE</th>\n",
              "      <th>LONGITUDE</th>\n",
              "      <th>STATE</th>\n",
              "      <th>DISCOVERY_DATE</th>\n",
              "      <th>FIRE_SIZE</th>\n",
              "      <th>DATE</th>\n",
              "    </tr>\n",
              "  </thead>\n",
              "  <tbody>\n",
              "    <tr>\n",
              "      <th>0</th>\n",
              "      <td>2005</td>\n",
              "      <td>9.0</td>\n",
              "      <td>Miscellaneous</td>\n",
              "      <td>40.036944</td>\n",
              "      <td>-121.005833</td>\n",
              "      <td>CA</td>\n",
              "      <td>2453403.5</td>\n",
              "      <td>0.10</td>\n",
              "      <td>2005-02-02</td>\n",
              "    </tr>\n",
              "    <tr>\n",
              "      <th>1</th>\n",
              "      <td>2004</td>\n",
              "      <td>1.0</td>\n",
              "      <td>Lightning</td>\n",
              "      <td>38.933056</td>\n",
              "      <td>-120.404444</td>\n",
              "      <td>CA</td>\n",
              "      <td>2453137.5</td>\n",
              "      <td>0.25</td>\n",
              "      <td>2004-05-12</td>\n",
              "    </tr>\n",
              "    <tr>\n",
              "      <th>2</th>\n",
              "      <td>2004</td>\n",
              "      <td>5.0</td>\n",
              "      <td>Debris Burning</td>\n",
              "      <td>38.984167</td>\n",
              "      <td>-120.735556</td>\n",
              "      <td>CA</td>\n",
              "      <td>2453156.5</td>\n",
              "      <td>0.10</td>\n",
              "      <td>2004-05-31</td>\n",
              "    </tr>\n",
              "    <tr>\n",
              "      <th>3</th>\n",
              "      <td>2004</td>\n",
              "      <td>1.0</td>\n",
              "      <td>Lightning</td>\n",
              "      <td>38.559167</td>\n",
              "      <td>-119.913333</td>\n",
              "      <td>CA</td>\n",
              "      <td>2453184.5</td>\n",
              "      <td>0.10</td>\n",
              "      <td>2004-06-28</td>\n",
              "    </tr>\n",
              "    <tr>\n",
              "      <th>4</th>\n",
              "      <td>2004</td>\n",
              "      <td>1.0</td>\n",
              "      <td>Lightning</td>\n",
              "      <td>38.559167</td>\n",
              "      <td>-119.933056</td>\n",
              "      <td>CA</td>\n",
              "      <td>2453184.5</td>\n",
              "      <td>0.10</td>\n",
              "      <td>2004-06-28</td>\n",
              "    </tr>\n",
              "  </tbody>\n",
              "</table>\n",
              "</div>"
            ],
            "text/plain": [
              "   FIRE_YEAR  STAT_CAUSE_CODE  ... FIRE_SIZE       DATE\n",
              "0       2005              9.0  ...      0.10 2005-02-02\n",
              "1       2004              1.0  ...      0.25 2004-05-12\n",
              "2       2004              5.0  ...      0.10 2004-05-31\n",
              "3       2004              1.0  ...      0.10 2004-06-28\n",
              "4       2004              1.0  ...      0.10 2004-06-28\n",
              "\n",
              "[5 rows x 9 columns]"
            ]
          },
          "metadata": {
            "tags": []
          },
          "execution_count": 13
        }
      ]
    },
    {
      "cell_type": "code",
      "metadata": {
        "id": "cd537HiMzxnP",
        "colab_type": "code",
        "outputId": "6919c6f4-b329-406c-9714-64e964cecdba",
        "colab": {
          "base_uri": "https://localhost:8080/",
          "height": 292
        }
      },
      "source": [
        "#Getting some additional data fields such as month and day of the week.\n",
        "df['MONTH'] = pd.DatetimeIndex(df['DATE']).month\n",
        "df['DAY_OF_WEEK'] = df['DATE'].dt.dayofweek\n",
        "df.head()"
      ],
      "execution_count": 14,
      "outputs": [
        {
          "output_type": "execute_result",
          "data": {
            "text/html": [
              "<div>\n",
              "<style scoped>\n",
              "    .dataframe tbody tr th:only-of-type {\n",
              "        vertical-align: middle;\n",
              "    }\n",
              "\n",
              "    .dataframe tbody tr th {\n",
              "        vertical-align: top;\n",
              "    }\n",
              "\n",
              "    .dataframe thead th {\n",
              "        text-align: right;\n",
              "    }\n",
              "</style>\n",
              "<table border=\"1\" class=\"dataframe\">\n",
              "  <thead>\n",
              "    <tr style=\"text-align: right;\">\n",
              "      <th></th>\n",
              "      <th>FIRE_YEAR</th>\n",
              "      <th>STAT_CAUSE_CODE</th>\n",
              "      <th>STAT_CAUSE_DESCR</th>\n",
              "      <th>LATITUDE</th>\n",
              "      <th>LONGITUDE</th>\n",
              "      <th>STATE</th>\n",
              "      <th>DISCOVERY_DATE</th>\n",
              "      <th>FIRE_SIZE</th>\n",
              "      <th>DATE</th>\n",
              "      <th>MONTH</th>\n",
              "      <th>DAY_OF_WEEK</th>\n",
              "    </tr>\n",
              "  </thead>\n",
              "  <tbody>\n",
              "    <tr>\n",
              "      <th>0</th>\n",
              "      <td>2005</td>\n",
              "      <td>9.0</td>\n",
              "      <td>Miscellaneous</td>\n",
              "      <td>40.036944</td>\n",
              "      <td>-121.005833</td>\n",
              "      <td>CA</td>\n",
              "      <td>2453403.5</td>\n",
              "      <td>0.10</td>\n",
              "      <td>2005-02-02</td>\n",
              "      <td>2</td>\n",
              "      <td>2</td>\n",
              "    </tr>\n",
              "    <tr>\n",
              "      <th>1</th>\n",
              "      <td>2004</td>\n",
              "      <td>1.0</td>\n",
              "      <td>Lightning</td>\n",
              "      <td>38.933056</td>\n",
              "      <td>-120.404444</td>\n",
              "      <td>CA</td>\n",
              "      <td>2453137.5</td>\n",
              "      <td>0.25</td>\n",
              "      <td>2004-05-12</td>\n",
              "      <td>5</td>\n",
              "      <td>2</td>\n",
              "    </tr>\n",
              "    <tr>\n",
              "      <th>2</th>\n",
              "      <td>2004</td>\n",
              "      <td>5.0</td>\n",
              "      <td>Debris Burning</td>\n",
              "      <td>38.984167</td>\n",
              "      <td>-120.735556</td>\n",
              "      <td>CA</td>\n",
              "      <td>2453156.5</td>\n",
              "      <td>0.10</td>\n",
              "      <td>2004-05-31</td>\n",
              "      <td>5</td>\n",
              "      <td>0</td>\n",
              "    </tr>\n",
              "    <tr>\n",
              "      <th>3</th>\n",
              "      <td>2004</td>\n",
              "      <td>1.0</td>\n",
              "      <td>Lightning</td>\n",
              "      <td>38.559167</td>\n",
              "      <td>-119.913333</td>\n",
              "      <td>CA</td>\n",
              "      <td>2453184.5</td>\n",
              "      <td>0.10</td>\n",
              "      <td>2004-06-28</td>\n",
              "      <td>6</td>\n",
              "      <td>0</td>\n",
              "    </tr>\n",
              "    <tr>\n",
              "      <th>4</th>\n",
              "      <td>2004</td>\n",
              "      <td>1.0</td>\n",
              "      <td>Lightning</td>\n",
              "      <td>38.559167</td>\n",
              "      <td>-119.933056</td>\n",
              "      <td>CA</td>\n",
              "      <td>2453184.5</td>\n",
              "      <td>0.10</td>\n",
              "      <td>2004-06-28</td>\n",
              "      <td>6</td>\n",
              "      <td>0</td>\n",
              "    </tr>\n",
              "  </tbody>\n",
              "</table>\n",
              "</div>"
            ],
            "text/plain": [
              "   FIRE_YEAR  STAT_CAUSE_CODE STAT_CAUSE_DESCR  ...       DATE  MONTH DAY_OF_WEEK\n",
              "0       2005              9.0    Miscellaneous  ... 2005-02-02      2           2\n",
              "1       2004              1.0        Lightning  ... 2004-05-12      5           2\n",
              "2       2004              5.0   Debris Burning  ... 2004-05-31      5           0\n",
              "3       2004              1.0        Lightning  ... 2004-06-28      6           0\n",
              "4       2004              1.0        Lightning  ... 2004-06-28      6           0\n",
              "\n",
              "[5 rows x 11 columns]"
            ]
          },
          "metadata": {
            "tags": []
          },
          "execution_count": 14
        }
      ]
    },
    {
      "cell_type": "markdown",
      "metadata": {
        "id": "QcTefkn118DG",
        "colab_type": "text"
      },
      "source": [
        "Day_OF_Week with Monday=0, Sunday=6."
      ]
    },
    {
      "cell_type": "code",
      "metadata": {
        "id": "DQEUP6U6sfSB",
        "colab_type": "code",
        "colab": {}
      },
      "source": [
        "df_orig=df[['FIRE_YEAR', 'STAT_CAUSE_DESCR', 'LATITUDE',\t'LONGITUDE',\t'STATE', 'DISCOVERY_DATE', 'FIRE_SIZE',\t'MONTH', 'DAY_OF_WEEK']]"
      ],
      "execution_count": 0,
      "outputs": []
    },
    {
      "cell_type": "markdown",
      "metadata": {
        "id": "88Q3H1BF2r9O",
        "colab_type": "text"
      },
      "source": [
        "##**Exploratory data analysis**"
      ]
    },
    {
      "cell_type": "markdown",
      "metadata": {
        "id": "qJzb0Tpb3vci",
        "colab_type": "text"
      },
      "source": [
        "Doing some exploratory data analysis to see how the features are correlated, what are relevant features for our prediction and if any hidden information we can get to facilitate our prediction."
      ]
    },
    {
      "cell_type": "code",
      "metadata": {
        "id": "1LNFVbQX2xoZ",
        "colab_type": "code",
        "outputId": "6b625d3c-eec3-4995-bffc-4b4485c2386b",
        "colab": {
          "base_uri": "https://localhost:8080/",
          "height": 347
        }
      },
      "source": [
        "df['STAT_CAUSE_DESCR'].value_counts().plot(kind='barh',color='coral')\n",
        "plt.show()"
      ],
      "execution_count": 16,
      "outputs": [
        {
          "output_type": "display_data",
          "data": {
            "image/png": "[encoded data removed]",
            "text/plain": [
              "<Figure size 576x396 with 1 Axes>"
            ]
          },
          "metadata": {
            "tags": []
          }
        }
      ]
    },
    {
      "cell_type": "markdown",
      "metadata": {
        "id": "3a6-EPAh4gOx",
        "colab_type": "text"
      },
      "source": [
        "Our dataset has around 13 causes which are too many classes. May be we will try to club these causes to reduce the number of classes and see if this improves our model accuracy."
      ]
    },
    {
      "cell_type": "code",
      "metadata": {
        "id": "m4CSiUyf5aXW",
        "colab_type": "code",
        "outputId": "44e21736-01fc-40e8-9980-836da3518465",
        "colab": {
          "base_uri": "https://localhost:8080/",
          "height": 347
        }
      },
      "source": [
        "df['DAY_OF_WEEK'].value_counts().plot(kind='barh',color='coral')\n",
        "plt.show()"
      ],
      "execution_count": 17,
      "outputs": [
        {
          "output_type": "display_data",
          "data": {
            "image/png": "[encoded data removed]",
            "text/plain": [
              "<Figure size 576x396 with 1 Axes>"
            ]
          },
          "metadata": {
            "tags": []
          }
        }
      ]
    },
    {
      "cell_type": "markdown",
      "metadata": {
        "id": "s1mBznAc9NXt",
        "colab_type": "text"
      },
      "source": [
        "The above graph shows that on weekends (5&6) the fires discovered are slightly more. We are assuming that is because of the people being careless on weekends with campfires or smoking or probably because of some malicious intent. Now, we would like to see how fires are distributed across the weekdays because of the natural causes such as lightning."
      ]
    },
    {
      "cell_type": "code",
      "metadata": {
        "id": "D8CowBjF_WrI",
        "colab_type": "code",
        "outputId": "ab7e6beb-ee03-414e-8a4f-8e2bad4cb1e3",
        "colab": {
          "base_uri": "https://localhost:8080/",
          "height": 347
        }
      },
      "source": [
        "df_lightning = df[df['STAT_CAUSE_DESCR']=='Lightning']\n",
        "df_lightning['DAY_OF_WEEK'].value_counts().plot(kind='barh',color='coral')\n",
        "plt.show()"
      ],
      "execution_count": 18,
      "outputs": [
        {
          "output_type": "display_data",
          "data": {
            "image/png": "[encoded data removed]",
            "text/plain": [
              "<Figure size 576x396 with 1 Axes>"
            ]
          },
          "metadata": {
            "tags": []
          }
        }
      ]
    },
    {
      "cell_type": "markdown",
      "metadata": {
        "id": "2EoeER3x_oG0",
        "colab_type": "text"
      },
      "source": [
        "As we can see the fires are more on weekdays now and lowered on weekends. I am imagining if the increase on weekends is due to malicious fires such as - Arson. So now we will check the fire distribution on weekdays because of Arson."
      ]
    },
    {
      "cell_type": "code",
      "metadata": {
        "id": "XfLQbeUJA96c",
        "colab_type": "code",
        "outputId": "40c54b76-e72a-4867-d139-c0db149439cf",
        "colab": {
          "base_uri": "https://localhost:8080/",
          "height": 347
        }
      },
      "source": [
        "df_arson = df[df['STAT_CAUSE_DESCR']=='Arson']\n",
        "df_arson['DAY_OF_WEEK'].value_counts().plot(kind='barh',color='coral')\n",
        "plt.show()"
      ],
      "execution_count": 19,
      "outputs": [
        {
          "output_type": "display_data",
          "data": {
            "image/png": "[encoded data removed]",
            "text/plain": [
              "<Figure size 576x396 with 1 Axes>"
            ]
          },
          "metadata": {
            "tags": []
          }
        }
      ]
    },
    {
      "cell_type": "markdown",
      "metadata": {
        "id": "QkRHxqyUA9gP",
        "colab_type": "text"
      },
      "source": [
        "The above graph makes it significant that the increase in fire on weekends is because of Arson. We can see probably a 30% increase on weekends than the average of weekdays.\n",
        "\n",
        "This also proves that Day_Of_Week is an important feature to be kept in our feature set."
      ]
    },
    {
      "cell_type": "markdown",
      "metadata": {
        "id": "2g3Kt8A1p4rl",
        "colab_type": "text"
      },
      "source": [
        "###**Performing K-Means Clustering as part of EDA**"
      ]
    },
    {
      "cell_type": "markdown",
      "metadata": {
        "id": "OVP9ctxRqqQS",
        "colab_type": "text"
      },
      "source": [
        "We tried clustering based on some selected features to see if we can gain any other insights from our dataset."
      ]
    },
    {
      "cell_type": "code",
      "metadata": {
        "id": "BRb5XHaEp35D",
        "colab_type": "code",
        "colab": {}
      },
      "source": [
        "#K-means clustering on fire cause and fire size\n",
        "data = df[['FIRE_SIZE','STAT_CAUSE_CODE']]"
      ],
      "execution_count": 0,
      "outputs": []
    },
    {
      "cell_type": "markdown",
      "metadata": {
        "id": "rfStOCJRyPWe",
        "colab_type": "text"
      },
      "source": [
        "####**Using Elbow method to find optimal k**"
      ]
    },
    {
      "cell_type": "code",
      "metadata": {
        "id": "l_5gFmROoQvm",
        "colab_type": "code",
        "colab": {}
      },
      "source": [
        "Sum_of_squared_distances = []\n",
        "K = range(1,10)\n",
        "for k in K:\n",
        "    km = KMeans(n_clusters=k)\n",
        "    km = km.fit(data)\n",
        "    Sum_of_squared_distances.append(km.inertia_)"
      ],
      "execution_count": 0,
      "outputs": []
    },
    {
      "cell_type": "code",
      "metadata": {
        "id": "h-sFpX2hyFXE",
        "colab_type": "code",
        "colab": {
          "base_uri": "https://localhost:8080/",
          "height": 376
        },
        "outputId": "530d30ea-72fc-44a8-98d5-0bd6b026ff26"
      },
      "source": [
        "plt.plot(K, Sum_of_squared_distances, 'bx-')\n",
        "plt.xlabel('k')\n",
        "plt.ylabel('Sum_of_squared_distances')\n",
        "plt.title('Elbow Method For Optimal k')\n",
        "plt.show()"
      ],
      "execution_count": 22,
      "outputs": [
        {
          "output_type": "display_data",
          "data": {
            "image/png": "[encoded data removed]",
            "text/plain": [
              "<Figure size 576x396 with 1 Axes>"
            ]
          },
          "metadata": {
            "tags": []
          }
        }
      ]
    },
    {
      "cell_type": "markdown",
      "metadata": {
        "id": "JknjdGply9w5",
        "colab_type": "text"
      },
      "source": [
        "We got optimal k as 3."
      ]
    },
    {
      "cell_type": "markdown",
      "metadata": {
        "id": "MR_Pf_Wj9YSp",
        "colab_type": "text"
      },
      "source": [
        "####**Silhouette score analysis**"
      ]
    },
    {
      "cell_type": "code",
      "metadata": {
        "id": "BcxLgCzR4QtS",
        "colab_type": "code",
        "colab": {}
      },
      "source": [
        "# from yellowbrick.cluster import KElbowVisualizer\n",
        "# model = KMeans(random_state=0)\n",
        "# visualizer = KElbowVisualizer(model, k=(3,20), metric='silhouette', timings=False)\n",
        "\n",
        "# visualizer.fit(data)    \n",
        "# visualizer.poof() "
      ],
      "execution_count": 0,
      "outputs": []
    },
    {
      "cell_type": "markdown",
      "metadata": {
        "id": "3WaJcsHD9nRw",
        "colab_type": "text"
      },
      "source": [
        "From Silhouette score analysis we got that 3 clusters are optimal. Silhoutte score = 0.86"
      ]
    },
    {
      "cell_type": "code",
      "metadata": {
        "id": "73Gl7d1Y-SiT",
        "colab_type": "code",
        "colab": {}
      },
      "source": [
        "#Applying K-means for optimal k=3\n",
        "kmeans = KMeans(n_clusters=3)\n",
        "y = kmeans.fit_predict(data)"
      ],
      "execution_count": 0,
      "outputs": []
    },
    {
      "cell_type": "code",
      "metadata": {
        "id": "vTbsZ0aaBoAS",
        "colab_type": "code",
        "outputId": "8808aae8-9169-4e04-9a9f-c8b1e7a76f53",
        "colab": {
          "base_uri": "https://localhost:8080/",
          "height": 292
        }
      },
      "source": [
        "#Adding cluster column to dataset for further analysis\n",
        "df['cluster'] = y\n",
        "df.head()"
      ],
      "execution_count": 25,
      "outputs": [
        {
          "output_type": "execute_result",
          "data": {
            "text/html": [
              "<div>\n",
              "<style scoped>\n",
              "    .dataframe tbody tr th:only-of-type {\n",
              "        vertical-align: middle;\n",
              "    }\n",
              "\n",
              "    .dataframe tbody tr th {\n",
              "        vertical-align: top;\n",
              "    }\n",
              "\n",
              "    .dataframe thead th {\n",
              "        text-align: right;\n",
              "    }\n",
              "</style>\n",
              "<table border=\"1\" class=\"dataframe\">\n",
              "  <thead>\n",
              "    <tr style=\"text-align: right;\">\n",
              "      <th></th>\n",
              "      <th>FIRE_YEAR</th>\n",
              "      <th>STAT_CAUSE_CODE</th>\n",
              "      <th>STAT_CAUSE_DESCR</th>\n",
              "      <th>LATITUDE</th>\n",
              "      <th>LONGITUDE</th>\n",
              "      <th>STATE</th>\n",
              "      <th>DISCOVERY_DATE</th>\n",
              "      <th>FIRE_SIZE</th>\n",
              "      <th>DATE</th>\n",
              "      <th>MONTH</th>\n",
              "      <th>DAY_OF_WEEK</th>\n",
              "      <th>cluster</th>\n",
              "    </tr>\n",
              "  </thead>\n",
              "  <tbody>\n",
              "    <tr>\n",
              "      <th>0</th>\n",
              "      <td>2005</td>\n",
              "      <td>9.0</td>\n",
              "      <td>Miscellaneous</td>\n",
              "      <td>40.036944</td>\n",
              "      <td>-121.005833</td>\n",
              "      <td>CA</td>\n",
              "      <td>2453403.5</td>\n",
              "      <td>0.10</td>\n",
              "      <td>2005-02-02</td>\n",
              "      <td>2</td>\n",
              "      <td>2</td>\n",
              "      <td>0</td>\n",
              "    </tr>\n",
              "    <tr>\n",
              "      <th>1</th>\n",
              "      <td>2004</td>\n",
              "      <td>1.0</td>\n",
              "      <td>Lightning</td>\n",
              "      <td>38.933056</td>\n",
              "      <td>-120.404444</td>\n",
              "      <td>CA</td>\n",
              "      <td>2453137.5</td>\n",
              "      <td>0.25</td>\n",
              "      <td>2004-05-12</td>\n",
              "      <td>5</td>\n",
              "      <td>2</td>\n",
              "      <td>0</td>\n",
              "    </tr>\n",
              "    <tr>\n",
              "      <th>2</th>\n",
              "      <td>2004</td>\n",
              "      <td>5.0</td>\n",
              "      <td>Debris Burning</td>\n",
              "      <td>38.984167</td>\n",
              "      <td>-120.735556</td>\n",
              "      <td>CA</td>\n",
              "      <td>2453156.5</td>\n",
              "      <td>0.10</td>\n",
              "      <td>2004-05-31</td>\n",
              "      <td>5</td>\n",
              "      <td>0</td>\n",
              "      <td>0</td>\n",
              "    </tr>\n",
              "    <tr>\n",
              "      <th>3</th>\n",
              "      <td>2004</td>\n",
              "      <td>1.0</td>\n",
              "      <td>Lightning</td>\n",
              "      <td>38.559167</td>\n",
              "      <td>-119.913333</td>\n",
              "      <td>CA</td>\n",
              "      <td>2453184.5</td>\n",
              "      <td>0.10</td>\n",
              "      <td>2004-06-28</td>\n",
              "      <td>6</td>\n",
              "      <td>0</td>\n",
              "      <td>0</td>\n",
              "    </tr>\n",
              "    <tr>\n",
              "      <th>4</th>\n",
              "      <td>2004</td>\n",
              "      <td>1.0</td>\n",
              "      <td>Lightning</td>\n",
              "      <td>38.559167</td>\n",
              "      <td>-119.933056</td>\n",
              "      <td>CA</td>\n",
              "      <td>2453184.5</td>\n",
              "      <td>0.10</td>\n",
              "      <td>2004-06-28</td>\n",
              "      <td>6</td>\n",
              "      <td>0</td>\n",
              "      <td>0</td>\n",
              "    </tr>\n",
              "  </tbody>\n",
              "</table>\n",
              "</div>"
            ],
            "text/plain": [
              "   FIRE_YEAR  STAT_CAUSE_CODE STAT_CAUSE_DESCR  ...  MONTH  DAY_OF_WEEK cluster\n",
              "0       2005              9.0    Miscellaneous  ...      2            2       0\n",
              "1       2004              1.0        Lightning  ...      5            2       0\n",
              "2       2004              5.0   Debris Burning  ...      5            0       0\n",
              "3       2004              1.0        Lightning  ...      6            0       0\n",
              "4       2004              1.0        Lightning  ...      6            0       0\n",
              "\n",
              "[5 rows x 12 columns]"
            ]
          },
          "metadata": {
            "tags": []
          },
          "execution_count": 25
        }
      ]
    },
    {
      "cell_type": "code",
      "metadata": {
        "id": "IkArQu8EASHX",
        "colab_type": "code",
        "outputId": "a74ff358-28b2-413d-bfc8-91037191253f",
        "colab": {
          "base_uri": "https://localhost:8080/",
          "height": 732
        }
      },
      "source": [
        "#Plotting the clusters obtained\n",
        "plt.figure(1,figsize=(15,15))\n",
        "plt.scatter(df.FIRE_SIZE, df.STAT_CAUSE_CODE, c=kmeans.labels_, cmap='rainbow')\n",
        "plt.scatter(kmeans.cluster_centers_[:,0] ,kmeans.cluster_centers_[:,1], color='black')"
      ],
      "execution_count": 26,
      "outputs": [
        {
          "output_type": "execute_result",
          "data": {
            "text/plain": [
              "<matplotlib.collections.PathCollection at 0x7f0af1abdf98>"
            ]
          },
          "metadata": {
            "tags": []
          },
          "execution_count": 26
        },
        {
          "output_type": "display_data",
          "data": {
            "image/png": "[encoded data removed]",
            "text/plain": [
              "<Figure size 1080x1080 with 1 Axes>"
            ]
          },
          "metadata": {
            "tags": []
          }
        }
      ]
    },
    {
      "cell_type": "markdown",
      "metadata": {
        "id": "MF5MEh6yCDX-",
        "colab_type": "text"
      },
      "source": [
        "As we can see, the above clusters didn't obtain any meaningful information."
      ]
    },
    {
      "cell_type": "markdown",
      "metadata": {
        "id": "7ktO7ZSXCVUm",
        "colab_type": "text"
      },
      "source": [
        "**Performing k-means clustering on latitude and longitude to see the geagraphical coverage of the data**"
      ]
    },
    {
      "cell_type": "code",
      "metadata": {
        "id": "kSFlK4w_Da4l",
        "colab_type": "code",
        "outputId": "9618719b-c77d-4523-c8e0-5f221202e419",
        "colab": {
          "base_uri": "https://localhost:8080/",
          "height": 366
        }
      },
      "source": [
        "kmeans1 = KMeans(n_clusters=4,random_state=0).fit(df[['LATITUDE','LONGITUDE']])\n",
        "y_means1 = kmeans1.predict(df[['LATITUDE','LONGITUDE']])\n",
        "plt.scatter(df['LATITUDE'],df['LONGITUDE'], c=y_means1, s=50, cmap='viridis')"
      ],
      "execution_count": 27,
      "outputs": [
        {
          "output_type": "execute_result",
          "data": {
            "text/plain": [
              "<matplotlib.collections.PathCollection at 0x7f0aef1aee10>"
            ]
          },
          "metadata": {
            "tags": []
          },
          "execution_count": 27
        },
        {
          "output_type": "display_data",
          "data": {
            "image/png": "[encoded data removed]",
            "text/plain": [
              "<Figure size 576x396 with 1 Axes>"
            ]
          },
          "metadata": {
            "tags": []
          }
        }
      ]
    },
    {
      "cell_type": "markdown",
      "metadata": {
        "id": "q36zn4_4EnIa",
        "colab_type": "text"
      },
      "source": [
        "The above plot clearly shows the map of United States and most of the fires have occurred in longitutes between -100 and -120 which is majorly California region."
      ]
    },
    {
      "cell_type": "markdown",
      "metadata": {
        "id": "qcjg2P_MFki2",
        "colab_type": "text"
      },
      "source": [
        "###**Correlation matrix**\n",
        "\n",
        "Plotting correlation matrix to get a better understanding of how the features are correlated."
      ]
    },
    {
      "cell_type": "code",
      "metadata": {
        "id": "jtsdqQZNGeeA",
        "colab_type": "code",
        "outputId": "3808e780-311a-45d7-9c6b-e90947d1b8b5",
        "colab": {
          "base_uri": "https://localhost:8080/",
          "height": 292
        }
      },
      "source": [
        "#First converting all features to numeric\n",
        "le = preprocessing.LabelEncoder()\n",
        "df['STAT_CAUSE_DESCR'] = le.fit_transform(df['STAT_CAUSE_DESCR'])\n",
        "df['STATE'] = le.fit_transform(df['STATE'])\n",
        "df = df.drop(['cluster'], axis=1)\n",
        "df.head()"
      ],
      "execution_count": 28,
      "outputs": [
        {
          "output_type": "execute_result",
          "data": {
            "text/html": [
              "<div>\n",
              "<style scoped>\n",
              "    .dataframe tbody tr th:only-of-type {\n",
              "        vertical-align: middle;\n",
              "    }\n",
              "\n",
              "    .dataframe tbody tr th {\n",
              "        vertical-align: top;\n",
              "    }\n",
              "\n",
              "    .dataframe thead th {\n",
              "        text-align: right;\n",
              "    }\n",
              "</style>\n",
              "<table border=\"1\" class=\"dataframe\">\n",
              "  <thead>\n",
              "    <tr style=\"text-align: right;\">\n",
              "      <th></th>\n",
              "      <th>FIRE_YEAR</th>\n",
              "      <th>STAT_CAUSE_CODE</th>\n",
              "      <th>STAT_CAUSE_DESCR</th>\n",
              "      <th>LATITUDE</th>\n",
              "      <th>LONGITUDE</th>\n",
              "      <th>STATE</th>\n",
              "      <th>DISCOVERY_DATE</th>\n",
              "      <th>FIRE_SIZE</th>\n",
              "      <th>DATE</th>\n",
              "      <th>MONTH</th>\n",
              "      <th>DAY_OF_WEEK</th>\n",
              "    </tr>\n",
              "  </thead>\n",
              "  <tbody>\n",
              "    <tr>\n",
              "      <th>0</th>\n",
              "      <td>2005</td>\n",
              "      <td>9.0</td>\n",
              "      <td>7</td>\n",
              "      <td>40.036944</td>\n",
              "      <td>-121.005833</td>\n",
              "      <td>4</td>\n",
              "      <td>2453403.5</td>\n",
              "      <td>0.10</td>\n",
              "      <td>2005-02-02</td>\n",
              "      <td>2</td>\n",
              "      <td>2</td>\n",
              "    </tr>\n",
              "    <tr>\n",
              "      <th>1</th>\n",
              "      <td>2004</td>\n",
              "      <td>1.0</td>\n",
              "      <td>6</td>\n",
              "      <td>38.933056</td>\n",
              "      <td>-120.404444</td>\n",
              "      <td>4</td>\n",
              "      <td>2453137.5</td>\n",
              "      <td>0.25</td>\n",
              "      <td>2004-05-12</td>\n",
              "      <td>5</td>\n",
              "      <td>2</td>\n",
              "    </tr>\n",
              "    <tr>\n",
              "      <th>2</th>\n",
              "      <td>2004</td>\n",
              "      <td>5.0</td>\n",
              "      <td>3</td>\n",
              "      <td>38.984167</td>\n",
              "      <td>-120.735556</td>\n",
              "      <td>4</td>\n",
              "      <td>2453156.5</td>\n",
              "      <td>0.10</td>\n",
              "      <td>2004-05-31</td>\n",
              "      <td>5</td>\n",
              "      <td>0</td>\n",
              "    </tr>\n",
              "    <tr>\n",
              "      <th>3</th>\n",
              "      <td>2004</td>\n",
              "      <td>1.0</td>\n",
              "      <td>6</td>\n",
              "      <td>38.559167</td>\n",
              "      <td>-119.913333</td>\n",
              "      <td>4</td>\n",
              "      <td>2453184.5</td>\n",
              "      <td>0.10</td>\n",
              "      <td>2004-06-28</td>\n",
              "      <td>6</td>\n",
              "      <td>0</td>\n",
              "    </tr>\n",
              "    <tr>\n",
              "      <th>4</th>\n",
              "      <td>2004</td>\n",
              "      <td>1.0</td>\n",
              "      <td>6</td>\n",
              "      <td>38.559167</td>\n",
              "      <td>-119.933056</td>\n",
              "      <td>4</td>\n",
              "      <td>2453184.5</td>\n",
              "      <td>0.10</td>\n",
              "      <td>2004-06-28</td>\n",
              "      <td>6</td>\n",
              "      <td>0</td>\n",
              "    </tr>\n",
              "  </tbody>\n",
              "</table>\n",
              "</div>"
            ],
            "text/plain": [
              "   FIRE_YEAR  STAT_CAUSE_CODE  STAT_CAUSE_DESCR  ...       DATE  MONTH  DAY_OF_WEEK\n",
              "0       2005              9.0                 7  ... 2005-02-02      2            2\n",
              "1       2004              1.0                 6  ... 2004-05-12      5            2\n",
              "2       2004              5.0                 3  ... 2004-05-31      5            0\n",
              "3       2004              1.0                 6  ... 2004-06-28      6            0\n",
              "4       2004              1.0                 6  ... 2004-06-28      6            0\n",
              "\n",
              "[5 rows x 11 columns]"
            ]
          },
          "metadata": {
            "tags": []
          },
          "execution_count": 28
        }
      ]
    },
    {
      "cell_type": "code",
      "metadata": {
        "id": "lMHopFwvLkwK",
        "colab_type": "code",
        "outputId": "36168feb-5858-42cb-e3b9-f23a614a5529",
        "colab": {
          "base_uri": "https://localhost:8080/",
          "height": 662
        }
      },
      "source": [
        "def plot_corr(df,size=10):\n",
        "    corr = df.corr()  #the default method is pearson\n",
        "    fig, ax = plt.subplots(figsize=(size, size))\n",
        "    ax.matshow(corr,cmap=plt.cm.Oranges)\n",
        "    plt.xticks(range(len(corr.columns)), corr.columns)\n",
        "    plt.yticks(range(len(corr.columns)), corr.columns)\n",
        "    for tick in ax.get_xticklabels():\n",
        "        tick.set_rotation(45)    \n",
        "    plt.show()\n",
        "    \n",
        "\n",
        "    \n",
        "plot_corr(df)"
      ],
      "execution_count": 29,
      "outputs": [
        {
          "output_type": "display_data",
          "data": {
            "image/png": "[encoded data removed]",
            "text/plain": [
              "<Figure size 720x720 with 1 Axes>"
            ]
          },
          "metadata": {
            "tags": []
          }
        }
      ]
    },
    {
      "cell_type": "markdown",
      "metadata": {
        "id": "Iy08PFRMMFCR",
        "colab_type": "text"
      },
      "source": [
        "In the above plot darker shades means strong correlation wheras white shade means no correlation. We can see that month is strongly correlated to latitude wheras weakly correlated to longitide."
      ]
    },
    {
      "cell_type": "markdown",
      "metadata": {
        "id": "sp9ZmTNaRQkW",
        "colab_type": "text"
      },
      "source": [
        "##**Preparing data for Machine learning**"
      ]
    },
    {
      "cell_type": "code",
      "metadata": {
        "id": "JUtJi2U5RQK8",
        "colab_type": "code",
        "colab": {}
      },
      "source": [
        "df = df.drop('DATE',axis=1)\n",
        "df = df.drop('STAT_CAUSE_CODE', axis=1)\n",
        "df = df.dropna()"
      ],
      "execution_count": 0,
      "outputs": []
    },
    {
      "cell_type": "code",
      "metadata": {
        "id": "Jiu609WJ58T4",
        "colab_type": "code",
        "outputId": "2208b2ef-a087-4783-fabd-7e31ecd8e440",
        "colab": {
          "base_uri": "https://localhost:8080/",
          "height": 411
        }
      },
      "source": [
        "df"
      ],
      "execution_count": 31,
      "outputs": [
        {
          "output_type": "execute_result",
          "data": {
            "text/html": [
              "<div>\n",
              "<style scoped>\n",
              "    .dataframe tbody tr th:only-of-type {\n",
              "        vertical-align: middle;\n",
              "    }\n",
              "\n",
              "    .dataframe tbody tr th {\n",
              "        vertical-align: top;\n",
              "    }\n",
              "\n",
              "    .dataframe thead th {\n",
              "        text-align: right;\n",
              "    }\n",
              "</style>\n",
              "<table border=\"1\" class=\"dataframe\">\n",
              "  <thead>\n",
              "    <tr style=\"text-align: right;\">\n",
              "      <th></th>\n",
              "      <th>FIRE_YEAR</th>\n",
              "      <th>STAT_CAUSE_DESCR</th>\n",
              "      <th>LATITUDE</th>\n",
              "      <th>LONGITUDE</th>\n",
              "      <th>STATE</th>\n",
              "      <th>DISCOVERY_DATE</th>\n",
              "      <th>FIRE_SIZE</th>\n",
              "      <th>MONTH</th>\n",
              "      <th>DAY_OF_WEEK</th>\n",
              "    </tr>\n",
              "  </thead>\n",
              "  <tbody>\n",
              "    <tr>\n",
              "      <th>0</th>\n",
              "      <td>2005</td>\n",
              "      <td>7</td>\n",
              "      <td>40.036944</td>\n",
              "      <td>-121.005833</td>\n",
              "      <td>4</td>\n",
              "      <td>2453403.5</td>\n",
              "      <td>0.10</td>\n",
              "      <td>2</td>\n",
              "      <td>2</td>\n",
              "    </tr>\n",
              "    <tr>\n",
              "      <th>1</th>\n",
              "      <td>2004</td>\n",
              "      <td>6</td>\n",
              "      <td>38.933056</td>\n",
              "      <td>-120.404444</td>\n",
              "      <td>4</td>\n",
              "      <td>2453137.5</td>\n",
              "      <td>0.25</td>\n",
              "      <td>5</td>\n",
              "      <td>2</td>\n",
              "    </tr>\n",
              "    <tr>\n",
              "      <th>2</th>\n",
              "      <td>2004</td>\n",
              "      <td>3</td>\n",
              "      <td>38.984167</td>\n",
              "      <td>-120.735556</td>\n",
              "      <td>4</td>\n",
              "      <td>2453156.5</td>\n",
              "      <td>0.10</td>\n",
              "      <td>5</td>\n",
              "      <td>0</td>\n",
              "    </tr>\n",
              "    <tr>\n",
              "      <th>3</th>\n",
              "      <td>2004</td>\n",
              "      <td>6</td>\n",
              "      <td>38.559167</td>\n",
              "      <td>-119.913333</td>\n",
              "      <td>4</td>\n",
              "      <td>2453184.5</td>\n",
              "      <td>0.10</td>\n",
              "      <td>6</td>\n",
              "      <td>0</td>\n",
              "    </tr>\n",
              "    <tr>\n",
              "      <th>4</th>\n",
              "      <td>2004</td>\n",
              "      <td>6</td>\n",
              "      <td>38.559167</td>\n",
              "      <td>-119.933056</td>\n",
              "      <td>4</td>\n",
              "      <td>2453184.5</td>\n",
              "      <td>0.10</td>\n",
              "      <td>6</td>\n",
              "      <td>0</td>\n",
              "    </tr>\n",
              "    <tr>\n",
              "      <th>...</th>\n",
              "      <td>...</td>\n",
              "      <td>...</td>\n",
              "      <td>...</td>\n",
              "      <td>...</td>\n",
              "      <td>...</td>\n",
              "      <td>...</td>\n",
              "      <td>...</td>\n",
              "      <td>...</td>\n",
              "      <td>...</td>\n",
              "    </tr>\n",
              "    <tr>\n",
              "      <th>1880460</th>\n",
              "      <td>2015</td>\n",
              "      <td>8</td>\n",
              "      <td>40.481637</td>\n",
              "      <td>-122.389375</td>\n",
              "      <td>4</td>\n",
              "      <td>2457291.5</td>\n",
              "      <td>0.01</td>\n",
              "      <td>9</td>\n",
              "      <td>5</td>\n",
              "    </tr>\n",
              "    <tr>\n",
              "      <th>1880461</th>\n",
              "      <td>2015</td>\n",
              "      <td>7</td>\n",
              "      <td>37.617619</td>\n",
              "      <td>-120.938570</td>\n",
              "      <td>4</td>\n",
              "      <td>2457300.5</td>\n",
              "      <td>0.20</td>\n",
              "      <td>10</td>\n",
              "      <td>0</td>\n",
              "    </tr>\n",
              "    <tr>\n",
              "      <th>1880462</th>\n",
              "      <td>2015</td>\n",
              "      <td>8</td>\n",
              "      <td>37.617619</td>\n",
              "      <td>-120.938570</td>\n",
              "      <td>4</td>\n",
              "      <td>2457144.5</td>\n",
              "      <td>0.10</td>\n",
              "      <td>5</td>\n",
              "      <td>5</td>\n",
              "    </tr>\n",
              "    <tr>\n",
              "      <th>1880463</th>\n",
              "      <td>2015</td>\n",
              "      <td>8</td>\n",
              "      <td>37.672235</td>\n",
              "      <td>-120.898356</td>\n",
              "      <td>4</td>\n",
              "      <td>2457309.5</td>\n",
              "      <td>2.00</td>\n",
              "      <td>10</td>\n",
              "      <td>2</td>\n",
              "    </tr>\n",
              "    <tr>\n",
              "      <th>1880464</th>\n",
              "      <td>2015</td>\n",
              "      <td>7</td>\n",
              "      <td>34.263217</td>\n",
              "      <td>-116.830950</td>\n",
              "      <td>4</td>\n",
              "      <td>2457095.5</td>\n",
              "      <td>0.10</td>\n",
              "      <td>3</td>\n",
              "      <td>5</td>\n",
              "    </tr>\n",
              "  </tbody>\n",
              "</table>\n",
              "<p>1880465 rows × 9 columns</p>\n",
              "</div>"
            ],
            "text/plain": [
              "         FIRE_YEAR  STAT_CAUSE_DESCR   LATITUDE  ...  FIRE_SIZE  MONTH  DAY_OF_WEEK\n",
              "0             2005                 7  40.036944  ...       0.10      2            2\n",
              "1             2004                 6  38.933056  ...       0.25      5            2\n",
              "2             2004                 3  38.984167  ...       0.10      5            0\n",
              "3             2004                 6  38.559167  ...       0.10      6            0\n",
              "4             2004                 6  38.559167  ...       0.10      6            0\n",
              "...            ...               ...        ...  ...        ...    ...          ...\n",
              "1880460       2015                 8  40.481637  ...       0.01      9            5\n",
              "1880461       2015                 7  37.617619  ...       0.20     10            0\n",
              "1880462       2015                 8  37.617619  ...       0.10      5            5\n",
              "1880463       2015                 8  37.672235  ...       2.00     10            2\n",
              "1880464       2015                 7  34.263217  ...       0.10      3            5\n",
              "\n",
              "[1880465 rows x 9 columns]"
            ]
          },
          "metadata": {
            "tags": []
          },
          "execution_count": 31
        }
      ]
    },
    {
      "cell_type": "code",
      "metadata": {
        "id": "z-LurgnLWKN2",
        "colab_type": "code",
        "colab": {}
      },
      "source": [
        "X = df.drop(['STAT_CAUSE_DESCR'], axis=1).values\n",
        "y = df['STAT_CAUSE_DESCR'].values"
      ],
      "execution_count": 0,
      "outputs": []
    },
    {
      "cell_type": "code",
      "metadata": {
        "id": "WfrmO8ekWQcQ",
        "colab_type": "code",
        "colab": {}
      },
      "source": [
        "import sklearn.ensemble as ske\n",
        "from sklearn.model_selection import train_test_split\n",
        "X_train, X_test, y_train, y_test = train_test_split(X,y,test_size=0.3, random_state=0) #30% for testing, 70% for training"
      ],
      "execution_count": 0,
      "outputs": []
    },
    {
      "cell_type": "markdown",
      "metadata": {
        "id": "f51CZYiFrNuD",
        "colab_type": "text"
      },
      "source": [
        "####**Applying Random Forest Classifier on base dataset with 13 classes in target variable**"
      ]
    },
    {
      "cell_type": "code",
      "metadata": {
        "id": "a-pdnPOHWeMT",
        "colab_type": "code",
        "outputId": "1482bb15-358c-45da-88b2-68ee5f2eb35f",
        "colab": {
          "base_uri": "https://localhost:8080/",
          "height": 33
        }
      },
      "source": [
        "clf_rf = ske.RandomForestClassifier()\n",
        "clf_rf = clf_rf.fit(X_train, y_train)\n",
        "print(clf_rf.score(X_test,y_test))"
      ],
      "execution_count": 34,
      "outputs": [
        {
          "output_type": "stream",
          "text": [
            "0.5833658311766583\n"
          ],
          "name": "stdout"
        }
      ]
    },
    {
      "cell_type": "code",
      "metadata": {
        "id": "doKGgUVf6ako",
        "colab_type": "code",
        "outputId": "57525279-8f8c-4dd5-e678-163898863747",
        "colab": {
          "base_uri": "https://localhost:8080/",
          "height": 833
        }
      },
      "source": [
        "lr = LogisticRegression(solver='lbfgs').fit(X_train, y_train)\n",
        "y_pred = lr.predict(X_test)\n",
        "log = accuracy_score(y_test,y_pred)*100\n",
        "print(\"Confusion Matrix: \",confusion_matrix(y_test, y_pred)) \n",
        "print (\"Accuracy : \",log) \n",
        "print(\"Report : \",classification_report(y_test, y_pred))"
      ],
      "execution_count": 35,
      "outputs": [
        {
          "output_type": "stream",
          "text": [
            "Confusion Matrix:  [[     0      0      0  84170      0      0      0      0      0      0\n",
            "       0      0      0]\n",
            " [     0      0      0  22818      0      0      0      0      0      0\n",
            "       0      0      0]\n",
            " [     0      0      0  18240      0      0      0      0      0      0\n",
            "       0      0      0]\n",
            " [     0      0      0 129099      0      0      0      0      0      0\n",
            "       0      0      0]\n",
            " [     0      0      0  44329      0      0      0      0      0      0\n",
            "       0      0      0]\n",
            " [     0      0      0   3415      0      0      0      0      0      0\n",
            "       0      0      0]\n",
            " [     0      0      0  83316      0      0      0      0      0      0\n",
            "       0      0      0]\n",
            " [     0      0      0  97026      0      0      0      0      0      0\n",
            "       0      0      0]\n",
            " [     0      0      0  50300      0      0      0      0      0      0\n",
            "       0      0      0]\n",
            " [     0      0      0   4289      0      0      0      0      0      0\n",
            "       0      0      0]\n",
            " [     0      0      0  10053      0      0      0      0      0      0\n",
            "       0      0      0]\n",
            " [     0      0      0  15925      0      0      0      0      0      0\n",
            "       0      0      0]\n",
            " [     0      0      0   1160      0      0      0      0      0      0\n",
            "       0      0      0]]\n",
            "Accuracy :  22.88421313858262\n"
          ],
          "name": "stdout"
        },
        {
          "output_type": "stream",
          "text": [
            "/usr/local/lib/python3.6/dist-packages/sklearn/metrics/_classification.py:1272: UndefinedMetricWarning: Precision and F-score are ill-defined and being set to 0.0 in labels with no predicted samples. Use `zero_division` parameter to control this behavior.\n",
            "  _warn_prf(average, modifier, msg_start, len(result))\n"
          ],
          "name": "stderr"
        },
        {
          "output_type": "stream",
          "text": [
            "Report :                precision    recall  f1-score   support\n",
            "\n",
            "           0       0.00      0.00      0.00     84170\n",
            "           1       0.00      0.00      0.00     22818\n",
            "           2       0.00      0.00      0.00     18240\n",
            "           3       0.23      1.00      0.37    129099\n",
            "           4       0.00      0.00      0.00     44329\n",
            "           5       0.00      0.00      0.00      3415\n",
            "           6       0.00      0.00      0.00     83316\n",
            "           7       0.00      0.00      0.00     97026\n",
            "           8       0.00      0.00      0.00     50300\n",
            "           9       0.00      0.00      0.00      4289\n",
            "          10       0.00      0.00      0.00     10053\n",
            "          11       0.00      0.00      0.00     15925\n",
            "          12       0.00      0.00      0.00      1160\n",
            "\n",
            "    accuracy                           0.23    564140\n",
            "   macro avg       0.02      0.08      0.03    564140\n",
            "weighted avg       0.05      0.23      0.09    564140\n",
            "\n"
          ],
          "name": "stdout"
        }
      ]
    },
    {
      "cell_type": "code",
      "metadata": {
        "id": "uJdSISQT72Nm",
        "colab_type": "code",
        "outputId": "9507857e-0306-42e4-dd78-f3eae06cb576",
        "colab": {
          "base_uri": "https://localhost:8080/",
          "height": 833
        }
      },
      "source": [
        "nb = GaussianNB().fit(X_train, y_train)\n",
        "y_pred = nb.predict(X_test)\n",
        "naive = accuracy_score(y_test,y_pred)*100\n",
        "print(\"Confusion Matrix: \",confusion_matrix(y_test, y_pred)) \n",
        "print (\"Accuracy : \",naive)\n",
        "print(\"Report : \",classification_report(y_test, y_pred))"
      ],
      "execution_count": 36,
      "outputs": [
        {
          "output_type": "stream",
          "text": [
            "Confusion Matrix:  [[   178      4   2799  75928    266    339   2493   1972    175      0\n",
            "       6      0     10]\n",
            " [     7      3   2429  14263    114   1106   2723   1794    348      0\n",
            "       2      0     29]\n",
            " [     5      0   1344  15072     52    174    902    544    145      0\n",
            "       1      0      1]\n",
            " [    63      3   4203 118599    184    765   1804   2736    719      0\n",
            "       4      0     19]\n",
            " [    50      3   4279  31080    647    384   4830   2950     86      0\n",
            "       5      0     15]\n",
            " [     9      0    202   2291      1    373    451     52     36      0\n",
            "       0      0      0]\n",
            " [   118      0   6703  47155    181   3556  19992   4626    779      0\n",
            "      12      0    194]\n",
            " [    97     11   5535  76715    734   1377   6267   5809    435      0\n",
            "      17      2     27]\n",
            " [   126      8   1837  32991     10    230   1954   3314   9734      0\n",
            "       0      0     96]\n",
            " [     0      3    142   3467     29    121    212    204    108      0\n",
            "       0      0      3]\n",
            " [    17      1    286   9277     13     52    282     84      5      0\n",
            "      36      0      0]\n",
            " [     9      0   1190  12827     62    148   1140    471     77      0\n",
            "       0      0      1]\n",
            " [     0      0     24    946      0     46     27     39     77      0\n",
            "       0      0      1]]\n",
            "Accuracy :  27.77962917006417\n"
          ],
          "name": "stdout"
        },
        {
          "output_type": "stream",
          "text": [
            "/usr/local/lib/python3.6/dist-packages/sklearn/metrics/_classification.py:1272: UndefinedMetricWarning: Precision and F-score are ill-defined and being set to 0.0 in labels with no predicted samples. Use `zero_division` parameter to control this behavior.\n",
            "  _warn_prf(average, modifier, msg_start, len(result))\n"
          ],
          "name": "stderr"
        },
        {
          "output_type": "stream",
          "text": [
            "Report :                precision    recall  f1-score   support\n",
            "\n",
            "           0       0.26      0.00      0.00     84170\n",
            "           1       0.08      0.00      0.00     22818\n",
            "           2       0.04      0.07      0.05     18240\n",
            "           3       0.27      0.92      0.42    129099\n",
            "           4       0.28      0.01      0.03     44329\n",
            "           5       0.04      0.11      0.06      3415\n",
            "           6       0.46      0.24      0.32     83316\n",
            "           7       0.24      0.06      0.10     97026\n",
            "           8       0.77      0.19      0.31     50300\n",
            "           9       0.00      0.00      0.00      4289\n",
            "          10       0.43      0.00      0.01     10053\n",
            "          11       0.00      0.00      0.00     15925\n",
            "          12       0.00      0.00      0.00      1160\n",
            "\n",
            "    accuracy                           0.28    564140\n",
            "   macro avg       0.22      0.12      0.10    564140\n",
            "weighted avg       0.31      0.28      0.19    564140\n",
            "\n"
          ],
          "name": "stdout"
        }
      ]
    },
    {
      "cell_type": "code",
      "metadata": {
        "id": "WE1t73Sy7_jz",
        "colab_type": "code",
        "outputId": "ab4f7786-a60e-4e2c-9949-b780dfabe569",
        "colab": {
          "base_uri": "https://localhost:8080/",
          "height": 801
        }
      },
      "source": [
        "KNN = KNeighborsClassifier(n_neighbors=2)\n",
        "KNN.fit(X_train, y_train)\n",
        "y_pred = KNN.predict(X_test)\n",
        "knn = accuracy_score(y_test,y_pred)*100\n",
        "print(\"Confusion Matrix: \",confusion_matrix(y_test, y_pred)) \n",
        "print (\"Accuracy : \",knn) \n",
        "print(\"Report : \",classification_report(y_test, y_pred))"
      ],
      "execution_count": 38,
      "outputs": [
        {
          "output_type": "stream",
          "text": [
            "Confusion Matrix:  [[47415  2566  3481 18441  3613   176  2078  5089   892    66   210   136\n",
            "      7]\n",
            " [ 3512  7560  1074  4246  1569   145  2344  1821   381    23    54    87\n",
            "      2]\n",
            " [ 4774  1119  3382  4755  1552   107   732  1391   143    26   166    89\n",
            "      4]\n",
            " [36849  6948  7660 60570  5972   254  2773  6644   650   139   364   263\n",
            "     13]\n",
            " [ 9231  2658  2911 11111 10312   167  2684  4222   425    82   425    96\n",
            "      5]\n",
            " [  518   258   224   465   239  1266   252   144    32     6     3     7\n",
            "      1]\n",
            " [ 4917  4507  1382  5387  3955   433 59392  2295   842    43   105    57\n",
            "      1]\n",
            " [20073  6017  4815 21176  9808   525  6280 26587   971   179   293   295\n",
            "      7]\n",
            " [ 3199  1640   571  2613  1424   127  3847  2278 34563     9    10    19\n",
            "      0]\n",
            " [  731   247   173  1250   526    38   429   646    51   182     6     7\n",
            "      3]\n",
            " [ 1621   526   781  2306  1455    25   702   756    58     9  1796    18\n",
            "      0]\n",
            " [ 3811  1382  1257  4374  1466    57   856  2216   153    33   102   217\n",
            "      1]\n",
            " [  242   106   125   354   103    14    67   111    13    12     2     5\n",
            "      6]]\n",
            "Accuracy :  44.890984507391785\n",
            "Report :                precision    recall  f1-score   support\n",
            "\n",
            "           0       0.35      0.56      0.43     84170\n",
            "           1       0.21      0.33      0.26     22818\n",
            "           2       0.12      0.19      0.15     18240\n",
            "           3       0.44      0.47      0.46    129099\n",
            "           4       0.25      0.23      0.24     44329\n",
            "           5       0.38      0.37      0.38      3415\n",
            "           6       0.72      0.71      0.72     83316\n",
            "           7       0.49      0.27      0.35     97026\n",
            "           8       0.88      0.69      0.77     50300\n",
            "           9       0.22      0.04      0.07      4289\n",
            "          10       0.51      0.18      0.26     10053\n",
            "          11       0.17      0.01      0.03     15925\n",
            "          12       0.12      0.01      0.01      1160\n",
            "\n",
            "    accuracy                           0.45    564140\n",
            "   macro avg       0.37      0.31      0.32    564140\n",
            "weighted avg       0.47      0.45      0.45    564140\n",
            "\n"
          ],
          "name": "stdout"
        }
      ]
    },
    {
      "cell_type": "markdown",
      "metadata": {
        "id": "9AeEFbDUrejb",
        "colab_type": "text"
      },
      "source": [
        "####**Applying Random Forest Classifier on base dataset with 4 classes in target variable**"
      ]
    },
    {
      "cell_type": "code",
      "metadata": {
        "id": "L3JYbeFrrdbK",
        "colab_type": "code",
        "colab": {
          "base_uri": "https://localhost:8080/",
          "height": 147
        },
        "outputId": "1b206e48-a2f0-4e73-ff6e-f243316e2266"
      },
      "source": [
        "def set_label(cat):\n",
        "    cause = 0\n",
        "    accidental = ['Lightning','Structure','Fireworks','Powerline','Railroad','Smoking','Children','Campfire','Equipment Use','Debris Burning']\n",
        "    malicious = ['Arson']\n",
        "    other = ['Missing/Undefined','Miscellaneous']\n",
        "\n",
        "    if cat in accidental:\n",
        "        cause = 0\n",
        "    elif cat in malicious:\n",
        "        cause = 1\n",
        "    else:\n",
        "        cause = 2\n",
        "    return cause\n",
        "\n",
        "df['LABEL'] = df_orig['STAT_CAUSE_DESCR'].apply(lambda x: set_label(x)) # I created a copy of the original df earlier in the kernel\n",
        "df = df.drop('STAT_CAUSE_DESCR',axis=1)\n",
        "print(df.head())"
      ],
      "execution_count": 39,
      "outputs": [
        {
          "output_type": "stream",
          "text": [
            "   FIRE_YEAR   LATITUDE   LONGITUDE  ...  MONTH  DAY_OF_WEEK  LABEL\n",
            "0       2005  40.036944 -121.005833  ...      2            2      2\n",
            "1       2004  38.933056 -120.404444  ...      5            2      0\n",
            "2       2004  38.984167 -120.735556  ...      5            0      0\n",
            "3       2004  38.559167 -119.913333  ...      6            0      0\n",
            "4       2004  38.559167 -119.933056  ...      6            0      0\n",
            "\n",
            "[5 rows x 9 columns]\n"
          ],
          "name": "stdout"
        }
      ]
    },
    {
      "cell_type": "code",
      "metadata": {
        "id": "khJKE-Dusxss",
        "colab_type": "code",
        "colab": {
          "base_uri": "https://localhost:8080/",
          "height": 33
        },
        "outputId": "ec89f7c8-c003-4187-ae92-c05e48f3fadb"
      },
      "source": [
        "X = df.drop(['LABEL'], axis=1).values\n",
        "y = df['LABEL'].values\n",
        "X_train, X_test, y_train, y_test = train_test_split(X,y,test_size=0.3, random_state=0)\n",
        "clf_rf = ske.RandomForestClassifier(n_estimators=100)\n",
        "clf_rf = clf_rf.fit(X_train, y_train)\n",
        "print(clf_rf.score(X_test,y_test))"
      ],
      "execution_count": 41,
      "outputs": [
        {
          "output_type": "stream",
          "text": [
            "0.742383096394512\n"
          ],
          "name": "stdout"
        }
      ]
    },
    {
      "cell_type": "markdown",
      "metadata": {
        "id": "BYYtE-Pru3Wd",
        "colab_type": "text"
      },
      "source": [
        "###**Importing amalgamated fire dataset which contains weather related columns such as Temperature, Precipitation, Snow etc. The weatherDataLoad.ipynb file contains the script to fetch data from National Oceanic and Atmospheric Administration (ncdc.novaa.gov website).**"
      ]
    },
    {
      "cell_type": "code",
      "metadata": {
        "id": "teXsbL5DfE8v",
        "colab_type": "code",
        "colab": {
          "base_uri": "https://localhost:8080/",
          "height": 33
        },
        "outputId": "449dc0b3-567e-44ca-9f36-2477523d1fc7"
      },
      "source": [
        "link = 'https://drive.google.com/open?id=1qnqDNrDyxVPBTxE-6BTYDVz-7Iennl_m'\n",
        "fluff, id = link.split('=')\n",
        "print (id) # Verify that you have everything after '='"
      ],
      "execution_count": 42,
      "outputs": [
        {
          "output_type": "stream",
          "text": [
            "1qnqDNrDyxVPBTxE-6BTYDVz-7Iennl_m\n"
          ],
          "name": "stdout"
        }
      ]
    },
    {
      "cell_type": "code",
      "metadata": {
        "id": "mm94nMIue7nQ",
        "colab_type": "code",
        "colab": {}
      },
      "source": [
        "downloaded = drive.CreateFile({'id':id}) \n",
        "downloaded.GetContentFile('AmalgamatedFireDataset.csv')"
      ],
      "execution_count": 0,
      "outputs": []
    },
    {
      "cell_type": "code",
      "metadata": {
        "id": "KsQ8Tv6VfZWO",
        "colab_type": "code",
        "colab": {}
      },
      "source": [
        "#Loading dataset into pandas dataframe\n",
        "amal_df = pd.read_csv('AmalgamatedFireDataset.csv')"
      ],
      "execution_count": 0,
      "outputs": []
    },
    {
      "cell_type": "code",
      "metadata": {
        "id": "_SaleB7wfe-T",
        "colab_type": "code",
        "colab": {
          "base_uri": "https://localhost:8080/",
          "height": 227
        },
        "outputId": "fd364f2f-2168-4a0b-c43e-34443547a36c"
      },
      "source": [
        "amal_df.head()"
      ],
      "execution_count": 45,
      "outputs": [
        {
          "output_type": "execute_result",
          "data": {
            "text/html": [
              "<div>\n",
              "<style scoped>\n",
              "    .dataframe tbody tr th:only-of-type {\n",
              "        vertical-align: middle;\n",
              "    }\n",
              "\n",
              "    .dataframe tbody tr th {\n",
              "        vertical-align: top;\n",
              "    }\n",
              "\n",
              "    .dataframe thead th {\n",
              "        text-align: right;\n",
              "    }\n",
              "</style>\n",
              "<table border=\"1\" class=\"dataframe\">\n",
              "  <thead>\n",
              "    <tr style=\"text-align: right;\">\n",
              "      <th></th>\n",
              "      <th>Unnamed: 0</th>\n",
              "      <th>LATITUDE</th>\n",
              "      <th>LONGITUDE</th>\n",
              "      <th>date</th>\n",
              "      <th>TMAX</th>\n",
              "      <th>PRCP</th>\n",
              "      <th>TOBS</th>\n",
              "      <th>SNOW</th>\n",
              "      <th>STAT_CAUSE_CODE_x</th>\n",
              "      <th>DISCOVERY_DOY_x</th>\n",
              "      <th>FIRE_SIZE_x</th>\n",
              "      <th>FIRE_YEAR</th>\n",
              "      <th>discovery_month</th>\n",
              "      <th>discovery_weekday</th>\n",
              "      <th>STAT_CAUSE_DESCR</th>\n",
              "      <th>STATE</th>\n",
              "      <th>DISCOVERY_DATE</th>\n",
              "    </tr>\n",
              "  </thead>\n",
              "  <tbody>\n",
              "    <tr>\n",
              "      <th>0</th>\n",
              "      <td>0</td>\n",
              "      <td>18.0</td>\n",
              "      <td>-67.0</td>\n",
              "      <td>19970323</td>\n",
              "      <td>292.384615</td>\n",
              "      <td>1.777778</td>\n",
              "      <td>210.153846</td>\n",
              "      <td>0.0</td>\n",
              "      <td>5.0</td>\n",
              "      <td>82.0</td>\n",
              "      <td>1.00</td>\n",
              "      <td>1997.0</td>\n",
              "      <td>Mar</td>\n",
              "      <td>Sun</td>\n",
              "      <td>Debris Burning</td>\n",
              "      <td>PR</td>\n",
              "      <td>2450530.5</td>\n",
              "    </tr>\n",
              "    <tr>\n",
              "      <th>1</th>\n",
              "      <td>1</td>\n",
              "      <td>18.0</td>\n",
              "      <td>-67.0</td>\n",
              "      <td>20020210</td>\n",
              "      <td>281.700000</td>\n",
              "      <td>3.258065</td>\n",
              "      <td>201.600000</td>\n",
              "      <td>0.0</td>\n",
              "      <td>9.0</td>\n",
              "      <td>38.0</td>\n",
              "      <td>55.00</td>\n",
              "      <td>2002.0</td>\n",
              "      <td>Feb</td>\n",
              "      <td>Thu</td>\n",
              "      <td>Miscellaneous</td>\n",
              "      <td>PR</td>\n",
              "      <td>2452312.5</td>\n",
              "    </tr>\n",
              "    <tr>\n",
              "      <th>2</th>\n",
              "      <td>2</td>\n",
              "      <td>18.0</td>\n",
              "      <td>-67.0</td>\n",
              "      <td>20030315</td>\n",
              "      <td>300.700000</td>\n",
              "      <td>0.714286</td>\n",
              "      <td>212.500000</td>\n",
              "      <td>0.0</td>\n",
              "      <td>8.0</td>\n",
              "      <td>73.0</td>\n",
              "      <td>16.65</td>\n",
              "      <td>2003.0</td>\n",
              "      <td>Mar</td>\n",
              "      <td>Fri</td>\n",
              "      <td>Arson</td>\n",
              "      <td>PR</td>\n",
              "      <td>2452712.5</td>\n",
              "    </tr>\n",
              "    <tr>\n",
              "      <th>3</th>\n",
              "      <td>3</td>\n",
              "      <td>18.0</td>\n",
              "      <td>-67.0</td>\n",
              "      <td>20030315</td>\n",
              "      <td>300.700000</td>\n",
              "      <td>0.714286</td>\n",
              "      <td>212.500000</td>\n",
              "      <td>0.0</td>\n",
              "      <td>8.0</td>\n",
              "      <td>73.0</td>\n",
              "      <td>16.65</td>\n",
              "      <td>2003.0</td>\n",
              "      <td>Mar</td>\n",
              "      <td>Fri</td>\n",
              "      <td>Miscellaneous</td>\n",
              "      <td>PR</td>\n",
              "      <td>2452712.5</td>\n",
              "    </tr>\n",
              "    <tr>\n",
              "      <th>4</th>\n",
              "      <td>4</td>\n",
              "      <td>18.0</td>\n",
              "      <td>-67.0</td>\n",
              "      <td>20030626</td>\n",
              "      <td>303.545455</td>\n",
              "      <td>1.000000</td>\n",
              "      <td>215.272727</td>\n",
              "      <td>0.0</td>\n",
              "      <td>9.0</td>\n",
              "      <td>175.0</td>\n",
              "      <td>450.00</td>\n",
              "      <td>2003.0</td>\n",
              "      <td>Jun</td>\n",
              "      <td>Tue</td>\n",
              "      <td>Miscellaneous</td>\n",
              "      <td>PR</td>\n",
              "      <td>2452814.5</td>\n",
              "    </tr>\n",
              "  </tbody>\n",
              "</table>\n",
              "</div>"
            ],
            "text/plain": [
              "   Unnamed: 0  LATITUDE  LONGITUDE  ...  STAT_CAUSE_DESCR  STATE  DISCOVERY_DATE\n",
              "0           0      18.0      -67.0  ...    Debris Burning     PR       2450530.5\n",
              "1           1      18.0      -67.0  ...     Miscellaneous     PR       2452312.5\n",
              "2           2      18.0      -67.0  ...             Arson     PR       2452712.5\n",
              "3           3      18.0      -67.0  ...     Miscellaneous     PR       2452712.5\n",
              "4           4      18.0      -67.0  ...     Miscellaneous     PR       2452814.5\n",
              "\n",
              "[5 rows x 17 columns]"
            ]
          },
          "metadata": {
            "tags": []
          },
          "execution_count": 45
        }
      ]
    },
    {
      "cell_type": "code",
      "metadata": {
        "id": "KBk8Ivhufwl9",
        "colab_type": "code",
        "colab": {}
      },
      "source": [
        "amal_df=amal_df[['FIRE_YEAR', 'STAT_CAUSE_DESCR', 'LATITUDE', 'LONGITUDE', 'STATE', 'DISCOVERY_DATE', 'FIRE_SIZE_x', 'discovery_month', 'discovery_weekday', 'TMAX', 'PRCP', 'TOBS', 'SNOW']]"
      ],
      "execution_count": 0,
      "outputs": []
    },
    {
      "cell_type": "code",
      "metadata": {
        "id": "HGzVYcw2l5kG",
        "colab_type": "code",
        "colab": {}
      },
      "source": [
        "amal_df_orig=amal_df[['FIRE_YEAR', 'STAT_CAUSE_DESCR', 'LATITUDE', 'LONGITUDE', 'STATE', 'DISCOVERY_DATE', 'FIRE_SIZE_x', 'discovery_month', 'discovery_weekday', 'TMAX', 'PRCP', 'TOBS', 'SNOW']]"
      ],
      "execution_count": 0,
      "outputs": []
    },
    {
      "cell_type": "code",
      "metadata": {
        "id": "K7JqMWSPg0BT",
        "colab_type": "code",
        "colab": {}
      },
      "source": [
        "amal_df['STAT_CAUSE_DESCR'] = le.fit_transform(amal_df['STAT_CAUSE_DESCR'])\n",
        "amal_df['STATE'] = le.fit_transform(amal_df['STATE'])\n",
        "amal_df['discovery_month'] = le.fit_transform(amal_df['discovery_month'])\n",
        "amal_df['discovery_weekday'] = le.fit_transform(amal_df['discovery_weekday'])"
      ],
      "execution_count": 0,
      "outputs": []
    },
    {
      "cell_type": "code",
      "metadata": {
        "id": "wl43EQwuhQN2",
        "colab_type": "code",
        "colab": {
          "base_uri": "https://localhost:8080/",
          "height": 211
        },
        "outputId": "2c068398-91ae-423f-95b2-86cc69f07be7"
      },
      "source": [
        "amal_df.head()"
      ],
      "execution_count": 49,
      "outputs": [
        {
          "output_type": "execute_result",
          "data": {
            "text/html": [
              "<div>\n",
              "<style scoped>\n",
              "    .dataframe tbody tr th:only-of-type {\n",
              "        vertical-align: middle;\n",
              "    }\n",
              "\n",
              "    .dataframe tbody tr th {\n",
              "        vertical-align: top;\n",
              "    }\n",
              "\n",
              "    .dataframe thead th {\n",
              "        text-align: right;\n",
              "    }\n",
              "</style>\n",
              "<table border=\"1\" class=\"dataframe\">\n",
              "  <thead>\n",
              "    <tr style=\"text-align: right;\">\n",
              "      <th></th>\n",
              "      <th>FIRE_YEAR</th>\n",
              "      <th>STAT_CAUSE_DESCR</th>\n",
              "      <th>LATITUDE</th>\n",
              "      <th>LONGITUDE</th>\n",
              "      <th>STATE</th>\n",
              "      <th>DISCOVERY_DATE</th>\n",
              "      <th>FIRE_SIZE_x</th>\n",
              "      <th>discovery_month</th>\n",
              "      <th>discovery_weekday</th>\n",
              "      <th>TMAX</th>\n",
              "      <th>PRCP</th>\n",
              "      <th>TOBS</th>\n",
              "      <th>SNOW</th>\n",
              "    </tr>\n",
              "  </thead>\n",
              "  <tbody>\n",
              "    <tr>\n",
              "      <th>0</th>\n",
              "      <td>1997.0</td>\n",
              "      <td>3</td>\n",
              "      <td>18.0</td>\n",
              "      <td>-67.0</td>\n",
              "      <td>39</td>\n",
              "      <td>2450530.5</td>\n",
              "      <td>1.00</td>\n",
              "      <td>7</td>\n",
              "      <td>3</td>\n",
              "      <td>292.384615</td>\n",
              "      <td>1.777778</td>\n",
              "      <td>210.153846</td>\n",
              "      <td>0.0</td>\n",
              "    </tr>\n",
              "    <tr>\n",
              "      <th>1</th>\n",
              "      <td>2002.0</td>\n",
              "      <td>7</td>\n",
              "      <td>18.0</td>\n",
              "      <td>-67.0</td>\n",
              "      <td>39</td>\n",
              "      <td>2452312.5</td>\n",
              "      <td>55.00</td>\n",
              "      <td>3</td>\n",
              "      <td>4</td>\n",
              "      <td>281.700000</td>\n",
              "      <td>3.258065</td>\n",
              "      <td>201.600000</td>\n",
              "      <td>0.0</td>\n",
              "    </tr>\n",
              "    <tr>\n",
              "      <th>2</th>\n",
              "      <td>2003.0</td>\n",
              "      <td>0</td>\n",
              "      <td>18.0</td>\n",
              "      <td>-67.0</td>\n",
              "      <td>39</td>\n",
              "      <td>2452712.5</td>\n",
              "      <td>16.65</td>\n",
              "      <td>7</td>\n",
              "      <td>0</td>\n",
              "      <td>300.700000</td>\n",
              "      <td>0.714286</td>\n",
              "      <td>212.500000</td>\n",
              "      <td>0.0</td>\n",
              "    </tr>\n",
              "    <tr>\n",
              "      <th>3</th>\n",
              "      <td>2003.0</td>\n",
              "      <td>7</td>\n",
              "      <td>18.0</td>\n",
              "      <td>-67.0</td>\n",
              "      <td>39</td>\n",
              "      <td>2452712.5</td>\n",
              "      <td>16.65</td>\n",
              "      <td>7</td>\n",
              "      <td>0</td>\n",
              "      <td>300.700000</td>\n",
              "      <td>0.714286</td>\n",
              "      <td>212.500000</td>\n",
              "      <td>0.0</td>\n",
              "    </tr>\n",
              "    <tr>\n",
              "      <th>4</th>\n",
              "      <td>2003.0</td>\n",
              "      <td>7</td>\n",
              "      <td>18.0</td>\n",
              "      <td>-67.0</td>\n",
              "      <td>39</td>\n",
              "      <td>2452814.5</td>\n",
              "      <td>450.00</td>\n",
              "      <td>6</td>\n",
              "      <td>5</td>\n",
              "      <td>303.545455</td>\n",
              "      <td>1.000000</td>\n",
              "      <td>215.272727</td>\n",
              "      <td>0.0</td>\n",
              "    </tr>\n",
              "  </tbody>\n",
              "</table>\n",
              "</div>"
            ],
            "text/plain": [
              "   FIRE_YEAR  STAT_CAUSE_DESCR  LATITUDE  ...      PRCP        TOBS  SNOW\n",
              "0     1997.0                 3      18.0  ...  1.777778  210.153846   0.0\n",
              "1     2002.0                 7      18.0  ...  3.258065  201.600000   0.0\n",
              "2     2003.0                 0      18.0  ...  0.714286  212.500000   0.0\n",
              "3     2003.0                 7      18.0  ...  0.714286  212.500000   0.0\n",
              "4     2003.0                 7      18.0  ...  1.000000  215.272727   0.0\n",
              "\n",
              "[5 rows x 13 columns]"
            ]
          },
          "metadata": {
            "tags": []
          },
          "execution_count": 49
        }
      ]
    },
    {
      "cell_type": "code",
      "metadata": {
        "id": "KG2ceHNChXqq",
        "colab_type": "code",
        "colab": {}
      },
      "source": [
        "amal_X = amal_df.drop(['STAT_CAUSE_DESCR'], axis=1).values\n",
        "amal_y = amal_df['STAT_CAUSE_DESCR'].values"
      ],
      "execution_count": 0,
      "outputs": []
    },
    {
      "cell_type": "code",
      "metadata": {
        "id": "HMGjueFShhmP",
        "colab_type": "code",
        "colab": {}
      },
      "source": [
        "amal_X_train, amal_X_test, amal_y_train, amal_y_test = train_test_split(amal_X,amal_y,test_size=0.3, random_state=0) #30% for testing, 70% for training"
      ],
      "execution_count": 0,
      "outputs": []
    },
    {
      "cell_type": "markdown",
      "metadata": {
        "id": "Bbmi39j3xwDD",
        "colab_type": "text"
      },
      "source": [
        "####**Applying Random Forest Classifier on amalgamated dataset with 13 classes in target variable**"
      ]
    },
    {
      "cell_type": "code",
      "metadata": {
        "id": "LQeK4G5Hh0gt",
        "colab_type": "code",
        "colab": {
          "base_uri": "https://localhost:8080/",
          "height": 33
        },
        "outputId": "2665de17-2768-416d-b081-298a4f74f31b"
      },
      "source": [
        "amal_clf_rf = ske.RandomForestClassifier(n_estimators=50)\n",
        "amal_clf_rf = amal_clf_rf.fit(amal_X_train, amal_y_train)\n",
        "print(amal_clf_rf.score(amal_X_test,amal_y_test))"
      ],
      "execution_count": 52,
      "outputs": [
        {
          "output_type": "stream",
          "text": [
            "0.4147628463851342\n"
          ],
          "name": "stdout"
        }
      ]
    },
    {
      "cell_type": "markdown",
      "metadata": {
        "id": "rF36sHNyFmfv",
        "colab_type": "text"
      },
      "source": [
        "**XGBoost**"
      ]
    },
    {
      "cell_type": "code",
      "metadata": {
        "id": "5bEeka94Fl5U",
        "colab_type": "code",
        "colab": {
          "base_uri": "https://localhost:8080/",
          "height": 33
        },
        "outputId": "518831b4-40ef-4d3c-9d16-e8a05c4ee297"
      },
      "source": [
        "model = XGBClassifier()\n",
        "model.fit(amal_X_train, amal_y_train)\n",
        "print(model.score(amal_X_test,amal_y_test))\n",
        "# y_pred = model.predict(X_test)\n",
        "# predictions = [round(value) for value in y_pred]\n",
        "# accuracy = accuracy_score(y_test, predictions)\n",
        "# print(\"Accuracy: %.2f%%\" % (accuracy * 100.0))"
      ],
      "execution_count": 56,
      "outputs": [
        {
          "output_type": "stream",
          "text": [
            "0.4466397594604112\n"
          ],
          "name": "stdout"
        }
      ]
    },
    {
      "cell_type": "markdown",
      "metadata": {
        "id": "zsf8E1nex5Z5",
        "colab_type": "text"
      },
      "source": [
        "####**Applying Random Forest Classifier on amalgamated dataset with 4 classes in target variable**"
      ]
    },
    {
      "cell_type": "code",
      "metadata": {
        "id": "3iH8DMUDlVfu",
        "colab_type": "code",
        "colab": {
          "base_uri": "https://localhost:8080/",
          "height": 147
        },
        "outputId": "9099914c-297d-42ed-dd17-335ef215da40"
      },
      "source": [
        "amal_df['LABEL'] = amal_df_orig['STAT_CAUSE_DESCR'].apply(lambda x: set_label(x)) # I created a copy of the original df earlier in the kernel\n",
        "amal_df = amal_df.drop('STAT_CAUSE_DESCR',axis=1)\n",
        "print(amal_df.head())"
      ],
      "execution_count": 53,
      "outputs": [
        {
          "output_type": "stream",
          "text": [
            "   FIRE_YEAR  LATITUDE  LONGITUDE  STATE  ...      PRCP        TOBS  SNOW  LABEL\n",
            "0     1997.0      18.0      -67.0     39  ...  1.777778  210.153846   0.0      0\n",
            "1     2002.0      18.0      -67.0     39  ...  3.258065  201.600000   0.0      2\n",
            "2     2003.0      18.0      -67.0     39  ...  0.714286  212.500000   0.0      1\n",
            "3     2003.0      18.0      -67.0     39  ...  0.714286  212.500000   0.0      2\n",
            "4     2003.0      18.0      -67.0     39  ...  1.000000  215.272727   0.0      2\n",
            "\n",
            "[5 rows x 13 columns]\n"
          ],
          "name": "stdout"
        }
      ]
    },
    {
      "cell_type": "code",
      "metadata": {
        "id": "HF1InDGfmNvL",
        "colab_type": "code",
        "colab": {
          "base_uri": "https://localhost:8080/",
          "height": 33
        },
        "outputId": "c58dd04b-c34d-4cf3-cbab-9c159385a268"
      },
      "source": [
        "X = amal_df.drop(['LABEL'], axis=1).values\n",
        "y = amal_df['LABEL'].values\n",
        "X_train, X_test, y_train, y_test = train_test_split(X,y,test_size=0.3, random_state=0)\n",
        "clf_rf = ske.RandomForestClassifier(n_estimators=50)\n",
        "clf_rf = clf_rf.fit(X_train, y_train)\n",
        "print(clf_rf.score(X_test,y_test))"
      ],
      "execution_count": 54,
      "outputs": [
        {
          "output_type": "stream",
          "text": [
            "0.6393314733049814\n"
          ],
          "name": "stdout"
        }
      ]
    },
    {
      "cell_type": "markdown",
      "metadata": {
        "id": "28L1EcxwJo2y",
        "colab_type": "text"
      },
      "source": [
        "**RF with PCA**"
      ]
    },
    {
      "cell_type": "code",
      "metadata": {
        "id": "wtKNqMbtJs1D",
        "colab_type": "code",
        "colab": {
          "base_uri": "https://localhost:8080/",
          "height": 33
        },
        "outputId": "4957c5d8-09a8-4639-8b87-0c0ca21cef5a"
      },
      "source": [
        "dfx = amal_df.drop(['LABEL'], axis=1).values\n",
        "dfy = amal_df['LABEL'].values\n",
        "pca_final = PCA(n_components=4)\n",
        "principalComponents = pca_final.fit_transform(dfx)\n",
        "principalDf = pd.DataFrame(data = principalComponents\n",
        "             , columns = ['pc1', 'pc2','pc3','pc4'])\n",
        "X_train, X_test, y_train, y_test = train_test_split(principalDf, dfy, test_size=0.33)\n",
        "clf_rf = ske.RandomForestClassifier(n_estimators=50)\n",
        "clf_rf = clf_rf.fit(X_train, y_train)\n",
        "print(clf_rf.score(X_test,y_test))"
      ],
      "execution_count": 57,
      "outputs": [
        {
          "output_type": "stream",
          "text": [
            "0.5707038868422608\n"
          ],
          "name": "stdout"
        }
      ]
    },
    {
      "cell_type": "markdown",
      "metadata": {
        "id": "VwROn71rEz-1",
        "colab_type": "text"
      },
      "source": [
        "**XGBoost**"
      ]
    },
    {
      "cell_type": "code",
      "metadata": {
        "id": "d09S1pZGEzlH",
        "colab_type": "code",
        "colab": {
          "base_uri": "https://localhost:8080/",
          "height": 33
        },
        "outputId": "e3c469f2-8b47-49b4-b1b5-ff20a4788d00"
      },
      "source": [
        "model = XGBClassifier()\n",
        "model.fit(X_train, y_train)\n",
        "print(model.score(X_test,y_test))\n",
        "# y_pred = model.predict(X_test)\n",
        "# predictions = [round(value) for value in y_pred]\n",
        "# accuracy = accuracy_score(y_test, predictions)\n",
        "# print(\"Accuracy: %.2f%%\" % (accuracy * 100.0))"
      ],
      "execution_count": 55,
      "outputs": [
        {
          "output_type": "stream",
          "text": [
            "0.6681041254706503\n"
          ],
          "name": "stdout"
        }
      ]
    },
    {
      "cell_type": "markdown",
      "metadata": {
        "id": "mGikOCJ6Ozbs",
        "colab_type": "text"
      },
      "source": [
        "**KNN**"
      ]
    },
    {
      "cell_type": "code",
      "metadata": {
        "id": "7zExggTjOyvp",
        "colab_type": "code",
        "colab": {
          "base_uri": "https://localhost:8080/",
          "height": 245
        },
        "outputId": "289e4d64-c904-4d86-e999-e37753dbeddd"
      },
      "source": [
        "X = amal_df.drop(['LABEL'], axis=1).values\n",
        "y = amal_df['LABEL'].values\n",
        "X_train, X_test, y_train, y_test = train_test_split(X,y,test_size=0.3, random_state=0)\n",
        "KNN = KNeighborsClassifier(n_neighbors=4)\n",
        "KNN.fit(X_train, y_train)\n",
        "y_pred = KNN.predict(X_test)\n",
        "knn = accuracy_score(y_test,y_pred)*100\n",
        "print(\"Confusion Matrix: \",confusion_matrix(y_test, y_pred)) \n",
        "print (\"Accuracy : \",knn) \n",
        "print(\"Report : \",classification_report(y_test, y_pred))\n"
      ],
      "execution_count": 58,
      "outputs": [
        {
          "output_type": "stream",
          "text": [
            "Confusion Matrix:  [[100233   6109   9944]\n",
            " [ 18833   3423   3219]\n",
            " [ 29720   2970  10134]]\n",
            "Accuracy :  61.64639596933662\n",
            "Report :                precision    recall  f1-score   support\n",
            "\n",
            "           0       0.67      0.86      0.76    116286\n",
            "           1       0.27      0.13      0.18     25475\n",
            "           2       0.43      0.24      0.31     42824\n",
            "\n",
            "    accuracy                           0.62    184585\n",
            "   macro avg       0.46      0.41      0.41    184585\n",
            "weighted avg       0.56      0.62      0.57    184585\n",
            "\n"
          ],
          "name": "stdout"
        }
      ]
    },
    {
      "cell_type": "markdown",
      "metadata": {
        "id": "QayWqh-lSMkY",
        "colab_type": "text"
      },
      "source": [
        "**PCA KNN**"
      ]
    },
    {
      "cell_type": "code",
      "metadata": {
        "id": "eoeWZnGiSL5Q",
        "colab_type": "code",
        "colab": {
          "base_uri": "https://localhost:8080/",
          "height": 245
        },
        "outputId": "4463364d-48e1-4dfa-b1ae-fca07af2592f"
      },
      "source": [
        "dfx = amal_df.drop(['LABEL'], axis=1).values\n",
        "dfy = amal_df['LABEL'].values\n",
        "pca_final = PCA(n_components=2)\n",
        "principalComponents = pca_final.fit_transform(dfx)\n",
        "principalDf = pd.DataFrame(data = principalComponents\n",
        "             , columns = ['pc1', 'pc2'])\n",
        "X_train, X_test, y_train, y_test = train_test_split(principalDf, dfy, test_size=0.30)\n",
        "KNN = KNeighborsClassifier(n_neighbors=4)\n",
        "KNN.fit(X_train, y_train)\n",
        "y_pred = KNN.predict(X_test)\n",
        "knn = accuracy_score(y_test,y_pred)*100\n",
        "print(\"Confusion Matrix: \",confusion_matrix(y_test, y_pred)) \n",
        "print (\"Accuracy : \",knn) \n",
        "print(\"Report : \",classification_report(y_test, y_pred))\n"
      ],
      "execution_count": 61,
      "outputs": [
        {
          "output_type": "stream",
          "text": [
            "Confusion Matrix:  [[99320  6353 11100]\n",
            " [19703  2457  2975]\n",
            " [34213  2796  5668]]\n",
            "Accuracy :  58.2089552238806\n",
            "Report :                precision    recall  f1-score   support\n",
            "\n",
            "           0       0.65      0.85      0.74    116773\n",
            "           1       0.21      0.10      0.13     25135\n",
            "           2       0.29      0.13      0.18     42677\n",
            "\n",
            "    accuracy                           0.58    184585\n",
            "   macro avg       0.38      0.36      0.35    184585\n",
            "weighted avg       0.51      0.58      0.53    184585\n",
            "\n"
          ],
          "name": "stdout"
        }
      ]
    },
    {
      "cell_type": "code",
      "metadata": {
        "id": "y-cieWHRkWXU",
        "colab_type": "code",
        "colab": {}
      },
      "source": [
        "\n",
        "df = pd.read_csv('AmalgamatedFireDataset.csv')"
      ],
      "execution_count": 0,
      "outputs": []
    },
    {
      "cell_type": "code",
      "metadata": {
        "id": "bDQe-h17lrcp",
        "colab_type": "code",
        "colab": {}
      },
      "source": [
        ""
      ],
      "execution_count": 0,
      "outputs": []
    }
  ]
}