{
  "nbformat": 4,
  "nbformat_minor": 0,
  "metadata": {
    "colab": {
      "name": "midMl.ipynb",
      "provenance": [],
      "collapsed_sections": [],
      "toc_visible": true,
      "include_colab_link": true
    },
    "kernelspec": {
      "name": "python3",
      "display_name": "Python 3"
    }
  },
  "cells": [
    {
      "cell_type": "markdown",
      "metadata": {
        "id": "view-in-github",
        "colab_type": "text"
      },
      "source": [
        "<a href=\"https://colab.research.google.com/github/LokeshVadlamudi/MachineLearningClass/blob/master/german_data_credit.ipynb\" target=\"_parent\"><img src=\"https://colab.research.google.com/assets/colab-badge.svg\" alt=\"Open In Colab\"/></a>"
      ]
    },
    {
      "cell_type": "code",
      "metadata": {
        "id": "stmHk7BV1dG1",
        "colab_type": "code",
        "colab": {}
      },
      "source": [
        "import pandas as pd\n",
        "import matplotlib.pyplot as plt\n",
        "import seaborn as sns\n",
        "from sklearn.metrics import confusion_matrix\n",
        "from sklearn.metrics import classification_report\n",
        "from sklearn.decomposition import PCA\n",
        "from sklearn.linear_model import LogisticRegression\n",
        "from sklearn.metrics import accuracy_score\n",
        "from sklearn.naive_bayes import GaussianNB\n",
        "from sklearn.cluster import KMeans\n",
        "from sklearn import metrics\n",
        "import numpy as np\n",
        "from xgboost import XGBClassifier\n",
        "from sklearn import svm\n",
        "from sklearn.ensemble import RandomForestClassifier\n",
        "from sklearn.neighbors import KNeighborsClassifier\n",
        "from sklearn.model_selection import train_test_split"
      ],
      "execution_count": 0,
      "outputs": []
    },
    {
      "cell_type": "markdown",
      "metadata": {
        "id": "lZ2-kpaPVcQA",
        "colab_type": "text"
      },
      "source": [
        "Data Preparation - Converted both german.data and numeric data into csv and also used textToColumns option in excel to convert the data in single columns to multiple columns.\n",
        "After that, Compared the german.data with german data numeric csv and found the relevant column names. and processed the final dataset as data-numeric.csv\n",
        "\n",
        "The column order is \n",
        "\n",
        "statusCheckingAccount\tDurationInMonth\tCreditHistory\tCreditAmount\tSavingsAccount\tPresentEmployment\tPersonalStatusSex\tPresentResidentSince\tProperty\tAgeInYears\tOtherInstallmentPlans\tNumberOfCredits\tNumberOfLiablePeople\tTelephone\tForeignWorker\tPurpose1\tPurpose2\tOtherDebt1\tOtherDebt2\tHouse-1\tHouse-2\tJob1\tJob2\tJob3\tCreditRating"
      ]
    },
    {
      "cell_type": "code",
      "metadata": {
        "id": "R0yLqpTAQNcr",
        "colab_type": "code",
        "colab": {}
      },
      "source": [
        "\n",
        "# Code to read csv file into Colaboratory:\n",
        "!pip install -U -q PyDrive\n",
        "from pydrive.auth import GoogleAuth\n",
        "from pydrive.drive import GoogleDrive\n",
        "from google.colab import auth\n",
        "from oauth2client.client import GoogleCredentials\n",
        "# Authenticate and create the PyDrive client.\n",
        "auth.authenticate_user()\n",
        "gauth = GoogleAuth()\n",
        "gauth.credentials = GoogleCredentials.get_application_default()\n",
        "drive = GoogleDrive(gauth)\n",
        "\n",
        "link = 'https://drive.google.com/open?id=1jwpBQTFUxmplXT6JxOwIr2yulBkMbvaT'\n",
        "fluff, id = link.split('=')\n",
        "\n",
        "downloaded = drive.CreateFile({'id':id}) \n",
        "downloaded.GetContentFile('data-numeric.csv')\n"
      ],
      "execution_count": 0,
      "outputs": []
    },
    {
      "cell_type": "code",
      "metadata": {
        "id": "BzFp_8FG4Rxv",
        "colab_type": "code",
        "colab": {}
      },
      "source": [
        "df = pd.read_csv('data-numeric.csv')"
      ],
      "execution_count": 0,
      "outputs": []
    },
    {
      "cell_type": "markdown",
      "metadata": {
        "id": "GecRPQGYnbH1",
        "colab_type": "text"
      },
      "source": [
        "**Business Case and Value**:\n",
        "This dataset classifies people described by a set of attributes as good or bad credit risks. Using this dataset, we can create a model that can predict future customer's credit risks. This kind of data is very much useful in financial sector as the number of applications flood the banks for loans everyday. Initial screening can be done by this model as it reduces significant loan applications that have no potential to get approved."
      ]
    },
    {
      "cell_type": "code",
      "metadata": {
        "id": "66E8nUzk4Uio",
        "colab_type": "code",
        "outputId": "884579a2-4cfe-4ae7-b4f7-530d28ddbfe0",
        "colab": {
          "base_uri": "https://localhost:8080/",
          "height": 427
        }
      },
      "source": [
        "df"
      ],
      "execution_count": 6,
      "outputs": [
        {
          "output_type": "execute_result",
          "data": {
            "text/html": [
              "<div>\n",
              "<style scoped>\n",
              "    .dataframe tbody tr th:only-of-type {\n",
              "        vertical-align: middle;\n",
              "    }\n",
              "\n",
              "    .dataframe tbody tr th {\n",
              "        vertical-align: top;\n",
              "    }\n",
              "\n",
              "    .dataframe thead th {\n",
              "        text-align: right;\n",
              "    }\n",
              "</style>\n",
              "<table border=\"1\" class=\"dataframe\">\n",
              "  <thead>\n",
              "    <tr style=\"text-align: right;\">\n",
              "      <th></th>\n",
              "      <th>statusCheckingAccount</th>\n",
              "      <th>DurationInMonth</th>\n",
              "      <th>CreditHistory</th>\n",
              "      <th>CreditAmount</th>\n",
              "      <th>SavingsAccount</th>\n",
              "      <th>PresentEmployment</th>\n",
              "      <th>PersonalStatusSex</th>\n",
              "      <th>PresentResidentSince</th>\n",
              "      <th>Property</th>\n",
              "      <th>AgeInYears</th>\n",
              "      <th>OtherInstallmentPlans</th>\n",
              "      <th>NumberOfCredits</th>\n",
              "      <th>NumberOfLiablePeople</th>\n",
              "      <th>Telephone</th>\n",
              "      <th>ForeignWorker</th>\n",
              "      <th>Purpose1</th>\n",
              "      <th>Purpose2</th>\n",
              "      <th>OtherDebt1</th>\n",
              "      <th>OtherDebt2</th>\n",
              "      <th>House-1</th>\n",
              "      <th>House-2</th>\n",
              "      <th>Job1</th>\n",
              "      <th>Job2</th>\n",
              "      <th>Job3</th>\n",
              "      <th>CreditRating</th>\n",
              "    </tr>\n",
              "  </thead>\n",
              "  <tbody>\n",
              "    <tr>\n",
              "      <th>0</th>\n",
              "      <td>1</td>\n",
              "      <td>6</td>\n",
              "      <td>4</td>\n",
              "      <td>12</td>\n",
              "      <td>5</td>\n",
              "      <td>5</td>\n",
              "      <td>3</td>\n",
              "      <td>4</td>\n",
              "      <td>1</td>\n",
              "      <td>67</td>\n",
              "      <td>3</td>\n",
              "      <td>2</td>\n",
              "      <td>1</td>\n",
              "      <td>2</td>\n",
              "      <td>1</td>\n",
              "      <td>0</td>\n",
              "      <td>0</td>\n",
              "      <td>1</td>\n",
              "      <td>0</td>\n",
              "      <td>0</td>\n",
              "      <td>1</td>\n",
              "      <td>0</td>\n",
              "      <td>0</td>\n",
              "      <td>1</td>\n",
              "      <td>1</td>\n",
              "    </tr>\n",
              "    <tr>\n",
              "      <th>1</th>\n",
              "      <td>2</td>\n",
              "      <td>48</td>\n",
              "      <td>2</td>\n",
              "      <td>60</td>\n",
              "      <td>1</td>\n",
              "      <td>3</td>\n",
              "      <td>2</td>\n",
              "      <td>2</td>\n",
              "      <td>1</td>\n",
              "      <td>22</td>\n",
              "      <td>3</td>\n",
              "      <td>1</td>\n",
              "      <td>1</td>\n",
              "      <td>1</td>\n",
              "      <td>1</td>\n",
              "      <td>0</td>\n",
              "      <td>0</td>\n",
              "      <td>1</td>\n",
              "      <td>0</td>\n",
              "      <td>0</td>\n",
              "      <td>1</td>\n",
              "      <td>0</td>\n",
              "      <td>0</td>\n",
              "      <td>1</td>\n",
              "      <td>2</td>\n",
              "    </tr>\n",
              "    <tr>\n",
              "      <th>2</th>\n",
              "      <td>4</td>\n",
              "      <td>12</td>\n",
              "      <td>4</td>\n",
              "      <td>21</td>\n",
              "      <td>1</td>\n",
              "      <td>4</td>\n",
              "      <td>3</td>\n",
              "      <td>3</td>\n",
              "      <td>1</td>\n",
              "      <td>49</td>\n",
              "      <td>3</td>\n",
              "      <td>1</td>\n",
              "      <td>2</td>\n",
              "      <td>1</td>\n",
              "      <td>1</td>\n",
              "      <td>0</td>\n",
              "      <td>0</td>\n",
              "      <td>1</td>\n",
              "      <td>0</td>\n",
              "      <td>0</td>\n",
              "      <td>1</td>\n",
              "      <td>0</td>\n",
              "      <td>1</td>\n",
              "      <td>0</td>\n",
              "      <td>1</td>\n",
              "    </tr>\n",
              "    <tr>\n",
              "      <th>3</th>\n",
              "      <td>1</td>\n",
              "      <td>42</td>\n",
              "      <td>2</td>\n",
              "      <td>79</td>\n",
              "      <td>1</td>\n",
              "      <td>4</td>\n",
              "      <td>3</td>\n",
              "      <td>4</td>\n",
              "      <td>2</td>\n",
              "      <td>45</td>\n",
              "      <td>3</td>\n",
              "      <td>1</td>\n",
              "      <td>2</td>\n",
              "      <td>1</td>\n",
              "      <td>1</td>\n",
              "      <td>0</td>\n",
              "      <td>0</td>\n",
              "      <td>0</td>\n",
              "      <td>0</td>\n",
              "      <td>0</td>\n",
              "      <td>0</td>\n",
              "      <td>0</td>\n",
              "      <td>0</td>\n",
              "      <td>1</td>\n",
              "      <td>1</td>\n",
              "    </tr>\n",
              "    <tr>\n",
              "      <th>4</th>\n",
              "      <td>1</td>\n",
              "      <td>24</td>\n",
              "      <td>3</td>\n",
              "      <td>49</td>\n",
              "      <td>1</td>\n",
              "      <td>3</td>\n",
              "      <td>3</td>\n",
              "      <td>4</td>\n",
              "      <td>4</td>\n",
              "      <td>53</td>\n",
              "      <td>3</td>\n",
              "      <td>2</td>\n",
              "      <td>2</td>\n",
              "      <td>1</td>\n",
              "      <td>1</td>\n",
              "      <td>1</td>\n",
              "      <td>0</td>\n",
              "      <td>1</td>\n",
              "      <td>0</td>\n",
              "      <td>0</td>\n",
              "      <td>0</td>\n",
              "      <td>0</td>\n",
              "      <td>0</td>\n",
              "      <td>1</td>\n",
              "      <td>2</td>\n",
              "    </tr>\n",
              "    <tr>\n",
              "      <th>...</th>\n",
              "      <td>...</td>\n",
              "      <td>...</td>\n",
              "      <td>...</td>\n",
              "      <td>...</td>\n",
              "      <td>...</td>\n",
              "      <td>...</td>\n",
              "      <td>...</td>\n",
              "      <td>...</td>\n",
              "      <td>...</td>\n",
              "      <td>...</td>\n",
              "      <td>...</td>\n",
              "      <td>...</td>\n",
              "      <td>...</td>\n",
              "      <td>...</td>\n",
              "      <td>...</td>\n",
              "      <td>...</td>\n",
              "      <td>...</td>\n",
              "      <td>...</td>\n",
              "      <td>...</td>\n",
              "      <td>...</td>\n",
              "      <td>...</td>\n",
              "      <td>...</td>\n",
              "      <td>...</td>\n",
              "      <td>...</td>\n",
              "      <td>...</td>\n",
              "    </tr>\n",
              "    <tr>\n",
              "      <th>995</th>\n",
              "      <td>4</td>\n",
              "      <td>12</td>\n",
              "      <td>2</td>\n",
              "      <td>17</td>\n",
              "      <td>1</td>\n",
              "      <td>4</td>\n",
              "      <td>2</td>\n",
              "      <td>4</td>\n",
              "      <td>1</td>\n",
              "      <td>31</td>\n",
              "      <td>3</td>\n",
              "      <td>1</td>\n",
              "      <td>1</td>\n",
              "      <td>1</td>\n",
              "      <td>1</td>\n",
              "      <td>0</td>\n",
              "      <td>0</td>\n",
              "      <td>1</td>\n",
              "      <td>0</td>\n",
              "      <td>0</td>\n",
              "      <td>1</td>\n",
              "      <td>0</td>\n",
              "      <td>1</td>\n",
              "      <td>0</td>\n",
              "      <td>1</td>\n",
              "    </tr>\n",
              "    <tr>\n",
              "      <th>996</th>\n",
              "      <td>1</td>\n",
              "      <td>30</td>\n",
              "      <td>2</td>\n",
              "      <td>39</td>\n",
              "      <td>1</td>\n",
              "      <td>3</td>\n",
              "      <td>1</td>\n",
              "      <td>4</td>\n",
              "      <td>2</td>\n",
              "      <td>40</td>\n",
              "      <td>3</td>\n",
              "      <td>1</td>\n",
              "      <td>1</td>\n",
              "      <td>2</td>\n",
              "      <td>1</td>\n",
              "      <td>0</td>\n",
              "      <td>1</td>\n",
              "      <td>1</td>\n",
              "      <td>0</td>\n",
              "      <td>0</td>\n",
              "      <td>1</td>\n",
              "      <td>0</td>\n",
              "      <td>0</td>\n",
              "      <td>0</td>\n",
              "      <td>1</td>\n",
              "    </tr>\n",
              "    <tr>\n",
              "      <th>997</th>\n",
              "      <td>4</td>\n",
              "      <td>12</td>\n",
              "      <td>2</td>\n",
              "      <td>8</td>\n",
              "      <td>1</td>\n",
              "      <td>5</td>\n",
              "      <td>3</td>\n",
              "      <td>4</td>\n",
              "      <td>3</td>\n",
              "      <td>38</td>\n",
              "      <td>3</td>\n",
              "      <td>1</td>\n",
              "      <td>1</td>\n",
              "      <td>1</td>\n",
              "      <td>1</td>\n",
              "      <td>0</td>\n",
              "      <td>0</td>\n",
              "      <td>1</td>\n",
              "      <td>0</td>\n",
              "      <td>0</td>\n",
              "      <td>1</td>\n",
              "      <td>0</td>\n",
              "      <td>0</td>\n",
              "      <td>1</td>\n",
              "      <td>1</td>\n",
              "    </tr>\n",
              "    <tr>\n",
              "      <th>998</th>\n",
              "      <td>1</td>\n",
              "      <td>45</td>\n",
              "      <td>2</td>\n",
              "      <td>18</td>\n",
              "      <td>1</td>\n",
              "      <td>3</td>\n",
              "      <td>3</td>\n",
              "      <td>4</td>\n",
              "      <td>4</td>\n",
              "      <td>23</td>\n",
              "      <td>3</td>\n",
              "      <td>1</td>\n",
              "      <td>1</td>\n",
              "      <td>2</td>\n",
              "      <td>1</td>\n",
              "      <td>0</td>\n",
              "      <td>0</td>\n",
              "      <td>1</td>\n",
              "      <td>0</td>\n",
              "      <td>0</td>\n",
              "      <td>0</td>\n",
              "      <td>0</td>\n",
              "      <td>0</td>\n",
              "      <td>1</td>\n",
              "      <td>2</td>\n",
              "    </tr>\n",
              "    <tr>\n",
              "      <th>999</th>\n",
              "      <td>2</td>\n",
              "      <td>45</td>\n",
              "      <td>4</td>\n",
              "      <td>46</td>\n",
              "      <td>2</td>\n",
              "      <td>1</td>\n",
              "      <td>3</td>\n",
              "      <td>4</td>\n",
              "      <td>3</td>\n",
              "      <td>27</td>\n",
              "      <td>3</td>\n",
              "      <td>1</td>\n",
              "      <td>1</td>\n",
              "      <td>1</td>\n",
              "      <td>1</td>\n",
              "      <td>0</td>\n",
              "      <td>1</td>\n",
              "      <td>1</td>\n",
              "      <td>0</td>\n",
              "      <td>0</td>\n",
              "      <td>1</td>\n",
              "      <td>0</td>\n",
              "      <td>0</td>\n",
              "      <td>1</td>\n",
              "      <td>1</td>\n",
              "    </tr>\n",
              "  </tbody>\n",
              "</table>\n",
              "<p>1000 rows × 25 columns</p>\n",
              "</div>"
            ],
            "text/plain": [
              "     statusCheckingAccount  DurationInMonth  ...  Job3  CreditRating\n",
              "0                        1                6  ...     1             1\n",
              "1                        2               48  ...     1             2\n",
              "2                        4               12  ...     0             1\n",
              "3                        1               42  ...     1             1\n",
              "4                        1               24  ...     1             2\n",
              "..                     ...              ...  ...   ...           ...\n",
              "995                      4               12  ...     0             1\n",
              "996                      1               30  ...     0             1\n",
              "997                      4               12  ...     1             1\n",
              "998                      1               45  ...     1             2\n",
              "999                      2               45  ...     1             1\n",
              "\n",
              "[1000 rows x 25 columns]"
            ]
          },
          "metadata": {
            "tags": []
          },
          "execution_count": 6
        }
      ]
    },
    {
      "cell_type": "code",
      "metadata": {
        "id": "-OL4XozgLqK2",
        "colab_type": "code",
        "outputId": "bccf4278-9efb-4d10-95ac-b3b5ebb96ad6",
        "colab": {
          "base_uri": "https://localhost:8080/",
          "height": 440
        }
      },
      "source": [
        "df.isnull().sum()"
      ],
      "execution_count": 7,
      "outputs": [
        {
          "output_type": "execute_result",
          "data": {
            "text/plain": [
              "statusCheckingAccount    0\n",
              "DurationInMonth          0\n",
              "CreditHistory            0\n",
              "CreditAmount             0\n",
              "SavingsAccount           0\n",
              "PresentEmployment        0\n",
              "PersonalStatusSex        0\n",
              "PresentResidentSince     0\n",
              "Property                 0\n",
              "AgeInYears               0\n",
              "OtherInstallmentPlans    0\n",
              "NumberOfCredits          0\n",
              "NumberOfLiablePeople     0\n",
              "Telephone                0\n",
              "ForeignWorker            0\n",
              "Purpose1                 0\n",
              "Purpose2                 0\n",
              "OtherDebt1               0\n",
              "OtherDebt2               0\n",
              "House-1                  0\n",
              "House-2                  0\n",
              "Job1                     0\n",
              "Job2                     0\n",
              "Job3                     0\n",
              "CreditRating             0\n",
              "dtype: int64"
            ]
          },
          "metadata": {
            "tags": []
          },
          "execution_count": 7
        }
      ]
    },
    {
      "cell_type": "markdown",
      "metadata": {
        "id": "F3qvsm1kWZQC",
        "colab_type": "text"
      },
      "source": [
        "There are no null values in the dataset. we are good to go\n"
      ]
    },
    {
      "cell_type": "markdown",
      "metadata": {
        "id": "fZs6eN2TF7Pw",
        "colab_type": "text"
      },
      "source": [
        "#pearson Correlation matrix"
      ]
    },
    {
      "cell_type": "code",
      "metadata": {
        "id": "FobgoehMEs9B",
        "colab_type": "code",
        "outputId": "c00edb3a-afa2-4965-b7c7-9cbf56e49e13",
        "colab": {
          "base_uri": "https://localhost:8080/",
          "height": 228
        }
      },
      "source": [
        "np.corrcoef(df[::-1], y=None)"
      ],
      "execution_count": 8,
      "outputs": [
        {
          "output_type": "execute_result",
          "data": {
            "text/plain": [
              "array([[1.        , 0.9106112 , 0.61096814, ..., 0.68965371, 0.98483634,\n",
              "        0.48196912],\n",
              "       [0.9106112 , 1.        , 0.65611887, ..., 0.6374344 , 0.84684615,\n",
              "        0.48473752],\n",
              "       [0.61096814, 0.65611887, 1.        , ..., 0.9695727 , 0.49924178,\n",
              "        0.96825541],\n",
              "       ...,\n",
              "       [0.68965371, 0.6374344 , 0.9695727 , ..., 1.        , 0.60633605,\n",
              "        0.95914776],\n",
              "       [0.98483634, 0.84684615, 0.49924178, ..., 0.60633605, 1.        ,\n",
              "        0.37476221],\n",
              "       [0.48196912, 0.48473752, 0.96825541, ..., 0.95914776, 0.37476221,\n",
              "        1.        ]])"
            ]
          },
          "metadata": {
            "tags": []
          },
          "execution_count": 8
        }
      ]
    },
    {
      "cell_type": "markdown",
      "metadata": {
        "id": "4CjepWofF3yR",
        "colab_type": "text"
      },
      "source": [
        "#SNS heat map"
      ]
    },
    {
      "cell_type": "code",
      "metadata": {
        "id": "xY5rlz0VFBTh",
        "colab_type": "code",
        "outputId": "51ca792d-53f7-44e0-cc9a-c79ddb4339c7",
        "colab": {
          "base_uri": "https://localhost:8080/",
          "height": 393
        }
      },
      "source": [
        "sns.heatmap(df.corr())"
      ],
      "execution_count": 9,
      "outputs": [
        {
          "output_type": "execute_result",
          "data": {
            "text/plain": [
              "<matplotlib.axes._subplots.AxesSubplot at 0x7f6bdafcb518>"
            ]
          },
          "metadata": {
            "tags": []
          },
          "execution_count": 9
        },
        {
          "output_type": "display_data",
          "data": {
            "image/png": "[encoded data removed]",
            "text/plain": [
              "<Figure size 432x288 with 2 Axes>"
            ]
          },
          "metadata": {
            "tags": []
          }
        }
      ]
    },
    {
      "cell_type": "markdown",
      "metadata": {
        "id": "t7oPm2D7Fkrf",
        "colab_type": "text"
      },
      "source": [
        "As you can see, few variables are correlated, like DurationInMonth, CreditAmount, Property, Purpose1, House-1"
      ]
    },
    {
      "cell_type": "markdown",
      "metadata": {
        "id": "126KPz8-z9E3",
        "colab_type": "text"
      },
      "source": [
        "**Data Visualization:**"
      ]
    },
    {
      "cell_type": "code",
      "metadata": {
        "id": "TGg8aAo74Uar",
        "colab_type": "code",
        "outputId": "7498705d-e363-446a-ef3c-cf77a1a82bdf",
        "colab": {
          "base_uri": "https://localhost:8080/",
          "height": 66
        }
      },
      "source": [
        "df['CreditRating'].value_counts()"
      ],
      "execution_count": 10,
      "outputs": [
        {
          "output_type": "execute_result",
          "data": {
            "text/plain": [
              "1    700\n",
              "2    300\n",
              "Name: CreditRating, dtype: int64"
            ]
          },
          "metadata": {
            "tags": []
          },
          "execution_count": 10
        }
      ]
    },
    {
      "cell_type": "markdown",
      "metadata": {
        "id": "1YoQRGx5Wxmm",
        "colab_type": "text"
      },
      "source": [
        "Good credit ratings outweighs bad credit ratings"
      ]
    },
    {
      "cell_type": "code",
      "metadata": {
        "id": "vqKvEgAp4US7",
        "colab_type": "code",
        "outputId": "8849dd5b-1d97-4ef0-9a97-a7253893ed01",
        "colab": {
          "base_uri": "https://localhost:8080/",
          "height": 281
        }
      },
      "source": [
        "plt.scatter(df['CreditAmount'],df[\"AgeInYears\"])"
      ],
      "execution_count": 11,
      "outputs": [
        {
          "output_type": "execute_result",
          "data": {
            "text/plain": [
              "<matplotlib.collections.PathCollection at 0x7f6bd97c1978>"
            ]
          },
          "metadata": {
            "tags": []
          },
          "execution_count": 11
        },
        {
          "output_type": "display_data",
          "data": {
            "image/png": "[encoded data removed]",
            "text/plain": [
              "<Figure size 432x288 with 1 Axes>"
            ]
          },
          "metadata": {
            "tags": []
          }
        }
      ]
    },
    {
      "cell_type": "markdown",
      "metadata": {
        "id": "zQOdkkhoW8fd",
        "colab_type": "text"
      },
      "source": [
        "more Younger people tend to have bigger credit amounts"
      ]
    },
    {
      "cell_type": "code",
      "metadata": {
        "id": "TocbKpObKg18",
        "colab_type": "code",
        "outputId": "387daf52-0688-4bf8-fe6b-2336e196c811",
        "colab": {
          "base_uri": "https://localhost:8080/",
          "height": 281
        }
      },
      "source": [
        "plt.scatter(df['CreditAmount'],df[\"DurationInMonth\"])"
      ],
      "execution_count": 12,
      "outputs": [
        {
          "output_type": "execute_result",
          "data": {
            "text/plain": [
              "<matplotlib.collections.PathCollection at 0x7f6bd9728cf8>"
            ]
          },
          "metadata": {
            "tags": []
          },
          "execution_count": 12
        },
        {
          "output_type": "display_data",
          "data": {
            "image/png": "[encoded data removed]",
            "text/plain": [
              "<Figure size 432x288 with 1 Axes>"
            ]
          },
          "metadata": {
            "tags": []
          }
        }
      ]
    },
    {
      "cell_type": "markdown",
      "metadata": {
        "id": "5EwTiegnK12A",
        "colab_type": "text"
      },
      "source": [
        "The above plot shows that generally, more the duration , more the credit amount"
      ]
    },
    {
      "cell_type": "code",
      "metadata": {
        "id": "fXE7a4HO4UIp",
        "colab_type": "code",
        "outputId": "4ce7d8ac-5733-4e20-abb3-37f9f0324932",
        "colab": {
          "base_uri": "https://localhost:8080/",
          "height": 296
        }
      },
      "source": [
        "plot1 = df['CreditAmount'].hist(bins = 60)\n",
        "plot1.text(50,-20,'Credit amount', ha='center')\n",
        "plot1.text(-40,30,'Frequency', ha='center')"
      ],
      "execution_count": 13,
      "outputs": [
        {
          "output_type": "execute_result",
          "data": {
            "text/plain": [
              "Text(-40, 30, 'Frequency')"
            ]
          },
          "metadata": {
            "tags": []
          },
          "execution_count": 13
        },
        {
          "output_type": "display_data",
          "data": {
            "image/png": "[encoded data removed]",
            "text/plain": [
              "<Figure size 432x288 with 1 Axes>"
            ]
          },
          "metadata": {
            "tags": []
          }
        }
      ]
    },
    {
      "cell_type": "markdown",
      "metadata": {
        "id": "Wq2N1SE1XLH7",
        "colab_type": "text"
      },
      "source": [
        "Most of the people have credit amount less than 25k"
      ]
    },
    {
      "cell_type": "code",
      "metadata": {
        "id": "0iMNZERB4T5b",
        "colab_type": "code",
        "outputId": "4a99c1dc-d3bc-4da3-e32f-10c5b7e708fa",
        "colab": {
          "base_uri": "https://localhost:8080/",
          "height": 307
        }
      },
      "source": [
        "plot1 = df['AgeInYears'].hist(bins = 60)\n",
        "plot1.text(50,-10,'Age', ha='center')\n",
        "plot1.text(0,30,'Frequency', ha='center')"
      ],
      "execution_count": 14,
      "outputs": [
        {
          "output_type": "execute_result",
          "data": {
            "text/plain": [
              "Text(0, 30, 'Frequency')"
            ]
          },
          "metadata": {
            "tags": []
          },
          "execution_count": 14
        },
        {
          "output_type": "display_data",
          "data": {
            "image/png": "[encoded data removed]",
            "text/plain": [
              "<Figure size 432x288 with 1 Axes>"
            ]
          },
          "metadata": {
            "tags": []
          }
        }
      ]
    },
    {
      "cell_type": "markdown",
      "metadata": {
        "id": "uHUTJ4aCXVOO",
        "colab_type": "text"
      },
      "source": [
        "Most people in this dataset have age between 23 and 40"
      ]
    },
    {
      "cell_type": "code",
      "metadata": {
        "id": "AUhUkJ2I3De_",
        "colab_type": "code",
        "outputId": "322d2dd4-ef6d-4d2d-d529-3096341746b2",
        "colab": {
          "base_uri": "https://localhost:8080/",
          "height": 66
        }
      },
      "source": [
        "df['Job3'].value_counts()"
      ],
      "execution_count": 15,
      "outputs": [
        {
          "output_type": "execute_result",
          "data": {
            "text/plain": [
              "1    630\n",
              "0    370\n",
              "Name: Job3, dtype: int64"
            ]
          },
          "metadata": {
            "tags": []
          },
          "execution_count": 15
        }
      ]
    },
    {
      "cell_type": "markdown",
      "metadata": {
        "id": "2FOchyteXisQ",
        "colab_type": "text"
      },
      "source": [
        "Majority of the people are skilled workers"
      ]
    },
    {
      "cell_type": "markdown",
      "metadata": {
        "id": "zz_bdqfJ4QUX",
        "colab_type": "text"
      },
      "source": [
        "**skilled worker vs credit amount**"
      ]
    },
    {
      "cell_type": "code",
      "metadata": {
        "id": "If8KPmBb4KKf",
        "colab_type": "code",
        "outputId": "aee03c0c-7f03-407d-9a6d-6f23986ef362",
        "colab": {
          "base_uri": "https://localhost:8080/",
          "height": 281
        }
      },
      "source": [
        "plt.scatter(df['CreditAmount'],df[\"Job3\"])"
      ],
      "execution_count": 16,
      "outputs": [
        {
          "output_type": "execute_result",
          "data": {
            "text/plain": [
              "<matplotlib.collections.PathCollection at 0x7f6bd9c20128>"
            ]
          },
          "metadata": {
            "tags": []
          },
          "execution_count": 16
        },
        {
          "output_type": "display_data",
          "data": {
            "image/png": "[encoded data removed]",
            "text/plain": [
              "<Figure size 432x288 with 1 Axes>"
            ]
          },
          "metadata": {
            "tags": []
          }
        }
      ]
    },
    {
      "cell_type": "code",
      "metadata": {
        "id": "owLPyaQKLBoJ",
        "colab_type": "code",
        "outputId": "69530035-a944-4025-ae1b-ba9c43045f40",
        "colab": {
          "base_uri": "https://localhost:8080/",
          "height": 420
        }
      },
      "source": [
        "plt.figure(figsize=(16, 6))\n",
        "sns.distplot(df['CreditAmount'], kde = True, color = 'red', label = 'Credit amount').set_title('Credit amount -- Distribution Plot')"
      ],
      "execution_count": 17,
      "outputs": [
        {
          "output_type": "execute_result",
          "data": {
            "text/plain": [
              "Text(0.5, 1.0, 'Credit amount -- Distribution Plot')"
            ]
          },
          "metadata": {
            "tags": []
          },
          "execution_count": 17
        },
        {
          "output_type": "display_data",
          "data": {
            "image/png": "[encoded data removed]",
            "text/plain": [
              "<Figure size 1152x432 with 1 Axes>"
            ]
          },
          "metadata": {
            "tags": []
          }
        }
      ]
    },
    {
      "cell_type": "code",
      "metadata": {
        "id": "g4vD3sbt4cfa",
        "colab_type": "code",
        "colab": {}
      },
      "source": [
        ""
      ],
      "execution_count": 0,
      "outputs": []
    },
    {
      "cell_type": "markdown",
      "metadata": {
        "colab_type": "text",
        "id": "_FhgzqwWbhqj"
      },
      "source": [
        "**DataPreparation before applying models.**"
      ]
    },
    {
      "cell_type": "markdown",
      "metadata": {
        "id": "x-8s6YFCgrng",
        "colab_type": "text"
      },
      "source": [
        "Lets use PCA to reduce the dimensions as we have more than 20 features\n"
      ]
    },
    {
      "cell_type": "markdown",
      "metadata": {
        "id": "iHzfUQ-Rix60",
        "colab_type": "text"
      },
      "source": [
        "**PCA**"
      ]
    },
    {
      "cell_type": "code",
      "metadata": {
        "id": "XNjc9Wbs_279",
        "colab_type": "code",
        "outputId": "775b4984-f8a2-4d06-f67b-fdc94cd40ce0",
        "colab": {
          "base_uri": "https://localhost:8080/",
          "height": 391
        }
      },
      "source": [
        "pca_final = PCA(n_components=5)\n",
        "principalComponents = pca_final.fit_transform(df[::-1])\n",
        "principalDf = pd.DataFrame(data = principalComponents\n",
        "             , columns = ['pc1', 'pc2','pc3','pc4','pc5'])\n",
        "finalDf = pd.concat([principalDf, df[['CreditRating']]], axis = 1)\n",
        "finalDf"
      ],
      "execution_count": 18,
      "outputs": [
        {
          "output_type": "execute_result",
          "data": {
            "text/html": [
              "<div>\n",
              "<style scoped>\n",
              "    .dataframe tbody tr th:only-of-type {\n",
              "        vertical-align: middle;\n",
              "    }\n",
              "\n",
              "    .dataframe tbody tr th {\n",
              "        vertical-align: top;\n",
              "    }\n",
              "\n",
              "    .dataframe thead th {\n",
              "        text-align: right;\n",
              "    }\n",
              "</style>\n",
              "<table border=\"1\" class=\"dataframe\">\n",
              "  <thead>\n",
              "    <tr style=\"text-align: right;\">\n",
              "      <th></th>\n",
              "      <th>pc1</th>\n",
              "      <th>pc2</th>\n",
              "      <th>pc3</th>\n",
              "      <th>pc4</th>\n",
              "      <th>pc5</th>\n",
              "      <th>CreditRating</th>\n",
              "    </tr>\n",
              "  </thead>\n",
              "  <tbody>\n",
              "    <tr>\n",
              "      <th>0</th>\n",
              "      <td>19.502507</td>\n",
              "      <td>-11.711038</td>\n",
              "      <td>-17.672713</td>\n",
              "      <td>-0.318129</td>\n",
              "      <td>0.119115</td>\n",
              "      <td>1</td>\n",
              "    </tr>\n",
              "    <tr>\n",
              "      <th>1</th>\n",
              "      <td>-7.359081</td>\n",
              "      <td>-16.583569</td>\n",
              "      <td>-25.040108</td>\n",
              "      <td>-1.411319</td>\n",
              "      <td>0.811650</td>\n",
              "      <td>2</td>\n",
              "    </tr>\n",
              "    <tr>\n",
              "      <th>2</th>\n",
              "      <td>-26.190237</td>\n",
              "      <td>3.020617</td>\n",
              "      <td>0.997863</td>\n",
              "      <td>-0.046327</td>\n",
              "      <td>-1.472986</td>\n",
              "      <td>1</td>\n",
              "    </tr>\n",
              "    <tr>\n",
              "      <th>3</th>\n",
              "      <td>8.673958</td>\n",
              "      <td>3.197005</td>\n",
              "      <td>-7.513488</td>\n",
              "      <td>-1.760282</td>\n",
              "      <td>1.026743</td>\n",
              "      <td>1</td>\n",
              "    </tr>\n",
              "    <tr>\n",
              "      <th>4</th>\n",
              "      <td>-17.671274</td>\n",
              "      <td>-3.611227</td>\n",
              "      <td>4.700148</td>\n",
              "      <td>-0.166724</td>\n",
              "      <td>-1.218069</td>\n",
              "      <td>2</td>\n",
              "    </tr>\n",
              "    <tr>\n",
              "      <th>...</th>\n",
              "      <td>...</td>\n",
              "      <td>...</td>\n",
              "      <td>...</td>\n",
              "      <td>...</td>\n",
              "      <td>...</td>\n",
              "      <td>...</td>\n",
              "    </tr>\n",
              "    <tr>\n",
              "      <th>995</th>\n",
              "      <td>16.719109</td>\n",
              "      <td>17.297782</td>\n",
              "      <td>-1.078603</td>\n",
              "      <td>-1.997574</td>\n",
              "      <td>0.667681</td>\n",
              "      <td>1</td>\n",
              "    </tr>\n",
              "    <tr>\n",
              "      <th>996</th>\n",
              "      <td>50.479827</td>\n",
              "      <td>7.635788</td>\n",
              "      <td>-8.345711</td>\n",
              "      <td>-1.752156</td>\n",
              "      <td>0.487619</td>\n",
              "      <td>1</td>\n",
              "    </tr>\n",
              "    <tr>\n",
              "      <th>997</th>\n",
              "      <td>-13.630678</td>\n",
              "      <td>14.288413</td>\n",
              "      <td>3.031589</td>\n",
              "      <td>-0.387239</td>\n",
              "      <td>-2.035621</td>\n",
              "      <td>1</td>\n",
              "    </tr>\n",
              "    <tr>\n",
              "      <th>998</th>\n",
              "      <td>33.691383</td>\n",
              "      <td>-16.691967</td>\n",
              "      <td>-15.757691</td>\n",
              "      <td>-1.238189</td>\n",
              "      <td>-0.098432</td>\n",
              "      <td>2</td>\n",
              "    </tr>\n",
              "    <tr>\n",
              "      <th>999</th>\n",
              "      <td>-23.724681</td>\n",
              "      <td>32.743302</td>\n",
              "      <td>3.276686</td>\n",
              "      <td>1.926138</td>\n",
              "      <td>1.378334</td>\n",
              "      <td>1</td>\n",
              "    </tr>\n",
              "  </tbody>\n",
              "</table>\n",
              "<p>1000 rows × 6 columns</p>\n",
              "</div>"
            ],
            "text/plain": [
              "           pc1        pc2        pc3       pc4       pc5  CreditRating\n",
              "0    19.502507 -11.711038 -17.672713 -0.318129  0.119115             1\n",
              "1    -7.359081 -16.583569 -25.040108 -1.411319  0.811650             2\n",
              "2   -26.190237   3.020617   0.997863 -0.046327 -1.472986             1\n",
              "3     8.673958   3.197005  -7.513488 -1.760282  1.026743             1\n",
              "4   -17.671274  -3.611227   4.700148 -0.166724 -1.218069             2\n",
              "..         ...        ...        ...       ...       ...           ...\n",
              "995  16.719109  17.297782  -1.078603 -1.997574  0.667681             1\n",
              "996  50.479827   7.635788  -8.345711 -1.752156  0.487619             1\n",
              "997 -13.630678  14.288413   3.031589 -0.387239 -2.035621             1\n",
              "998  33.691383 -16.691967 -15.757691 -1.238189 -0.098432             2\n",
              "999 -23.724681  32.743302   3.276686  1.926138  1.378334             1\n",
              "\n",
              "[1000 rows x 6 columns]"
            ]
          },
          "metadata": {
            "tags": []
          },
          "execution_count": 18
        }
      ]
    },
    {
      "cell_type": "markdown",
      "metadata": {
        "id": "zMC_DC_xik1M",
        "colab_type": "text"
      },
      "source": [
        "**if PCA is not Applied**, taking variables that are correlated based on sns heat map"
      ]
    },
    {
      "cell_type": "code",
      "metadata": {
        "id": "LfVwgdpa909t",
        "colab_type": "code",
        "colab": {}
      },
      "source": [
        "xcol = ['DurationInMonth','CreditAmount', 'Property', 'Purpose1', 'House-1']\n",
        "ycol = ['CreditRating']"
      ],
      "execution_count": 0,
      "outputs": []
    },
    {
      "cell_type": "code",
      "metadata": {
        "id": "bQ89lF_l9I7M",
        "colab_type": "code",
        "colab": {}
      },
      "source": [
        "dfx = df[xcol]\n",
        "dfy = df[ycol]"
      ],
      "execution_count": 0,
      "outputs": []
    },
    {
      "cell_type": "code",
      "metadata": {
        "id": "hDR7_11oM6ea",
        "colab_type": "code",
        "colab": {}
      },
      "source": [
        "# pca_final = PCA(n_components=4)\n",
        "# principalComponents = pca_final.fit_transform(dfx)\n",
        "# principalDf = pd.DataFrame(data = principalComponents\n",
        "#              , columns = ['pc1', 'pc2','pc3','pc4'])"
      ],
      "execution_count": 0,
      "outputs": []
    },
    {
      "cell_type": "markdown",
      "metadata": {
        "id": "5PMkPgxAirx9",
        "colab_type": "text"
      },
      "source": [
        "**splitting the data (both pca applied and not applied) **"
      ]
    },
    {
      "cell_type": "code",
      "metadata": {
        "id": "OPDGOhk-_8xZ",
        "colab_type": "code",
        "colab": {}
      },
      "source": [
        "X_train, X_test, y_train, y_test = train_test_split(dfx, dfy, test_size=0.33)\n",
        "# X_train, X_test, y_train, y_test = train_test_split(principalDf, finalDf['CreditRating'], test_size=0.33)"
      ],
      "execution_count": 0,
      "outputs": []
    },
    {
      "cell_type": "markdown",
      "metadata": {
        "id": "iVdh5HLnCZqN",
        "colab_type": "text"
      },
      "source": [
        "**Logistic Regression**"
      ]
    },
    {
      "cell_type": "code",
      "metadata": {
        "id": "Qr_yNCyZ_KUi",
        "colab_type": "code",
        "outputId": "65f9b0f1-c1b2-4911-decd-08f5b7bcb5c9",
        "colab": {
          "base_uri": "https://localhost:8080/",
          "height": 70
        }
      },
      "source": [
        "clf = LogisticRegression().fit(X_train, y_train)"
      ],
      "execution_count": 23,
      "outputs": [
        {
          "output_type": "stream",
          "text": [
            "/usr/local/lib/python3.6/dist-packages/sklearn/utils/validation.py:760: DataConversionWarning: A column-vector y was passed when a 1d array was expected. Please change the shape of y to (n_samples, ), for example using ravel().\n",
            "  y = column_or_1d(y, warn=True)\n"
          ],
          "name": "stderr"
        }
      ]
    },
    {
      "cell_type": "code",
      "metadata": {
        "id": "ZAjUlumWA3aJ",
        "colab_type": "code",
        "colab": {}
      },
      "source": [
        "y_pred = clf.predict(X_test)"
      ],
      "execution_count": 0,
      "outputs": []
    },
    {
      "cell_type": "code",
      "metadata": {
        "id": "QBxZ1ipkBHxA",
        "colab_type": "code",
        "outputId": "1777af2d-e3fe-4243-85bc-0bb50b25edf7",
        "colab": {
          "base_uri": "https://localhost:8080/",
          "height": 33
        }
      },
      "source": [
        "accuracy_score(y_test,y_pred)"
      ],
      "execution_count": 25,
      "outputs": [
        {
          "output_type": "execute_result",
          "data": {
            "text/plain": [
              "0.696969696969697"
            ]
          },
          "metadata": {
            "tags": []
          },
          "execution_count": 25
        }
      ]
    },
    {
      "cell_type": "code",
      "metadata": {
        "id": "2i1kv9LBkJBm",
        "colab_type": "code",
        "outputId": "df2b6b81-681b-4936-efe3-71224e13161a",
        "colab": {
          "base_uri": "https://localhost:8080/",
          "height": 50
        }
      },
      "source": [
        "\n",
        "confusion_matrix(y_test, y_pred)"
      ],
      "execution_count": 26,
      "outputs": [
        {
          "output_type": "execute_result",
          "data": {
            "text/plain": [
              "array([[215,   9],\n",
              "       [ 91,  15]])"
            ]
          },
          "metadata": {
            "tags": []
          },
          "execution_count": 26
        }
      ]
    },
    {
      "cell_type": "code",
      "metadata": {
        "id": "b-qJeykXmohj",
        "colab_type": "code",
        "outputId": "5511714b-328c-45e7-f94e-46b2185db352",
        "colab": {
          "base_uri": "https://localhost:8080/",
          "height": 53
        }
      },
      "source": [
        "\n",
        "classification_report(y_test, y_pred)"
      ],
      "execution_count": 27,
      "outputs": [
        {
          "output_type": "execute_result",
          "data": {
            "text/plain": [
              "'              precision    recall  f1-score   support\\n\\n           1       0.70      0.96      0.81       224\\n           2       0.62      0.14      0.23       106\\n\\n    accuracy                           0.70       330\\n   macro avg       0.66      0.55      0.52       330\\nweighted avg       0.68      0.70      0.62       330\\n'"
            ]
          },
          "metadata": {
            "tags": []
          },
          "execution_count": 27
        }
      ]
    },
    {
      "cell_type": "markdown",
      "metadata": {
        "id": "gzUKO_VQCeZW",
        "colab_type": "text"
      },
      "source": [
        "**Linear Regression**"
      ]
    },
    {
      "cell_type": "code",
      "metadata": {
        "id": "-fVWXf9QBOy-",
        "colab_type": "code",
        "colab": {}
      },
      "source": [
        "from sklearn.linear_model import LinearRegression"
      ],
      "execution_count": 0,
      "outputs": []
    },
    {
      "cell_type": "code",
      "metadata": {
        "id": "gKrk97gBCjYw",
        "colab_type": "code",
        "colab": {}
      },
      "source": [
        "clf = LinearRegression().fit(X_train, y_train)"
      ],
      "execution_count": 0,
      "outputs": []
    },
    {
      "cell_type": "code",
      "metadata": {
        "id": "0D9n5kj2Crfx",
        "colab_type": "code",
        "colab": {}
      },
      "source": [
        "y_pred = clf.predict(X_test)"
      ],
      "execution_count": 0,
      "outputs": []
    },
    {
      "cell_type": "code",
      "metadata": {
        "id": "hg-dRpscCwNF",
        "colab_type": "code",
        "outputId": "6b2f4d38-8a1a-4b72-ddb5-c7ce4f938326",
        "colab": {
          "base_uri": "https://localhost:8080/",
          "height": 66
        }
      },
      "source": [
        "print('Mean Absolute Error:', metrics.mean_absolute_error(y_test, y_pred))  \n",
        "print('Mean Squared Error:', metrics.mean_squared_error(y_test, y_pred))  \n",
        "print('Root Mean Squared Error:', np.sqrt(metrics.mean_squared_error(y_test, y_pred)))"
      ],
      "execution_count": 31,
      "outputs": [
        {
          "output_type": "stream",
          "text": [
            "Mean Absolute Error: 0.39074250772071467\n",
            "Mean Squared Error: 0.20387423575592187\n",
            "Root Mean Squared Error: 0.451524346803051\n"
          ],
          "name": "stdout"
        }
      ]
    },
    {
      "cell_type": "code",
      "metadata": {
        "id": "W7EJ5OSEkSb-",
        "colab_type": "code",
        "colab": {}
      },
      "source": [
        "# from sklearn.metrics import confusion_matrix\n",
        "# confusion_matrix(y_test, y_pred)"
      ],
      "execution_count": 0,
      "outputs": []
    },
    {
      "cell_type": "code",
      "metadata": {
        "id": "yo0t-DNLpC6H",
        "colab_type": "code",
        "colab": {}
      },
      "source": [
        "# classification_report(y_test, y_pred)"
      ],
      "execution_count": 0,
      "outputs": []
    },
    {
      "cell_type": "markdown",
      "metadata": {
        "id": "ofjuff_eGhSp",
        "colab_type": "text"
      },
      "source": [
        "**XGBoost**"
      ]
    },
    {
      "cell_type": "code",
      "metadata": {
        "id": "0EVcIrF5Gmea",
        "colab_type": "code",
        "outputId": "6694281d-6b6b-4d94-aab3-ef787f9bea9d",
        "colab": {
          "base_uri": "https://localhost:8080/",
          "height": 216
        }
      },
      "source": [
        "model = XGBClassifier()\n",
        "model.fit(X_train, y_train)"
      ],
      "execution_count": 34,
      "outputs": [
        {
          "output_type": "stream",
          "text": [
            "/usr/local/lib/python3.6/dist-packages/sklearn/preprocessing/_label.py:235: DataConversionWarning: A column-vector y was passed when a 1d array was expected. Please change the shape of y to (n_samples, ), for example using ravel().\n",
            "  y = column_or_1d(y, warn=True)\n",
            "/usr/local/lib/python3.6/dist-packages/sklearn/preprocessing/_label.py:268: DataConversionWarning: A column-vector y was passed when a 1d array was expected. Please change the shape of y to (n_samples, ), for example using ravel().\n",
            "  y = column_or_1d(y, warn=True)\n"
          ],
          "name": "stderr"
        },
        {
          "output_type": "execute_result",
          "data": {
            "text/plain": [
              "XGBClassifier(base_score=0.5, booster='gbtree', colsample_bylevel=1,\n",
              "              colsample_bynode=1, colsample_bytree=1, gamma=0,\n",
              "              learning_rate=0.1, max_delta_step=0, max_depth=3,\n",
              "              min_child_weight=1, missing=None, n_estimators=100, n_jobs=1,\n",
              "              nthread=None, objective='binary:logistic', random_state=0,\n",
              "              reg_alpha=0, reg_lambda=1, scale_pos_weight=1, seed=None,\n",
              "              silent=None, subsample=1, verbosity=1)"
            ]
          },
          "metadata": {
            "tags": []
          },
          "execution_count": 34
        }
      ]
    },
    {
      "cell_type": "code",
      "metadata": {
        "id": "1CwiVVyVGt7c",
        "colab_type": "code",
        "outputId": "a5e9cbe1-ddf0-4c51-e1ae-ccf576d2eae7",
        "colab": {
          "base_uri": "https://localhost:8080/",
          "height": 33
        }
      },
      "source": [
        "y_pred = model.predict(X_test)\n",
        "predictions = [round(value) for value in y_pred]\n",
        "accuracy = accuracy_score(y_test, predictions)\n",
        "print(\"Accuracy: %.2f%%\" % (accuracy * 100.0))"
      ],
      "execution_count": 35,
      "outputs": [
        {
          "output_type": "stream",
          "text": [
            "Accuracy: 69.39%\n"
          ],
          "name": "stdout"
        }
      ]
    },
    {
      "cell_type": "code",
      "metadata": {
        "id": "HS3ROW6qkVXX",
        "colab_type": "code",
        "outputId": "96987501-b231-4e4d-ceeb-42b14cda7003",
        "colab": {
          "base_uri": "https://localhost:8080/",
          "height": 50
        }
      },
      "source": [
        "\n",
        "confusion_matrix(y_test, y_pred)"
      ],
      "execution_count": 36,
      "outputs": [
        {
          "output_type": "execute_result",
          "data": {
            "text/plain": [
              "array([[203,  21],\n",
              "       [ 80,  26]])"
            ]
          },
          "metadata": {
            "tags": []
          },
          "execution_count": 36
        }
      ]
    },
    {
      "cell_type": "code",
      "metadata": {
        "id": "kotsXDP2pGKA",
        "colab_type": "code",
        "outputId": "91ae704f-ed4a-423b-e716-1a65240a3e11",
        "colab": {
          "base_uri": "https://localhost:8080/",
          "height": 53
        }
      },
      "source": [
        "classification_report(y_test, y_pred)"
      ],
      "execution_count": 37,
      "outputs": [
        {
          "output_type": "execute_result",
          "data": {
            "text/plain": [
              "'              precision    recall  f1-score   support\\n\\n           1       0.72      0.91      0.80       224\\n           2       0.55      0.25      0.34       106\\n\\n    accuracy                           0.69       330\\n   macro avg       0.64      0.58      0.57       330\\nweighted avg       0.66      0.69      0.65       330\\n'"
            ]
          },
          "metadata": {
            "tags": []
          },
          "execution_count": 37
        }
      ]
    },
    {
      "cell_type": "markdown",
      "metadata": {
        "id": "vwnooG_8INss",
        "colab_type": "text"
      },
      "source": [
        "**SVM**"
      ]
    },
    {
      "cell_type": "code",
      "metadata": {
        "id": "TPVPYuu1G1Rt",
        "colab_type": "code",
        "colab": {}
      },
      "source": [
        "#Import svm model\n",
        "\n",
        "\n",
        "# clf = svm.SVC(kernel='linear')\n",
        "\n",
        "# clf.fit(X_train, y_train)\n",
        "\n",
        "# y_pred = clf.predict(X_test)"
      ],
      "execution_count": 0,
      "outputs": []
    },
    {
      "cell_type": "code",
      "metadata": {
        "id": "TqIV_7S_IV3_",
        "colab_type": "code",
        "colab": {}
      },
      "source": [
        "# print(\"Accuracy:\",metrics.accuracy_score(y_test, y_pred))"
      ],
      "execution_count": 0,
      "outputs": []
    },
    {
      "cell_type": "markdown",
      "metadata": {
        "id": "o3ThwfgBI7fl",
        "colab_type": "text"
      },
      "source": [
        "**Random Forests**"
      ]
    },
    {
      "cell_type": "code",
      "metadata": {
        "id": "5UT45oLiIZbF",
        "colab_type": "code",
        "outputId": "ab786cac-51fb-4c4c-f38e-041007797a98",
        "colab": {
          "base_uri": "https://localhost:8080/",
          "height": 70
        }
      },
      "source": [
        "#Import Random Forest Model\n",
        "\n",
        "\n",
        "clf=RandomForestClassifier(n_estimators=100)\n",
        "\n",
        "clf.fit(X_train,y_train)\n",
        "\n",
        "y_pred=clf.predict(X_test)"
      ],
      "execution_count": 40,
      "outputs": [
        {
          "output_type": "stream",
          "text": [
            "/usr/local/lib/python3.6/dist-packages/ipykernel_launcher.py:5: DataConversionWarning: A column-vector y was passed when a 1d array was expected. Please change the shape of y to (n_samples,), for example using ravel().\n",
            "  \"\"\"\n"
          ],
          "name": "stderr"
        }
      ]
    },
    {
      "cell_type": "code",
      "metadata": {
        "id": "RenBJQALJBai",
        "colab_type": "code",
        "outputId": "0004db6d-4879-47ae-9256-5e74d4e83344",
        "colab": {
          "base_uri": "https://localhost:8080/",
          "height": 33
        }
      },
      "source": [
        "print(\"Accuracy:\",metrics.accuracy_score(y_test, y_pred))"
      ],
      "execution_count": 41,
      "outputs": [
        {
          "output_type": "stream",
          "text": [
            "Accuracy: 0.6393939393939394\n"
          ],
          "name": "stdout"
        }
      ]
    },
    {
      "cell_type": "code",
      "metadata": {
        "id": "C0fTWpJykXY9",
        "colab_type": "code",
        "outputId": "5a15c573-bf47-48dd-d91e-1efaddc13039",
        "colab": {
          "base_uri": "https://localhost:8080/",
          "height": 50
        }
      },
      "source": [
        "\n",
        "confusion_matrix(y_test, y_pred)"
      ],
      "execution_count": 42,
      "outputs": [
        {
          "output_type": "execute_result",
          "data": {
            "text/plain": [
              "array([[180,  44],\n",
              "       [ 75,  31]])"
            ]
          },
          "metadata": {
            "tags": []
          },
          "execution_count": 42
        }
      ]
    },
    {
      "cell_type": "code",
      "metadata": {
        "id": "NudeGHyTpJZV",
        "colab_type": "code",
        "outputId": "e76b4b0a-0e4f-4773-bbfc-38a8bae58c8d",
        "colab": {
          "base_uri": "https://localhost:8080/",
          "height": 53
        }
      },
      "source": [
        "classification_report(y_test, y_pred)"
      ],
      "execution_count": 43,
      "outputs": [
        {
          "output_type": "execute_result",
          "data": {
            "text/plain": [
              "'              precision    recall  f1-score   support\\n\\n           1       0.71      0.80      0.75       224\\n           2       0.41      0.29      0.34       106\\n\\n    accuracy                           0.64       330\\n   macro avg       0.56      0.55      0.55       330\\nweighted avg       0.61      0.64      0.62       330\\n'"
            ]
          },
          "metadata": {
            "tags": []
          },
          "execution_count": 43
        }
      ]
    },
    {
      "cell_type": "markdown",
      "metadata": {
        "id": "LqNCjAxcJTQW",
        "colab_type": "text"
      },
      "source": [
        "**KNN**"
      ]
    },
    {
      "cell_type": "code",
      "metadata": {
        "id": "aAm67-ZdJDJQ",
        "colab_type": "code",
        "outputId": "579a1e6c-0de5-484a-9a53-c111ccc4cce7",
        "colab": {
          "base_uri": "https://localhost:8080/",
          "height": 118
        }
      },
      "source": [
        "\n",
        "\n",
        "model = KNeighborsClassifier(n_neighbors=6)\n",
        "\n",
        "model.fit(X_train,y_train)\n"
      ],
      "execution_count": 44,
      "outputs": [
        {
          "output_type": "stream",
          "text": [
            "/usr/local/lib/python3.6/dist-packages/ipykernel_launcher.py:5: DataConversionWarning: A column-vector y was passed when a 1d array was expected. Please change the shape of y to (n_samples, ), for example using ravel().\n",
            "  \"\"\"\n"
          ],
          "name": "stderr"
        },
        {
          "output_type": "execute_result",
          "data": {
            "text/plain": [
              "KNeighborsClassifier(algorithm='auto', leaf_size=30, metric='minkowski',\n",
              "                     metric_params=None, n_jobs=None, n_neighbors=6, p=2,\n",
              "                     weights='uniform')"
            ]
          },
          "metadata": {
            "tags": []
          },
          "execution_count": 44
        }
      ]
    },
    {
      "cell_type": "code",
      "metadata": {
        "id": "Lbu7faHkJePa",
        "colab_type": "code",
        "outputId": "28c21265-187c-4fb0-fc42-1b6f2cee194b",
        "colab": {
          "base_uri": "https://localhost:8080/",
          "height": 33
        }
      },
      "source": [
        "y_pred=model.predict(X_test)\n",
        "print(\"Accuracy:\",metrics.accuracy_score(y_test, y_pred))"
      ],
      "execution_count": 45,
      "outputs": [
        {
          "output_type": "stream",
          "text": [
            "Accuracy: 0.6515151515151515\n"
          ],
          "name": "stdout"
        }
      ]
    },
    {
      "cell_type": "code",
      "metadata": {
        "id": "H_G6BretkaP-",
        "colab_type": "code",
        "outputId": "6f9b152f-e3ec-49f9-c4db-5a2e43de53df",
        "colab": {
          "base_uri": "https://localhost:8080/",
          "height": 50
        }
      },
      "source": [
        "\n",
        "confusion_matrix(y_test, y_pred)"
      ],
      "execution_count": 46,
      "outputs": [
        {
          "output_type": "execute_result",
          "data": {
            "text/plain": [
              "array([[205,  19],\n",
              "       [ 96,  10]])"
            ]
          },
          "metadata": {
            "tags": []
          },
          "execution_count": 46
        }
      ]
    },
    {
      "cell_type": "code",
      "metadata": {
        "id": "zRyDFtcwpLJI",
        "colab_type": "code",
        "outputId": "27e2c362-46e4-476f-fc87-f934118ab993",
        "colab": {
          "base_uri": "https://localhost:8080/",
          "height": 53
        }
      },
      "source": [
        "classification_report(y_test, y_pred)"
      ],
      "execution_count": 47,
      "outputs": [
        {
          "output_type": "execute_result",
          "data": {
            "text/plain": [
              "'              precision    recall  f1-score   support\\n\\n           1       0.68      0.92      0.78       224\\n           2       0.34      0.09      0.15       106\\n\\n    accuracy                           0.65       330\\n   macro avg       0.51      0.50      0.46       330\\nweighted avg       0.57      0.65      0.58       330\\n'"
            ]
          },
          "metadata": {
            "tags": []
          },
          "execution_count": 47
        }
      ]
    },
    {
      "cell_type": "markdown",
      "metadata": {
        "id": "mRBjye7AJ4AV",
        "colab_type": "text"
      },
      "source": [
        "**Naive Bayes**"
      ]
    },
    {
      "cell_type": "code",
      "metadata": {
        "id": "Vi8-5Y2CJ6Fp",
        "colab_type": "code",
        "outputId": "5fb43176-2e1c-4e5d-c23b-33f8a8f6d2cf",
        "colab": {
          "base_uri": "https://localhost:8080/",
          "height": 86
        }
      },
      "source": [
        "\n",
        "\n",
        "model = GaussianNB()\n",
        "\n",
        "model.fit(X_train,y_train)\n",
        "\n",
        "y_pred=model.predict(X_test)\n",
        "print(\"Accuracy:\",metrics.accuracy_score(y_test, y_pred))"
      ],
      "execution_count": 48,
      "outputs": [
        {
          "output_type": "stream",
          "text": [
            "Accuracy: 0.6909090909090909\n"
          ],
          "name": "stdout"
        },
        {
          "output_type": "stream",
          "text": [
            "/usr/local/lib/python3.6/dist-packages/sklearn/naive_bayes.py:206: DataConversionWarning: A column-vector y was passed when a 1d array was expected. Please change the shape of y to (n_samples, ), for example using ravel().\n",
            "  y = column_or_1d(y, warn=True)\n"
          ],
          "name": "stderr"
        }
      ]
    },
    {
      "cell_type": "code",
      "metadata": {
        "id": "9_JwfPBTkbvJ",
        "colab_type": "code",
        "outputId": "5cfe0a56-b47f-43fe-8263-25348a45e2a5",
        "colab": {
          "base_uri": "https://localhost:8080/",
          "height": 50
        }
      },
      "source": [
        "\n",
        "confusion_matrix(y_test, y_pred)"
      ],
      "execution_count": 49,
      "outputs": [
        {
          "output_type": "execute_result",
          "data": {
            "text/plain": [
              "array([[207,  17],\n",
              "       [ 85,  21]])"
            ]
          },
          "metadata": {
            "tags": []
          },
          "execution_count": 49
        }
      ]
    },
    {
      "cell_type": "code",
      "metadata": {
        "id": "yWbYX191pNR-",
        "colab_type": "code",
        "outputId": "25fab97b-1031-420f-e6b5-520b28089e0d",
        "colab": {
          "base_uri": "https://localhost:8080/",
          "height": 53
        }
      },
      "source": [
        "classification_report(y_test, y_pred)"
      ],
      "execution_count": 50,
      "outputs": [
        {
          "output_type": "execute_result",
          "data": {
            "text/plain": [
              "'              precision    recall  f1-score   support\\n\\n           1       0.71      0.92      0.80       224\\n           2       0.55      0.20      0.29       106\\n\\n    accuracy                           0.69       330\\n   macro avg       0.63      0.56      0.55       330\\nweighted avg       0.66      0.69      0.64       330\\n'"
            ]
          },
          "metadata": {
            "tags": []
          },
          "execution_count": 50
        }
      ]
    },
    {
      "cell_type": "markdown",
      "metadata": {
        "id": "EEMyCjIxSi-H",
        "colab_type": "text"
      },
      "source": [
        "**KMeans Clustering**\n"
      ]
    },
    {
      "cell_type": "code",
      "metadata": {
        "id": "ZtioQP7mTKNk",
        "colab_type": "code",
        "colab": {}
      },
      "source": [
        ""
      ],
      "execution_count": 0,
      "outputs": []
    },
    {
      "cell_type": "code",
      "metadata": {
        "id": "0kUxM1GkKFig",
        "colab_type": "code",
        "colab": {}
      },
      "source": [
        "X = np.asarray(df[[\"DurationInMonth\", \"CreditAmount\",\"AgeInYears\"]])\n",
        "X = np.log(X)"
      ],
      "execution_count": 0,
      "outputs": []
    },
    {
      "cell_type": "code",
      "metadata": {
        "id": "zIcCDoxwTB0R",
        "colab_type": "code",
        "outputId": "737f8def-358d-45b4-c053-c95d8f582319",
        "colab": {
          "base_uri": "https://localhost:8080/",
          "height": 621
        }
      },
      "source": [
        "Sum_of_squared_distances = []\n",
        "K = range(1,15)\n",
        "for k in K:\n",
        "    km = KMeans(n_clusters=k)\n",
        "    km = km.fit(X)\n",
        "    Sum_of_squared_distances.append(km.inertia_)\n",
        "\n",
        "plt.figure(figsize=(15,10))\n",
        "plt.plot(K, Sum_of_squared_distances, 'bx-')\n",
        "plt.xlabel('k')\n",
        "plt.ylabel('Sum_of_squared_distances')\n",
        "plt.title('Elbow Method For Optimal k')\n",
        "plt.show()"
      ],
      "execution_count": 52,
      "outputs": [
        {
          "output_type": "display_data",
          "data": {
            "image/png": "[encoded data removed]",
            "text/plain": [
              "<Figure size 1080x720 with 1 Axes>"
            ]
          },
          "metadata": {
            "tags": []
          }
        }
      ]
    },
    {
      "cell_type": "markdown",
      "metadata": {
        "id": "VRmBHzTQTpTl",
        "colab_type": "text"
      },
      "source": [
        "We take k = 3 as per elbow method"
      ]
    },
    {
      "cell_type": "code",
      "metadata": {
        "id": "R5PK_F9HTFXa",
        "colab_type": "code",
        "outputId": "c2ee321b-0b9f-4ca3-fbf2-a1ddd4130844",
        "colab": {
          "base_uri": "https://localhost:8080/",
          "height": 765
        }
      },
      "source": [
        "kmeans = KMeans(n_clusters=3)\n",
        "kmeans.fit(X)\n",
        "kmeans.labels_"
      ],
      "execution_count": 53,
      "outputs": [
        {
          "output_type": "execute_result",
          "data": {
            "text/plain": [
              "array([1, 0, 2, 0, 0, 0, 2, 0, 2, 0, 1, 0, 1, 2, 1, 2, 2, 0, 0, 2, 1, 1,\n",
              "       2, 1, 2, 1, 1, 1, 1, 0, 2, 2, 0, 1, 1, 0, 0, 2, 1, 1, 2, 1, 0, 0,\n",
              "       0, 1, 2, 1, 0, 2, 2, 0, 1, 2, 2, 1, 0, 0, 2, 0, 1, 1, 2, 0, 2, 0,\n",
              "       2, 1, 2, 2, 0, 1, 1, 0, 2, 1, 0, 2, 0, 0, 0, 1, 2, 2, 2, 1, 1, 0,\n",
              "       2, 1, 1, 1, 1, 2, 1, 0, 2, 2, 2, 0, 2, 2, 1, 1, 2, 0, 0, 0, 0, 1,\n",
              "       1, 1, 0, 0, 1, 0, 0, 2, 0, 2, 2, 2, 2, 1, 2, 2, 1, 1, 2, 2, 0, 0,\n",
              "       2, 2, 0, 1, 0, 1, 2, 2, 1, 0, 2, 2, 2, 0, 1, 1, 0, 2, 1, 1, 0, 0,\n",
              "       0, 1, 1, 1, 2, 1, 2, 1, 1, 0, 2, 1, 1, 1, 2, 2, 1, 1, 2, 1, 2, 0,\n",
              "       2, 1, 2, 1, 0, 0, 2, 2, 1, 1, 2, 1, 1, 2, 0, 0, 0, 1, 0, 1, 1, 1,\n",
              "       2, 2, 1, 1, 0, 1, 1, 0, 2, 1, 0, 1, 2, 0, 0, 2, 0, 1, 2, 0, 2, 1,\n",
              "       1, 1, 1, 2, 2, 2, 0, 0, 1, 2, 0, 2, 2, 1, 1, 2, 0, 2, 1, 2, 1, 1,\n",
              "       0, 1, 2, 2, 1, 1, 2, 1, 1, 2, 2, 0, 1, 0, 2, 2, 2, 1, 1, 2, 0, 2,\n",
              "       1, 1, 0, 2, 0, 1, 2, 1, 0, 0, 0, 2, 2, 1, 2, 2, 2, 1, 2, 1, 2, 0,\n",
              "       0, 0, 1, 1, 1, 0, 0, 0, 0, 0, 2, 1, 2, 2, 1, 0, 2, 1, 0, 1, 0, 1,\n",
              "       1, 1, 0, 0, 2, 1, 1, 2, 1, 0, 1, 2, 0, 2, 2, 2, 1, 2, 2, 2, 0, 1,\n",
              "       0, 2, 0, 0, 2, 2, 2, 1, 0, 1, 0, 2, 2, 2, 2, 1, 1, 2, 1, 1, 1, 1,\n",
              "       2, 0, 1, 2, 2, 0, 1, 2, 1, 2, 2, 1, 2, 1, 2, 2, 0, 2, 2, 0, 2, 0,\n",
              "       0, 0, 2, 1, 0, 1, 2, 0, 2, 1, 0, 2, 1, 0, 2, 1, 2, 1, 2, 1, 2, 0,\n",
              "       2, 2, 1, 2, 2, 2, 0, 1, 2, 2, 2, 1, 2, 1, 2, 0, 2, 1, 2, 0, 2, 0,\n",
              "       2, 1, 2, 2, 1, 2, 2, 2, 2, 1, 1, 1, 1, 0, 1, 2, 1, 1, 1, 2, 0, 1,\n",
              "       2, 1, 2, 1, 0, 1, 2, 1, 1, 1, 0, 1, 2, 2, 0, 2, 2, 2, 1, 2, 0, 2,\n",
              "       2, 1, 2, 2, 2, 0, 2, 0, 2, 1, 1, 1, 1, 2, 2, 0, 1, 1, 2, 2, 0, 1,\n",
              "       1, 1, 2, 2, 1, 2, 2, 0, 1, 1, 2, 2, 0, 2, 1, 1, 2, 0, 1, 2, 2, 1,\n",
              "       2, 0, 2, 0, 1, 0, 2, 1, 2, 1, 1, 0, 1, 1, 0, 2, 0, 2, 1, 0, 1, 1,\n",
              "       2, 1, 2, 2, 1, 2, 2, 2, 1, 2, 0, 2, 1, 2, 0, 2, 1, 2, 2, 2, 1, 0,\n",
              "       1, 1, 0, 2, 1, 1, 2, 0, 2, 2, 2, 2, 1, 0, 0, 2, 1, 2, 0, 0, 2, 0,\n",
              "       0, 1, 1, 2, 2, 2, 2, 1, 1, 2, 1, 2, 2, 2, 2, 1, 1, 2, 1, 2, 2, 2,\n",
              "       2, 1, 2, 0, 2, 2, 1, 1, 2, 0, 1, 2, 0, 2, 2, 1, 1, 1, 2, 2, 2, 0,\n",
              "       0, 2, 2, 1, 2, 2, 0, 2, 2, 2, 1, 1, 0, 2, 2, 2, 1, 1, 2, 1, 2, 0,\n",
              "       1, 0, 1, 1, 2, 2, 2, 0, 0, 1, 1, 1, 0, 2, 2, 0, 2, 2, 1, 0, 0, 0,\n",
              "       1, 1, 2, 1, 1, 0, 2, 0, 2, 2, 2, 0, 0, 1, 2, 0, 0, 0, 2, 2, 1, 2,\n",
              "       1, 0, 0, 0, 1, 2, 2, 2, 1, 2, 2, 2, 2, 1, 1, 1, 2, 2, 1, 0, 2, 2,\n",
              "       2, 0, 0, 2, 1, 1, 1, 1, 2, 1, 0, 0, 2, 2, 2, 0, 1, 1, 1, 1, 2, 1,\n",
              "       1, 2, 0, 2, 0, 2, 1, 2, 1, 0, 0, 2, 2, 0, 2, 1, 2, 2, 0, 2, 2, 1,\n",
              "       0, 2, 1, 1, 1, 0, 1, 2, 1, 1, 2, 1, 2, 2, 2, 0, 2, 1, 2, 2, 2, 1,\n",
              "       2, 0, 2, 2, 1, 2, 0, 2, 0, 2, 0, 2, 1, 1, 0, 2, 2, 0, 0, 0, 1, 0,\n",
              "       1, 2, 2, 2, 0, 1, 1, 1, 2, 2, 2, 1, 0, 0, 1, 1, 0, 2, 1, 1, 0, 0,\n",
              "       0, 0, 1, 1, 0, 1, 1, 2, 2, 1, 2, 2, 2, 2, 0, 0, 2, 1, 0, 0, 2, 1,\n",
              "       1, 1, 2, 2, 0, 2, 2, 2, 2, 2, 0, 2, 1, 1, 2, 2, 1, 2, 0, 2, 1, 2,\n",
              "       2, 2, 0, 2, 2, 0, 2, 2, 2, 2, 0, 1, 0, 1, 2, 1, 2, 1, 2, 0, 1, 0,\n",
              "       0, 0, 2, 1, 0, 1, 2, 0, 0, 0, 2, 2, 2, 0, 1, 0, 2, 1, 2, 2, 2, 2,\n",
              "       0, 1, 2, 1, 2, 0, 2, 2, 0, 0, 2, 2, 2, 0, 2, 0, 2, 2, 2, 0, 1, 2,\n",
              "       0, 1, 1, 0, 2, 1, 2, 1, 1, 1, 1, 2, 1, 1, 0, 0, 2, 1, 1, 1, 2, 0,\n",
              "       2, 2, 2, 2, 2, 2, 2, 0, 2, 2, 0, 1, 0, 2, 1, 2, 2, 2, 1, 2, 2, 2,\n",
              "       0, 2, 1, 0, 2, 0, 2, 2, 1, 2, 2, 1, 0, 0, 2, 0, 2, 1, 0, 1, 0, 2,\n",
              "       2, 2, 2, 0, 2, 1, 0, 1, 2, 0], dtype=int32)"
            ]
          },
          "metadata": {
            "tags": []
          },
          "execution_count": 53
        }
      ]
    },
    {
      "cell_type": "code",
      "metadata": {
        "id": "IGaGiRMtTwsu",
        "colab_type": "code",
        "outputId": "c868cb5e-c16a-45e3-8c8a-053b311ce409",
        "colab": {
          "base_uri": "https://localhost:8080/",
          "height": 637
        }
      },
      "source": [
        "fig = plt.figure(num=None, figsize=(15, 10), dpi=80, facecolor='w', edgecolor='k')\n",
        "ax = plt.axes(projection=\"3d\")\n",
        "\n",
        "ax.scatter3D(X[:,0], X[:,1], X[:,2], c=kmeans.labels_, cmap='rainbow')\n",
        "ax.scatter3D(kmeans.cluster_centers_[:,0], kmeans.cluster_centers_[:,1], kmeans.cluster_centers_[:,2], c='black')\n",
        "\n",
        "xLabel = ax.set_xlabel('DurationInMonth', linespacing=3.2)\n",
        "yLabel = ax.set_ylabel('CreditAmount', linespacing=3.1)\n",
        "zLabel = ax.set_zlabel('AgeInYears', linespacing=3.4)"
      ],
      "execution_count": 54,
      "outputs": [
        {
          "output_type": "display_data",
          "data": {
            "image/png": "[encoded data removed]",
            "text/plain": [
              "<Figure size 1200x800 with 1 Axes>"
            ]
          },
          "metadata": {
            "tags": []
          }
        }
      ]
    },
    {
      "cell_type": "code",
      "metadata": {
        "id": "dI3oJeDLUBi2",
        "colab_type": "code",
        "colab": {}
      },
      "source": [
        ""
      ],
      "execution_count": 0,
      "outputs": []
    },
    {
      "cell_type": "markdown",
      "metadata": {
        "id": "qWBvnwCuaaNJ",
        "colab_type": "text"
      },
      "source": [
        "**Conclusion**\n"
      ]
    },
    {
      "cell_type": "markdown",
      "metadata": {
        "id": "JNI2myaMbDXa",
        "colab_type": "text"
      },
      "source": [
        "Due to less training data and slightly imbalanced class labels, we are only able to attain little over 70 percentage accuracy. But after applying PCA, we get better results with consistency as we have to deal with lesser features."
      ]
    },
    {
      "cell_type": "code",
      "metadata": {
        "id": "EPeLGsrtja-9",
        "colab_type": "code",
        "colab": {}
      },
      "source": [
        ""
      ],
      "execution_count": 0,
      "outputs": []
    }
  ]
}